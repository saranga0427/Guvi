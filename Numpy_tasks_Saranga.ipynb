{
  "cells": [
    {
      "cell_type": "markdown",
      "metadata": {
        "id": "2P5Ce75tWSWU"
      },
      "source": [
        "# Numpy\n",
        "\n"
      ]
    },
    {
      "cell_type": "markdown",
      "metadata": {
        "id": "c0VreO9ZWSWW"
      },
      "source": [
        "#### 1. Import the numpy package under the name `np` (★☆☆) \n",
        "(**hint**: import … as …)"
      ]
    },
    {
      "cell_type": "code",
      "execution_count": 1,
      "metadata": {
        "collapsed": true,
        "id": "fguGp0ZkWSWW"
      },
      "outputs": [],
      "source": [
        "import numpy as np"
      ]
    },
    {
      "cell_type": "markdown",
      "metadata": {
        "id": "HHNPlY52WSWX"
      },
      "source": [
        "#### 2. Print the numpy version and the configuration (★☆☆) \n",
        "(**hint**: np.\\_\\_version\\_\\_, np.show\\_config)"
      ]
    },
    {
      "cell_type": "code",
      "execution_count": 2,
      "metadata": {
        "id": "c3g2w92cWSWX",
        "colab": {
          "base_uri": "https://localhost:8080/"
        },
        "outputId": "807e5ba7-ed7c-4231-bf32-c846fbb42c8f"
      },
      "outputs": [
        {
          "output_type": "stream",
          "name": "stdout",
          "text": [
            "1.21.6\n"
          ]
        }
      ],
      "source": [
        "print(np.__version__)\n"
      ]
    },
    {
      "cell_type": "code",
      "source": [
        "print(np.show_config)"
      ],
      "metadata": {
        "colab": {
          "base_uri": "https://localhost:8080/"
        },
        "id": "30BdZngsXGao",
        "outputId": "ad02847a-b51f-405c-9132-119db976025d"
      },
      "execution_count": 3,
      "outputs": [
        {
          "output_type": "stream",
          "name": "stdout",
          "text": [
            "<function show at 0x7f70c461a290>\n"
          ]
        }
      ]
    },
    {
      "cell_type": "markdown",
      "metadata": {
        "id": "J-sKJDNSWSWX"
      },
      "source": [
        "#### 3. Create a null vector of size 10 (★☆☆) \n",
        "(**hint**: np.zeros)"
      ]
    },
    {
      "cell_type": "code",
      "execution_count": 4,
      "metadata": {
        "id": "Zo94l6PfWSWX"
      },
      "outputs": [],
      "source": [
        "x= np.zeros(10)"
      ]
    },
    {
      "cell_type": "code",
      "source": [
        "x"
      ],
      "metadata": {
        "colab": {
          "base_uri": "https://localhost:8080/"
        },
        "id": "NCHB1Cm40DOa",
        "outputId": "47f908a3-7330-48df-ec74-9dcdb271b3d6"
      },
      "execution_count": 5,
      "outputs": [
        {
          "output_type": "execute_result",
          "data": {
            "text/plain": [
              "array([0., 0., 0., 0., 0., 0., 0., 0., 0., 0.])"
            ]
          },
          "metadata": {},
          "execution_count": 5
        }
      ]
    },
    {
      "cell_type": "markdown",
      "metadata": {
        "id": "9nJYBV-8WSWX"
      },
      "source": [
        "#### 4.  How to find the memory size of any array(★☆☆) \n",
        "(**hint**: size, itemsize)"
      ]
    },
    {
      "cell_type": "code",
      "execution_count": 6,
      "metadata": {
        "id": "5xXjIYIBWSWY"
      },
      "outputs": [],
      "source": [
        "memory = x.size* x.itemsize"
      ]
    },
    {
      "cell_type": "code",
      "source": [
        "memory"
      ],
      "metadata": {
        "colab": {
          "base_uri": "https://localhost:8080/"
        },
        "id": "T4yBwNss2PWA",
        "outputId": "9c59fdb8-4e44-4d75-ccdc-1ee584758f1f"
      },
      "execution_count": 7,
      "outputs": [
        {
          "output_type": "execute_result",
          "data": {
            "text/plain": [
              "80"
            ]
          },
          "metadata": {},
          "execution_count": 7
        }
      ]
    },
    {
      "cell_type": "markdown",
      "metadata": {
        "id": "JSjAYSwaWSWY"
      },
      "source": [
        "#### 5.  How to get the documentation of the numpy add function from the command line? (★☆☆) \n",
        "(**hint**: np.info)"
      ]
    },
    {
      "cell_type": "code",
      "execution_count": 8,
      "metadata": {
        "collapsed": true,
        "id": "ZYiEej3IWSWY",
        "colab": {
          "base_uri": "https://localhost:8080/"
        },
        "outputId": "85eb99fd-727d-4200-de25-e5fa04499151"
      },
      "outputs": [
        {
          "output_type": "stream",
          "name": "stdout",
          "text": [
            "add(x1, x2, /, out=None, *, where=True, casting='same_kind', order='K', dtype=None, subok=True[, signature, extobj])\n",
            "\n",
            "Add arguments element-wise.\n",
            "\n",
            "Parameters\n",
            "----------\n",
            "x1, x2 : array_like\n",
            "    The arrays to be added.\n",
            "    If ``x1.shape != x2.shape``, they must be broadcastable to a common\n",
            "    shape (which becomes the shape of the output).\n",
            "out : ndarray, None, or tuple of ndarray and None, optional\n",
            "    A location into which the result is stored. If provided, it must have\n",
            "    a shape that the inputs broadcast to. If not provided or None,\n",
            "    a freshly-allocated array is returned. A tuple (possible only as a\n",
            "    keyword argument) must have length equal to the number of outputs.\n",
            "where : array_like, optional\n",
            "    This condition is broadcast over the input. At locations where the\n",
            "    condition is True, the `out` array will be set to the ufunc result.\n",
            "    Elsewhere, the `out` array will retain its original value.\n",
            "    Note that if an uninitialized `out` array is created via the default\n",
            "    ``out=None``, locations within it where the condition is False will\n",
            "    remain uninitialized.\n",
            "**kwargs\n",
            "    For other keyword-only arguments, see the\n",
            "    :ref:`ufunc docs <ufuncs.kwargs>`.\n",
            "\n",
            "Returns\n",
            "-------\n",
            "add : ndarray or scalar\n",
            "    The sum of `x1` and `x2`, element-wise.\n",
            "    This is a scalar if both `x1` and `x2` are scalars.\n",
            "\n",
            "Notes\n",
            "-----\n",
            "Equivalent to `x1` + `x2` in terms of array broadcasting.\n",
            "\n",
            "Examples\n",
            "--------\n",
            ">>> np.add(1.0, 4.0)\n",
            "5.0\n",
            ">>> x1 = np.arange(9.0).reshape((3, 3))\n",
            ">>> x2 = np.arange(3.0)\n",
            ">>> np.add(x1, x2)\n",
            "array([[  0.,   2.,   4.],\n",
            "       [  3.,   5.,   7.],\n",
            "       [  6.,   8.,  10.]])\n",
            "\n",
            "The ``+`` operator can be used as a shorthand for ``np.add`` on ndarrays.\n",
            "\n",
            ">>> x1 = np.arange(9.0).reshape((3, 3))\n",
            ">>> x2 = np.arange(3.0)\n",
            ">>> x1 + x2\n",
            "array([[ 0.,  2.,  4.],\n",
            "       [ 3.,  5.,  7.],\n",
            "       [ 6.,  8., 10.]])\n"
          ]
        }
      ],
      "source": [
        "np.info(np.add)"
      ]
    },
    {
      "cell_type": "markdown",
      "metadata": {
        "id": "J2NEqvdEWSWY"
      },
      "source": [
        "#### 6.  Create a null vector of size 10 but the fifth value which is 1 (★☆☆) \n",
        "(**hint**: array\\[4\\])"
      ]
    },
    {
      "cell_type": "code",
      "execution_count": 9,
      "metadata": {
        "id": "6-X5yJqQWSWY"
      },
      "outputs": [],
      "source": [
        "x= np.zeros(10)"
      ]
    },
    {
      "cell_type": "code",
      "source": [
        "x[4]= 1\n",
        "x"
      ],
      "metadata": {
        "colab": {
          "base_uri": "https://localhost:8080/"
        },
        "id": "wnE6YIIU2tGu",
        "outputId": "75e291e1-9db1-42e1-d389-d2e02a5dec29"
      },
      "execution_count": 10,
      "outputs": [
        {
          "output_type": "execute_result",
          "data": {
            "text/plain": [
              "array([0., 0., 0., 0., 1., 0., 0., 0., 0., 0.])"
            ]
          },
          "metadata": {},
          "execution_count": 10
        }
      ]
    },
    {
      "cell_type": "markdown",
      "metadata": {
        "id": "FCUZm2CLWSWY"
      },
      "source": [
        "#### 7.  Create a vector with values ranging from 10 to 49 (★☆☆) \n",
        "(**hint**: np.arange)"
      ]
    },
    {
      "cell_type": "code",
      "execution_count": 11,
      "metadata": {
        "id": "VPd85-XcWSWY",
        "colab": {
          "base_uri": "https://localhost:8080/"
        },
        "outputId": "ffbcbb6a-407c-49df-dfc6-f50ac4fdb71f"
      },
      "outputs": [
        {
          "output_type": "execute_result",
          "data": {
            "text/plain": [
              "array([10, 11, 12, 13, 14, 15, 16, 17, 18, 19, 20, 21, 22, 23, 24, 25, 26,\n",
              "       27, 28, 29, 30, 31, 32, 33, 34, 35, 36, 37, 38, 39, 40, 41, 42, 43,\n",
              "       44, 45, 46, 47, 48, 49])"
            ]
          },
          "metadata": {},
          "execution_count": 11
        }
      ],
      "source": [
        "x= np.arange(10,50)\n",
        "x"
      ]
    },
    {
      "cell_type": "markdown",
      "metadata": {
        "id": "YzfCVy0BWSWY"
      },
      "source": [
        "#### 8.  Reverse a vector (first element becomes last) (★☆☆) \n",
        "(**hint**: array\\[::-1\\])"
      ]
    },
    {
      "cell_type": "code",
      "execution_count": 12,
      "metadata": {
        "id": "Jfv5D99sWSWY",
        "colab": {
          "base_uri": "https://localhost:8080/"
        },
        "outputId": "89f04894-6e3a-4331-dbf9-f917b97de837"
      },
      "outputs": [
        {
          "output_type": "execute_result",
          "data": {
            "text/plain": [
              "array([49, 48, 47, 46, 45, 44, 43, 42, 41, 40, 39, 38, 37, 36, 35, 34, 33,\n",
              "       32, 31, 30, 29, 28, 27, 26, 25, 24, 23, 22, 21, 20, 19, 18, 17, 16,\n",
              "       15, 14, 13, 12, 11, 10])"
            ]
          },
          "metadata": {},
          "execution_count": 12
        }
      ],
      "source": [
        "y= x[::-1]\n",
        "y"
      ]
    },
    {
      "cell_type": "markdown",
      "metadata": {
        "id": "nQKQ7-fXWSWY"
      },
      "source": [
        "#### 9.  Create a 3x3 matrix with values ranging from 0 to 8 (★☆☆) \n",
        "(**hint**: reshape)"
      ]
    },
    {
      "cell_type": "code",
      "execution_count": 13,
      "metadata": {
        "id": "imj156-TWSWY",
        "colab": {
          "base_uri": "https://localhost:8080/"
        },
        "outputId": "008e5589-ee1e-4459-a18c-f111b1d31879"
      },
      "outputs": [
        {
          "output_type": "execute_result",
          "data": {
            "text/plain": [
              "array([[0, 1, 2],\n",
              "       [3, 4, 5],\n",
              "       [6, 7, 8]])"
            ]
          },
          "metadata": {},
          "execution_count": 13
        }
      ],
      "source": [
        "x= np.arange(9).reshape(3,3)\n",
        "x"
      ]
    },
    {
      "cell_type": "markdown",
      "metadata": {
        "id": "RvGjnjnDWSWZ"
      },
      "source": [
        "#### 10. Find indices of non-zero elements from \\[1,2,0,0,4,0\\] (★☆☆) \n",
        "(**hint**: np.nonzero)"
      ]
    },
    {
      "cell_type": "code",
      "execution_count": 14,
      "metadata": {
        "id": "gpsJleHmWSWZ",
        "colab": {
          "base_uri": "https://localhost:8080/"
        },
        "outputId": "5e82cf46-bd65-46f0-db2c-8c5abec21d0e"
      },
      "outputs": [
        {
          "output_type": "execute_result",
          "data": {
            "text/plain": [
              "(array([0, 1, 4]),)"
            ]
          },
          "metadata": {},
          "execution_count": 14
        }
      ],
      "source": [
        "y= np.nonzero([1,2,0,0,4,0])\n",
        "y"
      ]
    },
    {
      "cell_type": "markdown",
      "metadata": {
        "id": "nsP-2WNvWSWZ"
      },
      "source": [
        "#### 11. Create a 3x3 identity matrix (★☆☆) \n",
        "(**hint**: np.eye)"
      ]
    },
    {
      "cell_type": "code",
      "execution_count": 15,
      "metadata": {
        "id": "g4EeIVbyWSWZ",
        "colab": {
          "base_uri": "https://localhost:8080/"
        },
        "outputId": "c74c8cca-ab80-4405-e03c-2d0d3636c810"
      },
      "outputs": [
        {
          "output_type": "execute_result",
          "data": {
            "text/plain": [
              "array([[1., 0., 0.],\n",
              "       [0., 1., 0.],\n",
              "       [0., 0., 1.]])"
            ]
          },
          "metadata": {},
          "execution_count": 15
        }
      ],
      "source": [
        "x= np.eye(3)\n",
        "x"
      ]
    },
    {
      "cell_type": "markdown",
      "metadata": {
        "id": "uaa9qwSyWSWZ"
      },
      "source": [
        "#### 12. Create a 3x3x3 array with random values (★☆☆) \n",
        "(**hint**: np.random.random)"
      ]
    },
    {
      "cell_type": "code",
      "execution_count": 16,
      "metadata": {
        "collapsed": true,
        "id": "2bfj4gjiWSWZ",
        "colab": {
          "base_uri": "https://localhost:8080/"
        },
        "outputId": "f99af285-f671-467b-f9a5-497e178ba269"
      },
      "outputs": [
        {
          "output_type": "execute_result",
          "data": {
            "text/plain": [
              "array([[[0.99931945, 0.29475535, 0.38444406],\n",
              "        [0.2800263 , 0.79499701, 0.87971649],\n",
              "        [0.95084427, 0.65917635, 0.74174091]],\n",
              "\n",
              "       [[0.99863082, 0.80559966, 0.93756892],\n",
              "        [0.26158836, 0.21643369, 0.5546791 ],\n",
              "        [0.41119481, 0.49472528, 0.23496859]],\n",
              "\n",
              "       [[0.79609416, 0.09673033, 0.12039871],\n",
              "        [0.60230994, 0.16719184, 0.98499427],\n",
              "        [0.19899245, 0.28741954, 0.92926157]]])"
            ]
          },
          "metadata": {},
          "execution_count": 16
        }
      ],
      "source": [
        "x= np.random.random(27).reshape(3,3,3)\n",
        "x"
      ]
    },
    {
      "cell_type": "code",
      "source": [
        "x= np.random.random((3,3,3))\n",
        "x"
      ],
      "metadata": {
        "colab": {
          "base_uri": "https://localhost:8080/"
        },
        "id": "UxPcXcEG4U_x",
        "outputId": "56488760-e9dd-4bc1-a2b7-849a81064995"
      },
      "execution_count": 17,
      "outputs": [
        {
          "output_type": "execute_result",
          "data": {
            "text/plain": [
              "array([[[0.95872146, 0.1498036 , 0.63759136],\n",
              "        [0.97629187, 0.53217807, 0.36460453],\n",
              "        [0.52838896, 0.32936013, 0.07042683]],\n",
              "\n",
              "       [[0.85726129, 0.96675249, 0.53592216],\n",
              "        [0.73304836, 0.96293572, 0.99790056],\n",
              "        [0.2538215 , 0.80739097, 0.93586136]],\n",
              "\n",
              "       [[0.27054291, 0.05535783, 0.56161137],\n",
              "        [0.15516872, 0.50441377, 0.78793458],\n",
              "        [0.1985856 , 0.92692339, 0.72618191]]])"
            ]
          },
          "metadata": {},
          "execution_count": 17
        }
      ]
    },
    {
      "cell_type": "markdown",
      "metadata": {
        "id": "uBp-oosyWSWZ"
      },
      "source": [
        "#### 13. Create a 10x10 array with random values and find the minimum and maximum values (★☆☆) \n",
        "(**hint**: min, max)"
      ]
    },
    {
      "cell_type": "code",
      "execution_count": 18,
      "metadata": {
        "id": "OturEocbWSWZ"
      },
      "outputs": [],
      "source": [
        "x= np.random.random((10, 10))"
      ]
    },
    {
      "cell_type": "code",
      "source": [
        "a= x.min()\n",
        "b= x.max()\n",
        "print(a,b)"
      ],
      "metadata": {
        "colab": {
          "base_uri": "https://localhost:8080/"
        },
        "id": "-MUDyVNV4iNy",
        "outputId": "cca013ff-1ba4-473b-e1dd-4938e05ef2e1"
      },
      "execution_count": 19,
      "outputs": [
        {
          "output_type": "stream",
          "name": "stdout",
          "text": [
            "0.01812511021527985 0.9700282327460716\n"
          ]
        }
      ]
    },
    {
      "cell_type": "markdown",
      "metadata": {
        "id": "p4yTHRZPWSWZ"
      },
      "source": [
        "#### 14. Create a random vector of size 30 and find the mean value (★☆☆) \n",
        "(**hint**: mean)"
      ]
    },
    {
      "cell_type": "code",
      "execution_count": 20,
      "metadata": {
        "id": "HWSqCbw9WSWZ",
        "colab": {
          "base_uri": "https://localhost:8080/"
        },
        "outputId": "fe04b558-2ef5-476e-a898-f3b006847883"
      },
      "outputs": [
        {
          "output_type": "execute_result",
          "data": {
            "text/plain": [
              "0.6198654728370251"
            ]
          },
          "metadata": {},
          "execution_count": 20
        }
      ],
      "source": [
        "x= np.random.random(30)\n",
        "x.mean()"
      ]
    },
    {
      "cell_type": "markdown",
      "metadata": {
        "id": "Q8GfyV4vWSWZ"
      },
      "source": [
        "#### 15. Create a 2d array with 1 on the border and 0 inside (★☆☆) \n",
        "(**hint**: array\\[1:-1, 1:-1\\])"
      ]
    },
    {
      "cell_type": "code",
      "execution_count": 21,
      "metadata": {
        "id": "G-KcDvZdWSWZ"
      },
      "outputs": [],
      "source": [
        "x= np.ones((3,3))"
      ]
    },
    {
      "cell_type": "code",
      "source": [
        "x[1:-1, 1:-1]= 0\n",
        "x"
      ],
      "metadata": {
        "colab": {
          "base_uri": "https://localhost:8080/"
        },
        "id": "R_8dhJ-O53_X",
        "outputId": "dff922df-bfa1-48bc-fb30-58b0ba6796be"
      },
      "execution_count": 22,
      "outputs": [
        {
          "output_type": "execute_result",
          "data": {
            "text/plain": [
              "array([[1., 1., 1.],\n",
              "       [1., 0., 1.],\n",
              "       [1., 1., 1.]])"
            ]
          },
          "metadata": {},
          "execution_count": 22
        }
      ]
    },
    {
      "cell_type": "markdown",
      "metadata": {
        "id": "R9bzGJa_WSWZ"
      },
      "source": [
        "#### 16. How to add a border (filled with 0's) around an existing array? (★☆☆) \n",
        "(**hint**: np.pad)"
      ]
    },
    {
      "cell_type": "code",
      "execution_count": 23,
      "metadata": {
        "id": "_3dEPcuTWSWZ",
        "colab": {
          "base_uri": "https://localhost:8080/"
        },
        "outputId": "b167b833-8efb-4f8c-9985-46d5c90d99d9"
      },
      "outputs": [
        {
          "output_type": "execute_result",
          "data": {
            "text/plain": [
              "array([[1, 2, 3],\n",
              "       [4, 5, 6],\n",
              "       [7, 8, 9]])"
            ]
          },
          "metadata": {},
          "execution_count": 23
        }
      ],
      "source": [
        "x= np.arange(1,10).reshape(3,3)\n",
        "x"
      ]
    },
    {
      "cell_type": "code",
      "source": [
        "x= np.pad(x, pad_width= 1, mode= 'constant',constant_values= 0 )\n",
        "x"
      ],
      "metadata": {
        "colab": {
          "base_uri": "https://localhost:8080/"
        },
        "id": "-ajlYwCb6mQu",
        "outputId": "2fe64ba1-fdb0-41f5-8ae4-97495c0acc77"
      },
      "execution_count": 24,
      "outputs": [
        {
          "output_type": "execute_result",
          "data": {
            "text/plain": [
              "array([[0, 0, 0, 0, 0],\n",
              "       [0, 1, 2, 3, 0],\n",
              "       [0, 4, 5, 6, 0],\n",
              "       [0, 7, 8, 9, 0],\n",
              "       [0, 0, 0, 0, 0]])"
            ]
          },
          "metadata": {},
          "execution_count": 24
        }
      ]
    },
    {
      "cell_type": "markdown",
      "metadata": {
        "id": "wA9HI3D4WSWZ"
      },
      "source": [
        "#### 17. What is the result of the following expression? (★☆☆) \n",
        "(**hint**: NaN = not a number, inf = infinity)"
      ]
    },
    {
      "cell_type": "markdown",
      "metadata": {
        "id": "XBQKoGykWSWZ"
      },
      "source": [
        "```python\n",
        "0 * np.nan\n",
        "np.nan == np.nan\n",
        "np.inf > np.nan\n",
        "np.nan - np.nan\n",
        "0.3 == 3 * 0.1\n",
        "```"
      ]
    },
    {
      "cell_type": "code",
      "execution_count": 25,
      "metadata": {
        "id": "HJiDVdidWSWZ",
        "colab": {
          "base_uri": "https://localhost:8080/"
        },
        "outputId": "a6072612-09c7-4a08-e5fc-292b34dc64f0"
      },
      "outputs": [
        {
          "output_type": "stream",
          "name": "stdout",
          "text": [
            "nan\n",
            "False\n",
            "False\n",
            "nan\n",
            "False\n"
          ]
        }
      ],
      "source": [
        "print(0 * np.nan)\n",
        "print(np.nan == np.nan)\n",
        "print(np.inf > np.nan)\n",
        "print(np.nan - np.nan)\n",
        "print(0.3 == 3 * 0.1)"
      ]
    },
    {
      "cell_type": "markdown",
      "metadata": {
        "id": "pps3YH0XWSWZ"
      },
      "source": [
        "#### 18. Create a 5x5 matrix with values 1,2,3,4 just below the diagonal (★☆☆) \n",
        "(**hint**: np.diag)"
      ]
    },
    {
      "cell_type": "code",
      "execution_count": 26,
      "metadata": {
        "id": "Fp6hRmNAWSWZ",
        "colab": {
          "base_uri": "https://localhost:8080/"
        },
        "outputId": "f02d93ac-8356-477a-a363-757aadc5d1e4"
      },
      "outputs": [
        {
          "output_type": "execute_result",
          "data": {
            "text/plain": [
              "array([[1., 1., 1., 1., 1.],\n",
              "       [1., 1., 1., 1., 1.],\n",
              "       [1., 1., 1., 1., 1.],\n",
              "       [1., 1., 1., 1., 1.],\n",
              "       [1., 1., 1., 1., 1.]])"
            ]
          },
          "metadata": {},
          "execution_count": 26
        }
      ],
      "source": [
        "x= np.ones((5,5))\n",
        "x"
      ]
    },
    {
      "cell_type": "code",
      "source": [
        "x= np.diag(np.arange(1,5), k=-1)\n",
        "x"
      ],
      "metadata": {
        "colab": {
          "base_uri": "https://localhost:8080/"
        },
        "id": "qD5AgzpS7kEt",
        "outputId": "cad37069-e569-4ccc-8be6-1c79f0e5760d"
      },
      "execution_count": 27,
      "outputs": [
        {
          "output_type": "execute_result",
          "data": {
            "text/plain": [
              "array([[0, 0, 0, 0, 0],\n",
              "       [1, 0, 0, 0, 0],\n",
              "       [0, 2, 0, 0, 0],\n",
              "       [0, 0, 3, 0, 0],\n",
              "       [0, 0, 0, 4, 0]])"
            ]
          },
          "metadata": {},
          "execution_count": 27
        }
      ]
    },
    {
      "cell_type": "markdown",
      "metadata": {
        "id": "ft-FV8caWSWZ"
      },
      "source": [
        "#### 19. Create a 8x8 matrix and fill it with a checkerboard pattern (★☆☆) \n",
        "(**hint**: array\\[::2\\])"
      ]
    },
    {
      "cell_type": "code",
      "execution_count": 28,
      "metadata": {
        "id": "iAD5q0EWWSWa"
      },
      "outputs": [],
      "source": [
        "x=np.ones((8,8), dtype= int)"
      ]
    },
    {
      "cell_type": "code",
      "source": [
        "x[1::2,::2]= 0\n",
        "x"
      ],
      "metadata": {
        "colab": {
          "base_uri": "https://localhost:8080/"
        },
        "id": "Ymn9ChoB8K5F",
        "outputId": "2caa63c9-e609-414d-84de-fc8979d5815e"
      },
      "execution_count": 29,
      "outputs": [
        {
          "output_type": "execute_result",
          "data": {
            "text/plain": [
              "array([[1, 1, 1, 1, 1, 1, 1, 1],\n",
              "       [0, 1, 0, 1, 0, 1, 0, 1],\n",
              "       [1, 1, 1, 1, 1, 1, 1, 1],\n",
              "       [0, 1, 0, 1, 0, 1, 0, 1],\n",
              "       [1, 1, 1, 1, 1, 1, 1, 1],\n",
              "       [0, 1, 0, 1, 0, 1, 0, 1],\n",
              "       [1, 1, 1, 1, 1, 1, 1, 1],\n",
              "       [0, 1, 0, 1, 0, 1, 0, 1]])"
            ]
          },
          "metadata": {},
          "execution_count": 29
        }
      ]
    },
    {
      "cell_type": "markdown",
      "metadata": {
        "id": "r2jQdX0oWSWa"
      },
      "source": [
        "#### 20. Consider a (6,7,8) shape array, what is the index (x,y,z) of the 100th element? \n",
        "(**hint**: np.unravel_index)"
      ]
    },
    {
      "cell_type": "code",
      "execution_count": 30,
      "metadata": {
        "id": "0Mdy5obPWSWa"
      },
      "outputs": [],
      "source": [
        "x= np.ones((6,7,8))"
      ]
    },
    {
      "cell_type": "code",
      "source": [
        "np.unravel_index(99, shape = (6,7,8))"
      ],
      "metadata": {
        "colab": {
          "base_uri": "https://localhost:8080/"
        },
        "id": "L6fOEZCt9Dpi",
        "outputId": "34d5a19b-4d5a-41a1-e596-479dd11b49c7"
      },
      "execution_count": 31,
      "outputs": [
        {
          "output_type": "execute_result",
          "data": {
            "text/plain": [
              "(1, 5, 3)"
            ]
          },
          "metadata": {},
          "execution_count": 31
        }
      ]
    },
    {
      "cell_type": "markdown",
      "metadata": {
        "id": "9PbyNliQWSWa"
      },
      "source": [
        "#### 21. Create a checkerboard 8x8 matrix using the tile function (★☆☆) \n",
        "(**hint**: np.tile)"
      ]
    },
    {
      "cell_type": "code",
      "execution_count": 32,
      "metadata": {
        "id": "k-J83kzDWSWa",
        "colab": {
          "base_uri": "https://localhost:8080/"
        },
        "outputId": "dfac43f8-0c04-4166-de37-48a4ed648e7b"
      },
      "outputs": [
        {
          "output_type": "execute_result",
          "data": {
            "text/plain": [
              "array([[1, 0, 1, 0, 1, 0, 1, 0],\n",
              "       [0, 1, 0, 1, 0, 1, 0, 1],\n",
              "       [1, 0, 1, 0, 1, 0, 1, 0],\n",
              "       [0, 1, 0, 1, 0, 1, 0, 1],\n",
              "       [1, 0, 1, 0, 1, 0, 1, 0],\n",
              "       [0, 1, 0, 1, 0, 1, 0, 1],\n",
              "       [1, 0, 1, 0, 1, 0, 1, 0],\n",
              "       [0, 1, 0, 1, 0, 1, 0, 1]])"
            ]
          },
          "metadata": {},
          "execution_count": 32
        }
      ],
      "source": [
        "x= np.tile(([1,0],[0,1]), (4,4))\n",
        "x"
      ]
    },
    {
      "cell_type": "markdown",
      "metadata": {
        "id": "N5KcNxGSWSWa"
      },
      "source": [
        "#### 22. Normalize a 5x5 random matrix (★☆☆) \n",
        "(**hint**: (x - min) / (max - min))"
      ]
    },
    {
      "cell_type": "code",
      "execution_count": 33,
      "metadata": {
        "id": "OmI7xm8RWSWa"
      },
      "outputs": [],
      "source": [
        "x= np.random.random((5,5))"
      ]
    },
    {
      "cell_type": "code",
      "source": [
        "x= (x- x.min())/(x.max()- x.min())\n",
        "x"
      ],
      "metadata": {
        "colab": {
          "base_uri": "https://localhost:8080/"
        },
        "id": "JhdRzYFv-Xzi",
        "outputId": "35fb0f2a-fd60-4447-daf7-52577375ce20"
      },
      "execution_count": 34,
      "outputs": [
        {
          "output_type": "execute_result",
          "data": {
            "text/plain": [
              "array([[0.66942553, 0.52481681, 0.27073629, 0.23220021, 0.97849234],\n",
              "       [0.        , 0.36003744, 0.68516267, 0.55633688, 0.35262307],\n",
              "       [0.25877615, 0.92401186, 1.        , 0.18304918, 0.9413171 ],\n",
              "       [0.36786928, 0.44095708, 0.98952223, 0.14050332, 0.70457755],\n",
              "       [0.82260637, 0.58428118, 0.03343577, 0.02981015, 0.38247704]])"
            ]
          },
          "metadata": {},
          "execution_count": 34
        }
      ]
    },
    {
      "cell_type": "markdown",
      "metadata": {
        "id": "bOPE70toWSWa"
      },
      "source": [
        "#### 23. Create a custom dtype that describes a color as four unsigned bytes (RGBA) (★☆☆) \n",
        "(**hint**: np.dtype)"
      ]
    },
    {
      "cell_type": "code",
      "execution_count": 35,
      "metadata": {
        "collapsed": true,
        "id": "0YKUQ_IGWSWa"
      },
      "outputs": [],
      "source": [
        "RGBA = np.dtype([('r', np.ubyte), ('g', np.ubyte), ('b', np.ubyte), ('a', np.ubyte),])"
      ]
    },
    {
      "cell_type": "code",
      "source": [
        "RGBA"
      ],
      "metadata": {
        "colab": {
          "base_uri": "https://localhost:8080/"
        },
        "id": "rYVFGenr__wR",
        "outputId": "0bab6140-689b-4dc1-ce37-82a6c37e857c"
      },
      "execution_count": 36,
      "outputs": [
        {
          "output_type": "execute_result",
          "data": {
            "text/plain": [
              "dtype([('r', 'u1'), ('g', 'u1'), ('b', 'u1'), ('a', 'u1')])"
            ]
          },
          "metadata": {},
          "execution_count": 36
        }
      ]
    },
    {
      "cell_type": "markdown",
      "metadata": {
        "id": "wFdfUzAOWSWa"
      },
      "source": [
        "#### 24. Multiply a 5x3 matrix by a 3x2 matrix (real matrix product) (★☆☆) \n",
        "(**hint**: np.dot | @)"
      ]
    },
    {
      "cell_type": "code",
      "execution_count": 37,
      "metadata": {
        "id": "3TZkhretWSWa"
      },
      "outputs": [],
      "source": [
        "x= np.random.random((5,3))\n",
        "y= np.random.random((3,2))"
      ]
    },
    {
      "cell_type": "code",
      "source": [
        "z= np.dot(x,y)\n",
        "z"
      ],
      "metadata": {
        "colab": {
          "base_uri": "https://localhost:8080/"
        },
        "id": "rUcA3RbGAY3w",
        "outputId": "25404836-5d5b-48ac-dee9-c115eb9e3c10"
      },
      "execution_count": 38,
      "outputs": [
        {
          "output_type": "execute_result",
          "data": {
            "text/plain": [
              "array([[0.6551406 , 0.63342258],\n",
              "       [0.59894107, 1.06668287],\n",
              "       [0.61588153, 0.72585588],\n",
              "       [0.68995624, 1.08130038],\n",
              "       [0.9662891 , 1.28972311]])"
            ]
          },
          "metadata": {},
          "execution_count": 38
        }
      ]
    },
    {
      "cell_type": "markdown",
      "metadata": {
        "id": "8RP00pYsWSWa"
      },
      "source": [
        "#### 25. Given a 1D array, negate all elements which are between 3 and 8, in place. (★☆☆) \n",
        "(**hint**: >, <=)"
      ]
    },
    {
      "cell_type": "code",
      "execution_count": 39,
      "metadata": {
        "id": "_BSqsTYMWSWa",
        "colab": {
          "base_uri": "https://localhost:8080/"
        },
        "outputId": "c0105762-2ed3-4c31-b033-9c35cab2fc1e"
      },
      "outputs": [
        {
          "output_type": "execute_result",
          "data": {
            "text/plain": [
              "array([ 0,  1,  2,  3, -4, -5, -6, -7,  8,  9, 10, 11, 12, 13, 14])"
            ]
          },
          "metadata": {},
          "execution_count": 39
        }
      ],
      "source": [
        "x= np.arange(15)\n",
        "x[(x>3) & (x<8)] *= -1\n",
        "x"
      ]
    },
    {
      "cell_type": "markdown",
      "metadata": {
        "id": "zL85-J7tWSWa"
      },
      "source": [
        "#### 26. What is the output of the following script? (★☆☆) \n",
        "(**hint**: np.sum)"
      ]
    },
    {
      "cell_type": "markdown",
      "metadata": {
        "id": "nu6EnkM1WSWa"
      },
      "source": [
        "```python\n",
        "# Author: Jake VanderPlas\n",
        "\n",
        "print(sum(range(5),-1))\n",
        "from numpy import *\n",
        "print(sum(range(5),-1))\n",
        "```"
      ]
    },
    {
      "cell_type": "code",
      "execution_count": 40,
      "metadata": {
        "id": "gxYnSzthWSWa",
        "colab": {
          "base_uri": "https://localhost:8080/"
        },
        "outputId": "1f4f2ccb-ab69-4240-fcee-d60b6f676df5"
      },
      "outputs": [
        {
          "output_type": "stream",
          "name": "stdout",
          "text": [
            "9\n"
          ]
        }
      ],
      "source": [
        "print(sum(range(5),-1))"
      ]
    },
    {
      "cell_type": "code",
      "source": [
        "from numpy import *\n",
        "print(sum(range(5),-1))"
      ],
      "metadata": {
        "colab": {
          "base_uri": "https://localhost:8080/"
        },
        "id": "SxZTznI_DHoD",
        "outputId": "91f485ce-c71c-467f-81db-b24c9f25953a"
      },
      "execution_count": 41,
      "outputs": [
        {
          "output_type": "stream",
          "name": "stdout",
          "text": [
            "10\n"
          ]
        }
      ]
    },
    {
      "cell_type": "markdown",
      "metadata": {
        "id": "P0jpTyIoWSWa"
      },
      "source": [
        "#### 27. Consider an integer vector Z, which of these expressions are legal? (★☆☆)"
      ]
    },
    {
      "cell_type": "markdown",
      "metadata": {
        "id": "pEcSd6RUWSWa"
      },
      "source": [
        "```python\n",
        "Z**Z\n",
        "2 << Z >> 2\n",
        "Z <- Z\n",
        "1j*Z\n",
        "Z/1/1\n",
        "Z<Z>Z\n",
        "```"
      ]
    },
    {
      "cell_type": "code",
      "execution_count": 42,
      "metadata": {
        "id": "ftf0TNKoWSWb"
      },
      "outputs": [],
      "source": [
        "Z= 3"
      ]
    },
    {
      "cell_type": "code",
      "source": [
        "Z**Z\n"
      ],
      "metadata": {
        "colab": {
          "base_uri": "https://localhost:8080/"
        },
        "id": "bl_nEV7NQIC2",
        "outputId": "766a3a05-622d-4712-bec2-c7bb994e973e"
      },
      "execution_count": 43,
      "outputs": [
        {
          "output_type": "execute_result",
          "data": {
            "text/plain": [
              "27"
            ]
          },
          "metadata": {},
          "execution_count": 43
        }
      ]
    },
    {
      "cell_type": "code",
      "source": [
        "2 << Z >> 2\n"
      ],
      "metadata": {
        "colab": {
          "base_uri": "https://localhost:8080/"
        },
        "id": "ssRryKcxQKVW",
        "outputId": "899b65f1-e120-4605-a7aa-d7508bcdcf9d"
      },
      "execution_count": 44,
      "outputs": [
        {
          "output_type": "execute_result",
          "data": {
            "text/plain": [
              "4"
            ]
          },
          "metadata": {},
          "execution_count": 44
        }
      ]
    },
    {
      "cell_type": "code",
      "source": [
        "Z <- Z"
      ],
      "metadata": {
        "colab": {
          "base_uri": "https://localhost:8080/"
        },
        "id": "2sSdteRUQPUn",
        "outputId": "fe6f2351-fbb3-4858-c5b1-224fc4a88562"
      },
      "execution_count": 45,
      "outputs": [
        {
          "output_type": "execute_result",
          "data": {
            "text/plain": [
              "False"
            ]
          },
          "metadata": {},
          "execution_count": 45
        }
      ]
    },
    {
      "cell_type": "code",
      "source": [
        "1j*Z\n"
      ],
      "metadata": {
        "colab": {
          "base_uri": "https://localhost:8080/"
        },
        "id": "IBlP1TxoQSMb",
        "outputId": "47c92efe-7512-4573-8406-6094718ea9b4"
      },
      "execution_count": 46,
      "outputs": [
        {
          "output_type": "execute_result",
          "data": {
            "text/plain": [
              "3j"
            ]
          },
          "metadata": {},
          "execution_count": 46
        }
      ]
    },
    {
      "cell_type": "code",
      "source": [
        "Z/1/1"
      ],
      "metadata": {
        "colab": {
          "base_uri": "https://localhost:8080/"
        },
        "id": "8PGzrN50QVH_",
        "outputId": "6e982b16-923f-4ec7-c8cf-63d4d9153d66"
      },
      "execution_count": 47,
      "outputs": [
        {
          "output_type": "execute_result",
          "data": {
            "text/plain": [
              "3.0"
            ]
          },
          "metadata": {},
          "execution_count": 47
        }
      ]
    },
    {
      "cell_type": "code",
      "source": [
        "Z<Z>Z"
      ],
      "metadata": {
        "colab": {
          "base_uri": "https://localhost:8080/"
        },
        "id": "VhB7bBNHQXM9",
        "outputId": "5765849c-feb2-4cdd-b8da-1a2e899ad390"
      },
      "execution_count": 48,
      "outputs": [
        {
          "output_type": "execute_result",
          "data": {
            "text/plain": [
              "False"
            ]
          },
          "metadata": {},
          "execution_count": 48
        }
      ]
    },
    {
      "cell_type": "markdown",
      "source": [
        "All the above expressions are legal"
      ],
      "metadata": {
        "id": "_x1MasNsQjnx"
      }
    },
    {
      "cell_type": "markdown",
      "metadata": {
        "id": "rKE9euNJWSWb"
      },
      "source": [
        "#### 28. What are the result of the following expressions?"
      ]
    },
    {
      "cell_type": "markdown",
      "metadata": {
        "id": "ED2t2kkiWSWb"
      },
      "source": [
        "```python\n",
        "np.array(0) / np.array(0)\n",
        "np.array(0) // np.array(0)\n",
        "np.array([np.nan]).astype(int).astype(float)\n",
        "```"
      ]
    },
    {
      "cell_type": "code",
      "execution_count": 49,
      "metadata": {
        "id": "2TWspVSCWSWb",
        "colab": {
          "base_uri": "https://localhost:8080/"
        },
        "outputId": "618cdc52-22cc-4224-bdbb-b13d2d05098d"
      },
      "outputs": [
        {
          "output_type": "stream",
          "name": "stderr",
          "text": [
            "/usr/local/lib/python3.7/dist-packages/ipykernel_launcher.py:1: RuntimeWarning: invalid value encountered in true_divide\n",
            "  \"\"\"Entry point for launching an IPython kernel.\n"
          ]
        },
        {
          "output_type": "execute_result",
          "data": {
            "text/plain": [
              "nan"
            ]
          },
          "metadata": {},
          "execution_count": 49
        }
      ],
      "source": [
        "np.array(0) / np.array(0)\n"
      ]
    },
    {
      "cell_type": "code",
      "source": [
        "np.array(0) // np.array(0)\n"
      ],
      "metadata": {
        "colab": {
          "base_uri": "https://localhost:8080/"
        },
        "id": "IM-qGUDaQxkt",
        "outputId": "fa8ffcbb-2c44-4632-f7d1-7a12ee49de89"
      },
      "execution_count": 50,
      "outputs": [
        {
          "output_type": "stream",
          "name": "stderr",
          "text": [
            "/usr/local/lib/python3.7/dist-packages/ipykernel_launcher.py:1: RuntimeWarning: divide by zero encountered in floor_divide\n",
            "  \"\"\"Entry point for launching an IPython kernel.\n"
          ]
        },
        {
          "output_type": "execute_result",
          "data": {
            "text/plain": [
              "0"
            ]
          },
          "metadata": {},
          "execution_count": 50
        }
      ]
    },
    {
      "cell_type": "code",
      "source": [
        "np.array([np.nan]).astype(int).astype(float)\n"
      ],
      "metadata": {
        "colab": {
          "base_uri": "https://localhost:8080/"
        },
        "id": "bs-O8QrKQ2E5",
        "outputId": "3f51f571-afa0-42b0-a0c7-c8bbc9db6883"
      },
      "execution_count": 51,
      "outputs": [
        {
          "output_type": "execute_result",
          "data": {
            "text/plain": [
              "array([-9.22337204e+18])"
            ]
          },
          "metadata": {},
          "execution_count": 51
        }
      ]
    },
    {
      "cell_type": "markdown",
      "metadata": {
        "id": "ZtBb0apAWSWb"
      },
      "source": [
        "#### 29. How to round away from zero a float array ? (★☆☆) \n",
        "(**hint**: np.uniform, np.copysign, np.ceil, np.abs)"
      ]
    },
    {
      "cell_type": "code",
      "source": [],
      "metadata": {
        "id": "iQH8drK_RhS4"
      },
      "execution_count": 51,
      "outputs": []
    },
    {
      "cell_type": "markdown",
      "metadata": {
        "id": "NZmZ37_UWSWb"
      },
      "source": [
        "#### 30. How to find common values between two arrays? (★☆☆) \n",
        "(**hint**: np.intersect1d)"
      ]
    },
    {
      "cell_type": "code",
      "execution_count": 52,
      "metadata": {
        "id": "lnY9tfRHWSWb",
        "colab": {
          "base_uri": "https://localhost:8080/"
        },
        "outputId": "8d5168d5-31e6-4b15-9651-0a40e817bfbe"
      },
      "outputs": [
        {
          "output_type": "stream",
          "name": "stdout",
          "text": [
            "[0.23604339 0.35874442 0.64729082 0.69960097 0.7562339  0.75977147\n",
            " 0.8221642  0.93600449 0.98847683]\n"
          ]
        }
      ],
      "source": [
        "x= np.random.random((3,3))\n",
        "y=x= np.random.random((3,3))\n",
        "print(np.intersect1d(x,y))"
      ]
    },
    {
      "cell_type": "markdown",
      "metadata": {
        "id": "V4iorlIoWSWb"
      },
      "source": [
        "#### 31. How to ignore all numpy warnings (not recommended)? (★☆☆) \n",
        "(**hint**: np.seterr, np.errstate)"
      ]
    },
    {
      "cell_type": "code",
      "source": [
        "#data to check warnings\n",
        "data = np.random.random(1000).reshape(10, 10,10) * np.nan"
      ],
      "metadata": {
        "id": "kLFcTmgpTsI9"
      },
      "execution_count": 53,
      "outputs": []
    },
    {
      "cell_type": "code",
      "execution_count": 54,
      "metadata": {
        "id": "12CNqxylWSWb",
        "colab": {
          "base_uri": "https://localhost:8080/"
        },
        "outputId": "c98560b0-fa1b-41b9-a1d7-ea9aa654e1ea"
      },
      "outputs": [
        {
          "output_type": "execute_result",
          "data": {
            "text/plain": [
              "{'divide': 'warn', 'over': 'warn', 'under': 'ignore', 'invalid': 'warn'}"
            ]
          },
          "metadata": {},
          "execution_count": 54
        }
      ],
      "source": [
        "#ignoring warnings\n",
        "np.seterr(all='ignore')\n"
      ]
    },
    {
      "cell_type": "code",
      "source": [
        "#checking for warnings\n",
        "np.nanmedian(data, axis=[1, 2])"
      ],
      "metadata": {
        "colab": {
          "base_uri": "https://localhost:8080/"
        },
        "id": "O8dV3sMKTuyO",
        "outputId": "67030770-d726-4116-af8a-df0215f534e0"
      },
      "execution_count": 55,
      "outputs": [
        {
          "output_type": "stream",
          "name": "stderr",
          "text": [
            "/usr/local/lib/python3.7/dist-packages/numpy/lib/nanfunctions.py:1120: RuntimeWarning: All-NaN slice encountered\n",
            "  overwrite_input=overwrite_input)\n"
          ]
        },
        {
          "output_type": "execute_result",
          "data": {
            "text/plain": [
              "array([nan, nan, nan, nan, nan, nan, nan, nan, nan, nan])"
            ]
          },
          "metadata": {},
          "execution_count": 55
        }
      ]
    },
    {
      "cell_type": "code",
      "source": [
        "with np.errstate(divide='warn'):\n",
        "  np.nanmedian(data, axis=[1, 2])"
      ],
      "metadata": {
        "id": "PJoUia7eT_do"
      },
      "execution_count": 56,
      "outputs": []
    },
    {
      "cell_type": "markdown",
      "metadata": {
        "id": "S5M7oH8jWSWb"
      },
      "source": [
        "#### 32. Is the following expressions true? (★☆☆) \n",
        "(**hint**: imaginary number)"
      ]
    },
    {
      "cell_type": "markdown",
      "metadata": {
        "id": "MhZC2lRhWSWb"
      },
      "source": [
        "```python\n",
        "np.sqrt(-1) == np.emath.sqrt(-1)\n",
        "```"
      ]
    },
    {
      "cell_type": "code",
      "execution_count": 57,
      "metadata": {
        "id": "L5rEZGZiWSWb",
        "colab": {
          "base_uri": "https://localhost:8080/"
        },
        "outputId": "501d2182-2b1c-4652-c588-72d33f16e9a4"
      },
      "outputs": [
        {
          "output_type": "execute_result",
          "data": {
            "text/plain": [
              "False"
            ]
          },
          "metadata": {},
          "execution_count": 57
        }
      ],
      "source": [
        "np.sqrt(-1) == np.emath.sqrt(-1)"
      ]
    },
    {
      "cell_type": "markdown",
      "source": [
        "Well, no it isn't true. It is False"
      ],
      "metadata": {
        "id": "N8jp00GQVx7v"
      }
    },
    {
      "cell_type": "markdown",
      "metadata": {
        "id": "fs3IK2Q5WSWb"
      },
      "source": [
        "#### 33. How to get the dates of yesterday, today and tomorrow? (★☆☆) \n",
        "(**hint**: np.datetime64, np.timedelta64)"
      ]
    },
    {
      "cell_type": "code",
      "execution_count": 58,
      "metadata": {
        "collapsed": true,
        "id": "OmcLMVLmWSWb",
        "colab": {
          "base_uri": "https://localhost:8080/"
        },
        "outputId": "ff23eeff-b537-46eb-862e-fbb176e2d144"
      },
      "outputs": [
        {
          "output_type": "stream",
          "name": "stdout",
          "text": [
            "2022-10-26 2022-10-27 2022-10-28\n"
          ]
        }
      ],
      "source": [
        "yesterday = np.datetime64('today')- np.timedelta64(1)\n",
        "today = np.datetime64('today')\n",
        "tomorrow = np.datetime64('today')+ np.timedelta64(1)\n",
        "print( yesterday, today, tomorrow)"
      ]
    },
    {
      "cell_type": "markdown",
      "metadata": {
        "id": "Eu66dytUWSWb"
      },
      "source": [
        "#### 34. How to get all the dates corresponding to the month of July 2016? (★★☆) \n",
        "(**hint**: np.arange(dtype=datetime64\\['D'\\]))"
      ]
    },
    {
      "cell_type": "code",
      "execution_count": 59,
      "metadata": {
        "id": "iAowjZShWSWb",
        "colab": {
          "base_uri": "https://localhost:8080/"
        },
        "outputId": "342ce78b-cccf-420e-bc37-83aaceb9ca33"
      },
      "outputs": [
        {
          "output_type": "execute_result",
          "data": {
            "text/plain": [
              "array(['2016-07-01', '2016-07-02', '2016-07-03', '2016-07-04',\n",
              "       '2016-07-05', '2016-07-06', '2016-07-07', '2016-07-08',\n",
              "       '2016-07-09', '2016-07-10', '2016-07-11', '2016-07-12',\n",
              "       '2016-07-13', '2016-07-14', '2016-07-15', '2016-07-16',\n",
              "       '2016-07-17', '2016-07-18', '2016-07-19', '2016-07-20',\n",
              "       '2016-07-21', '2016-07-22', '2016-07-23', '2016-07-24',\n",
              "       '2016-07-25', '2016-07-26', '2016-07-27', '2016-07-28',\n",
              "       '2016-07-29', '2016-07-30', '2016-07-31'], dtype='datetime64[D]')"
            ]
          },
          "metadata": {},
          "execution_count": 59
        }
      ],
      "source": [
        "x = np.arange('2016-07', '2016-08', dtype='datetime64[D]')\n",
        "x"
      ]
    },
    {
      "cell_type": "markdown",
      "metadata": {
        "id": "RtPxCtKrWSWb"
      },
      "source": [
        "#### 35. How to compute ((A+B)\\*(-A/2)) in place (without copy)? (★★☆) \n",
        "(**hint**: np.add(out=), np.negative(out=), np.multiply(out=), np.divide(out=))"
      ]
    },
    {
      "cell_type": "code",
      "execution_count": 60,
      "metadata": {
        "id": "oA4KmZmWWSWb",
        "colab": {
          "base_uri": "https://localhost:8080/"
        },
        "outputId": "26ceb84c-bbbc-4e46-f12a-6ddbb5bfb567"
      },
      "outputs": [
        {
          "output_type": "stream",
          "name": "stdout",
          "text": [
            "[1. 1. 1.] [2. 2. 2.]\n"
          ]
        }
      ],
      "source": [
        "A = np.ones(3)*1\n",
        "B = np.ones(3)*2\n",
        "print(A,B)"
      ]
    },
    {
      "cell_type": "code",
      "source": [
        "#A or B both are same here, going for B since we will use A\n",
        "np.add(A,B,out=B)"
      ],
      "metadata": {
        "colab": {
          "base_uri": "https://localhost:8080/"
        },
        "id": "GhpsBAXnXNnu",
        "outputId": "67639d31-9b8f-4674-d41c-216e763076f4"
      },
      "execution_count": 61,
      "outputs": [
        {
          "output_type": "execute_result",
          "data": {
            "text/plain": [
              "array([3., 3., 3.])"
            ]
          },
          "metadata": {},
          "execution_count": 61
        }
      ]
    },
    {
      "cell_type": "code",
      "source": [
        "np.divide(A,2,out=A)"
      ],
      "metadata": {
        "colab": {
          "base_uri": "https://localhost:8080/"
        },
        "id": "BC1dJxAvXNc-",
        "outputId": "e5d558db-fce4-4221-c828-605941c9aeb3"
      },
      "execution_count": 62,
      "outputs": [
        {
          "output_type": "execute_result",
          "data": {
            "text/plain": [
              "array([0.5, 0.5, 0.5])"
            ]
          },
          "metadata": {},
          "execution_count": 62
        }
      ]
    },
    {
      "cell_type": "code",
      "source": [
        "np.negative(A,out=A)"
      ],
      "metadata": {
        "colab": {
          "base_uri": "https://localhost:8080/"
        },
        "id": "F00RZomuXNPo",
        "outputId": "d2e9190e-69f3-4cad-a8bd-c2b102aa0fb6"
      },
      "execution_count": 63,
      "outputs": [
        {
          "output_type": "execute_result",
          "data": {
            "text/plain": [
              "array([-0.5, -0.5, -0.5])"
            ]
          },
          "metadata": {},
          "execution_count": 63
        }
      ]
    },
    {
      "cell_type": "code",
      "source": [
        "#A or B for out don't matter \n",
        "np.multiply(A,B,out=A)"
      ],
      "metadata": {
        "colab": {
          "base_uri": "https://localhost:8080/"
        },
        "id": "OZREGn16XeQ2",
        "outputId": "262cc98f-b4f6-4f85-d338-59758dca91e9"
      },
      "execution_count": 64,
      "outputs": [
        {
          "output_type": "execute_result",
          "data": {
            "text/plain": [
              "array([-1.5, -1.5, -1.5])"
            ]
          },
          "metadata": {},
          "execution_count": 64
        }
      ]
    },
    {
      "cell_type": "markdown",
      "metadata": {
        "id": "JfQycdYfWSWb"
      },
      "source": [
        "#### 36. Extract the integer part of a random array using 5 different methods (★★☆) \n",
        "(**hint**: %, np.floor, np.ceil, astype, np.trunc)"
      ]
    },
    {
      "cell_type": "code",
      "execution_count": 65,
      "metadata": {
        "id": "5_MU0Rg9WSWc",
        "colab": {
          "base_uri": "https://localhost:8080/"
        },
        "outputId": "7c01dc95-1c56-41fb-ddd3-804a649f3878"
      },
      "outputs": [
        {
          "output_type": "execute_result",
          "data": {
            "text/plain": [
              "array([4.74084613, 1.30320621, 4.23451551, 1.45320352, 4.31614781])"
            ]
          },
          "metadata": {},
          "execution_count": 65
        }
      ],
      "source": [
        "x= np.random.uniform(0,5,5)\n",
        "x"
      ]
    },
    {
      "cell_type": "code",
      "source": [
        "#1\n",
        "y= x.astype(int)\n",
        "y"
      ],
      "metadata": {
        "colab": {
          "base_uri": "https://localhost:8080/"
        },
        "id": "InmeLaZo2jLJ",
        "outputId": "70ddb898-57e9-4ed7-b75b-5b14f45f2470"
      },
      "execution_count": 66,
      "outputs": [
        {
          "output_type": "execute_result",
          "data": {
            "text/plain": [
              "array([4, 1, 4, 1, 4])"
            ]
          },
          "metadata": {},
          "execution_count": 66
        }
      ]
    },
    {
      "cell_type": "code",
      "source": [
        "#2\n",
        "y= x//1\n",
        "y"
      ],
      "metadata": {
        "colab": {
          "base_uri": "https://localhost:8080/"
        },
        "outputId": "9bfa6d5f-3021-4ce8-f03d-b6e3456b7fc7",
        "id": "gXNFqYha2u0q"
      },
      "execution_count": 67,
      "outputs": [
        {
          "output_type": "execute_result",
          "data": {
            "text/plain": [
              "array([4., 1., 4., 1., 4.])"
            ]
          },
          "metadata": {},
          "execution_count": 67
        }
      ]
    },
    {
      "cell_type": "code",
      "source": [
        "#3\n",
        "y= np.trunc(x)\n",
        "y"
      ],
      "metadata": {
        "colab": {
          "base_uri": "https://localhost:8080/"
        },
        "outputId": "dc2ffb2d-a4cd-458d-f645-a3f8cd0781fe",
        "id": "z9U5jQ012vDS"
      },
      "execution_count": 68,
      "outputs": [
        {
          "output_type": "execute_result",
          "data": {
            "text/plain": [
              "array([4., 1., 4., 1., 4.])"
            ]
          },
          "metadata": {},
          "execution_count": 68
        }
      ]
    },
    {
      "cell_type": "code",
      "source": [
        "#4\n",
        "y= x-x%1\n",
        "y"
      ],
      "metadata": {
        "colab": {
          "base_uri": "https://localhost:8080/"
        },
        "outputId": "619e3bf0-0487-4ad4-fea2-a97276ffc834",
        "id": "DP1mjsCb2vrj"
      },
      "execution_count": 69,
      "outputs": [
        {
          "output_type": "execute_result",
          "data": {
            "text/plain": [
              "array([4., 1., 4., 1., 4.])"
            ]
          },
          "metadata": {},
          "execution_count": 69
        }
      ]
    },
    {
      "cell_type": "code",
      "source": [
        "#5\n",
        "y= np.floor(x)\n",
        "y"
      ],
      "metadata": {
        "colab": {
          "base_uri": "https://localhost:8080/"
        },
        "outputId": "854ff86e-f24a-4dd5-e52c-82721971d69a",
        "id": "stNaig6V2v5U"
      },
      "execution_count": 70,
      "outputs": [
        {
          "output_type": "execute_result",
          "data": {
            "text/plain": [
              "array([4., 1., 4., 1., 4.])"
            ]
          },
          "metadata": {},
          "execution_count": 70
        }
      ]
    },
    {
      "cell_type": "markdown",
      "metadata": {
        "id": "-5yXCKlTWSWc"
      },
      "source": [
        "#### 37. Create a 5x5 matrix with row values ranging from 0 to 4 (★★☆) \n",
        "(**hint**: np.arange)"
      ]
    },
    {
      "cell_type": "code",
      "execution_count": 71,
      "metadata": {
        "id": "y6jEubFuWSWc",
        "colab": {
          "base_uri": "https://localhost:8080/"
        },
        "outputId": "4491a8c3-d453-4a13-86d8-a44e65841491"
      },
      "outputs": [
        {
          "output_type": "execute_result",
          "data": {
            "text/plain": [
              "array([[0., 0., 0., 0., 0.],\n",
              "       [0., 0., 0., 0., 0.],\n",
              "       [0., 0., 0., 0., 0.],\n",
              "       [0., 0., 0., 0., 0.],\n",
              "       [0., 0., 0., 0., 0.]])"
            ]
          },
          "metadata": {},
          "execution_count": 71
        }
      ],
      "source": [
        "x= np.zeros((5,5))\n",
        "x"
      ]
    },
    {
      "cell_type": "code",
      "source": [
        "y= np.arange(5)\n",
        "y"
      ],
      "metadata": {
        "colab": {
          "base_uri": "https://localhost:8080/"
        },
        "id": "ZwBoA1_U5BUK",
        "outputId": "715c0b67-ca2e-4812-fe6c-038ec9c47dbe"
      },
      "execution_count": 72,
      "outputs": [
        {
          "output_type": "execute_result",
          "data": {
            "text/plain": [
              "array([0, 1, 2, 3, 4])"
            ]
          },
          "metadata": {},
          "execution_count": 72
        }
      ]
    },
    {
      "cell_type": "code",
      "source": [
        "x= x+y\n",
        "x"
      ],
      "metadata": {
        "colab": {
          "base_uri": "https://localhost:8080/"
        },
        "id": "AKQgvepa5LRg",
        "outputId": "5bbbcbaa-079d-47c6-d8b5-f6227decce83"
      },
      "execution_count": 73,
      "outputs": [
        {
          "output_type": "execute_result",
          "data": {
            "text/plain": [
              "array([[0., 1., 2., 3., 4.],\n",
              "       [0., 1., 2., 3., 4.],\n",
              "       [0., 1., 2., 3., 4.],\n",
              "       [0., 1., 2., 3., 4.],\n",
              "       [0., 1., 2., 3., 4.]])"
            ]
          },
          "metadata": {},
          "execution_count": 73
        }
      ]
    },
    {
      "cell_type": "markdown",
      "metadata": {
        "id": "F4GD9as8WSWc"
      },
      "source": [
        "#### 38. Consider a generator function that generates 10 integers and use it to build an array (★☆☆) \n",
        "(**hint**: np.fromiter)"
      ]
    },
    {
      "cell_type": "code",
      "execution_count": 74,
      "metadata": {
        "id": "arpE3-qGWSWc"
      },
      "outputs": [],
      "source": [
        "#yield keyword is used to create a generator function.\n",
        "def generator():\n",
        "  for i in range(10):\n",
        "    yield i"
      ]
    },
    {
      "cell_type": "code",
      "source": [
        "generator()    "
      ],
      "metadata": {
        "colab": {
          "base_uri": "https://localhost:8080/"
        },
        "id": "AGpDPv826mxQ",
        "outputId": "461d75e8-1986-4926-eee2-78e156d67288"
      },
      "execution_count": 75,
      "outputs": [
        {
          "output_type": "execute_result",
          "data": {
            "text/plain": [
              "<generator object generator at 0x7f70b667e950>"
            ]
          },
          "metadata": {},
          "execution_count": 75
        }
      ]
    },
    {
      "cell_type": "code",
      "source": [
        "x= np.fromiter(generator(), dtype=float, count=-1)\n",
        "x"
      ],
      "metadata": {
        "colab": {
          "base_uri": "https://localhost:8080/"
        },
        "id": "QaOx0PAN6uhJ",
        "outputId": "dc495605-ace9-4553-bc74-476f98fc1148"
      },
      "execution_count": 76,
      "outputs": [
        {
          "output_type": "execute_result",
          "data": {
            "text/plain": [
              "array([0., 1., 2., 3., 4., 5., 6., 7., 8., 9.])"
            ]
          },
          "metadata": {},
          "execution_count": 76
        }
      ]
    },
    {
      "cell_type": "markdown",
      "metadata": {
        "id": "MeyIBNenWSWc"
      },
      "source": [
        "#### 39. Create a vector of size 10 with values ranging from 0 to 1, both excluded (★★☆) \n",
        "(**hint**: np.linspace)"
      ]
    },
    {
      "cell_type": "code",
      "execution_count": 77,
      "metadata": {
        "id": "5U8HiqRhWSWc",
        "colab": {
          "base_uri": "https://localhost:8080/"
        },
        "outputId": "c632cd0f-f872-4170-93f3-36026bb557ff"
      },
      "outputs": [
        {
          "output_type": "execute_result",
          "data": {
            "text/plain": [
              "array([0. , 0.1, 0.2, 0.3, 0.4, 0.5, 0.6, 0.7, 0.8, 0.9])"
            ]
          },
          "metadata": {},
          "execution_count": 77
        }
      ],
      "source": [
        "x=np.linspace(0,1, num=10, endpoint= False)\n",
        "x"
      ]
    },
    {
      "cell_type": "code",
      "source": [
        "x= x[1:]"
      ],
      "metadata": {
        "id": "Z3pCOD6D8Flk"
      },
      "execution_count": 78,
      "outputs": []
    },
    {
      "cell_type": "markdown",
      "metadata": {
        "id": "4R4mogh9WSWc"
      },
      "source": [
        "#### 40. Create a random vector of size 10 and sort it (★★☆) \n",
        "(**hint**: sort)"
      ]
    },
    {
      "cell_type": "code",
      "execution_count": 79,
      "metadata": {
        "id": "YJcoIgHkWSWc",
        "colab": {
          "base_uri": "https://localhost:8080/"
        },
        "outputId": "2d83303b-4acb-440d-e759-84a2716ae114"
      },
      "outputs": [
        {
          "output_type": "execute_result",
          "data": {
            "text/plain": [
              "array([0.62829886, 0.65262786, 0.12312166, 0.60935333, 0.50492291,\n",
              "       0.57994463, 0.13591478, 0.44467807, 0.24801074, 0.98363193])"
            ]
          },
          "metadata": {},
          "execution_count": 79
        }
      ],
      "source": [
        "x=np.random.rand(10)\n",
        "x"
      ]
    },
    {
      "cell_type": "code",
      "source": [
        "x.sort()\n",
        "x"
      ],
      "metadata": {
        "colab": {
          "base_uri": "https://localhost:8080/"
        },
        "id": "Zg8TvgOQ9AkW",
        "outputId": "8b273b92-aac2-4185-ccbd-5be4f3e86817"
      },
      "execution_count": 80,
      "outputs": [
        {
          "output_type": "execute_result",
          "data": {
            "text/plain": [
              "array([0.12312166, 0.13591478, 0.24801074, 0.44467807, 0.50492291,\n",
              "       0.57994463, 0.60935333, 0.62829886, 0.65262786, 0.98363193])"
            ]
          },
          "metadata": {},
          "execution_count": 80
        }
      ]
    },
    {
      "cell_type": "markdown",
      "metadata": {
        "id": "jGBTUfrgWSWc"
      },
      "source": [
        "#### 41. How to sum a small array faster than np.sum? (★★☆) \n",
        "(**hint**: np.add.reduce)"
      ]
    },
    {
      "cell_type": "code",
      "execution_count": 81,
      "metadata": {
        "id": "M6yBwGiXWSWc",
        "colab": {
          "base_uri": "https://localhost:8080/"
        },
        "outputId": "26239c80-d96e-4ac6-fea8-fd07815a6cd5"
      },
      "outputs": [
        {
          "output_type": "execute_result",
          "data": {
            "text/plain": [
              "array([0, 1, 2, 3, 4, 5, 6, 7, 8, 9])"
            ]
          },
          "metadata": {},
          "execution_count": 81
        }
      ],
      "source": [
        "#not random\n",
        "x= np.arange(10)\n",
        "x"
      ]
    },
    {
      "cell_type": "code",
      "source": [
        "np.add.reduce(x)"
      ],
      "metadata": {
        "colab": {
          "base_uri": "https://localhost:8080/"
        },
        "id": "7p8mPXYp9j_k",
        "outputId": "45da73f0-e5fa-4488-f7b7-85618728a5fd"
      },
      "execution_count": 82,
      "outputs": [
        {
          "output_type": "execute_result",
          "data": {
            "text/plain": [
              "45"
            ]
          },
          "metadata": {},
          "execution_count": 82
        }
      ]
    },
    {
      "cell_type": "markdown",
      "metadata": {
        "id": "9cvzTzVnWSWc"
      },
      "source": [
        "#### 42. Consider two random array A and B, check if they are equal (★★☆) \n",
        "(**hint**: np.allclose, np.array\\_equal)"
      ]
    },
    {
      "cell_type": "code",
      "execution_count": 83,
      "metadata": {
        "id": "KsfjXZECWSWc",
        "colab": {
          "base_uri": "https://localhost:8080/"
        },
        "outputId": "7ff9bb90-4bf2-4907-91e5-7a934117798f"
      },
      "outputs": [
        {
          "output_type": "stream",
          "name": "stdout",
          "text": [
            "[0.43304636 0.22799661 0.30839982 0.72824543 0.02021547 0.0668392\n",
            " 0.77580118 0.98663341 0.7933764  0.98868737] [0.16581375 0.77390861 0.8541763  0.47871707 0.57247027 0.05377342\n",
            " 0.84048565 0.54274693 0.38683431 0.26131319]\n"
          ]
        }
      ],
      "source": [
        "#random\n",
        "A= np.random.random(10)\n",
        "B= np.random.random(10)\n",
        "print(A,B)"
      ]
    },
    {
      "cell_type": "code",
      "source": [
        "x_equal= np.allclose(A,B)\n",
        "print(x_equal)"
      ],
      "metadata": {
        "colab": {
          "base_uri": "https://localhost:8080/"
        },
        "id": "i6IGM16E9882",
        "outputId": "0c94b8dc-96b2-476d-80ab-f20f9b516658"
      },
      "execution_count": 84,
      "outputs": [
        {
          "output_type": "stream",
          "name": "stdout",
          "text": [
            "False\n"
          ]
        }
      ]
    },
    {
      "cell_type": "code",
      "source": [
        "y_equal= np.array_equal(A,B)\n",
        "print(y_equal)"
      ],
      "metadata": {
        "colab": {
          "base_uri": "https://localhost:8080/"
        },
        "id": "gYbXCOMC-TAY",
        "outputId": "1271e489-b256-44ac-cf57-61b654b7bb65"
      },
      "execution_count": 85,
      "outputs": [
        {
          "output_type": "stream",
          "name": "stdout",
          "text": [
            "False\n"
          ]
        }
      ]
    },
    {
      "cell_type": "markdown",
      "metadata": {
        "id": "vVGNdpEVWSWc"
      },
      "source": [
        "#### 43. Make an array immutable (read-only) (★★☆) \n",
        "(**hint**: flags.writeable)"
      ]
    },
    {
      "cell_type": "code",
      "execution_count": 86,
      "metadata": {
        "id": "GFUQMk9CWSWc"
      },
      "outputs": [],
      "source": [
        "x= np.ones(5)\n",
        "x.flags.writeable= False"
      ]
    },
    {
      "cell_type": "code",
      "source": [
        "#x[0]=1"
      ],
      "metadata": {
        "id": "G3fiTyr8-8l2"
      },
      "execution_count": 87,
      "outputs": []
    },
    {
      "cell_type": "markdown",
      "metadata": {
        "id": "QPuKTQquWSWc"
      },
      "source": [
        "#### 44. Consider a random 10x2 matrix representing cartesian coordinates, convert them to polar coordinates (★★☆) \n",
        "(**hint**: np.sqrt, np.arctan2)"
      ]
    },
    {
      "cell_type": "code",
      "execution_count": 88,
      "metadata": {
        "id": "aLXC23FWWSWc",
        "colab": {
          "base_uri": "https://localhost:8080/"
        },
        "outputId": "27db46ec-299b-4a45-cf79-9adeaef9b063"
      },
      "outputs": [
        {
          "output_type": "execute_result",
          "data": {
            "text/plain": [
              "array([[0.36555343, 0.66958374],\n",
              "       [0.87979006, 0.98559749],\n",
              "       [0.80221522, 0.85828024],\n",
              "       [0.88264865, 0.07270265],\n",
              "       [0.35810141, 0.18221438],\n",
              "       [0.74133914, 0.11597749],\n",
              "       [0.52667153, 0.54199679],\n",
              "       [0.95952823, 0.85366131],\n",
              "       [0.12398613, 0.91640075],\n",
              "       [0.08464858, 0.24871201]])"
            ]
          },
          "metadata": {},
          "execution_count": 88
        }
      ],
      "source": [
        "a= np.random.random((10,2))\n",
        "a"
      ]
    },
    {
      "cell_type": "code",
      "source": [
        "x,y= a[:,0], a[:,1]"
      ],
      "metadata": {
        "id": "wuzUmW3U_u-A"
      },
      "execution_count": 89,
      "outputs": []
    },
    {
      "cell_type": "code",
      "source": [
        "r= np.sqrt(x**2)+y**2\n",
        "t= np.arctan2(y,x)\n",
        "print(r,t)"
      ],
      "metadata": {
        "colab": {
          "base_uri": "https://localhost:8080/"
        },
        "id": "GIqHlGh-_uq8",
        "outputId": "0793568c-b34d-4662-9822-abd73421ca49"
      },
      "execution_count": 90,
      "outputs": [
        {
          "output_type": "stream",
          "name": "stdout",
          "text": [
            "[0.81389582 1.85119247 1.5388602  0.88793433 0.39130349 0.75478992\n",
            " 0.82043205 1.68826587 0.96377647 0.14650624] [1.07107452 0.84205887 0.81914937 0.0821832  0.47069026 0.15518537\n",
            " 0.7997377  0.72707725 1.43631608 1.24274612]\n"
          ]
        }
      ]
    },
    {
      "cell_type": "markdown",
      "metadata": {
        "id": "kG0NIfrsWSWc"
      },
      "source": [
        "#### 45. Create random vector of size 10 and replace the maximum value by 0 (★★☆) \n",
        "(**hint**: argmax)"
      ]
    },
    {
      "cell_type": "code",
      "execution_count": 91,
      "metadata": {
        "id": "YhRDkLx3WSWc"
      },
      "outputs": [],
      "source": [
        "x= np.random.random(10)\n",
        "x[np.argmax(x)]=0"
      ]
    },
    {
      "cell_type": "code",
      "source": [
        "x"
      ],
      "metadata": {
        "colab": {
          "base_uri": "https://localhost:8080/"
        },
        "id": "4mhn4qjRBsXu",
        "outputId": "93b3f1d0-5673-45a9-dcb7-ad87c6fb9396"
      },
      "execution_count": 92,
      "outputs": [
        {
          "output_type": "execute_result",
          "data": {
            "text/plain": [
              "array([0.88821215, 0.59155067, 0.84517624, 0.        , 0.11237389,\n",
              "       0.98396761, 0.59528871, 0.66790017, 0.18831997, 0.38439722])"
            ]
          },
          "metadata": {},
          "execution_count": 92
        }
      ]
    },
    {
      "cell_type": "markdown",
      "metadata": {
        "id": "A8oSZf1XWSWc"
      },
      "source": [
        "#### 46. Create a structured array with `x` and `y` coordinates covering the \\[0,1\\]x\\[0,1\\] area (★★☆) \n",
        "(**hint**: np.meshgrid)"
      ]
    },
    {
      "cell_type": "code",
      "execution_count": 93,
      "metadata": {
        "id": "49gqW_faWSWc",
        "colab": {
          "base_uri": "https://localhost:8080/"
        },
        "outputId": "aa4d574f-130f-4dcc-aef6-6759d66b5de1"
      },
      "outputs": [
        {
          "output_type": "execute_result",
          "data": {
            "text/plain": [
              "array([[(0., 0.), (0., 0.), (0., 0.), (0., 0.), (0., 0.)],\n",
              "       [(0., 0.), (0., 0.), (0., 0.), (0., 0.), (0., 0.)],\n",
              "       [(0., 0.), (0., 0.), (0., 0.), (0., 0.), (0., 0.)],\n",
              "       [(0., 0.), (0., 0.), (0., 0.), (0., 0.), (0., 0.)],\n",
              "       [(0., 0.), (0., 0.), (0., 0.), (0., 0.), (0., 0.)]],\n",
              "      dtype=[('x', '<f8'), ('y', '<f8')])"
            ]
          },
          "metadata": {},
          "execution_count": 93
        }
      ],
      "source": [
        "a= np.zeros((5,5), [('x', float), ('y', float)])\n",
        "a"
      ]
    },
    {
      "cell_type": "code",
      "source": [
        "a['x'], a['y']= np.meshgrid(np.linspace(0,1,5),\n",
        "                            np.linspace(0,1,5))\n",
        "a"
      ],
      "metadata": {
        "colab": {
          "base_uri": "https://localhost:8080/"
        },
        "id": "q9mY9Ta78548",
        "outputId": "160f679b-81b7-4273-aaa0-3026ab61c029"
      },
      "execution_count": 96,
      "outputs": [
        {
          "output_type": "execute_result",
          "data": {
            "text/plain": [
              "array([[(0.  , 0.  ), (0.25, 0.  ), (0.5 , 0.  ), (0.75, 0.  ),\n",
              "        (1.  , 0.  )],\n",
              "       [(0.  , 0.25), (0.25, 0.25), (0.5 , 0.25), (0.75, 0.25),\n",
              "        (1.  , 0.25)],\n",
              "       [(0.  , 0.5 ), (0.25, 0.5 ), (0.5 , 0.5 ), (0.75, 0.5 ),\n",
              "        (1.  , 0.5 )],\n",
              "       [(0.  , 0.75), (0.25, 0.75), (0.5 , 0.75), (0.75, 0.75),\n",
              "        (1.  , 0.75)],\n",
              "       [(0.  , 1.  ), (0.25, 1.  ), (0.5 , 1.  ), (0.75, 1.  ),\n",
              "        (1.  , 1.  )]], dtype=[('x', '<f8'), ('y', '<f8')])"
            ]
          },
          "metadata": {},
          "execution_count": 96
        }
      ]
    },
    {
      "cell_type": "markdown",
      "metadata": {
        "id": "lOu7WlpQWSWc"
      },
      "source": [
        "####  47. Given two arrays, X and Y, construct the Cauchy matrix C (Cij =1/(xi - yj)) \n",
        "(**hint**: np.subtract.outer)"
      ]
    },
    {
      "cell_type": "code",
      "execution_count": 97,
      "metadata": {
        "id": "BrjE9d6IWSWd"
      },
      "outputs": [],
      "source": [
        "x= np.arange(10)\n",
        "y= x+0.7"
      ]
    },
    {
      "cell_type": "code",
      "source": [
        "c= 1/(np.subtract.outer(x,y))\n",
        "c"
      ],
      "metadata": {
        "colab": {
          "base_uri": "https://localhost:8080/"
        },
        "id": "VtZ5n6c-92kO",
        "outputId": "3e6d7999-8b64-48f6-fde3-fb388e5b22e9"
      },
      "execution_count": 98,
      "outputs": [
        {
          "output_type": "execute_result",
          "data": {
            "text/plain": [
              "array([[-1.42857143, -0.58823529, -0.37037037, -0.27027027, -0.21276596,\n",
              "        -0.1754386 , -0.14925373, -0.12987013, -0.11494253, -0.10309278],\n",
              "       [ 3.33333333, -1.42857143, -0.58823529, -0.37037037, -0.27027027,\n",
              "        -0.21276596, -0.1754386 , -0.14925373, -0.12987013, -0.11494253],\n",
              "       [ 0.76923077,  3.33333333, -1.42857143, -0.58823529, -0.37037037,\n",
              "        -0.27027027, -0.21276596, -0.1754386 , -0.14925373, -0.12987013],\n",
              "       [ 0.43478261,  0.76923077,  3.33333333, -1.42857143, -0.58823529,\n",
              "        -0.37037037, -0.27027027, -0.21276596, -0.1754386 , -0.14925373],\n",
              "       [ 0.3030303 ,  0.43478261,  0.76923077,  3.33333333, -1.42857143,\n",
              "        -0.58823529, -0.37037037, -0.27027027, -0.21276596, -0.1754386 ],\n",
              "       [ 0.23255814,  0.3030303 ,  0.43478261,  0.76923077,  3.33333333,\n",
              "        -1.42857143, -0.58823529, -0.37037037, -0.27027027, -0.21276596],\n",
              "       [ 0.18867925,  0.23255814,  0.3030303 ,  0.43478261,  0.76923077,\n",
              "         3.33333333, -1.42857143, -0.58823529, -0.37037037, -0.27027027],\n",
              "       [ 0.15873016,  0.18867925,  0.23255814,  0.3030303 ,  0.43478261,\n",
              "         0.76923077,  3.33333333, -1.42857143, -0.58823529, -0.37037037],\n",
              "       [ 0.1369863 ,  0.15873016,  0.18867925,  0.23255814,  0.3030303 ,\n",
              "         0.43478261,  0.76923077,  3.33333333, -1.42857143, -0.58823529],\n",
              "       [ 0.12048193,  0.1369863 ,  0.15873016,  0.18867925,  0.23255814,\n",
              "         0.3030303 ,  0.43478261,  0.76923077,  3.33333333, -1.42857143]])"
            ]
          },
          "metadata": {},
          "execution_count": 98
        }
      ]
    },
    {
      "cell_type": "markdown",
      "metadata": {
        "id": "S2LNK8g1WSWd"
      },
      "source": [
        "#### 48. Print the minimum and maximum representable value for each numpy scalar type (★★☆) \n",
        "(**hint**: np.iinfo, np.finfo, eps)"
      ]
    },
    {
      "cell_type": "code",
      "execution_count": 100,
      "metadata": {
        "id": "_-boeUVAWSWd",
        "colab": {
          "base_uri": "https://localhost:8080/"
        },
        "outputId": "d80f20d6-b3db-4e3c-d2d8-99526baecb30"
      },
      "outputs": [
        {
          "output_type": "stream",
          "name": "stdout",
          "text": [
            "-128\n",
            "127\n",
            "-2147483648\n",
            "2147483647\n",
            "-9223372036854775808\n",
            "9223372036854775807\n"
          ]
        }
      ],
      "source": [
        "for dtype in [np.int8, np.int32, np.int64]:\n",
        "  print(np.iinfo(dtype).min)\n",
        "  print(np.iinfo(dtype).max)"
      ]
    },
    {
      "cell_type": "code",
      "source": [
        "for dtype in [np.float32, np.float64]:\n",
        "  print(np.finfo(dtype).min)\n",
        "  print(np.finfo(dtype).max)\n",
        "  print(np.finfo(dtype).eps)"
      ],
      "metadata": {
        "colab": {
          "base_uri": "https://localhost:8080/"
        },
        "id": "rK4KW6Pf_BjA",
        "outputId": "2cb3c3b3-ac9d-491c-a88e-4ebf6a269fff"
      },
      "execution_count": 101,
      "outputs": [
        {
          "output_type": "stream",
          "name": "stdout",
          "text": [
            "-3.4028235e+38\n",
            "3.4028235e+38\n",
            "1.1920929e-07\n",
            "-1.7976931348623157e+308\n",
            "1.7976931348623157e+308\n",
            "2.220446049250313e-16\n"
          ]
        }
      ]
    },
    {
      "cell_type": "markdown",
      "metadata": {
        "id": "nGxWSnhhWSWd"
      },
      "source": [
        "#### 49. How to print all the values of an array? (★★☆) \n",
        "(**hint**: np.set\\_printoptions)"
      ]
    },
    {
      "cell_type": "code",
      "execution_count": 108,
      "metadata": {
        "id": "L8ad1_3jWSWd",
        "colab": {
          "base_uri": "https://localhost:8080/"
        },
        "outputId": "e509225f-a652-4596-b6bf-d2fba33626be"
      },
      "outputs": [
        {
          "output_type": "stream",
          "name": "stdout",
          "text": [
            "[[0. 0. 0. 0. 0. 0. 0. 0. 0. 0. 0. 0. 0. 0. 0. 0. 0. 0. 0. 0. 0. 0. 0. 0.\n",
            "  0. 0. 0. 0. 0. 0. 0. 0. 0. 0. 0. 0. 0. 0. 0. 0.]\n",
            " [0. 0. 0. 0. 0. 0. 0. 0. 0. 0. 0. 0. 0. 0. 0. 0. 0. 0. 0. 0. 0. 0. 0. 0.\n",
            "  0. 0. 0. 0. 0. 0. 0. 0. 0. 0. 0. 0. 0. 0. 0. 0.]\n",
            " [0. 0. 0. 0. 0. 0. 0. 0. 0. 0. 0. 0. 0. 0. 0. 0. 0. 0. 0. 0. 0. 0. 0. 0.\n",
            "  0. 0. 0. 0. 0. 0. 0. 0. 0. 0. 0. 0. 0. 0. 0. 0.]\n",
            " [0. 0. 0. 0. 0. 0. 0. 0. 0. 0. 0. 0. 0. 0. 0. 0. 0. 0. 0. 0. 0. 0. 0. 0.\n",
            "  0. 0. 0. 0. 0. 0. 0. 0. 0. 0. 0. 0. 0. 0. 0. 0.]\n",
            " [0. 0. 0. 0. 0. 0. 0. 0. 0. 0. 0. 0. 0. 0. 0. 0. 0. 0. 0. 0. 0. 0. 0. 0.\n",
            "  0. 0. 0. 0. 0. 0. 0. 0. 0. 0. 0. 0. 0. 0. 0. 0.]\n",
            " [0. 0. 0. 0. 0. 0. 0. 0. 0. 0. 0. 0. 0. 0. 0. 0. 0. 0. 0. 0. 0. 0. 0. 0.\n",
            "  0. 0. 0. 0. 0. 0. 0. 0. 0. 0. 0. 0. 0. 0. 0. 0.]\n",
            " [0. 0. 0. 0. 0. 0. 0. 0. 0. 0. 0. 0. 0. 0. 0. 0. 0. 0. 0. 0. 0. 0. 0. 0.\n",
            "  0. 0. 0. 0. 0. 0. 0. 0. 0. 0. 0. 0. 0. 0. 0. 0.]\n",
            " [0. 0. 0. 0. 0. 0. 0. 0. 0. 0. 0. 0. 0. 0. 0. 0. 0. 0. 0. 0. 0. 0. 0. 0.\n",
            "  0. 0. 0. 0. 0. 0. 0. 0. 0. 0. 0. 0. 0. 0. 0. 0.]\n",
            " [0. 0. 0. 0. 0. 0. 0. 0. 0. 0. 0. 0. 0. 0. 0. 0. 0. 0. 0. 0. 0. 0. 0. 0.\n",
            "  0. 0. 0. 0. 0. 0. 0. 0. 0. 0. 0. 0. 0. 0. 0. 0.]\n",
            " [0. 0. 0. 0. 0. 0. 0. 0. 0. 0. 0. 0. 0. 0. 0. 0. 0. 0. 0. 0. 0. 0. 0. 0.\n",
            "  0. 0. 0. 0. 0. 0. 0. 0. 0. 0. 0. 0. 0. 0. 0. 0.]\n",
            " [0. 0. 0. 0. 0. 0. 0. 0. 0. 0. 0. 0. 0. 0. 0. 0. 0. 0. 0. 0. 0. 0. 0. 0.\n",
            "  0. 0. 0. 0. 0. 0. 0. 0. 0. 0. 0. 0. 0. 0. 0. 0.]\n",
            " [0. 0. 0. 0. 0. 0. 0. 0. 0. 0. 0. 0. 0. 0. 0. 0. 0. 0. 0. 0. 0. 0. 0. 0.\n",
            "  0. 0. 0. 0. 0. 0. 0. 0. 0. 0. 0. 0. 0. 0. 0. 0.]\n",
            " [0. 0. 0. 0. 0. 0. 0. 0. 0. 0. 0. 0. 0. 0. 0. 0. 0. 0. 0. 0. 0. 0. 0. 0.\n",
            "  0. 0. 0. 0. 0. 0. 0. 0. 0. 0. 0. 0. 0. 0. 0. 0.]\n",
            " [0. 0. 0. 0. 0. 0. 0. 0. 0. 0. 0. 0. 0. 0. 0. 0. 0. 0. 0. 0. 0. 0. 0. 0.\n",
            "  0. 0. 0. 0. 0. 0. 0. 0. 0. 0. 0. 0. 0. 0. 0. 0.]\n",
            " [0. 0. 0. 0. 0. 0. 0. 0. 0. 0. 0. 0. 0. 0. 0. 0. 0. 0. 0. 0. 0. 0. 0. 0.\n",
            "  0. 0. 0. 0. 0. 0. 0. 0. 0. 0. 0. 0. 0. 0. 0. 0.]\n",
            " [0. 0. 0. 0. 0. 0. 0. 0. 0. 0. 0. 0. 0. 0. 0. 0. 0. 0. 0. 0. 0. 0. 0. 0.\n",
            "  0. 0. 0. 0. 0. 0. 0. 0. 0. 0. 0. 0. 0. 0. 0. 0.]\n",
            " [0. 0. 0. 0. 0. 0. 0. 0. 0. 0. 0. 0. 0. 0. 0. 0. 0. 0. 0. 0. 0. 0. 0. 0.\n",
            "  0. 0. 0. 0. 0. 0. 0. 0. 0. 0. 0. 0. 0. 0. 0. 0.]\n",
            " [0. 0. 0. 0. 0. 0. 0. 0. 0. 0. 0. 0. 0. 0. 0. 0. 0. 0. 0. 0. 0. 0. 0. 0.\n",
            "  0. 0. 0. 0. 0. 0. 0. 0. 0. 0. 0. 0. 0. 0. 0. 0.]\n",
            " [0. 0. 0. 0. 0. 0. 0. 0. 0. 0. 0. 0. 0. 0. 0. 0. 0. 0. 0. 0. 0. 0. 0. 0.\n",
            "  0. 0. 0. 0. 0. 0. 0. 0. 0. 0. 0. 0. 0. 0. 0. 0.]\n",
            " [0. 0. 0. 0. 0. 0. 0. 0. 0. 0. 0. 0. 0. 0. 0. 0. 0. 0. 0. 0. 0. 0. 0. 0.\n",
            "  0. 0. 0. 0. 0. 0. 0. 0. 0. 0. 0. 0. 0. 0. 0. 0.]\n",
            " [0. 0. 0. 0. 0. 0. 0. 0. 0. 0. 0. 0. 0. 0. 0. 0. 0. 0. 0. 0. 0. 0. 0. 0.\n",
            "  0. 0. 0. 0. 0. 0. 0. 0. 0. 0. 0. 0. 0. 0. 0. 0.]\n",
            " [0. 0. 0. 0. 0. 0. 0. 0. 0. 0. 0. 0. 0. 0. 0. 0. 0. 0. 0. 0. 0. 0. 0. 0.\n",
            "  0. 0. 0. 0. 0. 0. 0. 0. 0. 0. 0. 0. 0. 0. 0. 0.]\n",
            " [0. 0. 0. 0. 0. 0. 0. 0. 0. 0. 0. 0. 0. 0. 0. 0. 0. 0. 0. 0. 0. 0. 0. 0.\n",
            "  0. 0. 0. 0. 0. 0. 0. 0. 0. 0. 0. 0. 0. 0. 0. 0.]\n",
            " [0. 0. 0. 0. 0. 0. 0. 0. 0. 0. 0. 0. 0. 0. 0. 0. 0. 0. 0. 0. 0. 0. 0. 0.\n",
            "  0. 0. 0. 0. 0. 0. 0. 0. 0. 0. 0. 0. 0. 0. 0. 0.]\n",
            " [0. 0. 0. 0. 0. 0. 0. 0. 0. 0. 0. 0. 0. 0. 0. 0. 0. 0. 0. 0. 0. 0. 0. 0.\n",
            "  0. 0. 0. 0. 0. 0. 0. 0. 0. 0. 0. 0. 0. 0. 0. 0.]\n",
            " [0. 0. 0. 0. 0. 0. 0. 0. 0. 0. 0. 0. 0. 0. 0. 0. 0. 0. 0. 0. 0. 0. 0. 0.\n",
            "  0. 0. 0. 0. 0. 0. 0. 0. 0. 0. 0. 0. 0. 0. 0. 0.]\n",
            " [0. 0. 0. 0. 0. 0. 0. 0. 0. 0. 0. 0. 0. 0. 0. 0. 0. 0. 0. 0. 0. 0. 0. 0.\n",
            "  0. 0. 0. 0. 0. 0. 0. 0. 0. 0. 0. 0. 0. 0. 0. 0.]\n",
            " [0. 0. 0. 0. 0. 0. 0. 0. 0. 0. 0. 0. 0. 0. 0. 0. 0. 0. 0. 0. 0. 0. 0. 0.\n",
            "  0. 0. 0. 0. 0. 0. 0. 0. 0. 0. 0. 0. 0. 0. 0. 0.]\n",
            " [0. 0. 0. 0. 0. 0. 0. 0. 0. 0. 0. 0. 0. 0. 0. 0. 0. 0. 0. 0. 0. 0. 0. 0.\n",
            "  0. 0. 0. 0. 0. 0. 0. 0. 0. 0. 0. 0. 0. 0. 0. 0.]\n",
            " [0. 0. 0. 0. 0. 0. 0. 0. 0. 0. 0. 0. 0. 0. 0. 0. 0. 0. 0. 0. 0. 0. 0. 0.\n",
            "  0. 0. 0. 0. 0. 0. 0. 0. 0. 0. 0. 0. 0. 0. 0. 0.]\n",
            " [0. 0. 0. 0. 0. 0. 0. 0. 0. 0. 0. 0. 0. 0. 0. 0. 0. 0. 0. 0. 0. 0. 0. 0.\n",
            "  0. 0. 0. 0. 0. 0. 0. 0. 0. 0. 0. 0. 0. 0. 0. 0.]\n",
            " [0. 0. 0. 0. 0. 0. 0. 0. 0. 0. 0. 0. 0. 0. 0. 0. 0. 0. 0. 0. 0. 0. 0. 0.\n",
            "  0. 0. 0. 0. 0. 0. 0. 0. 0. 0. 0. 0. 0. 0. 0. 0.]\n",
            " [0. 0. 0. 0. 0. 0. 0. 0. 0. 0. 0. 0. 0. 0. 0. 0. 0. 0. 0. 0. 0. 0. 0. 0.\n",
            "  0. 0. 0. 0. 0. 0. 0. 0. 0. 0. 0. 0. 0. 0. 0. 0.]\n",
            " [0. 0. 0. 0. 0. 0. 0. 0. 0. 0. 0. 0. 0. 0. 0. 0. 0. 0. 0. 0. 0. 0. 0. 0.\n",
            "  0. 0. 0. 0. 0. 0. 0. 0. 0. 0. 0. 0. 0. 0. 0. 0.]\n",
            " [0. 0. 0. 0. 0. 0. 0. 0. 0. 0. 0. 0. 0. 0. 0. 0. 0. 0. 0. 0. 0. 0. 0. 0.\n",
            "  0. 0. 0. 0. 0. 0. 0. 0. 0. 0. 0. 0. 0. 0. 0. 0.]\n",
            " [0. 0. 0. 0. 0. 0. 0. 0. 0. 0. 0. 0. 0. 0. 0. 0. 0. 0. 0. 0. 0. 0. 0. 0.\n",
            "  0. 0. 0. 0. 0. 0. 0. 0. 0. 0. 0. 0. 0. 0. 0. 0.]\n",
            " [0. 0. 0. 0. 0. 0. 0. 0. 0. 0. 0. 0. 0. 0. 0. 0. 0. 0. 0. 0. 0. 0. 0. 0.\n",
            "  0. 0. 0. 0. 0. 0. 0. 0. 0. 0. 0. 0. 0. 0. 0. 0.]\n",
            " [0. 0. 0. 0. 0. 0. 0. 0. 0. 0. 0. 0. 0. 0. 0. 0. 0. 0. 0. 0. 0. 0. 0. 0.\n",
            "  0. 0. 0. 0. 0. 0. 0. 0. 0. 0. 0. 0. 0. 0. 0. 0.]\n",
            " [0. 0. 0. 0. 0. 0. 0. 0. 0. 0. 0. 0. 0. 0. 0. 0. 0. 0. 0. 0. 0. 0. 0. 0.\n",
            "  0. 0. 0. 0. 0. 0. 0. 0. 0. 0. 0. 0. 0. 0. 0. 0.]\n",
            " [0. 0. 0. 0. 0. 0. 0. 0. 0. 0. 0. 0. 0. 0. 0. 0. 0. 0. 0. 0. 0. 0. 0. 0.\n",
            "  0. 0. 0. 0. 0. 0. 0. 0. 0. 0. 0. 0. 0. 0. 0. 0.]]\n"
          ]
        }
      ],
      "source": [
        "np.set_printoptions(threshold=float('inf'))\n",
        "x= np.zeros((40,40))\n",
        "print(x)"
      ]
    },
    {
      "cell_type": "markdown",
      "metadata": {
        "id": "nyt5DnYxWSWd"
      },
      "source": [
        "#### 50. How to find the closest value (to a given scalar) in a vector? (★★☆) \n",
        "(**hint**: argmin)"
      ]
    },
    {
      "cell_type": "code",
      "execution_count": 111,
      "metadata": {
        "id": "izIHz22bWSWd",
        "colab": {
          "base_uri": "https://localhost:8080/"
        },
        "outputId": "2d4e3e7c-e104-45dc-a323-971b50f2c18b"
      },
      "outputs": [
        {
          "output_type": "stream",
          "name": "stdout",
          "text": [
            "[0 1 2 3 4 5 6 7 8 9] 6.443845394321091\n"
          ]
        }
      ],
      "source": [
        "x= np.arange(10)\n",
        "y= np.random.uniform(0,10)\n",
        "print(x,y)"
      ]
    },
    {
      "cell_type": "code",
      "source": [
        "index= (np.abs(x-y)).argmin()\n",
        "print(x[index])"
      ],
      "metadata": {
        "colab": {
          "base_uri": "https://localhost:8080/"
        },
        "id": "czt3R_dVAbZg",
        "outputId": "94f37e56-3ef8-42ca-f155-7cae910b38eb"
      },
      "execution_count": 112,
      "outputs": [
        {
          "output_type": "stream",
          "name": "stdout",
          "text": [
            "6\n"
          ]
        }
      ]
    },
    {
      "cell_type": "markdown",
      "metadata": {
        "id": "Pu_sia4rWSWd"
      },
      "source": [
        "#### 51. Create a structured array representing a position (x,y) and a color (r,g,b) (★★☆) \n",
        "(**hint**: dtype)"
      ]
    },
    {
      "cell_type": "code",
      "execution_count": 114,
      "metadata": {
        "id": "rrw1QjzmWSWd",
        "colab": {
          "base_uri": "https://localhost:8080/"
        },
        "outputId": "b2d4e2cc-4709-4ca9-cc6e-a5ea8c248084"
      },
      "outputs": [
        {
          "output_type": "stream",
          "name": "stdout",
          "text": [
            "[((0., 0.), (0., 0., 0.)) ((0., 0.), (0., 0., 0.))\n",
            " ((0., 0.), (0., 0., 0.)) ((0., 0.), (0., 0., 0.))\n",
            " ((0., 0.), (0., 0., 0.)) ((0., 0.), (0., 0., 0.))\n",
            " ((0., 0.), (0., 0., 0.)) ((0., 0.), (0., 0., 0.))\n",
            " ((0., 0.), (0., 0., 0.)) ((0., 0.), (0., 0., 0.))]\n"
          ]
        },
        {
          "output_type": "stream",
          "name": "stderr",
          "text": [
            "/usr/local/lib/python3.7/dist-packages/ipykernel_launcher.py:2: FutureWarning: Passing (type, 1) or '1type' as a synonym of type is deprecated; in a future version of numpy, it will be understood as (type, (1,)) / '(1,)type'.\n",
            "  \n"
          ]
        }
      ],
      "source": [
        "x= np.zeros(10, [('position', [('x', float, 1), ('y', float, 1)]),\n",
        "                 ('color', [('r', float, 1), ('g', float, 1),('b', float, 1)])])\n",
        "print(x)"
      ]
    },
    {
      "cell_type": "markdown",
      "metadata": {
        "id": "aV9ED5CUWSWd"
      },
      "source": [
        "#### 52. Consider a random vector with shape (100,2) representing coordinates, find point by point distances (★★☆) \n",
        "(**hint**: np.atleast\\_2d, T, np.sqrt)"
      ]
    },
    {
      "cell_type": "code",
      "execution_count": 117,
      "metadata": {
        "id": "5-0lu3i9WSWd",
        "colab": {
          "base_uri": "https://localhost:8080/"
        },
        "outputId": "92b38002-b867-4dc6-cd0b-874a33ca0446"
      },
      "outputs": [
        {
          "output_type": "stream",
          "name": "stdout",
          "text": [
            "[[0.20566484 0.66448867 0.23566103 0.26426657 0.9634051  0.68218505\n",
            "  0.6794048  0.23587134 0.79214827 0.50193744 0.56209546 0.43842366\n",
            "  0.26279004 0.25124765 0.70262481 0.05249329 0.34341372 0.03711624\n",
            "  0.98236371 0.4954918  0.91614178 0.26937775 0.55834798 0.3524867\n",
            "  0.68000906 0.65916204 0.82538067 0.38092904 0.79977868 0.5512058\n",
            "  0.38144824 0.49888498 0.78888479 0.36229634 0.65970708 0.84230856\n",
            "  0.54721905 0.92332901 0.89458693 0.77725701 0.80361193 0.43990715\n",
            "  0.70412448 0.41081704 0.16705293 0.0949004  0.85079986 0.91193398\n",
            "  0.82314695 0.14841172 0.15096871 0.60023933 0.48665077 0.9297537\n",
            "  0.38882261 0.70723647 0.1682954  0.42358091 0.29274516 0.10581569\n",
            "  0.39199205 0.87239318 0.91125725 0.9271814  0.51854438 0.51374096\n",
            "  0.37818674 0.87208475 0.61888757 0.46123168 0.95693639 0.9360139\n",
            "  0.27491539 0.83654813 0.65631    0.95248507 0.74204714 0.43018177\n",
            "  0.36644862 0.5139322  0.30110857 0.53164414 0.87975748 0.65136653\n",
            "  0.38968146 0.42172309 0.67313335 0.5552144  0.07490931 0.54929932\n",
            "  0.57930036 0.78543416 0.79601777 0.45690221 0.48831874 0.83257236\n",
            "  0.30599052 0.68372229 0.68641806 0.71405206]] [[0.22248771 0.3461881  0.65772487 0.04494049 0.52761632 0.6575981\n",
            "  0.84699263 0.59422983 0.5585934  0.84242228 0.15227361 0.92959221\n",
            "  0.41336662 0.17547029 0.50408072 0.35962234 0.30506111 0.27712031\n",
            "  0.89899146 0.15519915 0.75669286 0.49634208 0.27760609 0.73104343\n",
            "  0.56244726 0.25361281 0.92425799 0.09516885 0.11900427 0.59235095\n",
            "  0.97603836 0.74398161 0.86315036 0.2409154  0.18011623 0.99111155\n",
            "  0.90358542 0.93127493 0.44931406 0.70917658 0.58988526 0.97869311\n",
            "  0.6237066  0.40057419 0.05240243 0.89064534 0.87839829 0.65825759\n",
            "  0.26560552 0.10486268 0.60551586 0.0720044  0.86328372 0.80611134\n",
            "  0.76811559 0.3122357  0.68877109 0.67308249 0.64776093 0.766517\n",
            "  0.55405705 0.35090345 0.39210244 0.78825589 0.27819455 0.34121598\n",
            "  0.23846725 0.4043556  0.5467038  0.00166452 0.58360334 0.145129\n",
            "  0.68462835 0.14095948 0.89632683 0.70487918 0.60226523 0.42542828\n",
            "  0.28456837 0.19984265 0.49679053 0.98401062 0.49172353 0.9573605\n",
            "  0.27631033 0.54328044 0.85972309 0.46874072 0.87703095 0.52490496\n",
            "  0.264473   0.91590318 0.60808359 0.03463981 0.65033907 0.24784157\n",
            "  0.15113831 0.06066711 0.58528774 0.0715952 ]]\n"
          ]
        }
      ],
      "source": [
        "a= np.random.random((100,2))\n",
        "x,y = np.atleast_2d(a[:,0], a[:,1])\n",
        "print(x, y)"
      ]
    },
    {
      "cell_type": "code",
      "source": [
        "b= np.sqrt((x-x.T)**2 +(y-y.T)**2)\n",
        "print(b)"
      ],
      "metadata": {
        "colab": {
          "base_uri": "https://localhost:8080/"
        },
        "id": "AY0s-4rUDBBi",
        "outputId": "332fcc1e-254e-45ab-fb9b-2855e43b1186"
      },
      "execution_count": 118,
      "outputs": [
        {
          "output_type": "stream",
          "name": "stdout",
          "text": [
            "[[0.         0.47520637 0.43626959 0.18696838 0.81686827 0.64528487\n",
            "  0.78385964 0.37296734 0.67596586 0.68709266 0.36328062 0.74442826\n",
            "  0.19924369 0.0654861  0.57119509 0.20559045 0.16060236 0.17718169\n",
            "  1.03000896 0.29753557 0.88890529 0.28116819 0.35696419 0.52932558\n",
            "  0.58358798 0.45456406 0.9362314  0.21662786 0.60305893 0.50615943\n",
            "  0.77378188 0.59827581 0.86636837 0.15771178 0.45601502 0.99804701\n",
            "  0.76194052 1.00867298 0.72530258 0.7507221  0.70179888 0.791654\n",
            "  0.6398739  0.27166564 0.17441297 0.67727645 0.92000971 0.82988643\n",
            "  0.6189857  0.13081884 0.38691372 0.4222964  0.69969466 0.93001141\n",
            "  0.57554891 0.50953783 0.46777844 0.50052279 0.4340971  0.55311637\n",
            "  0.38033676 0.67898253 0.72569264 0.91688591 0.31780003 0.33016253\n",
            "  0.17326035 0.69079043 0.52523242 0.33775329 0.8335547  0.73443455\n",
            "  0.46730035 0.63612937 0.81064186 0.88906804 0.65721909 0.3026429\n",
            "  0.17235263 0.30909798 0.29043337 0.82835961 0.72587107 0.85946961\n",
            "  0.19172634 0.38676756 0.79031369 0.42758091 0.66747574 0.45775632\n",
            "  0.37598705 0.903857   0.70512464 0.31369898 0.51278651 0.62742\n",
            "  0.12310962 0.50470271 0.60228524 0.53030757]\n",
            " [0.47520637 0.         0.53004557 0.50092699 0.34966732 0.31191241\n",
            "  0.50102661 0.49521462 0.24781643 0.52217935 0.21928794 0.62567223\n",
            "  0.40727723 0.44711599 0.16243289 0.61214282 0.32369825 0.63116284\n",
            "  0.63768024 0.25502298 0.48150124 0.42268056 0.12636984 0.49543804\n",
            "  0.21681537 0.09272841 0.60004253 0.37870402 0.26441611 0.27097815\n",
            "  0.69052389 0.43088776 0.53171832 0.32000398 0.16614069 0.66898891\n",
            "  0.5695998  0.63978505 0.25215109 0.38010174 0.28061287 0.67119255\n",
            "  0.28033464 0.2594362  0.57771303 0.78794955 0.56387902 0.39826693\n",
            "  0.17794943 0.56971342 0.5752857  0.28161087 0.54682191 0.53093778\n",
            "  0.50399859 0.05459066 0.60296838 0.40607449 0.47868508 0.69913652\n",
            "  0.34273008 0.20795797 0.2510037  0.51422894 0.16100577 0.15082969\n",
            "  0.30589635 0.21559125 0.20563561 0.40001238 0.3766851  0.33786197\n",
            "  0.51605149 0.26781196 0.55019952 0.46000132 0.26756459 0.24734335\n",
            "  0.30434333 0.20996248 0.3933525  0.65150997 0.25984846 0.61131325\n",
            "  0.2835523  0.31269877 0.51360774 0.16419504 0.79334605 0.21262244\n",
            "  0.11804409 0.58241143 0.29306851 0.37437211 0.35148777 0.19474128\n",
            "  0.40812418 0.28616808 0.24010318 0.27903009]\n",
            " [0.43626959 0.53004557 0.         0.61345168 0.73928321 0.44652404\n",
            "  0.48242182 0.06349539 0.56524781 0.32406212 0.60169794 0.33915267\n",
            "  0.24585959 0.48250639 0.49159099 0.34987932 0.36875787 0.42927831\n",
            "  0.78471298 0.56572443 0.68763995 0.16486729 0.49861524 0.13792696\n",
            "  0.45444801 0.58537139 0.64715467 0.58100953 0.78003115 0.32224564\n",
            "  0.35011054 0.27699652 0.59013233 0.43562213 0.63869012 0.69221955\n",
            "  0.39688261 0.74007897 0.69109942 0.54403445 0.57198814 0.38044328\n",
            "  0.46969698 0.31113679 0.6091981  0.27214978 0.65352317 0.67627316\n",
            "  0.70632662 0.55970443 0.09949156 0.68991724 0.32442301 0.70977685\n",
            "  0.18879772 0.58459059 0.07417544 0.18854638 0.0579472  0.16939758\n",
            "  0.18758039 0.70680068 0.72593769 0.70373203 0.47335637 0.42131499\n",
            "  0.44282111 0.68500448 0.39898403 0.69375593 0.72507388 0.867899\n",
            "  0.04758889 0.79253503 0.48360775 0.71837332 0.50941403 0.30298519\n",
            "  0.39541266 0.53580871 0.17373325 0.44053194 0.6651441  0.51243787\n",
            "  0.41133848 0.21844133 0.4818561  0.37125377 0.27191225 0.34060257\n",
            "  0.52224039 0.60737676 0.56255127 0.66119789 0.25276564 0.72409078\n",
            "  0.51144519 0.74648299 0.45654029 0.75657516]\n",
            " [0.18696838 0.50092699 0.61345168 0.         0.84957086 0.74162336\n",
            "  0.90312091 0.55002279 0.73654491 0.83214461 0.31657929 0.90163149\n",
            "  0.36842909 0.13117744 0.63479737 0.3793054  0.27189521 0.32481493\n",
            "  1.11582551 0.25616807 0.96515943 0.45143052 0.37498955 0.69175142\n",
            "  0.66381855 0.4466392  1.04309554 0.12701583 0.54060953 0.61805528\n",
            "  0.93844275 0.73736306 0.97195251 0.21912554 0.41790631 1.10877059\n",
            "  0.90406483 1.10451439 0.74888033 0.83926681 0.76671912 0.95012818\n",
            "  0.72694236 0.38464577 0.0974996  0.8624973  1.01915318 0.89198147\n",
            "  0.60086632 0.13043395 0.57191008 0.33706105 0.84802145 1.01106586\n",
            "  0.73382315 0.51736743 0.65094416 0.64803042 0.60349275 0.7387688\n",
            "  0.52489377 0.68075789 0.7342468  0.99597884 0.34505747 0.38731981\n",
            "  0.22456716 0.70613183 0.61442857 0.20166324 0.87746746 0.6791776\n",
            "  0.63977649 0.58028082 0.93731358 0.9535008  0.73408796 0.41508891\n",
            "  0.26050468 0.2938156  0.45334952 0.97639309 0.76055515 0.99113907\n",
            "  0.26317465 0.52262344 0.91161544 0.5140596  0.85336434 0.55821999\n",
            "  0.38398022 1.01498357 0.77452533 0.19291085 0.64552832 0.6034404\n",
            "  0.11410023 0.41975043 0.68570185 0.45057459]\n",
            " [0.81686827 0.34966732 0.73928321 0.84957086 0.         0.30980636\n",
            "  0.42738437 0.73057699 0.17403587 0.55861901 0.54948301 0.66120355\n",
            "  0.70986933 0.79446527 0.26184019 0.92627335 0.65872615 0.95956204\n",
            "  0.37185874 0.59802793 0.23390143 0.69473164 0.4760004  0.64389742\n",
            "  0.28552848 0.4094408  0.41997066 0.72545791 0.44015613 0.41725153\n",
            "  0.73468096 0.51243817 0.37820686 0.66597985 0.4615071  0.47905344\n",
            "  0.56085969 0.40564315 0.10424579 0.2600293  0.17149717 0.69102848\n",
            "  0.27651362 0.56700377 0.92736456 0.94132379 0.36841272 0.14041516\n",
            "  0.29719019 0.91811484 0.8161625  0.58264192 0.58306715 0.28052076\n",
            "  0.62288437 0.33468072 0.81127695 0.5590801  0.68133654 0.8902433\n",
            "  0.57202447 0.19877276 0.14520128 0.26314472 0.51001204 0.48676784\n",
            "  0.65275395 0.15340344 0.34504588 0.72718873 0.05635948 0.38346686\n",
            "  0.70616631 0.40693514 0.47984877 0.1775989  0.2336061  0.54292681\n",
            "  0.64453809 0.55629262 0.66301352 0.62826212 0.09102317 0.53108203\n",
            "  0.62634936 0.54190845 0.44108117 0.41241482 0.95473313 0.41411466\n",
            "  0.46559732 0.42713035 0.18572426 0.70680338 0.49068108 0.30885453\n",
            "  0.75758144 0.54430143 0.28292723 0.51974244]\n",
            " [0.64528487 0.31191241 0.44652404 0.74162336 0.30980636 0.\n",
            "  0.18941493 0.45078983 0.14796567 0.25816503 0.51939807 0.36524021\n",
            "  0.48532586 0.64664848 0.15487211 0.69663568 0.48892571 0.7489173\n",
            "  0.38519863 0.53596555 0.25407779 0.44318549 0.39966179 0.33777984\n",
            "  0.09517572 0.4046408  0.30267554 0.63802966 0.55128176 0.14633097\n",
            "  0.43800323 0.2026352  0.2315957  0.52531253 0.47801067 0.36996048\n",
            "  0.28058079 0.36475939 0.29748412 0.108162   0.13903063 0.40224443\n",
            "  0.04037292 0.37376716 0.79474707 0.63183406 0.2778195  0.22974988\n",
            "  0.41656745 0.7683947  0.53376339 0.59129949 0.28379611 0.2886978\n",
            "  0.31348945 0.34626978 0.51483427 0.2590673  0.38956411 0.58657051\n",
            "  0.30811155 0.36088882 0.35065941 0.27765927 0.41318921 0.35842859\n",
            "  0.51776988 0.31653382 0.12768758 0.69214829 0.28454089 0.57188606\n",
            "  0.40816566 0.53920629 0.2401269  0.27440408 0.08151807 0.34264921\n",
            "  0.48871329 0.48769773 0.4136162  0.35945472 0.25797139 0.30134246\n",
            "  0.48056084 0.28444501 0.20232756 0.22757121 0.64570473 0.18779267\n",
            "  0.40636511 0.27817601 0.12413531 0.66244199 0.19400216 0.43648226\n",
            "  0.63089131 0.59693297 0.07243416 0.58686873]\n",
            " [0.78385964 0.50102661 0.48242182 0.90312091 0.42738437 0.18941493\n",
            "  0.         0.5105007  0.30965336 0.1775262  0.70455375 0.25474418\n",
            "  0.60133133 0.79640491 0.34369717 0.79407042 0.63763608 0.85865537\n",
            "  0.30738897 0.71582275 0.25337412 0.53951644 0.5821132  0.34687125\n",
            "  0.28454601 0.593725   0.16516323 0.80890468 0.73787324 0.28509185\n",
            "  0.32470127 0.2078429  0.1106659  0.68402294 0.66716724 0.21750379\n",
            "  0.14379088 0.25807466 0.45216324 0.16902165 0.28553741 0.27332057\n",
            "  0.22465021 0.5209883  0.94545123 0.58613219 0.17424862 0.29948412\n",
            "  0.59889296 0.91252973 0.58099546 0.77902113 0.19344124 0.25366484\n",
            "  0.30109732 0.5354807  0.53503913 0.30933897 0.43497005 0.57920703\n",
            "  0.41038682 0.53230535 0.51056894 0.25464338 0.59110687 0.53221661\n",
            "  0.67899592 0.48275574 0.30632616 0.8730287  0.38261952 0.74730234\n",
            "  0.43585988 0.72330964 0.05447232 0.30784585 0.25261742 0.489723\n",
            "  0.64363236 0.66797027 0.51550902 0.20151214 0.40786925 0.11387366\n",
            "  0.64001398 0.39829757 0.01419139 0.39811777 0.60524135 0.34737286\n",
            "  0.59105839 0.12645509 0.2658498  0.84227341 0.27420157 0.61841919\n",
            "  0.78971606 0.78633737 0.26179884 0.77617112]\n",
            " [0.37296734 0.49521462 0.06349539 0.55002279 0.73057699 0.45078983\n",
            "  0.5105007  0.         0.55741724 0.36385528 0.54931546 0.39178485\n",
            "  0.18285545 0.41904174 0.4753795  0.29777203 0.3085189  0.37424863\n",
            "  0.80630671 0.51004973 0.69940125 0.10346348 0.45193116 0.17976958\n",
            "  0.44527345 0.54331848 0.67560332 0.51971493 0.73744886 0.31534006\n",
            "  0.40862011 0.30265785 0.61493263 0.37525241 0.59255954 0.72476286\n",
            "  0.43890577 0.76563532 0.6744678  0.55345389 0.56775721 0.43525007\n",
            "  0.46918002 0.26097606 0.54618029 0.32823004 0.67741331 0.67908781\n",
            "  0.67296848 0.49712111 0.08564946 0.63677581 0.36780473 0.7255112\n",
            "  0.23158227 0.54927751 0.11620911 0.20359918 0.07810384 0.21586417\n",
            "  0.16120648 0.68144536 0.70498341 0.71802208 0.42400749 0.37580252\n",
            "  0.38317188 0.66394256 0.38595357 0.63397234 0.72114335 0.83179996\n",
            "  0.09846995 0.75250689 0.51771736 0.72510587 0.50623957 0.25739174\n",
            "  0.33606643 0.48255476 0.11726173 0.48929604 0.65199455 0.55181531\n",
            "  0.35317186 0.19270888 0.5115513  0.34311442 0.32540013 0.32100318\n",
            "  0.47611245 0.63678335 0.56031773 0.60166073 0.25860769 0.6899543\n",
            "  0.44860539 0.69660581 0.45063545 0.70838109]\n",
            " [0.67596586 0.24781643 0.56524781 0.73654491 0.17403587 0.14796567\n",
            "  0.30965336 0.55741724 0.         0.40593246 0.46692619 0.51260239\n",
            "  0.54891798 0.66283994 0.10481451 0.76594972 0.51540403 0.80579182\n",
            "  0.38993942 0.50073144 0.23370448 0.5264639  0.36553583 0.47227249\n",
            "  0.11220541 0.33271384 0.3671716  0.61956725 0.43965535 0.2432958\n",
            "  0.58560636 0.34694689 0.30457444 0.53450163 0.40098084 0.43541705\n",
            "  0.42309551 0.39509481 0.14978537 0.15131769 0.0333256  0.5482313\n",
            "  0.10948933 0.41277545 0.80434662 0.77227785 0.3251387  0.15582544\n",
            "  0.29462318 0.78757115 0.64289419 0.52306586 0.43146832 0.28319673\n",
            "  0.45450097 0.26058037 0.63729006 0.38593995 0.507301   0.7171364\n",
            "  0.40018193 0.222653   0.20471002 0.26641848 0.39176856 0.35321887\n",
            "  0.52330192 0.17372145 0.17366816 0.64782372 0.1666752  0.43777864\n",
            "  0.53236703 0.41998743 0.36402734 0.21704244 0.06646316 0.38568471\n",
            "  0.50627059 0.4539893  0.49491371 0.49884087 0.11021322 0.42288851\n",
            "  0.49159258 0.37074155 0.32379567 0.25339922 0.78475104 0.24517447\n",
            "  0.36305791 0.35737285 0.04964123 0.62202675 0.31737934 0.31337009\n",
            "  0.63432564 0.50959473 0.10904799 0.4932203 ]\n",
            " [0.68709266 0.52217935 0.32406212 0.83214461 0.55861901 0.25816503\n",
            "  0.1775262  0.36385528 0.40593246 0.         0.6927656  0.10785451\n",
            "  0.49120285 0.71250987 0.39338332 0.65961794 0.56025601 0.73186411\n",
            "  0.48374526 0.68725336 0.42298318 0.41695985 0.56762618 0.18638877\n",
            "  0.33180645 0.60943923 0.33363545 0.75698793 0.78233179 0.25487849\n",
            "  0.17991916 0.09848798 0.28769505 0.61750317 0.68083814 0.37143101\n",
            "  0.07610094 0.43065723 0.55561471 0.30586809 0.393424   0.14972472\n",
            "  0.29785257 0.45114595 0.85806702 0.40988365 0.35071251 0.44945946\n",
            "  0.66022203 0.81790868 0.42344268 0.776664   0.02586275 0.42935444\n",
            "  0.13533828 0.56854684 0.36732233 0.18658969 0.28575243 0.40332871\n",
            "  0.30861383 0.61549022 0.60854801 0.42867987 0.56447208 0.50134527\n",
            "  0.61650298 0.57350802 0.31800434 0.84174258 0.52346088 0.8213649\n",
            "  0.27647411 0.77718362 0.16351327 0.4710746  0.33959988 0.42312277\n",
            "  0.57407161 0.64269158 0.39974185 0.14467116 0.51549743 0.18852015\n",
            "  0.57713443 0.30970984 0.17206789 0.37746039 0.42842826 0.32103022\n",
            "  0.58310411 0.29286488 0.37602908 0.80903689 0.19256539 0.68032763\n",
            "  0.71851843 0.80261254 0.31646686 0.79947921]\n",
            " [0.36328062 0.21928794 0.60169794 0.31657929 0.54948301 0.51939807\n",
            "  0.70455375 0.54931546 0.46692619 0.6927656  0.         0.78709524\n",
            "  0.39718169 0.31171212 0.37883603 0.55017077 0.26676905 0.53962013\n",
            "  0.85686227 0.06666788 0.70047942 0.4517375  0.1253885  0.61555693\n",
            "  0.4267857  0.1403266  0.81564636 0.18995322 0.24000033 0.44021205\n",
            "  0.84333966 0.59507472 0.74617636 0.21857963 0.10150488 0.88440289\n",
            "  0.75145907 0.85868081 0.44585155 0.59702212 0.49983413 0.83540359\n",
            "  0.49236298 0.29075477 0.4074713  0.87376429 0.78141364 0.61514777\n",
            "  0.28459093 0.41639169 0.61192625 0.08887126 0.7150016  0.75011756\n",
            "  0.63975372 0.21599487 0.66551336 0.53891388 0.56396566 0.76517068\n",
            "  0.43630849 0.36842704 0.42359393 0.73332203 0.13323956 0.19503174\n",
            "  0.2031053  0.3995481  0.39849782 0.1812639  0.58476037 0.37398669\n",
            "  0.60487517 0.27468578 0.74999439 0.67659217 0.48463911 0.30333924\n",
            "  0.23617703 0.06769426 0.43221067 0.83229426 0.46490365 0.81002112\n",
            "  0.21239514 0.41544042 0.71611045 0.31654191 0.8732832  0.37285099\n",
            "  0.11351084 0.79561944 0.51233035 0.15780789 0.50349995 0.28686406\n",
            "  0.25610746 0.15226567 0.45050787 0.17204597]\n",
            " [0.74442826 0.62567223 0.33915267 0.90163149 0.66120355 0.36524021\n",
            "  0.25474418 0.39178485 0.51260239 0.10785451 0.78709524 0.\n",
            "  0.54528527 0.77700368 0.50086153 0.68833705 0.6317167  0.76600733\n",
            "  0.54480013 0.776493   0.50804408 0.4650615  0.66292363 0.21634875\n",
            "  0.43949849 0.71110729 0.38699378 0.83640181 0.88748535 0.35560016\n",
            "  0.07350812 0.1952098  0.3567037  0.69287165 0.78146055 0.40854331\n",
            "  0.11186058 0.48490827 0.6623836  0.40421664 0.49876175 0.0491233\n",
            "  0.40517026 0.52973785 0.91820694 0.345724   0.41554175 0.54574216\n",
            "  0.7673919  0.87423437 0.4331926  0.87272055 0.08199189 0.50660905\n",
            "  0.16892295 0.67334195 0.36188961 0.2569388  0.31725557 0.37043432\n",
            "  0.3783947  0.72333272 0.71586791 0.50878294 0.65630652 0.59317728\n",
            "  0.69374505 0.68112806 0.42328567 0.92820795 0.62334881 0.9289664\n",
            "  0.29452036 0.8834278  0.22041108 0.56103037 0.44646407 0.5042313\n",
            "  0.64902709 0.73364567 0.45406247 0.10794175 0.62169487 0.21474577\n",
            "  0.65509772 0.38667259 0.24488841 0.47542    0.36729466 0.41960122\n",
            "  0.67987485 0.3472804  0.4808756  0.89514315 0.28367558 0.78748787\n",
            "  0.78963853 0.90288551 0.42431921 0.90118249]\n",
            " [0.19924369 0.40727723 0.24585959 0.36842909 0.70986933 0.48532586\n",
            "  0.60133133 0.18285545 0.54891798 0.49120285 0.39718169 0.54528527\n",
            "  0.         0.23817617 0.44909205 0.21705569 0.13501948 0.26361283\n",
            "  0.8681116  0.34756374 0.73806598 0.08323656 0.3252467  0.33009702\n",
            "  0.44305389 0.4273547  0.75994619 0.33942105 0.61237732 0.3394393\n",
            "  0.57504718 0.40625989 0.69215685 0.1991003  0.46037906 0.81830979\n",
            "  0.56675773 0.83936925 0.63281872 0.59344738 0.56889994 0.59242257\n",
            "  0.48889569 0.14857873 0.37344443 0.50594655 0.74967326 0.69380072\n",
            "  0.57951118 0.32902444 0.2223181  0.48000019 0.50253261 0.77400836\n",
            "  0.37647183 0.45580708 0.29116466 0.30546037 0.23630066 0.38646622\n",
            "  0.19101559 0.61279493 0.64881576 0.76286161 0.28927802 0.26111698\n",
            "  0.20953804 0.60936133 0.38024236 0.4570314  0.71471651 0.72469427\n",
            "  0.2715326  0.63514093 0.62298357 0.74877153 0.5151408  0.16782572\n",
            "  0.16533025 0.32964355 0.09180337 0.6308067  0.62192332 0.66852152\n",
            "  0.18677757 0.20527375 0.60631322 0.29762106 0.5002837  0.30745466\n",
            "  0.34978292 0.72505163 0.56766761 0.42557435 0.32713779 0.59333838\n",
            "  0.265763   0.54916382 0.45718439 0.56607872]\n",
            " [0.0654861  0.44711599 0.48250639 0.13117744 0.79446527 0.64664848\n",
            "  0.79640491 0.41904174 0.66283994 0.71250987 0.31171212 0.77700368\n",
            "  0.23817617 0.         0.55832441 0.27095253 0.15902315 0.23703373\n",
            "  1.02859786 0.24508391 0.88312166 0.32138357 0.3236392  0.56472192\n",
            "  0.57757035 0.41533168 0.94356332 0.1525306  0.55142968 0.51357996\n",
            "  0.81108657 0.62010432 0.87290181 0.12889869 0.40848585 1.00728529\n",
            "  0.78597118 1.01140199 0.69919656 0.74935188 0.6905404  0.82508138\n",
            "  0.63719166 0.27592418 0.14911221 0.73206544 0.92388885 0.81828479\n",
            "  0.57895869 0.1247424  0.44158244 0.36400602 0.72698139 0.92632531\n",
            "  0.6084039  0.47605733 0.51996037 0.52660863 0.4741102  0.60867616\n",
            "  0.40390211 0.64544446 0.69465254 0.91235553 0.28635609 0.31044221\n",
            "  0.14171149 0.6616851  0.52246858 0.27258345 0.81521112 0.68543811\n",
            "  0.50970785 0.58631702 0.82686738 0.87863968 0.65041375 0.30740268\n",
            "  0.15866207 0.26381278 0.32516581 0.85578014 0.70359129 0.87832079\n",
            "  0.17126772 0.40539632 0.80385908 0.42237818 0.72338272 0.45928137\n",
            "  0.33991184 0.91301483 0.69564987 0.24925293 0.53075705 0.58581227\n",
            "  0.05990682 0.44745288 0.59776552 0.47431841]\n",
            " [0.57119509 0.16243289 0.49159099 0.63479737 0.26184019 0.15487211\n",
            "  0.34369717 0.4753795  0.10481451 0.39338332 0.37883603 0.50086153\n",
            "  0.44909205 0.55832441 0.         0.6659874  0.41065973 0.70314486\n",
            "  0.48395077 0.4057369  0.33076031 0.43331617 0.26852665 0.41726343\n",
            "  0.06259492 0.25421091 0.43774186 0.52028559 0.39714323 0.17526937\n",
            "  0.57087512 0.31474173 0.36928552 0.43020862 0.32679493 0.50666614\n",
            "  0.42866648 0.48083805 0.19962175 0.21825278 0.13251723 0.54247349\n",
            "  0.11963527 0.30962135 0.70060725 0.72025077 0.40257855 0.25996314\n",
            "  0.26720031 0.68302796 0.56090421 0.44404137 0.41913194 0.37790214\n",
            "  0.41010515 0.19190044 0.56534808 0.32623166 0.4343332  0.6519616\n",
            "  0.31462731 0.2286582  0.23678393 0.36218944 0.29139349 0.24940335\n",
            "  0.41929772 0.19662596 0.09396091 0.55739814 0.26645492 0.42815512\n",
            "  0.4642551  0.38703035 0.39497098 0.32054667 0.1058032  0.28356907\n",
            "  0.40149733 0.35800239 0.40158242 0.50947728 0.17756317 0.45616879\n",
            "  0.38705671 0.28362369 0.35686305 0.15158742 0.73014973 0.15473317\n",
            "  0.26948243 0.42006562 0.13978141 0.52986259 0.25945827 0.28730623\n",
            "  0.53093042 0.44381633 0.08280845 0.43263646]\n",
            " [0.20559045 0.61214282 0.34987932 0.3793054  0.92627335 0.69663568\n",
            "  0.79407042 0.29777203 0.76594972 0.65961794 0.55017077 0.68833705\n",
            "  0.21705569 0.27095253 0.6659874  0.         0.29599261 0.08392282\n",
            "  1.07497816 0.48788987 0.95055442 0.25638088 0.51246038 0.47744075\n",
            "  0.65948009 0.61586118 0.95716682 0.42167013 0.78506847 0.55034242\n",
            "  0.69869884 0.58906502 0.89208347 0.33176689 0.63319115 1.01123033\n",
            "  0.73528865 1.04170127 0.84685672 0.80465559 0.78562091 0.73030001\n",
            "  0.70311003 0.3606563  0.32788411 0.53271361 0.9520619  0.90984686\n",
            "  0.77636733 0.27221836 0.26487927 0.61866777 0.66495677 0.98434661\n",
            "  0.52913527 0.65645573 0.34892553 0.48576052 0.37515971 0.41037366\n",
            "  0.39123428 0.81994625 0.85937797 0.97406674 0.47311109 0.46161478\n",
            "  0.34749789 0.82081132 0.59649137 0.54332391 0.93176435 0.90918429\n",
            "  0.39382801 0.81397509 0.80786529 0.96394372 0.73099937 0.38337841\n",
            "  0.32280187 0.48831897 0.28394483 0.78704908 0.83774505 0.84613242\n",
            "  0.34732802 0.41238446 0.79705385 0.51442719 0.51789395 0.52357863\n",
            "  0.53533082 0.92013623 0.78393982 0.51880654 0.52388934 0.78804715\n",
            "  0.32821706 0.69844419 0.67289336 0.72153978]\n",
            " [0.16060236 0.32369825 0.36875787 0.27189521 0.65872615 0.48892571\n",
            "  0.63763608 0.3085189  0.51540403 0.56025601 0.26676905 0.6317167\n",
            "  0.13501948 0.15902315 0.41065973 0.29599261 0.         0.30756923\n",
            "  0.87235907 0.2135096  0.72937553 0.20510908 0.21668068 0.42607893\n",
            "  0.42372639 0.31991238 0.78466357 0.21321858 0.49283478 0.3545603\n",
            "  0.67205439 0.46564205 0.71407849 0.06686723 0.34007752 0.84826957\n",
            "  0.63227206 0.85349018 0.56973751 0.59289908 0.541209   0.68050793\n",
            "  0.48129742 0.11690148 0.3081226  0.63613502 0.7656084  0.66930041\n",
            "  0.48135301 0.27947306 0.35680266 0.34680661 0.57630664 0.77126254\n",
            "  0.46527563 0.36389349 0.42178166 0.37665171 0.34642527 0.51903214\n",
            "  0.25369043 0.53096213 0.57447582 0.7578007  0.17717946 0.17412221\n",
            "  0.07512593 0.53791491 0.36643831 0.32546975 0.67379214 0.6138023\n",
            "  0.38569847 0.51972194 0.66895384 0.7285756  0.49723123 0.14838109\n",
            "  0.03083114 0.20036836 0.19634127 0.70455882 0.56789743 0.72133864\n",
            "  0.05447303 0.25076046 0.64526347 0.26767619 0.63185767 0.30119794\n",
            "  0.23935309 0.75399609 0.54467702 0.29327004 0.37445204 0.49249392\n",
            "  0.15840683 0.41897297 0.44292092 0.43804008]\n",
            " [0.17718169 0.63116284 0.42927831 0.32481493 0.95956204 0.7489173\n",
            "  0.85865537 0.37424863 0.80579182 0.73186411 0.53962013 0.76600733\n",
            "  0.26361283 0.23703373 0.70314486 0.08392282 0.30756923 0.\n",
            "  1.13146653 0.47431311 1.00133697 0.31938001 0.52123197 0.55272482\n",
            "  0.70336523 0.62248983 1.01987646 0.38899046 0.7788804  0.60304099\n",
            "  0.77913476 0.65665048 0.9531984  0.32718939 0.63010249 1.07615899\n",
            "  0.80787586 1.10149505 0.87458943 0.85701866 0.82785116 0.8089777\n",
            "  0.75167949 0.39356467 0.25957979 0.6162402  1.01173922 0.95423881\n",
            "  0.78611504 0.20508382 0.34757161 0.5993164  0.73869401 1.03760934\n",
            "  0.60396501 0.67103965 0.43204669 0.55330009 0.45024506 0.49419504\n",
            "  0.45014531 0.83852938 0.8816708  1.02638958 0.48142934 0.48091515\n",
            "  0.34325376 0.84460714 0.64119665 0.50571711 0.96953646 0.90853658\n",
            "  0.47181696 0.81094458 0.87568124 1.01038495 0.77630329 0.42011399\n",
            "  0.32941659 0.48303757 0.34343406 0.86270027 0.86953942 0.91653158\n",
            "  0.35256615 0.46772176 0.86252174 0.55239848 0.60109991 0.56897165\n",
            "  0.54233161 0.98388174 0.82793009 0.48478557 0.5855561  0.79599478\n",
            "  0.29692565 0.68187342 0.7187211  0.707448  ]\n",
            " [1.03000896 0.63768024 0.78471298 1.11582551 0.37185874 0.38519863\n",
            "  0.30738897 0.80630671 0.38993942 0.48374526 0.85686227 0.54480013\n",
            "  0.8681116  1.02859786 0.48395077 1.07497816 0.87235907 1.13146653\n",
            "  0.         0.88897202 0.15695298 0.81882569 0.75226931 0.65188311\n",
            "  0.45241611 0.72178454 0.15900337 1.00391955 0.8010726  0.5290799\n",
            "  0.60583465 0.50772013 0.19677061 0.90418341 0.78796504 0.16763519\n",
            "  0.43516891 0.06728535 0.45816431 0.27946099 0.3570698  0.54828046\n",
            "  0.39140621 0.75834384 1.17534874 0.88750255 0.13316578 0.25082493\n",
            "  0.6530909  1.1515713  0.88167203 0.9110031  0.49699735 0.10674516\n",
            "  0.60779893 0.64805657 0.84077334 0.6027214  0.73395539 0.88650206\n",
            "  0.6837532  0.55901161 0.51185214 0.1237233  0.77493043 0.72850585\n",
            "  0.89516593 0.50678012 0.50618327 1.03767733 0.31641146 0.75528599\n",
            "  0.73921219 0.77192919 0.32606459 0.19639834 0.38183571 0.72743865\n",
            "  0.86998111 0.84156826 0.79112209 0.45866806 0.41999429 0.33610426\n",
            "  0.85965344 0.66396403 0.31171369 0.60627736 0.90772008 0.57226347\n",
            "  0.75171387 0.19765437 0.34547388 1.01154019 0.5530899  0.66815689\n",
            "  1.00834768 0.88992945 0.43127005 0.86981361]\n",
            " [0.29753557 0.25502298 0.56572443 0.25616807 0.59802793 0.53596555\n",
            "  0.71582275 0.51004973 0.50073144 0.68725336 0.06666788 0.776493\n",
            "  0.34756374 0.24508391 0.4057369  0.48788987 0.2135096  0.47431311\n",
            "  0.88897202 0.         0.73398984 0.40927504 0.13760218 0.59333556\n",
            "  0.44709914 0.19097957 0.83682625 0.12933779 0.306432   0.44068781\n",
            "  0.82872369 0.58879224 0.76633828 0.15839288 0.16609491 0.90500354\n",
            "  0.75017179 0.88619314 0.49576255 0.62151639 0.53281331 0.82536776\n",
            "  0.51286141 0.25957412 0.34415005 0.83746915 0.80576722 0.65306346\n",
            "  0.34575636 0.3507112  0.5669932  0.13376625 0.70813976 0.78247689\n",
            "  0.62212931 0.26362148 0.62590454 0.52285211 0.53265683 0.72495309\n",
            "  0.41206774 0.42468202 0.47852281 0.76623544 0.12513708 0.18690985\n",
            "  0.14385428 0.45155418 0.41049044 0.15731064 0.62965169 0.44063718\n",
            "  0.57354096 0.34135346 0.75837506 0.71483633 0.51054639 0.27800932\n",
            "  0.18272531 0.04830207 0.3930261  0.82959957 0.51079229 0.81716569\n",
            "  0.16082209 0.39503027 0.72657449 0.31917879 0.83542251 0.3736009\n",
            "  0.13771219 0.81408672 0.54352569 0.1265848  0.49519187 0.34957964\n",
            "  0.18954479 0.21063481 0.47056246 0.23400472]\n",
            " [0.88890529 0.48150124 0.68763995 0.96515943 0.23390143 0.25407779\n",
            "  0.25337412 0.69940125 0.23370448 0.42298318 0.70047942 0.50804408\n",
            "  0.73806598 0.88312166 0.33076031 0.95055442 0.72937553 1.00133697\n",
            "  0.15695298 0.73398984 0.         0.69719885 0.59794693 0.56423838\n",
            "  0.30576137 0.56491426 0.19056666 0.85092108 0.64821841 0.40023309\n",
            "  0.57793566 0.41745037 0.16591425 0.75681646 0.6310304  0.24577117\n",
            "  0.39709118 0.17472995 0.30813364 0.14678819 0.20121566 0.52543651\n",
            "  0.25027321 0.61820191 1.02818243 0.83209414 0.13813681 0.09852516\n",
            "  0.49981478 1.00712066 0.7799643  0.75405082 0.44252021 0.05125886\n",
            "  0.52744287 0.49110446 0.75092447 0.49960675 0.6328424  0.81038563\n",
            "  0.5619557  0.40814088 0.36462314 0.03343798 0.62212886 0.57840077\n",
            "  0.74696279 0.35508107 0.36394432 0.88148227 0.17783189 0.61188664\n",
            "  0.64526318 0.62085646 0.29497491 0.06328895 0.23271621 0.58812699\n",
            "  0.72461307 0.68691681 0.66769384 0.44666744 0.26745572 0.33222497\n",
            "  0.71269056 0.53851156 0.26394758 0.46171962 0.84979604 0.43393435\n",
            "  0.59644156 0.20599128 0.19108765 0.85572284 0.44084428 0.515668\n",
            "  0.85963997 0.7338056  0.28662293 0.7142822 ]\n",
            " [0.28116819 0.42268056 0.16486729 0.45143052 0.69473164 0.44318549\n",
            "  0.53951644 0.10346348 0.5264639  0.41695985 0.4517375  0.4650615\n",
            "  0.08323656 0.32138357 0.43331617 0.25638088 0.20510908 0.31938001\n",
            "  0.81882569 0.40927504 0.69719885 0.         0.36242134 0.24898157\n",
            "  0.41591823 0.45918329 0.70160622 0.41639363 0.65092931 0.29773269\n",
            "  0.49261377 0.33763725 0.63595274 0.2718026  0.50235025 0.75699838\n",
            "  0.49299384 0.78537815 0.62697541 0.5506722  0.54236195 0.51160805\n",
            "  0.45301926 0.17081148 0.45557961 0.43118141 0.69571447 0.66264255\n",
            "  0.5999164  0.40974248 0.1610578  0.53808164 0.42644312 0.7294199\n",
            "  0.29686346 0.47498992 0.21736275 0.23455445 0.15321131 0.31582754\n",
            "  0.13551858 0.62030638 0.65028855 0.71966612 0.33116817 0.2894434\n",
            "  0.27989074 0.60968618 0.35311955 0.53057875 0.69307388 0.75349478\n",
            "  0.18836769 0.66931236 0.5565109  0.71422919 0.48439247 0.17574612\n",
            "  0.23296107 0.38434202 0.03173399 0.55371858 0.6103972  0.59870979\n",
            "  0.25077271 0.1594124  0.54319825 0.2871662  0.42748332 0.28137506\n",
            "  0.38705981 0.66509078 0.53836408 0.49833162 0.26767561 0.61558158\n",
            "  0.34713994 0.60124377 0.42641992 0.61493508]\n",
            " [0.35696419 0.12636984 0.49861524 0.37498955 0.4760004  0.39966179\n",
            "  0.5821132  0.45193116 0.36553583 0.56762618 0.1253885  0.66292363\n",
            "  0.3252467  0.3236392  0.26852665 0.51246038 0.21668068 0.52123197\n",
            "  0.75226931 0.13760218 0.59794693 0.36242134 0.         0.49798021\n",
            "  0.30973522 0.10362988 0.69961785 0.25448149 0.28886557 0.31482588\n",
            "  0.72048675 0.47015101 0.62929271 0.19945539 0.14063407 0.76793466\n",
            "  0.62607824 0.74866154 0.37754504 0.48391554 0.39708019 0.71102126\n",
            "  0.37554806 0.19205867 0.45147371 0.76850555 0.66819111 0.51953693\n",
            "  0.26507076 0.44484607 0.52295572 0.20982598 0.59004981 0.64595666\n",
            "  0.51897824 0.15286266 0.56674304 0.41780826 0.45558694 0.66619768\n",
            "  0.32264443 0.32248548 0.37101801 0.62992167 0.03980795 0.07769173\n",
            "  0.18436356 0.33837286 0.27582352 0.29253261 0.50250078 0.40022709\n",
            "  0.49598503 0.30994777 0.6264279  0.58129711 0.37302672 0.19564758\n",
            "  0.19202562 0.08955398 0.33795552 0.70690908 0.38619987 0.68608928\n",
            "  0.1686715  0.29874608 0.59332611 0.19116031 0.77007993 0.24746435\n",
            "  0.02472813 0.67748897 0.40706548 0.26329424 0.37925448 0.27583498\n",
            "  0.28227361 0.25056185 0.33327157 0.25823294]\n",
            " [0.52932558 0.49543804 0.13792696 0.69175142 0.64389742 0.33777984\n",
            "  0.34687125 0.17976958 0.47227249 0.18638877 0.61555693 0.21634875\n",
            "  0.33009702 0.56472192 0.41726343 0.47744075 0.42607893 0.55272482\n",
            "  0.65188311 0.59333556 0.56423838 0.24898157 0.49798021 0.\n",
            "  0.3683688  0.56744142 0.51084301 0.63651037 0.75806467 0.24233218\n",
            "  0.24670081 0.14696889 0.45595564 0.49022619 0.63079723 0.55458172\n",
            "  0.26017576 0.60494099 0.61093707 0.42533279 0.47269398 0.26262654\n",
            "  0.36765518 0.33557763 0.70351922 0.30302388 0.51964359 0.56416225\n",
            "  0.66193166 0.65859618 0.23741665 0.70406946 0.18838125 0.58212746\n",
            "  0.05190995 0.54886002 0.18897985 0.09172709 0.10249403 0.24920866\n",
            "  0.18134181 0.64405679 0.65353311 0.57753551 0.48233522 0.42186298\n",
            "  0.49324617 0.61376467 0.32396069 0.73744089 0.62217201 0.82692183\n",
            "  0.09039727 0.7632264  0.34587166 0.60056858 0.41029399 0.31533656\n",
            "  0.44669331 0.55519269 0.23982104 0.30998353 0.57904101 0.37489808\n",
            "  0.45625173 0.2001215  0.34550359 0.33151355 0.31362647 0.28500575\n",
            "  0.51877973 0.47076176 0.46025964 0.7041879  0.15799854 0.68115071\n",
            "  0.58176614 0.74774423 0.36435542 0.75206481]\n",
            " [0.58358798 0.21681537 0.45444801 0.66381855 0.28552848 0.09517572\n",
            "  0.28454601 0.44527345 0.11220541 0.33180645 0.4267857  0.43949849\n",
            "  0.44305389 0.57757035 0.06259492 0.65948009 0.42372639 0.70336523\n",
            "  0.45241611 0.44709914 0.30576137 0.41591823 0.30973522 0.3683688\n",
            "  0.         0.30953726 0.38992296 0.55479543 0.4593326  0.13222901\n",
            "  0.51009428 0.2564384  0.31980664 0.45202224 0.38286967 0.45836034\n",
            "  0.36607163 0.44185795 0.24257532 0.17603028 0.12661166 0.48053047\n",
            "  0.0658351  0.31411341 0.72337384 0.67086968 0.35915812 0.25093582\n",
            "  0.32955041 0.70141242 0.53079054 0.49688772 0.35761713 0.34891915\n",
            "  0.35649546 0.25168861 0.5270755  0.27927684 0.39654981 0.60937877\n",
            "  0.28813919 0.2859413  0.28721609 0.33478905 0.32691045 0.27674602\n",
            "  0.44278636 0.24876905 0.0631165  0.60194752 0.27773427 0.48958452\n",
            "  0.42311831 0.44961809 0.33471961 0.30745736 0.07371699 0.28493487\n",
            "  0.41897115 0.39882781 0.38454699 0.44690919 0.21189921 0.39595058\n",
            "  0.40763275 0.25899616 0.29735533 0.15605968 0.68198871 0.13599434\n",
            "  0.31453283 0.36884352 0.12466233 0.57302475 0.21087946 0.34964597\n",
            "  0.55593608 0.50179389 0.02372263 0.49203117]\n",
            " [0.45456406 0.09272841 0.58537139 0.4466392  0.4094408  0.4046408\n",
            "  0.593725   0.54331848 0.33271384 0.60943923 0.1403266  0.71110729\n",
            "  0.4273547  0.41533168 0.25421091 0.61586118 0.31991238 0.62248983\n",
            "  0.72178454 0.19097957 0.56491426 0.45918329 0.10362988 0.56744142\n",
            "  0.30953726 0.         0.69093675 0.32018447 0.19465995 0.35552508\n",
            "  0.77396617 0.51589757 0.62318859 0.29713712 0.0734986  0.75989936\n",
            "  0.65954198 0.72733083 0.30614352 0.47062169 0.36598488 0.75750521\n",
            "  0.37281501 0.28857042 0.53165496 0.85100038 0.65351507 0.47710696\n",
            "  0.16442285 0.53197039 0.61813932 0.190928   0.63360774 0.61520279\n",
            "  0.58120265 0.07581421 0.65598231 0.48109592 0.53815803 0.75449512\n",
            "  0.40205291 0.23437787 0.28763062 0.59806154 0.14275009 0.16976928\n",
            "  0.28138321 0.26088209 0.29584516 0.32039721 0.44448095 0.29734776\n",
            "  0.57742522 0.21013471 0.64272035 0.53821904 0.35836915 0.28627351\n",
            "  0.29434571 0.15486426 0.43282525 0.74144574 0.32459061 0.70379087\n",
            "  0.27043476 0.37454585 0.60627128 0.23892494 0.85440121 0.29269309\n",
            "  0.08059672 0.67422042 0.3799724  0.29809095 0.43194809 0.17350633\n",
            "  0.36773788 0.19450257 0.33279295 0.19011398]\n",
            " [0.9362314  0.60004253 0.64715467 1.04309554 0.41997066 0.30267554\n",
            "  0.16516323 0.67560332 0.3671716  0.33363545 0.81564636 0.38699378\n",
            "  0.75994619 0.94356332 0.43774186 0.95716682 0.78466357 1.01987646\n",
            "  0.15900337 0.83682625 0.19056666 0.70160622 0.69961785 0.51084301\n",
            "  0.38992296 0.69093675 0.         0.94070509 0.80566061 0.43050452\n",
            "  0.44694207 0.3729598  0.07117648 0.8254721  0.76236127 0.06896341\n",
            "  0.27892875 0.09819936 0.47995963 0.22039941 0.33508059 0.38929811\n",
            "  0.32408981 0.66791297 1.09248686 0.7312532  0.05243326 0.27972788\n",
            "  0.65865626 1.06287142 0.74594104 0.88149011 0.3441741  0.15764631\n",
            "  0.46364145 0.62332122 0.69800798 0.47384827 0.600126   0.73665187\n",
            "  0.56997758 0.57527871 0.53904018 0.16988219 0.71522478 0.66110309\n",
            "  0.81871323 0.52199595 0.43033309 0.99185846 0.36517461 0.78694453\n",
            "  0.60036188 0.78337812 0.17136231 0.25354011 0.33260159 0.63640652\n",
            "  0.7872874  0.78852885 0.67645375 0.29975245 0.43593909 0.17713469\n",
            "  0.78081366 0.55505256 0.16536022 0.5296091  0.75195589 0.48549332\n",
            "  0.70418162 0.04081087 0.31753493 0.96291063 0.43432974 0.67645465\n",
            "  0.93138616 0.87513217 0.3663488  0.85989993]\n",
            " [0.21662786 0.37870402 0.58100953 0.12701583 0.72545791 0.63802966\n",
            "  0.80890468 0.51971493 0.61956725 0.75698793 0.18995322 0.83640181\n",
            "  0.33942105 0.1525306  0.52028559 0.42167013 0.21321858 0.38899046\n",
            "  1.00391955 0.12933779 0.85092108 0.41639363 0.25448149 0.63651037\n",
            "  0.55479543 0.32018447 0.94070509 0.         0.41952729 0.52553232\n",
            "  0.88086967 0.65944796 0.86961112 0.14693276 0.29143311 1.00776207\n",
            "  0.82534218 0.99662988 0.62390966 0.7308087  0.6506959  0.88549056\n",
            "  0.61952195 0.30686433 0.21810997 0.84533735 0.91336025 0.77397363\n",
            "  0.47392546 0.23271931 0.55976408 0.22053026 0.7753564  0.8981357\n",
            "  0.67299303 0.39191142 0.63053683 0.57948543 0.55958413 0.72553132\n",
            "  0.45902154 0.55401912 0.60779731 0.88247453 0.22898993 0.27960365\n",
            "  0.14332464 0.58037089 0.51039992 0.12325409 0.755217   0.55732865\n",
            "  0.59891686 0.45791433 0.84716515 0.83571705 0.62253757 0.33391185\n",
            "  0.18995226 0.16925261 0.40947684 0.90152911 0.63724833 0.90360992\n",
            "  0.18135281 0.44996462 0.8184904  0.41222728 0.83961683 0.46154271\n",
            "  0.260797   0.91500231 0.65983346 0.09713746 0.56546134 0.47675009\n",
            "  0.09353268 0.30475256 0.57752928 0.33395608]\n",
            " [0.60305893 0.26441611 0.78003115 0.54060953 0.44015613 0.55128176\n",
            "  0.73787324 0.73744886 0.43965535 0.78233179 0.24000033 0.88748535\n",
            "  0.61237732 0.55142968 0.39714323 0.78506847 0.49283478 0.7788804\n",
            "  0.8010726  0.306432   0.64821841 0.65092931 0.28886557 0.75806467\n",
            "  0.4593326  0.19465995 0.80566061 0.41952729 0.         0.53464526\n",
            "  0.95368118 0.69363801 0.74422583 0.45415098 0.15282252 0.87314369\n",
            "  0.8242293  0.82161323 0.34364685 0.59060188 0.47089659 0.93197232\n",
            "  0.51368683 0.48017994 0.63622141 1.04512359 0.76110606 0.55079302\n",
            "  0.14845202 0.65152045 0.81095493 0.20499985 0.80746578 0.69929224\n",
            "  0.76826453 0.21424856 0.85053239 0.6697219  0.73257531 0.94913506\n",
            "  0.59628924 0.24300225 0.29497471 0.68127027 0.32316292 0.36220936\n",
            "  0.43819079 0.29436974 0.46437967 0.3583053  0.49045983 0.13871747\n",
            "  0.77162949 0.0428255  0.79045153 0.60544913 0.48669712 0.4801016\n",
            "  0.46388189 0.29705732 0.62561517 0.90561146 0.38120369 0.85139141\n",
            "  0.4392322  0.56827484 0.7514675  0.42676371 1.04882794 0.47696464\n",
            "  0.26414359 0.797028   0.48909378 0.35310286 0.61589281 0.13294538\n",
            "  0.49483264 0.12989346 0.4798655  0.09796261]\n",
            " [0.50615943 0.27097815 0.32224564 0.61805528 0.41725153 0.14633097\n",
            "  0.28509185 0.31534006 0.2432958  0.25487849 0.44021205 0.35560016\n",
            "  0.3394393  0.51357996 0.17526937 0.55034242 0.3545603  0.60304099\n",
            "  0.5290799  0.44068781 0.40023309 0.29773269 0.31482588 0.24233218\n",
            "  0.13222901 0.35552508 0.43050452 0.52553232 0.53464526 0.\n",
            "  0.41956365 0.16040363 0.36031046 0.39899089 0.42627455 0.49371128\n",
            "  0.31126    0.50333403 0.37198139 0.25445506 0.25241817 0.40205428\n",
            "  0.15610029 0.23767064 0.66265967 0.54515517 0.41422177 0.36669947\n",
            "  0.42510536 0.6323669  0.40045354 0.52265172 0.27851736 0.43473212\n",
            "  0.23929377 0.32064018 0.39486354 0.15101554 0.26433344 0.47823233\n",
            "  0.16375421 0.40181865 0.41199092 0.42395329 0.31584967 0.25391414\n",
            "  0.39391531 0.37189454 0.0816363  0.59749963 0.40582487 0.58998708\n",
            "  0.29129282 0.53401733 0.32163369 0.41675851 0.19109869 0.20617953\n",
            "  0.35897818 0.39427413 0.26773199 0.39214787 0.34361618 0.3785025\n",
            "  0.35492505 0.13846909 0.29386082 0.12367522 0.55488832 0.06747294\n",
            "  0.32907941 0.39943581 0.24531697 0.56562787 0.08554182 0.44480767\n",
            "  0.50477632 0.5479492  0.13539661 0.54562392]\n",
            " [0.77378188 0.69052389 0.35011054 0.93844275 0.73468096 0.43800323\n",
            "  0.32470127 0.40862011 0.58560636 0.17991916 0.84333966 0.07350812\n",
            "  0.57504718 0.81108657 0.57087512 0.69869884 0.67205439 0.77913476\n",
            "  0.60583465 0.82872369 0.57793566 0.49261377 0.72048675 0.24670081\n",
            "  0.51009428 0.77396617 0.44694207 0.88086967 0.95368118 0.41956365\n",
            "  0.         0.26008023 0.42278629 0.7353724  0.84316074 0.46110675\n",
            "  0.18091266 0.54372653 0.73535693 0.47736757 0.5721332  0.05851916\n",
            "  0.47776316 0.57621311 0.94819233 0.29900105 0.47940017 0.61838479\n",
            "  0.83654801 0.90180547 0.43635735 0.93013276 0.15421148 0.57403316\n",
            "  0.20805351 0.7394403  0.35771024 0.30587158 0.34005045 0.34622608\n",
            "  0.42211302 0.79487143 0.78846608 0.57713685 0.71118306 0.64846035\n",
            "  0.73757833 0.75335607 0.49061758 0.97763479 0.69655714 0.9989762\n",
            "  0.31027253 0.95103767 0.28618686 0.63214742 0.51936299 0.55276254\n",
            "  0.69163267 0.78742098 0.48593513 0.15040733 0.6948906  0.27056376\n",
            "  0.69977647 0.43462798 0.31402141 0.53623277 0.32213131 0.48134742\n",
            "  0.73855991 0.4084371  0.55430913 0.94441757 0.34278468 0.85661167\n",
            "  0.82834412 0.96398866 0.49567393 0.96366112]\n",
            " [0.59827581 0.43088776 0.27699652 0.73736306 0.51243817 0.2026352\n",
            "  0.2078429  0.30265785 0.34694689 0.09848798 0.59507472 0.1952098\n",
            "  0.40625989 0.62010432 0.31474173 0.58906502 0.46564205 0.65665048\n",
            "  0.50772013 0.58879224 0.41745037 0.33763725 0.47015101 0.14696889\n",
            "  0.2564384  0.51589757 0.3729598  0.65944796 0.69363801 0.16040363\n",
            "  0.26008023 0.         0.31353003 0.52127926 0.58635136 0.42309923\n",
            "  0.16676198 0.46393051 0.49336498 0.28053944 0.34147357 0.24200799\n",
            "  0.23788512 0.35452027 0.76706863 0.42978342 0.37671199 0.42185078\n",
            "  0.57791825 0.72890639 0.3744576  0.67957787 0.11992777 0.43532511\n",
            "  0.11267731 0.47939011 0.33516813 0.10342818 0.22749076 0.39371476\n",
            "  0.21793907 0.54223501 0.54209763 0.43057872 0.46620176 0.40303952\n",
            "  0.51972381 0.50460271 0.23090941 0.74327144 0.48531668 0.74142171\n",
            "  0.23170064 0.69112379 0.21907009 0.45528237 0.28144514 0.32587783\n",
            "  0.47812124 0.54434698 0.31657375 0.24225418 0.45683476 0.26226165\n",
            "  0.48025185 0.21502306 0.20918552 0.28094582 0.4443619  0.22480255\n",
            "  0.48620484 0.33416681 0.32673562 0.7105831  0.09423679 0.59791489\n",
            "  0.62343521 0.70787255 0.24566725 0.70597476]\n",
            " [0.86636837 0.53171832 0.59013233 0.97195251 0.37820686 0.2315957\n",
            "  0.1106659  0.61493263 0.30457444 0.28769505 0.74617636 0.3567037\n",
            "  0.69215685 0.87290181 0.36928552 0.89208347 0.71407849 0.9531984\n",
            "  0.19677061 0.76633828 0.16591425 0.63595274 0.62929271 0.45595564\n",
            "  0.31980664 0.62318859 0.07117648 0.86961112 0.74422583 0.36031046\n",
            "  0.42278629 0.31353003 0.         0.754423   0.69514208 0.13866566\n",
            "  0.24502516 0.15071896 0.42712227 0.15441221 0.27366166 0.36760783\n",
            "  0.2540032  0.59742108 1.02175686 0.69452884 0.06376499 0.23900241\n",
            "  0.5985263  0.99257543 0.68797708 0.81332592 0.30223406 0.15197861\n",
            "  0.41119504 0.55693215 0.6446234  0.41179209 0.54087627 0.68987057\n",
            "  0.50305321 0.5190092  0.48668385 0.15727407 0.64440456 0.59001663\n",
            "  0.74759741 0.46627767 0.35921788 0.92169107 0.32617154 0.73294042\n",
            "  0.54409067 0.72376202 0.13666292 0.22762868 0.26505625 0.56592269\n",
            "  0.71638638 0.71803625 0.61003703 0.28421815 0.38238166 0.1666938\n",
            "  0.70974962 0.48695429 0.11580218 0.45843301 0.7141104  0.41450109\n",
            "  0.63430294 0.05286555 0.25516649 0.89254813 0.36827788 0.61685778\n",
            "  0.86031858 0.8093445  0.29615379 0.7950846 ]\n",
            " [0.15771178 0.32000398 0.43562213 0.21912554 0.66597985 0.52531253\n",
            "  0.68402294 0.37525241 0.53450163 0.61750317 0.21857963 0.69287165\n",
            "  0.1991003  0.12889869 0.43020862 0.33176689 0.06686723 0.32718939\n",
            "  0.90418341 0.15839288 0.75681646 0.2718026  0.19945539 0.49022619\n",
            "  0.45202224 0.29713712 0.8254721  0.14693276 0.45415098 0.39899089\n",
            "  0.7353724  0.52127926 0.754423   0.         0.30356167 0.89062113\n",
            "  0.68798834 0.88958076 0.57163211 0.62566836 0.56261835 0.74184862\n",
            "  0.5132013  0.16686877 0.27139847 0.70260201 0.80313145 0.69012755\n",
            "  0.46151152 0.2534896  0.42141768 0.29180094 0.63467027 0.80090842\n",
            "  0.5278671  0.35223611 0.48806873 0.43649077 0.41274768 0.58484132\n",
            "  0.31454654 0.52182004 0.56939933 0.78656007 0.1606337  0.18164713\n",
            "  0.01607788 0.53534747 0.39918116 0.25889995 0.68631757 0.58165872\n",
            "  0.45223513 0.48467096 0.71833709 0.75072307 0.52419878 0.19660476\n",
            "  0.04385001 0.15709998 0.26308939 0.76214774 0.57503978 0.77256401\n",
            "  0.04475205 0.30814957 0.69249014 0.29853266 0.6980217  0.34002968\n",
            "  0.21827896 0.79665181 0.56826645 0.22693587 0.42837995 0.47032702\n",
            "  0.10597298 0.36851606 0.47291351 0.39038624]\n",
            " [0.45601502 0.16614069 0.63869012 0.41790631 0.4615071  0.47801067\n",
            "  0.66716724 0.59255954 0.40098084 0.68083814 0.10150488 0.78146055\n",
            "  0.46037906 0.40848585 0.32679493 0.63319115 0.34007752 0.63010249\n",
            "  0.78796504 0.16609491 0.6310304  0.50235025 0.14063407 0.63079723\n",
            "  0.38286967 0.0734986  0.76236127 0.29143311 0.15282252 0.42627455\n",
            "  0.84316074 0.58635136 0.69514208 0.30356167 0.         0.83129821\n",
            "  0.73216202 0.79607532 0.35726183 0.54196203 0.43430319 0.82827353\n",
            "  0.44580861 0.33248754 0.50893903 0.90766635 0.72395738 0.54059002\n",
            "  0.18444785 0.51680368 0.66315878 0.12338793 0.70474557 0.6817588\n",
            "  0.64739605 0.14040868 0.70725894 0.54659976 0.5944347  0.80663594\n",
            "  0.45989464 0.27277032 0.32896146 0.66436162 0.17189027 0.2173919\n",
            "  0.28750399 0.30884877 0.36885319 0.26690354 0.5011458  0.27851313\n",
            "  0.63450542 0.18112429 0.71621866 0.6009119  0.43010425 0.33594623\n",
            "  0.31130496 0.14710353 0.47840935 0.8140309  0.38147253 0.77728902\n",
            "  0.28664812 0.43419423 0.67973947 0.30695735 0.90976841 0.36203472\n",
            "  0.11653886 0.74645143 0.44915105 0.24958606 0.50048325 0.18565863\n",
            "  0.35490158 0.12183933 0.40605102 0.121368  ]\n",
            " [0.99804701 0.66898891 0.69221955 1.10877059 0.47905344 0.36996048\n",
            "  0.21750379 0.72476286 0.43541705 0.37143101 0.88440289 0.40854331\n",
            "  0.81830979 1.00728529 0.50666614 1.01123033 0.84826957 1.07615899\n",
            "  0.16763519 0.90500354 0.24577117 0.75699838 0.76793466 0.55458172\n",
            "  0.45836034 0.75989936 0.06896341 1.00776207 0.87314369 0.49371128\n",
            "  0.46110675 0.42309923 0.13866566 0.89062113 0.83129821 0.\n",
            "  0.30779643 0.10072108 0.54431384 0.28934241 0.40308804 0.40259298\n",
            "  0.39253183 0.73138178 1.15634985 0.75413023 0.11303265 0.34005803\n",
            "  0.72575903 1.1255798  0.79160269 0.95045014 0.37793176 0.20462583\n",
            "  0.50534811 0.6921827  0.73871746 0.52580921 0.6480043  0.76997691\n",
            "  0.62753613 0.64091457 0.60296421 0.21989502 0.78299035 0.72823136\n",
            "  0.88424121 0.587511   0.49740847 1.06029478 0.42332314 0.85115637\n",
            "  0.64487747 0.85017159 0.20875729 0.3067048  0.40156421 0.69989003\n",
            "  0.85184855 0.85670153 0.73297387 0.31074556 0.50079019 0.19390201\n",
            "  0.84605678 0.6143654  0.2142036  0.59606572 0.77583245 0.55063872\n",
            "  0.77277222 0.09429208 0.38581505 1.03120136 0.49136003 0.74333375\n",
            "  0.99659023 0.94386253 0.43473534 0.92841804]\n",
            " [0.76194052 0.5695998  0.39688261 0.90406483 0.56085969 0.28058079\n",
            "  0.14379088 0.43890577 0.42309551 0.07610094 0.75145907 0.11186058\n",
            "  0.56675773 0.78597118 0.42866648 0.73528865 0.63227206 0.80787586\n",
            "  0.43516891 0.75017179 0.39709118 0.49299384 0.62607824 0.26017576\n",
            "  0.36607163 0.65954198 0.27892875 0.82534218 0.8242293  0.31126\n",
            "  0.18091266 0.16676198 0.24502516 0.68798834 0.73216202 0.30779643\n",
            "  0.         0.37712785 0.57186268 0.30118477 0.40514824 0.13098476\n",
            "  0.32086052 0.52117733 0.93222248 0.4525037  0.30462387 0.43954832\n",
            "  0.6950932  0.89275153 0.49584251 0.83326955 0.07275124 0.3947581\n",
            "  0.20842626 0.61261739 0.43557815 0.26156833 0.3608367  0.46219549\n",
            "  0.38244673 0.64124533 0.62780463 0.3970797  0.6260479  0.56336504\n",
            "  0.68626096 0.59562416 0.36400669 0.90601056 0.51986231 0.85230134\n",
            "  0.34941591 0.81566515 0.10933217 0.45135875 0.35882007 0.49227226\n",
            "  0.64487212 0.70452956 0.47544973 0.08191942 0.52935056 0.11721117\n",
            "  0.64675508 0.38153494 0.13333535 0.4349182  0.47305562 0.37868618\n",
            "  0.6399171  0.23853337 0.38629281 0.87362669 0.26000569 0.71514091\n",
            "  0.79016951 0.85389953 0.34740434 0.84855229]\n",
            " [1.00867298 0.63978505 0.74007897 1.10451439 0.40564315 0.36475939\n",
            "  0.25807466 0.76563532 0.39509481 0.43065723 0.85868081 0.48490827\n",
            "  0.83936925 1.01140199 0.48083805 1.04170127 0.85349018 1.10149505\n",
            "  0.06728535 0.88619314 0.17472995 0.78537815 0.74866154 0.60494099\n",
            "  0.44185795 0.72733083 0.09819936 0.99662988 0.82161323 0.50333403\n",
            "  0.54372653 0.46393051 0.15071896 0.88958076 0.79607532 0.10072108\n",
            "  0.37712785 0.         0.48281714 0.26582834 0.36177215 0.48574188\n",
            "  0.3776889  0.7377749  1.15946987 0.82942433 0.08975755 0.27325504\n",
            "  0.67316581 1.1328963  0.83824782 0.91800478 0.44193969 0.12532837\n",
            "  0.55885425 0.65567183 0.79302198 0.56250467 0.69138714 0.83395036\n",
            "  0.65162282 0.58260236 0.53930761 0.14307091 0.76835186 0.71828402\n",
            "  0.88156825 0.52940529 0.49048909 1.03812786 0.34929212 0.78624826\n",
            "  0.69373969 0.79506568 0.26929634 0.22826544 0.37564677 0.70645243\n",
            "  0.8534314  0.83821175 0.7589038  0.39521905 0.44170568 0.27321063\n",
            "  0.8448422  0.63415158 0.26022593 0.5911398  0.85015198 0.55229952\n",
            "  0.75032028 0.13874898 0.34736263 1.01069703 0.5178406  0.68943305\n",
            "  0.9948467  0.90297805 0.41932557 0.8847859 ]\n",
            " [0.72530258 0.25215109 0.69109942 0.74888033 0.10424579 0.29748412\n",
            "  0.45216324 0.6744678  0.14978537 0.55561471 0.44585155 0.6623836\n",
            "  0.63281872 0.69919656 0.19962175 0.84685672 0.56973751 0.87458943\n",
            "  0.45816431 0.49576255 0.30813364 0.62697541 0.37754504 0.61093707\n",
            "  0.24257532 0.30614352 0.47995963 0.62390966 0.34364685 0.37198139\n",
            "  0.73535693 0.49336498 0.42712227 0.57163211 0.35726183 0.54431384\n",
            "  0.57186268 0.48281714 0.         0.2851225  0.16744168 0.69783657\n",
            "  0.25824156 0.48621897 0.82876086 0.91338483 0.43131264 0.20966239\n",
            "  0.19711037 0.82184196 0.75984674 0.47854267 0.58119085 0.35852616\n",
            "  0.59785615 0.23214364 0.76474771 0.52145852 0.63371498 0.85016338\n",
            "  0.51339333 0.10088216 0.05959084 0.34050546 0.41314633 0.39588995\n",
            "  0.55778628 0.05027536 0.29239511 0.62304645 0.14805765 0.30699307\n",
            "  0.66284662 0.3137691  0.50655337 0.26204146 0.21601494 0.46501902\n",
            "  0.55323704 0.45511978 0.59537433 0.64624136 0.04492746 0.56326491\n",
            "  0.53372261 0.48210984 0.46634458 0.3399281  0.92456106 0.35346502\n",
            "  0.36547481 0.47918654 0.18687869 0.60292839 0.45328236 0.21080079\n",
            "  0.659814   0.44216552 0.24864256 0.41864588]\n",
            " [0.7507221  0.38010174 0.54403445 0.83926681 0.2600293  0.108162\n",
            "  0.16902165 0.55345389 0.15131769 0.30586809 0.59702212 0.40421664\n",
            "  0.59344738 0.74935188 0.21825278 0.80465559 0.59289908 0.85701866\n",
            "  0.27946099 0.62151639 0.14678819 0.5506722  0.48391554 0.42533279\n",
            "  0.17603028 0.47062169 0.22039941 0.7308087  0.59060188 0.25445506\n",
            "  0.47736757 0.28053944 0.15441221 0.62566836 0.54196203 0.28934241\n",
            "  0.30118477 0.26582834 0.2851225  0.         0.12216792 0.43179172\n",
            "  0.11248771 0.47907587 0.8964939  0.70607468 0.18451162 0.14398135\n",
            "  0.44593853 0.87214775 0.63480909 0.6613045  0.32893921 0.1806975\n",
            "  0.39288051 0.4030694  0.6093034  0.35551311 0.4883888  0.67388528\n",
            "  0.41532055 0.37068925 0.34422678 0.1695018  0.5026706  0.4525878\n",
            "  0.61710968 0.31923053 0.22688827 0.77488407 0.21921066 0.58596367\n",
            "  0.50294107 0.57130212 0.22283042 0.17528074 0.11256008 0.4483016\n",
            "  0.59080934 0.57337685 0.52136856 0.36859115 0.24040002 0.27828703\n",
            "  0.58102324 0.39233392 0.18304641 0.3272802  0.72212699 0.2931224\n",
            "  0.48677316 0.20688826 0.10281906 0.7467443  0.29486807 0.46463941\n",
            "  0.73041004 0.65522002 0.15362344 0.64070655]\n",
            " [0.70179888 0.28061287 0.57198814 0.76671912 0.17149717 0.13903063\n",
            "  0.28553741 0.56775721 0.0333256  0.393424   0.49983413 0.49876175\n",
            "  0.56889994 0.6905404  0.13251723 0.78562091 0.541209   0.82785116\n",
            "  0.3570698  0.53281331 0.20121566 0.54236195 0.39708019 0.47269398\n",
            "  0.12661166 0.36598488 0.33508059 0.6506959  0.47089659 0.25241817\n",
            "  0.5721332  0.34147357 0.27366166 0.56261835 0.43430319 0.40308804\n",
            "  0.40514824 0.36177215 0.16744168 0.12216792 0.         0.53240276\n",
            "  0.10507918 0.43603498 0.83312373 0.76988873 0.29234649 0.12809544\n",
            "  0.32486761 0.81518968 0.65283036 0.55638206 0.41858225 0.25033071\n",
            "  0.45146011 0.2939005  0.64296617 0.3890313  0.51413465 0.71980438\n",
            "  0.41317621 0.24868286 0.22517895 0.23370991 0.42239153 0.3819183\n",
            "  0.55179816 0.19776193 0.18970431 0.68060846 0.1534531  0.4640457\n",
            "  0.53711849 0.45013237 0.34000632 0.18811384 0.06279719 0.40803944\n",
            "  0.53322618 0.48584728 0.51105406 0.47885413 0.12423312 0.39776464\n",
            "  0.51929536 0.3847221  0.2997284  0.27636449 0.78323697 0.26248303\n",
            "  0.39523261 0.32652429 0.01971929 0.65460303 0.32103653 0.34326753\n",
            "  0.66341989 0.54262821 0.11728402 0.52597106]\n",
            " [0.791654   0.67119255 0.38044328 0.95012818 0.69102848 0.40224443\n",
            "  0.27332057 0.43525007 0.5482313  0.14972472 0.83540359 0.0491233\n",
            "  0.59242257 0.82508138 0.54247349 0.73030001 0.68050793 0.8089777\n",
            "  0.54828046 0.82536776 0.52543651 0.51160805 0.71102126 0.26262654\n",
            "  0.48053047 0.75750521 0.38929811 0.88549056 0.93197232 0.40205428\n",
            "  0.05851916 0.24200799 0.36760783 0.74184862 0.82827353 0.40259298\n",
            "  0.13098476 0.48574188 0.69783657 0.43179172 0.53240276 0.\n",
            "  0.44252256 0.57885034 0.96564168 0.35606469 0.4229561  0.57051577\n",
            "  0.80954719 0.92116731 0.47196047 0.92075557 0.12451623 0.51935932\n",
            "  0.21668531 0.71807412 0.39727537 0.3060464  0.3621778  0.39577241\n",
            "  0.42733083 0.76234113 0.75250218 0.52316587 0.7048986  0.64173866\n",
            "  0.74279454 0.71877746 0.46759892 0.97726127 0.65070358 0.9700263\n",
            "  0.33718891 0.92688818 0.23154783 0.58112837 0.48268676 0.5533503\n",
            "  0.69800094 0.78236037 0.50149291 0.09189097 0.65620703 0.2125327\n",
            "  0.70417625 0.43579221 0.26181734 0.52282617 0.3788913  0.46678724\n",
            "  0.72769556 0.35118583 0.513971   0.94420626 0.33190369 0.82965652\n",
            "  0.83832011 0.94985133 0.46425791 0.94761915]\n",
            " [0.6398739  0.28033464 0.46969698 0.72694236 0.27651362 0.04037292\n",
            "  0.22465021 0.46918002 0.10948933 0.29785257 0.49236298 0.40517026\n",
            "  0.48889569 0.63719166 0.11963527 0.70311003 0.48129742 0.75167949\n",
            "  0.39140621 0.51286141 0.25027321 0.45301926 0.37554806 0.36765518\n",
            "  0.0658351  0.37281501 0.32408981 0.61952195 0.51368683 0.15610029\n",
            "  0.47776316 0.23788512 0.2540032  0.5132013  0.44580861 0.39253183\n",
            "  0.32086052 0.3776889  0.25824156 0.11248771 0.10507918 0.44252256\n",
            "  0.         0.36853403 0.78411371 0.66513929 0.29390734 0.21066219\n",
            "  0.37736286 0.76027343 0.5534548  0.56139775 0.32356146 0.29013796\n",
            "  0.34679854 0.31148644 0.53976494 0.28485553 0.41208198 0.61511643\n",
            "  0.31980887 0.32052443 0.31071606 0.2771838  0.39219708 0.34065648\n",
            "  0.50462339 0.27627072 0.11486846 0.66778234 0.25597291 0.5317981\n",
            "  0.43351114 0.50058047 0.27678154 0.26128905 0.04356443 0.33816994\n",
            "  0.47858095 0.46457911 0.42252753 0.39946021 0.21969633 0.33779924\n",
            "  0.46857079 0.29363058 0.2380425  0.21491542 0.67829563 0.18366435\n",
            "  0.3803023  0.30329871 0.09321188 0.63884155 0.21744288 0.39720697\n",
            "  0.61792511 0.56340901 0.04230279 0.55220065]\n",
            " [0.27166564 0.2594362  0.31113679 0.38464577 0.56700377 0.37376716\n",
            "  0.5209883  0.26097606 0.41277545 0.45114595 0.29075477 0.52973785\n",
            "  0.14857873 0.27592418 0.30962135 0.3606563  0.11690148 0.39356467\n",
            "  0.75834384 0.25957412 0.61820191 0.17081148 0.19205867 0.33557763\n",
            "  0.31411341 0.28857042 0.66791297 0.30686433 0.48017994 0.23767064\n",
            "  0.57621311 0.35452027 0.59742108 0.16686877 0.33248754 0.73138178\n",
            "  0.52117733 0.7377749  0.48621897 0.47907587 0.43603498 0.57885034\n",
            "  0.36853403 0.         0.42502296 0.58307209 0.64953888 0.56348817\n",
            "  0.43385769 0.39535029 0.33094145 0.379261   0.46888258 0.65860127\n",
            "  0.36819891 0.30930271 0.37666192 0.27280706 0.27393841 0.47638216\n",
            "  0.15463301 0.46424101 0.50051191 0.64570059 0.16303974 0.11881384\n",
            "  0.16535839 0.46128321 0.25425815 0.40208277 0.57597397 0.58402396\n",
            "  0.3148905  0.49864492 0.55320654 0.62129364 0.38780492 0.03150743\n",
            "  0.12420108 0.22566765 0.14592304 0.59581646 0.47771679 0.60652704\n",
            "  0.12604848 0.14312238 0.52879822 0.15967866 0.5829623  0.18610611\n",
            "  0.21658754 0.63710435 0.43753829 0.36882491 0.26151292 0.44855859\n",
            "  0.27056766 0.43590606 0.33177555 0.44741329]\n",
            " [0.17441297 0.57771303 0.6091981  0.0974996  0.92736456 0.79474707\n",
            "  0.94545123 0.54618029 0.80434662 0.85806702 0.4074713  0.91820694\n",
            "  0.37344443 0.14911221 0.70060725 0.32788411 0.3081226  0.25957979\n",
            "  1.17534874 0.34415005 1.02818243 0.45557961 0.45147371 0.70351922\n",
            "  0.72337384 0.53165496 1.09248686 0.21810997 0.63622141 0.66265967\n",
            "  0.94819233 0.76706863 1.02175686 0.27139847 0.50893903 1.15634985\n",
            "  0.93222248 1.15946987 0.82876086 0.8964939  0.83312373 0.96564168\n",
            "  0.78411371 0.42502296 0.         0.84134248 1.0722775  0.96016054\n",
            "  0.68986587 0.0556738  0.55334724 0.43362967 0.87159122 1.07228242\n",
            "  0.7492844  0.59942605 0.63636987 0.67160281 0.60848195 0.71673539\n",
            "  0.5497772  0.76590321 0.81806856 1.05795823 0.41776587 0.45122706\n",
            "  0.28142069 0.78799803 0.66969276 0.29852214 0.95188775 0.7745316\n",
            "  0.641361   0.67532672 0.97549008 1.02109234 0.79559251 0.45649213\n",
            "  0.30603867 0.37691358 0.46416775 1.0004102  0.83722805 1.02640576\n",
            "  0.31575023 0.55300824 0.95282949 0.56921604 0.82976059 0.60775895\n",
            "  0.46359667 1.06208705 0.8392725  0.29039304 0.67877827 0.69362279\n",
            "  0.17044773 0.51673546 0.74411484 0.54733574]\n",
            " [0.67727645 0.78794955 0.27214978 0.8624973  0.94132379 0.63183406\n",
            "  0.58613219 0.32823004 0.77227785 0.40988365 0.87376429 0.345724\n",
            "  0.50594655 0.73206544 0.72025077 0.53271361 0.63613502 0.6162402\n",
            "  0.88750255 0.83746915 0.83209414 0.43118141 0.76850555 0.30302388\n",
            "  0.67086968 0.85100038 0.7312532  0.84533735 1.04512359 0.54515517\n",
            "  0.29900105 0.42978342 0.69452884 0.70260201 0.90766635 0.75413023\n",
            "  0.4525037  0.82942433 0.91338483 0.70607468 0.76988873 0.35606469\n",
            "  0.66513929 0.58307209 0.84134248 0.         0.75599866 0.84943978\n",
            "  0.95969673 0.7876026  0.29058988 0.96205011 0.39270473 0.83912217\n",
            "  0.31843964 0.84232605 0.21480233 0.394163   0.31326569 0.12460734\n",
            "  0.44894891 0.94647574 0.95654772 0.83855546 0.7446947  0.69086904\n",
            "  0.71104671 0.91678417 0.62678413 0.96150169 0.91508515 1.12395131\n",
            "  0.27358435 1.05454741 0.56143835 0.87747395 0.70849275 0.57344617\n",
            "  0.66412931 0.80795793 0.44457105 0.44661187 0.88041992 0.56045113\n",
            "  0.68139811 0.47694386 0.57905917 0.62441372 0.02418668 0.58330473\n",
            "  0.79166604 0.69099554 0.75591449 0.92940345 0.46100444 0.97844602\n",
            "  0.76904466 1.0176321  0.66568491 1.02673849]\n",
            " [0.92000971 0.56387902 0.65352317 1.01915318 0.36841272 0.2778195\n",
            "  0.17424862 0.67741331 0.3251387  0.35071251 0.78141364 0.41554175\n",
            "  0.74967326 0.92388885 0.40257855 0.9520619  0.7656084  1.01173922\n",
            "  0.13316578 0.80576722 0.13813681 0.69571447 0.66819111 0.51964359\n",
            "  0.35915812 0.65351507 0.05243326 0.91336025 0.76110606 0.41422177\n",
            "  0.47940017 0.37671199 0.06376499 0.80313145 0.72395738 0.11303265\n",
            "  0.30462387 0.08975755 0.43131264 0.18451162 0.29234649 0.4229561\n",
            "  0.29390734 0.64953888 1.0722775  0.75599866 0.         0.22847169\n",
            "  0.61341639 1.04484757 0.75115142 0.84442388 0.36446263 0.10704724\n",
            "  0.47495816 0.58408092 0.70835782 0.47399431 0.6038366  0.75333845\n",
            "  0.56187351 0.52793662 0.49003954 0.11815157 0.68603078 0.63417153\n",
            "  0.79553435 0.47452031 0.40472774 0.95938807 0.31331936 0.7382041\n",
            "  0.60760983 0.73757652 0.19531445 0.20111878 0.29677706 0.61814352\n",
            "  0.7663094  0.75757348 0.66916739 0.33617605 0.38775754 0.21449634\n",
            "  0.75837991 0.54443626 0.17864533 0.50516343 0.77589175 0.46460748\n",
            "  0.67127956 0.07536106 0.27580993 0.93117331 0.42825643 0.63082012\n",
            "  0.90869373 0.83462519 0.33605829 0.81830996]\n",
            " [0.82988643 0.39826693 0.67627316 0.89198147 0.14041516 0.22974988\n",
            "  0.29948412 0.67908781 0.15582544 0.44945946 0.61514777 0.54574216\n",
            "  0.69380072 0.81828479 0.25996314 0.90984686 0.66930041 0.95423881\n",
            "  0.25082493 0.65306346 0.09852516 0.66264255 0.51953693 0.56416225\n",
            "  0.25093582 0.47710696 0.27972788 0.77397363 0.55079302 0.36669947\n",
            "  0.61838479 0.42185078 0.23900241 0.69012755 0.54059002 0.34005803\n",
            "  0.43954832 0.27325504 0.20966239 0.14398135 0.12809544 0.57051577\n",
            "  0.21066219 0.56348817 0.96016054 0.84943978 0.22847169 0.\n",
            "  0.40256525 0.94298047 0.76279082 0.66396262 0.47212448 0.14892372\n",
            "  0.53452249 0.40203509 0.74426434 0.48857804 0.61927778 0.81335527\n",
            "  0.53028046 0.30988714 0.26615601 0.13088943 0.54699478 0.5089922\n",
            "  0.67905084 0.25701008 0.31356091 0.79639627 0.08716922 0.51369329\n",
            "  0.63756419 0.52276224 0.34931445 0.06178968 0.17887617 0.53506512\n",
            "  0.66120943 0.60708292 0.63180637 0.50073486 0.16961403 0.39668369\n",
            "  0.64701731 0.50351411 0.31243254 0.4039375  0.86514281 0.38637653\n",
            "  0.51547204 0.28702518 0.12630913 0.77197995 0.42368924 0.41801863\n",
            "  0.79015027 0.63968348 0.23702749 0.61913651]\n",
            " [0.6189857  0.17794943 0.70632662 0.60086632 0.29719019 0.41656745\n",
            "  0.59889296 0.67296848 0.29462318 0.66022203 0.28459093 0.7673919\n",
            "  0.57951118 0.57895869 0.26720031 0.77636733 0.48135301 0.78611504\n",
            "  0.6530909  0.34575636 0.49981478 0.5999164  0.26507076 0.66193166\n",
            "  0.32955041 0.16442285 0.65865626 0.47392546 0.14845202 0.42510536\n",
            "  0.83654801 0.57791825 0.5985263  0.46151152 0.18444785 0.72575903\n",
            "  0.6950932  0.67316581 0.19711037 0.44593853 0.32486761 0.80954719\n",
            "  0.37736286 0.43385769 0.68986587 0.95969673 0.61341639 0.40256525\n",
            "  0.         0.69361797 0.75323477 0.29524431 0.68589279 0.55091882\n",
            "  0.66419425 0.12493843 0.77967919 0.570693   0.65373451 0.8749151\n",
            "  0.51874737 0.09849329 0.15415867 0.53290391 0.3048626  0.31851061\n",
            "  0.44578703 0.14712747 0.34747393 0.44793695 0.34499599 0.16508647\n",
            "  0.69002752 0.12536438 0.65241394 0.45791888 0.34629026 0.42422276\n",
            "  0.45709184 0.31613054 0.57093833 0.77529335 0.23309678 0.71276466\n",
            "  0.43359765 0.48810294 0.61276404 0.3362317  0.96628185 0.37713223\n",
            "  0.24384922 0.65139028 0.3435509  0.43299003 0.51002924 0.02010961\n",
            "  0.52967303 0.24786889 0.34769457 0.22257965]\n",
            " [0.13081884 0.56971342 0.55970443 0.13043395 0.91811484 0.7683947\n",
            "  0.91252973 0.49712111 0.78757115 0.81790868 0.41639169 0.87423437\n",
            "  0.32902444 0.1247424  0.68302796 0.27221836 0.27947306 0.20508382\n",
            "  1.1515713  0.3507112  1.00712066 0.40974248 0.44484607 0.65859618\n",
            "  0.70141242 0.53197039 1.06287142 0.23271931 0.65152045 0.6323669\n",
            "  0.90180547 0.72890639 0.99257543 0.2534896  0.51680368 1.1255798\n",
            "  0.89275153 1.1328963  0.82184196 0.87214775 0.81518968 0.92116731\n",
            "  0.76027343 0.39535029 0.0556738  0.7876026  1.04484757 0.94298047\n",
            "  0.69361797 0.         0.50065971 0.45302081 0.83042648 1.04987856\n",
            "  0.70547985 0.59606097 0.58424686 0.6313413  0.56175676 0.66302403\n",
            "  0.51098626 0.76464712 0.81513188 1.03610255 0.40870787 0.43511876\n",
            "  0.26579455 0.78319772 0.6454232  0.32940277 0.93963012 0.78863082\n",
            "  0.59340662 0.68908251 0.94041277 1.00327153 0.77447551 0.42679815\n",
            "  0.28254951 0.37765913 0.42062307 0.95904546 0.82736204 0.98980608\n",
            "  0.29598207 0.5166326  0.91931878 0.54579818 0.77565872 0.58064308\n",
            "  0.45950025 1.03130223 0.82013712 0.31638211 0.64271399 0.69894116\n",
            "  0.1642331  0.53713188 0.72128986 0.56661779]\n",
            " [0.38691372 0.5752857  0.09949156 0.57191008 0.8161625  0.53376339\n",
            "  0.58099546 0.08564946 0.64289419 0.42344268 0.61192625 0.4331926\n",
            "  0.2223181  0.44158244 0.56090421 0.26487927 0.35680266 0.34757161\n",
            "  0.88167203 0.5669932  0.7799643  0.1610578  0.52295572 0.23741665\n",
            "  0.53079054 0.61813932 0.74594104 0.55976408 0.81095493 0.40045354\n",
            "  0.43635735 0.3744576  0.68797708 0.42141768 0.66315878 0.79160269\n",
            "  0.49584251 0.83824782 0.75984674 0.63480909 0.65283036 0.47196047\n",
            "  0.5534548  0.33094145 0.55334724 0.29058988 0.75115142 0.76279082\n",
            "  0.75323477 0.50065971 0.         0.69748015 0.42323364 0.80420433\n",
            "  0.28812002 0.62884582 0.0850391  0.28086057 0.1479365  0.16721293\n",
            "  0.24645539 0.76503643 0.78967332 0.79743342 0.49219012 0.44884087\n",
            "  0.4316859  0.74864797 0.47160038 0.67889583 0.80626549 0.91008352\n",
            "  0.14704274 0.8281496  0.58304446 0.80765187 0.59108736 0.33225211\n",
            "  0.38657325 0.54434662 0.18537306 0.5368166  0.73761898 0.61171287\n",
            "  0.40664488 0.27781501 0.58075573 0.42675756 0.28196716 0.40640545\n",
            "  0.54752008 0.70631912 0.64505417 0.64768416 0.3403148  0.76974959\n",
            "  0.48009449 0.76202791 0.53583129 0.77597302]\n",
            " [0.4222964  0.28161087 0.68991724 0.33706105 0.58264192 0.59129949\n",
            "  0.77902113 0.63677581 0.52306586 0.776664   0.08887126 0.87272055\n",
            "  0.48000019 0.36400602 0.44404137 0.61866777 0.34680661 0.5993164\n",
            "  0.9110031  0.13376625 0.75405082 0.53808164 0.20982598 0.70406946\n",
            "  0.49688772 0.190928   0.88149011 0.22053026 0.20499985 0.52265172\n",
            "  0.93013276 0.67957787 0.81332592 0.29180094 0.12338793 0.95045014\n",
            "  0.83326955 0.91800478 0.47854267 0.6613045  0.55638206 0.92075557\n",
            "  0.56139775 0.379261   0.43362967 0.96205011 0.84442388 0.66396262\n",
            "  0.29524431 0.45302081 0.69748015 0.         0.7993906  0.80466933\n",
            "  0.72750795 0.26298187 0.75297855 0.62650065 0.65272371 0.85252711\n",
            "  0.52511112 0.38968243 0.44631256 0.78734193 0.22178467 0.28276641\n",
            "  0.27751979 0.42936843 0.47506555 0.15579097 0.6236716  0.34364483\n",
            "  0.69364528 0.24616387 0.82622721 0.72429797 0.54889526 0.39220914\n",
            "  0.31597711 0.15424506 0.51954063 0.91458222 0.50427626 0.88683111\n",
            "  0.29338631 0.50395353 0.79108423 0.39928304 0.96126967 0.45575629\n",
            "  0.19360424 0.86398048 0.57071017 0.14812711 0.58906468 0.29137149\n",
            "  0.30470402 0.08424927 0.52046763 0.11381347]\n",
            " [0.69969466 0.54682191 0.32442301 0.84802145 0.58306715 0.28379611\n",
            "  0.19344124 0.36780473 0.43146832 0.02586275 0.7150016  0.08199189\n",
            "  0.50253261 0.72698139 0.41913194 0.66495677 0.57630664 0.73869401\n",
            "  0.49699735 0.70813976 0.44252021 0.42644312 0.59004981 0.18838125\n",
            "  0.35761713 0.63360774 0.3441741  0.7753564  0.80746578 0.27851736\n",
            "  0.15421148 0.11992777 0.30223406 0.63467027 0.70474557 0.37793176\n",
            "  0.07275124 0.44193969 0.58119085 0.32893921 0.41858225 0.12451623\n",
            "  0.32356146 0.46888258 0.87159122 0.39270473 0.36446263 0.47212448\n",
            "  0.68589279 0.83042648 0.42323364 0.7993906  0.         0.4467761\n",
            "  0.13648195 0.59355874 0.36304931 0.20038542 0.28991285 0.39293658\n",
            "  0.32339049 0.64135072 0.63427318 0.44687405 0.5859578  0.52277013\n",
            "  0.63416092 0.59931159 0.34308807 0.86199407 0.54716513 0.84715609\n",
            "  0.2770372  0.80260855 0.17284705 0.49203007 0.36518209 0.44148176\n",
            "  0.59106685 0.66400176 0.4107836  0.12883861 0.54091576 0.18968849\n",
            "  0.59492925 0.32652367 0.18651657 0.40045618 0.41197089 0.34412938\n",
            "  0.60593583 0.30338148 0.40104246 0.82917773 0.21295119 0.70599632\n",
            "  0.73470349 0.82645666 0.3423284  0.82370023]\n",
            " [0.93001141 0.53093778 0.70977685 1.01106586 0.28052076 0.2886978\n",
            "  0.25366484 0.7255112  0.28319673 0.42935444 0.75011756 0.50660905\n",
            "  0.77400836 0.92632531 0.37790214 0.98434661 0.77126254 1.03760934\n",
            "  0.10674516 0.78247689 0.05125886 0.7294199  0.64595666 0.58212746\n",
            "  0.34891915 0.61520279 0.15764631 0.8981357  0.69929224 0.43473212\n",
            "  0.57403316 0.43532511 0.15197861 0.80090842 0.6817588  0.20462583\n",
            "  0.3947581  0.12532837 0.35852616 0.1806975  0.25033071 0.51935932\n",
            "  0.29013796 0.65860127 1.07228242 0.83912217 0.10704724 0.14892372\n",
            "  0.55091882 1.04987856 0.80420433 0.80466933 0.4467761  0.\n",
            "  0.54226389 0.54168909 0.77044628 0.52336179 0.65639525 0.82488881\n",
            "  0.59390147 0.45880764 0.41442188 0.01803979 0.66917056 0.62385439\n",
            "  0.79148337 0.40587361 0.40488273 0.93093908 0.22416224 0.66101199\n",
            "  0.6660115  0.67165042 0.28794147 0.10375291 0.27710466 0.62808575\n",
            "  0.7676716  0.73516614 0.70062405 0.43604974 0.31833837 0.31682128\n",
            "  0.7565495  0.57199229 0.26216068 0.50408196 0.85778116 0.47309889\n",
            "  0.64512761 0.18133498 0.23895667 0.90485184 0.46811304 0.56666512\n",
            "  0.90447232 0.7849959  0.32859595 0.76553326]\n",
            " [0.57554891 0.50399859 0.18879772 0.73382315 0.62288437 0.31348945\n",
            "  0.30109732 0.23158227 0.45450097 0.13533828 0.63975372 0.16892295\n",
            "  0.37647183 0.6084039  0.41010515 0.52913527 0.46527563 0.60396501\n",
            "  0.60779893 0.62212931 0.52744287 0.29686346 0.51897824 0.05190995\n",
            "  0.35649546 0.58120265 0.46364145 0.67299303 0.76826453 0.23929377\n",
            "  0.20805351 0.11267731 0.41119504 0.5278671  0.64739605 0.50534811\n",
            "  0.20842626 0.55885425 0.59785615 0.39288051 0.45146011 0.21668531\n",
            "  0.34679854 0.36819891 0.7492844  0.31843964 0.47495816 0.53452249\n",
            "  0.66419425 0.70547985 0.28812002 0.72750795 0.13648195 0.54226389\n",
            "  0.         0.55607001 0.2343668  0.10119007 0.15400039 0.28301143\n",
            "  0.214082   0.63867555 0.64367993 0.53873539 0.50680407 0.44480093\n",
            "  0.52975512 0.60486662 0.31930091 0.76986382 0.59732574 0.82917465\n",
            "  0.14122667 0.77057312 0.29662709 0.56719857 0.3902229  0.34517412\n",
            "  0.48406457 0.5818819  0.28515091 0.2588603  0.56339117 0.32364016\n",
            "  0.49180601 0.22722958 0.29870475 0.34250772 0.33227114 0.29138323\n",
            "  0.53845857 0.42325158 0.43751359 0.7366285  0.15417779 0.68381204\n",
            "  0.62251275 0.76645233 0.34926934 0.76870986]\n",
            " [0.50953783 0.05459066 0.58459059 0.51736743 0.33468072 0.34626978\n",
            "  0.5354807  0.54927751 0.26058037 0.56854684 0.21599487 0.67334195\n",
            "  0.45580708 0.47605733 0.19190044 0.65645573 0.36389349 0.67103965\n",
            "  0.64805657 0.26362148 0.49110446 0.47498992 0.15286266 0.54886002\n",
            "  0.25168861 0.07581421 0.62332122 0.39191142 0.21424856 0.32064018\n",
            "  0.7394403  0.47939011 0.55693215 0.35223611 0.14040868 0.6921827\n",
            "  0.61261739 0.65567183 0.23214364 0.4030694  0.2939005  0.71807412\n",
            "  0.31148644 0.30930271 0.59942605 0.84232605 0.58408092 0.40203509\n",
            "  0.12493843 0.59606097 0.62884582 0.26298187 0.59355874 0.54168909\n",
            "  0.55607001 0.         0.65744686 0.45898898 0.53327312 0.75370979\n",
            "  0.39731173 0.16962291 0.21909627 0.52437677 0.19173811 0.1956537\n",
            "  0.33721731 0.18884128 0.250561   0.39619795 0.36876882 0.2833086\n",
            "  0.57059426 0.21460906 0.58630705 0.46294252 0.29211113 0.2992856\n",
            "  0.34190911 0.22360398 0.44609456 0.69434445 0.24895658 0.64753954\n",
            "  0.31958069 0.36728676 0.5485485  0.21818463 0.8478392  0.26490065\n",
            "  0.13656106 0.60871118 0.30888201 0.37380037 0.40278885 0.14091022\n",
            "  0.43237794 0.25266514 0.27384452 0.240737  ]\n",
            " [0.46777844 0.60296838 0.07417544 0.65094416 0.81127695 0.51483427\n",
            "  0.53503913 0.11620911 0.63729006 0.36732233 0.66551336 0.36188961\n",
            "  0.29116466 0.51996037 0.56534808 0.34892553 0.42178166 0.43204669\n",
            "  0.84077334 0.62590454 0.75092447 0.21736275 0.56674304 0.18897985\n",
            "  0.5270755  0.65598231 0.69800798 0.63053683 0.85053239 0.39486354\n",
            "  0.35771024 0.33516813 0.6446234  0.48806873 0.70725894 0.73871746\n",
            "  0.43557815 0.79302198 0.76474771 0.6093034  0.64296617 0.39727537\n",
            "  0.53976494 0.37666192 0.63636987 0.21480233 0.70835782 0.74426434\n",
            "  0.77967919 0.58424686 0.0850391  0.75297855 0.36304931 0.77044628\n",
            "  0.2343668  0.65744686 0.         0.25576713 0.13103273 0.09974036\n",
            "  0.26112844 0.78096621 0.80000287 0.76537911 0.53967346 0.49002774\n",
            "  0.4968178  0.75908604 0.47245785 0.74694518 0.79562231 0.94071165\n",
            "  0.10670044 0.86409448 0.53031843 0.78435509 0.58023643 0.37139454\n",
            "  0.45016057 0.5987619  0.23344351 0.46817591 0.73824523 0.55271872\n",
            "  0.46811929 0.29222101 0.53299712 0.44510636 0.21014932 0.41474823\n",
            "  0.59072324 0.65760873 0.63288691 0.71496966 0.32232276 0.79729714\n",
            "  0.55498554 0.8125143  0.52835583 0.82386674]\n",
            " [0.50052279 0.40607449 0.18854638 0.64803042 0.5590801  0.2590673\n",
            "  0.30933897 0.20359918 0.38593995 0.18658969 0.53891388 0.2569388\n",
            "  0.30546037 0.52660863 0.32623166 0.48576052 0.37665171 0.55330009\n",
            "  0.6027214  0.52285211 0.49960675 0.23455445 0.41780826 0.09172709\n",
            "  0.27927684 0.48109592 0.47384827 0.57948543 0.6697219  0.15101554\n",
            "  0.30587158 0.10342818 0.41179209 0.43649077 0.54659976 0.52580921\n",
            "  0.26156833 0.56250467 0.52145852 0.35551311 0.3890313  0.3060464\n",
            "  0.28485553 0.27280706 0.67160281 0.394163   0.47399431 0.48857804\n",
            "  0.570693   0.6313413  0.28086057 0.62650065 0.20038542 0.52336179\n",
            "  0.10119007 0.45898898 0.25576713 0.         0.13326355 0.33121706\n",
            "  0.12314589 0.55247785 0.56283035 0.51660272 0.40614596 0.34389564\n",
            "  0.43697945 0.52284781 0.23262903 0.6724728  0.54080919 0.73574619\n",
            "  0.14911319 0.6735702  0.32249166 0.52985907 0.32624503 0.24774216\n",
            "  0.3926924  0.48178761 0.21465863 0.32917163 0.49090542 0.36428049\n",
            "  0.39821768 0.12981534 0.31162659 0.24306981 0.40393918 0.1943237\n",
            "  0.43727596 0.43577479 0.37806623 0.63931163 0.06861669 0.59000326\n",
            "  0.53502638 0.66537668 0.2771124  0.66795243]\n",
            " [0.4340971  0.47868508 0.0579472  0.60349275 0.68133654 0.38956411\n",
            "  0.43497005 0.07810384 0.507301   0.28575243 0.56396566 0.31725557\n",
            "  0.23630066 0.4741102  0.4343332  0.37515971 0.34642527 0.45024506\n",
            "  0.73395539 0.53265683 0.6328424  0.15321131 0.45558694 0.10249403\n",
            "  0.39654981 0.53815803 0.600126   0.55958413 0.73257531 0.26433344\n",
            "  0.34005045 0.22749076 0.54087627 0.41274768 0.5944347  0.6480043\n",
            "  0.3608367  0.69138714 0.63371498 0.4883888  0.51413465 0.3621778\n",
            "  0.41208198 0.27393841 0.60848195 0.31326569 0.6038366  0.61927778\n",
            "  0.65373451 0.56175676 0.1479365  0.65272371 0.28991285 0.65639525\n",
            "  0.15400039 0.53327312 0.13103273 0.13326355 0.         0.22146248\n",
            "  0.13649308 0.65124203 0.66926711 0.64980626 0.43308728 0.37790071\n",
            "  0.4181167  0.62839518 0.3414402  0.66770373 0.66728268 0.8163538\n",
            "  0.04095251 0.7433501  0.4404139  0.66220785 0.45159951 0.26138215\n",
            "  0.37059551 0.49955429 0.15120188 0.41247615 0.60739701 0.47377334\n",
            "  0.38389086 0.16598637 0.43545738 0.31770794 0.31625496 0.28445321\n",
            "  0.47856402 0.56093022 0.50483424 0.6347165  0.19559057 0.67182505\n",
            "  0.49679922 0.70536676 0.3985991  0.71376919]\n",
            " [0.55311637 0.69913652 0.16939758 0.7387688  0.8902433  0.58657051\n",
            "  0.57920703 0.21586417 0.7171364  0.40332871 0.76517068 0.37043432\n",
            "  0.38646622 0.60867616 0.6519616  0.41037366 0.51903214 0.49419504\n",
            "  0.88650206 0.72495309 0.81038563 0.31582754 0.66619768 0.24920866\n",
            "  0.60937877 0.75449512 0.73665187 0.72553132 0.94913506 0.47823233\n",
            "  0.34622608 0.39371476 0.68987057 0.58484132 0.80663594 0.76997691\n",
            "  0.46219549 0.83395036 0.85016338 0.67388528 0.71980438 0.39577241\n",
            "  0.61511643 0.47638216 0.71673539 0.12460734 0.75333845 0.81335527\n",
            "  0.8749151  0.66302403 0.16721293 0.85252711 0.39293658 0.82488881\n",
            "  0.28301143 0.75370979 0.09974036 0.33121706 0.22146248 0.\n",
            "  0.35642129 0.87199521 0.88821302 0.82165333 0.63937766 0.58930805\n",
            "  0.59415699 0.847543   0.55817613 0.84339779 0.87055375 1.03699186\n",
            "  0.18788416 0.96192105 0.56559223 0.84891004 0.65709139 0.47069615\n",
            "  0.54790876 0.69834011 0.33300402 0.47815618 0.82127786 0.57796796\n",
            "  0.56646479 0.38682301 0.5749232  0.53910102 0.11475425 0.50502882\n",
            "  0.69009848 0.69584301 0.70815256 0.81173023 0.39975729 0.89286027\n",
            "  0.64711737 0.91225002 0.60822952 0.92350841]\n",
            " [0.38033676 0.34273008 0.18758039 0.52489377 0.57202447 0.30811155\n",
            "  0.41038682 0.16120648 0.40018193 0.30861383 0.43630849 0.3783947\n",
            "  0.19101559 0.40390211 0.31462731 0.39123428 0.25369043 0.45014531\n",
            "  0.6837532  0.41206774 0.5619557  0.13551858 0.32264443 0.18134181\n",
            "  0.28813919 0.40205291 0.56997758 0.45902154 0.59628924 0.16375421\n",
            "  0.42211302 0.21793907 0.50305321 0.31454654 0.45989464 0.62753613\n",
            "  0.38244673 0.65162282 0.51339333 0.41532055 0.41317621 0.42733083\n",
            "  0.31980887 0.15463301 0.5497772  0.44894891 0.56187351 0.53028046\n",
            "  0.51874737 0.51098626 0.24645539 0.52511112 0.32339049 0.59390147\n",
            "  0.214082   0.39731173 0.26112844 0.12314589 0.13649308 0.35642129\n",
            "  0.         0.52159048 0.54393533 0.58418896 0.30350554 0.2452022\n",
            "  0.31589161 0.50289116 0.22701464 0.55671503 0.56571644 0.6805747\n",
            "  0.17537334 0.60686054 0.43244952 0.58043065 0.35335901 0.1341783\n",
            "  0.27069654 0.37461613 0.10742095 0.45206502 0.49173222 0.47950891\n",
            "  0.27775633 0.03162388 0.41529767 0.18417495 0.45260756 0.1599857\n",
            "  0.34488161 0.53453654 0.40762195 0.52345735 0.13619493 0.53654351\n",
            "  0.41199487 0.57318423 0.29607774 0.58007938]\n",
            " [0.67898253 0.20795797 0.70680068 0.68075789 0.19877276 0.36088882\n",
            "  0.53230535 0.68144536 0.222653   0.61549022 0.36842704 0.72333272\n",
            "  0.61279493 0.64544446 0.2286582  0.81994625 0.53096213 0.83852938\n",
            "  0.55901161 0.42468202 0.40814088 0.62030638 0.32248548 0.64405679\n",
            "  0.2859413  0.23437787 0.57527871 0.55401912 0.24300225 0.40181865\n",
            "  0.79487143 0.54223501 0.5190092  0.52182004 0.27277032 0.64091457\n",
            "  0.64124533 0.58260236 0.10088216 0.37068925 0.24868286 0.76234113\n",
            "  0.32052443 0.46424101 0.76590321 0.94647574 0.52793662 0.30988714\n",
            "  0.09849329 0.76464712 0.76503643 0.38968243 0.64135072 0.45880764\n",
            "  0.63867555 0.16962291 0.78096621 0.55247785 0.65124203 0.87199521\n",
            "  0.52159048 0.         0.0566372  0.44077081 0.36124168 0.35878303\n",
            "  0.50683518 0.05345303 0.32031682 0.53946419 0.24758189 0.21538506\n",
            "  0.68436248 0.21298202 0.58666737 0.36292359 0.28314808 0.44844719\n",
            "  0.51027467 0.38899054 0.58961779 0.71898164 0.14101251 0.64547883\n",
            "  0.48844113 0.49001269 0.54644478 0.33836075 0.95540078 0.36696888\n",
            "  0.30557098 0.57165248 0.26828124 0.52216418 0.48700601 0.11048733\n",
            "  0.60059811 0.34617025 0.29920351 0.32106854]\n",
            " [0.72569264 0.2510037  0.72593769 0.7342468  0.14520128 0.35065941\n",
            "  0.51056894 0.70498341 0.20471002 0.60854801 0.42359393 0.71586791\n",
            "  0.64881576 0.69465254 0.23678393 0.85937797 0.57447582 0.8816708\n",
            "  0.51185214 0.47852281 0.36462314 0.65028855 0.37101801 0.65353311\n",
            "  0.28721609 0.28763062 0.53904018 0.60779731 0.29497471 0.41199092\n",
            "  0.78846608 0.54209763 0.48668385 0.56939933 0.32896146 0.60296421\n",
            "  0.62780463 0.53930761 0.05959084 0.34422678 0.22517895 0.75250218\n",
            "  0.31071606 0.50051191 0.81806856 0.95654772 0.49003954 0.26615601\n",
            "  0.15415867 0.81513188 0.78967332 0.44631256 0.63427318 0.41442188\n",
            "  0.64367993 0.21909627 0.80000287 0.56283035 0.66926711 0.88821302\n",
            "  0.54393533 0.0566372  0.         0.39647337 0.40889902 0.40076007\n",
            "  0.55476837 0.04104418 0.33072891 0.59578921 0.19687351 0.24821114\n",
            "  0.70035875 0.26201954 0.56501358 0.31548221 0.26981561 0.4822284\n",
            "  0.55531975 0.44139668 0.61906463 0.7031795  0.10448253 0.62214135\n",
            "  0.53427439 0.51234606 0.52475905 0.36419766 0.96676447 0.38555162\n",
            "  0.35564681 0.5387009  0.24480195 0.57811593 0.49554328 0.16432441\n",
            "  0.65146875 0.40202181 0.29643418 0.37631739]\n",
            " [0.91688591 0.51422894 0.70373203 0.99597884 0.26314472 0.27765927\n",
            "  0.25464338 0.71802208 0.26641848 0.42867987 0.73332203 0.50878294\n",
            "  0.76286161 0.91235553 0.36218944 0.97406674 0.7578007  1.02638958\n",
            "  0.1237233  0.76623544 0.03343798 0.71966612 0.62992167 0.57753551\n",
            "  0.33478905 0.59806154 0.16988219 0.88247453 0.68127027 0.42395329\n",
            "  0.57713685 0.43057872 0.15727407 0.78656007 0.66436162 0.21989502\n",
            "  0.3970797  0.14307091 0.34050546 0.1695018  0.23370991 0.52316587\n",
            "  0.2771838  0.64570059 1.05795823 0.83855546 0.11815157 0.13088943\n",
            "  0.53290391 1.03610255 0.79743342 0.78734193 0.44687405 0.01803979\n",
            "  0.53873539 0.52437677 0.76537911 0.51660272 0.64980626 0.82165333\n",
            "  0.58418896 0.44077081 0.39647337 0.         0.65356468 0.60891517\n",
            "  0.77695733 0.38783383 0.39165354 0.91424019 0.20680431 0.64318754\n",
            "  0.66044652 0.65361077 0.29163443 0.0871318  0.26242565 0.61534747\n",
            "  0.75373893 0.71903063 0.6905934  0.44132713 0.30030063 0.32352776\n",
            "  0.74229    0.56169482 0.26390903 0.4903564  0.85688314 0.4605959\n",
            "  0.62878433 0.19075143 0.2228586  0.88831284 0.46002335 0.54863331\n",
            "  0.88982972 0.76724036 0.31490166 0.74768086]\n",
            " [0.31780003 0.16100577 0.47335637 0.34505747 0.51001204 0.41318921\n",
            "  0.59110687 0.42400749 0.39176856 0.56447208 0.13323956 0.65630652\n",
            "  0.28927802 0.28635609 0.29139349 0.47311109 0.17717946 0.48142934\n",
            "  0.77493043 0.12513708 0.62212886 0.33116817 0.03980795 0.48233522\n",
            "  0.32691045 0.14275009 0.71522478 0.22898993 0.32316292 0.31584967\n",
            "  0.71118306 0.46620176 0.64440456 0.1606337  0.17189027 0.78299035\n",
            "  0.6260479  0.76835186 0.41314633 0.5026706  0.42239153 0.7048986\n",
            "  0.39219708 0.16303974 0.41776587 0.7446947  0.68603078 0.54699478\n",
            "  0.3048626  0.40870787 0.49219012 0.22178467 0.5859578  0.66917056\n",
            "  0.50680407 0.19173811 0.53967346 0.40614596 0.43308728 0.63937766\n",
            "  0.30350554 0.36124168 0.40889902 0.65356468 0.         0.06320422\n",
            "  0.14587161 0.37537634 0.28664607 0.2824068  0.53428652 0.43816349\n",
            "  0.47386024 0.3463522  0.63329842 0.60857563 0.39366901 0.17171407\n",
            "  0.15222926 0.07848753 0.30832213 0.70593762 0.41960639 0.69203187\n",
            "  0.1288767  0.28221427 0.60172518 0.19404261 0.74526312 0.24861997\n",
            "  0.06228619 0.69130489 0.43106642 0.25123429 0.37336997 0.31549148\n",
            "  0.24763367 0.27313353 0.34998257 0.28444076]\n",
            " [0.33016253 0.15082969 0.42131499 0.38731981 0.48676784 0.35842859\n",
            "  0.53221661 0.37580252 0.35321887 0.50134527 0.19503174 0.59317728\n",
            "  0.26111698 0.31044221 0.24940335 0.46161478 0.17412221 0.48091515\n",
            "  0.72850585 0.18690985 0.57840077 0.2894434  0.07769173 0.42186298\n",
            "  0.27674602 0.16976928 0.66110309 0.27960365 0.36220936 0.25391414\n",
            "  0.64846035 0.40303952 0.59001663 0.18164713 0.2173919  0.72823136\n",
            "  0.56336504 0.71828402 0.39588995 0.4525878  0.3819183  0.64173866\n",
            "  0.34065648 0.11881384 0.45122706 0.69086904 0.63417153 0.5089922\n",
            "  0.31851061 0.43511876 0.44884087 0.28276641 0.52277013 0.62385439\n",
            "  0.44480093 0.1956537  0.49002774 0.34389564 0.37790071 0.58930805\n",
            "  0.2452022  0.35878303 0.40076007 0.60891517 0.06320422 0.\n",
            "  0.17009482 0.36386382 0.23082689 0.34358757 0.50514733 0.46557979\n",
            "  0.41829381 0.37987779 0.5731265  0.56986605 0.34680026 0.11863325\n",
            "  0.15780997 0.14137346 0.26346911 0.64304391 0.39575322 0.63132786\n",
            "  0.14001251 0.22203003 0.54245327 0.13409923 0.69258277 0.187099\n",
            "  0.10093325 0.63567489 0.38845659 0.31180056 0.31016668 0.33222319\n",
            "  0.28158439 0.32802641 0.29897893 0.33588675]\n",
            " [0.17326035 0.30589635 0.44282111 0.22456716 0.65275395 0.51776988\n",
            "  0.67899592 0.38317188 0.52330192 0.61650298 0.2031053  0.69374505\n",
            "  0.20953804 0.14171149 0.41929772 0.34749789 0.07512593 0.34325376\n",
            "  0.89516593 0.14385428 0.74696279 0.27989074 0.18436356 0.49324617\n",
            "  0.44278636 0.28138321 0.81871323 0.14332464 0.43819079 0.39391531\n",
            "  0.73757833 0.51972381 0.74759741 0.01607788 0.28750399 0.88424121\n",
            "  0.68626096 0.88156825 0.55778628 0.61710968 0.55179816 0.74279454\n",
            "  0.50462339 0.16535839 0.28142069 0.71104671 0.79553435 0.67905084\n",
            "  0.44578703 0.26579455 0.4316859  0.27751979 0.63416092 0.79148337\n",
            "  0.52975512 0.33721731 0.4968178  0.43697945 0.4181167  0.59415699\n",
            "  0.31589161 0.50683518 0.55476837 0.77695733 0.14587161 0.17009482\n",
            "  0.         0.52101265 0.39108396 0.25094221 0.67384722 0.56558215\n",
            "  0.4579571  0.46861811 0.71423511 0.73983692 0.51453218 0.19405646\n",
            "  0.04757202 0.14113359 0.26957738 0.76117284 0.56188251 0.76904792\n",
            "  0.03955031 0.30790664 0.68771529 0.29045596 0.70692348 0.33365563\n",
            "  0.20278804 0.79042388 0.55785214 0.21849885 0.42634194 0.45448231\n",
            "  0.11330771 0.35350369 0.46399461 0.37503573]\n",
            " [0.69079043 0.21559125 0.68500448 0.70613183 0.15340344 0.31653382\n",
            "  0.48275574 0.66394256 0.17372145 0.57350802 0.3995481  0.68112806\n",
            "  0.60936133 0.6616851  0.19662596 0.82081132 0.53791491 0.84460714\n",
            "  0.50678012 0.45155418 0.35508107 0.60968618 0.33837286 0.61376467\n",
            "  0.24876905 0.26088209 0.52199595 0.58037089 0.29436974 0.37189454\n",
            "  0.75335607 0.50460271 0.46627767 0.53534747 0.30884877 0.587511\n",
            "  0.59562416 0.52940529 0.05027536 0.31923053 0.19776193 0.71877746\n",
            "  0.27627072 0.46128321 0.78799803 0.91678417 0.47452031 0.25701008\n",
            "  0.14712747 0.78319772 0.74864797 0.42936843 0.59931159 0.40587361\n",
            "  0.60486662 0.18884128 0.75908604 0.52284781 0.62839518 0.847543\n",
            "  0.50289116 0.05345303 0.04104418 0.38783383 0.37537634 0.36386382\n",
            "  0.52101265 0.         0.29046828 0.57529153 0.19831681 0.2669932\n",
            "  0.65966966 0.26578256 0.53720986 0.31109265 0.23680795 0.44240513\n",
            "  0.51963148 0.41243035 0.5784099  0.67223489 0.0877042  0.59542502\n",
            "  0.49910773 0.47130217 0.4969318  0.32334542 0.92677433 0.34456143\n",
            "  0.32448396 0.51883451 0.21746558 0.55593732 0.45583354 0.1614245\n",
            "  0.62014649 0.39192116 0.25924614 0.36837998]\n",
            " [0.52523242 0.20563561 0.39898403 0.61442857 0.34504588 0.12768758\n",
            "  0.30632616 0.38595357 0.17366816 0.31800434 0.39849782 0.42328567\n",
            "  0.38024236 0.52246858 0.09396091 0.59649137 0.36643831 0.64119665\n",
            "  0.50618327 0.41049044 0.36394432 0.35311955 0.27582352 0.32396069\n",
            "  0.0631165  0.29584516 0.43033309 0.51039992 0.46437967 0.0816363\n",
            "  0.49061758 0.23090941 0.35921788 0.39918116 0.36885319 0.49740847\n",
            "  0.36400669 0.49048909 0.29239511 0.22688827 0.18970431 0.46759892\n",
            "  0.11486846 0.25425815 0.66969276 0.62678413 0.40472774 0.31356091\n",
            "  0.34747393 0.6454232  0.47160038 0.47506555 0.34308807 0.40488273\n",
            "  0.31930091 0.250561   0.47245785 0.23262903 0.3414402  0.55817613\n",
            "  0.22701464 0.32031682 0.33072891 0.39165354 0.28664607 0.23082689\n",
            "  0.39108396 0.29046828 0.         0.56738276 0.34005673 0.51169466\n",
            "  0.37059417 0.46043954 0.35162012 0.36919743 0.13511237 0.22431592\n",
            "  0.36392363 0.36239245 0.32167504 0.44592452 0.26660071 0.41193909\n",
            "  0.35446871 0.1971942  0.31768487 0.10066039 0.6364184  0.07292266\n",
            "  0.28499363 0.40502586 0.18746356 0.53707428 0.16669879 0.367396\n",
            "  0.50435763 0.49034193 0.07777588 0.48454562]\n",
            " [0.33775329 0.40001238 0.69375593 0.20166324 0.72718873 0.69214829\n",
            "  0.8730287  0.63397234 0.64782372 0.84174258 0.1812639  0.92820795\n",
            "  0.4570314  0.27258345 0.55739814 0.54332391 0.32546975 0.50571711\n",
            "  1.03767733 0.15731064 0.88148227 0.53057875 0.29253261 0.73744089\n",
            "  0.60194752 0.32039721 0.99185846 0.12325409 0.3583053  0.59749963\n",
            "  0.97763479 0.74327144 0.92169107 0.25889995 0.26690354 1.06029478\n",
            "  0.90601056 1.03812786 0.62304645 0.77488407 0.68060846 0.97726127\n",
            "  0.66778234 0.40208277 0.29852214 0.96150169 0.95938807 0.79639627\n",
            "  0.44793695 0.32940277 0.67889583 0.15579097 0.86199407 0.93093908\n",
            "  0.76986382 0.39619795 0.74694518 0.6724728  0.66770373 0.84339779\n",
            "  0.55671503 0.53946419 0.59578921 0.91424019 0.2824068  0.34358757\n",
            "  0.25094221 0.57529153 0.56738276 0.         0.76444487 0.49598409\n",
            "  0.70792186 0.40033177 0.91568346 0.85781161 0.66300719 0.42489977\n",
            "  0.29835954 0.20506563 0.52037407 0.98486637 0.64445456 0.97442602\n",
            "  0.28381288 0.543055   0.88383642 0.47643775 0.95682357 0.5306001\n",
            "  0.28811197 0.9700204  0.69269461 0.03325829 0.64923984 0.44553007\n",
            "  0.21550459 0.23018118 0.62555972 0.26231364]\n",
            " [0.8335547  0.3766851  0.72507388 0.87746746 0.05635948 0.28454089\n",
            "  0.38261952 0.72114335 0.1666752  0.52346088 0.58476037 0.62334881\n",
            "  0.71471651 0.81521112 0.26645492 0.93176435 0.67379214 0.96953646\n",
            "  0.31641146 0.62965169 0.17783189 0.69307388 0.50250078 0.62217201\n",
            "  0.27773427 0.44448095 0.36517461 0.755217   0.49045983 0.40582487\n",
            "  0.69655714 0.48531668 0.32617154 0.68631757 0.5011458  0.42332314\n",
            "  0.51986231 0.34929212 0.14805765 0.21921066 0.1534531  0.65070358\n",
            "  0.25597291 0.57597397 0.95188775 0.91508515 0.31331936 0.08716922\n",
            "  0.34499599 0.93963012 0.80626549 0.6236716  0.54716513 0.22416224\n",
            "  0.59732574 0.36876882 0.79562231 0.54080919 0.66728268 0.87055375\n",
            "  0.56571644 0.24758189 0.19687351 0.20680431 0.53428652 0.50514733\n",
            "  0.67384722 0.19831681 0.34005673 0.76444487 0.         0.43897324\n",
            "  0.68946261 0.45872315 0.4337882  0.1213575  0.21569807 0.54999071\n",
            "  0.66188951 0.58611004 0.66154863 0.58412283 0.11999368 0.48277049\n",
            "  0.64514119 0.53673011 0.39596247 0.41782051 0.92955447 0.41184157\n",
            "  0.49442203 0.37394677 0.16277003 0.74255985 0.4733457  0.3580536\n",
            "  0.78150914 0.59000699 0.27052357 0.56669669]\n",
            " [0.73443455 0.33786197 0.867899   0.6791776  0.38346686 0.57188606\n",
            "  0.74730234 0.83179996 0.43777864 0.8213649  0.37398669 0.9289664\n",
            "  0.72469427 0.68543811 0.42815512 0.90918429 0.6138023  0.90853658\n",
            "  0.75528599 0.44063718 0.61188664 0.75349478 0.40022709 0.82692183\n",
            "  0.48958452 0.29734776 0.78694453 0.55732865 0.13871747 0.58998708\n",
            "  0.9989762  0.74142171 0.73294042 0.58165872 0.27851313 0.85115637\n",
            "  0.85230134 0.78624826 0.30699307 0.58596367 0.4640457  0.9700263\n",
            "  0.5317981  0.58402396 0.7745316  1.12395131 0.7382041  0.51369329\n",
            "  0.16508647 0.78863082 0.91008352 0.34364483 0.84715609 0.66101199\n",
            "  0.82917465 0.2833086  0.94071165 0.73574619 0.8163538  1.03699186\n",
            "  0.6805747  0.21538506 0.24821114 0.64318754 0.43816349 0.46557979\n",
            "  0.56558215 0.2669932  0.51169466 0.49598409 0.43897324 0.\n",
            "  0.85329408 0.09955312 0.80158122 0.55999247 0.49658498 0.57830255\n",
            "  0.58638549 0.42561314 0.72578965 0.93125576 0.3511304  0.86066494\n",
            "  0.56186091 0.65039958 0.76141375 0.49973273 1.13012459 0.54201286\n",
            "  0.37614829 0.78534521 0.48365884 0.49168676 0.67503198 0.14577388\n",
            "  0.63005204 0.26605426 0.50600178 0.23382531]\n",
            " [0.46730035 0.51605149 0.04758889 0.63977649 0.70616631 0.40816566\n",
            "  0.43585988 0.09846995 0.53236703 0.27647411 0.60487517 0.29452036\n",
            "  0.2715326  0.50970785 0.4642551  0.39382801 0.38569847 0.47181696\n",
            "  0.73921219 0.57354096 0.64526318 0.18836769 0.49598503 0.09039727\n",
            "  0.42311831 0.57742522 0.60036188 0.59891686 0.77162949 0.29129282\n",
            "  0.31027253 0.23170064 0.54409067 0.45223513 0.63450542 0.64487747\n",
            "  0.34941591 0.69373969 0.66284662 0.50294107 0.53711849 0.33718891\n",
            "  0.43351114 0.3148905  0.641361   0.27358435 0.60760983 0.63756419\n",
            "  0.69002752 0.59340662 0.14704274 0.69364528 0.2770372  0.6660115\n",
            "  0.14122667 0.57059426 0.10670044 0.14911319 0.04095251 0.18788416\n",
            "  0.17537334 0.68436248 0.70035875 0.66044652 0.47386024 0.41829381\n",
            "  0.4579571  0.65966966 0.37059417 0.70792186 0.68946261 0.85329408\n",
            "  0.         0.78166948 0.43620877 0.67787223 0.47433717 0.3021462\n",
            "  0.41039776 0.54050552 0.18965529 0.39438482 0.63485921 0.46486372\n",
            "  0.42414014 0.20379335 0.4350123  0.3538008  0.27752692 0.31748717\n",
            "  0.5188263  0.56046183 0.52669421 0.67498467 0.21614057 0.70835302\n",
            "  0.53439432 0.74595624 0.42332375 0.7540893 ]\n",
            " [0.63612937 0.26781196 0.79253503 0.58028082 0.40693514 0.53920629\n",
            "  0.72330964 0.75250689 0.41998743 0.77718362 0.27468578 0.8834278\n",
            "  0.63514093 0.58631702 0.38703035 0.81397509 0.51972194 0.81094458\n",
            "  0.77192919 0.34135346 0.62085646 0.66931236 0.30994777 0.7632264\n",
            "  0.44961809 0.21013471 0.78337812 0.45791433 0.0428255  0.53401733\n",
            "  0.95103767 0.69112379 0.72376202 0.48467096 0.18112429 0.85017159\n",
            "  0.81566515 0.79506568 0.3137691  0.57130212 0.45013237 0.92688818\n",
            "  0.50058047 0.49864492 0.67532672 1.05454741 0.73757652 0.52276224\n",
            "  0.12536438 0.68908251 0.8281496  0.24616387 0.80260855 0.67165042\n",
            "  0.77057312 0.21460906 0.86409448 0.6735702  0.7433501  0.96192105\n",
            "  0.60686054 0.21298202 0.26201954 0.65361077 0.3463522  0.37987779\n",
            "  0.46861811 0.26578256 0.46043954 0.40033177 0.45872315 0.09955312\n",
            "  0.78166948 0.         0.776573   0.57571417 0.4708858  0.49604044\n",
            "  0.49154559 0.32794552 0.64289289 0.8964941  0.35341544 0.83713969\n",
            "  0.46691506 0.57787713 0.73710618 0.43195973 1.0591954  0.479506\n",
            "  0.28536293 0.77662756 0.46887914 0.39425232 0.61703425 0.10695601\n",
            "  0.53065525 0.1726343  0.46900602 0.14077177]\n",
            " [0.81064186 0.55019952 0.48360775 0.93731358 0.47984877 0.2401269\n",
            "  0.05447232 0.51771736 0.36402734 0.16351327 0.74999439 0.22041108\n",
            "  0.62298357 0.82686738 0.39497098 0.80786529 0.66895384 0.87568124\n",
            "  0.32606459 0.75837506 0.29497491 0.5565109  0.6264279  0.34587166\n",
            "  0.33471961 0.64272035 0.17136231 0.84716515 0.79045153 0.32163369\n",
            "  0.28618686 0.21907009 0.13666292 0.71833709 0.71621866 0.20875729\n",
            "  0.10933217 0.26929634 0.50655337 0.22283042 0.34000632 0.23154783\n",
            "  0.27678154 0.55320654 0.97549008 0.56143835 0.19531445 0.34931445\n",
            "  0.65241394 0.94041277 0.58304446 0.82622721 0.17284705 0.28794147\n",
            "  0.29662709 0.58630705 0.53031843 0.32249166 0.4404139  0.56559223\n",
            "  0.43244952 0.58666737 0.56501358 0.29163443 0.63329842 0.5731265\n",
            "  0.71423511 0.53720986 0.35162012 0.91568346 0.4337882  0.80158122\n",
            "  0.43620877 0.776573   0.         0.35266397 0.30630554 0.52237863\n",
            "  0.67695498 0.71088794 0.53460015 0.15241399 0.46220407 0.06123354\n",
            "  0.67491573 0.42387826 0.04028473 0.43937479 0.5817208  0.38653007\n",
            "  0.63652946 0.1305997  0.32031614 0.88445915 0.29787757 0.67201307\n",
            "  0.82342558 0.83610921 0.3124929  0.82675052]\n",
            " [0.88906804 0.46000132 0.71837332 0.9535008  0.1775989  0.27440408\n",
            "  0.30784585 0.72510587 0.21704244 0.4710746  0.67659217 0.56103037\n",
            "  0.74877153 0.87863968 0.32054667 0.96394372 0.7285756  1.01038495\n",
            "  0.19639834 0.71483633 0.06328895 0.71422919 0.58129711 0.60056858\n",
            "  0.30745736 0.53821904 0.25354011 0.83571705 0.60544913 0.41675851\n",
            "  0.63214742 0.45528237 0.22762868 0.75072307 0.6009119  0.3067048\n",
            "  0.45135875 0.22826544 0.26204146 0.17528074 0.18811384 0.58112837\n",
            "  0.26128905 0.62129364 1.02109234 0.87747395 0.20111878 0.06178968\n",
            "  0.45791888 1.00327153 0.80765187 0.72429797 0.49203007 0.10375291\n",
            "  0.56719857 0.46294252 0.78435509 0.52985907 0.66220785 0.84891004\n",
            "  0.58043065 0.36292359 0.31548221 0.0871318  0.60857563 0.56986605\n",
            "  0.73983692 0.31109265 0.36919743 0.85781161 0.1213575  0.55999247\n",
            "  0.67787223 0.57571417 0.35266397 0.         0.23412336 0.59236268\n",
            "  0.72117952 0.66887258 0.68380716 0.50499648 0.2252213  0.39296207\n",
            "  0.70740311 0.55481748 0.31939634 0.46215296 0.89430165 0.44153082\n",
            "  0.57725595 0.26914147 0.18398751 0.83356055 0.46735961 0.47250655\n",
            "  0.8512251  0.69802767 0.29170836 0.67668228]\n",
            " [0.65721909 0.26756459 0.50941403 0.73408796 0.2336061  0.08151807\n",
            "  0.25261742 0.50623957 0.06646316 0.33959988 0.48463911 0.44646407\n",
            "  0.5151408  0.65041375 0.1058032  0.73099937 0.49723123 0.77630329\n",
            "  0.38183571 0.51054639 0.23271621 0.48439247 0.37302672 0.41029399\n",
            "  0.07371699 0.35836915 0.33260159 0.62253757 0.48669712 0.19109869\n",
            "  0.51936299 0.28144514 0.26505625 0.52419878 0.43010425 0.40156421\n",
            "  0.35882007 0.37564677 0.21601494 0.11256008 0.06279719 0.48268676\n",
            "  0.04356443 0.38780492 0.79559251 0.70849275 0.29677706 0.17887617\n",
            "  0.34629026 0.77447551 0.59108736 0.54889526 0.36518209 0.27710466\n",
            "  0.3902229  0.29211113 0.58023643 0.32624503 0.45159951 0.65709139\n",
            "  0.35335901 0.28314808 0.26981561 0.26242565 0.39366901 0.34680026\n",
            "  0.51453218 0.23680795 0.13511237 0.66300719 0.21569807 0.49658498\n",
            "  0.47433717 0.4708858  0.30630554 0.23412336 0.         0.35851265\n",
            "  0.49194059 0.46258011 0.45337814 0.4358887  0.1765888  0.36649096\n",
            "  0.48000851 0.32570954 0.2665214  0.22964161 0.72150473 0.20769288\n",
            "  0.37495347 0.31662469 0.05428336 0.63522141 0.2582425  0.36580179\n",
            "  0.627424   0.54472958 0.0581621  0.53140795]\n",
            " [0.3026429  0.24734335 0.30298519 0.41508891 0.54292681 0.34264921\n",
            "  0.489723   0.25739174 0.38568471 0.42312277 0.30333924 0.5042313\n",
            "  0.16782572 0.30740268 0.28356907 0.38337841 0.14838109 0.42011399\n",
            "  0.72743865 0.27800932 0.58812699 0.17574612 0.19564758 0.31533656\n",
            "  0.28493487 0.28627351 0.63640652 0.33391185 0.4801016  0.20617953\n",
            "  0.55276254 0.32587783 0.56592269 0.19660476 0.33594623 0.69989003\n",
            "  0.49227226 0.70645243 0.46501902 0.4483016  0.40803944 0.5533503\n",
            "  0.33816994 0.03150743 0.45649213 0.57344617 0.61814352 0.53506512\n",
            "  0.42422276 0.42679815 0.33225211 0.39220914 0.44148176 0.62808575\n",
            "  0.34517412 0.2992856  0.37139454 0.24774216 0.26138215 0.47069615\n",
            "  0.1341783  0.44844719 0.4822284  0.61534747 0.17171407 0.11863325\n",
            "  0.19405646 0.44240513 0.22431592 0.42489977 0.54999071 0.57830255\n",
            "  0.3021462  0.49604044 0.52237863 0.59236268 0.35851265 0.\n",
            "  0.15460733 0.24063045 0.14748716 0.56772251 0.45443743 0.57608558\n",
            "  0.15452002 0.11815533 0.49763184 0.13232206 0.57459855 0.15519215\n",
            "  0.21941503 0.6056153  0.40889968 0.39170091 0.23230319 0.43983546\n",
            "  0.30109542 0.44422236 0.30201338 0.45363002]\n",
            " [0.17235263 0.30434333 0.39541266 0.26050468 0.64453809 0.48871329\n",
            "  0.64363236 0.33606643 0.50627059 0.57407161 0.23617703 0.64902709\n",
            "  0.16533025 0.15866207 0.40149733 0.32280187 0.03083114 0.32941659\n",
            "  0.86998111 0.18272531 0.72461307 0.23296107 0.19202562 0.44669331\n",
            "  0.41897115 0.29434571 0.7872874  0.18995226 0.46388189 0.35897818\n",
            "  0.69163267 0.47812124 0.71638638 0.04385001 0.31130496 0.85184855\n",
            "  0.64487212 0.8534314  0.55323704 0.59080934 0.53322618 0.69800094\n",
            "  0.47858095 0.12420108 0.30603867 0.66412931 0.7663094  0.66120943\n",
            "  0.45709184 0.28254951 0.38657325 0.31597711 0.59106685 0.7676716\n",
            "  0.48406457 0.34190911 0.45016057 0.3926924  0.37059551 0.54790876\n",
            "  0.27069654 0.51027467 0.55531975 0.75373893 0.15222926 0.15780997\n",
            "  0.04757202 0.51963148 0.36392363 0.29835954 0.66188951 0.58638549\n",
            "  0.41039776 0.49154559 0.67695498 0.72117952 0.49194059 0.15460733\n",
            "  0.         0.17008778 0.22205308 0.71868562 0.55353342 0.73063498\n",
            "  0.02465685 0.26455095 0.65181168 0.26372708 0.66030832 0.30198685\n",
            "  0.21379824 0.75771533 0.53776552 0.26579341 0.38553927 0.46756839\n",
            "  0.1464881  0.38832249 0.43910429 0.40765883]\n",
            " [0.30909798 0.20996248 0.53580871 0.2938156  0.55629262 0.48769773\n",
            "  0.66797027 0.48255476 0.4539893  0.64269158 0.06769426 0.73364567\n",
            "  0.32964355 0.26381278 0.35800239 0.48831897 0.20036836 0.48303757\n",
            "  0.84156826 0.04830207 0.68691681 0.38434202 0.08955398 0.55519269\n",
            "  0.39882781 0.15486426 0.78852885 0.16925261 0.29705732 0.39427413\n",
            "  0.78742098 0.54434698 0.71803625 0.15709998 0.14710353 0.85670153\n",
            "  0.70452956 0.83821175 0.45511978 0.57337685 0.48584728 0.78236037\n",
            "  0.46457911 0.22566765 0.37691358 0.80795793 0.75757348 0.60708292\n",
            "  0.31613054 0.37765913 0.54434662 0.15424506 0.66400176 0.73516614\n",
            "  0.5818819  0.22360398 0.5987619  0.48178761 0.49955429 0.69834011\n",
            "  0.37461613 0.38899054 0.44139668 0.71903063 0.07848753 0.14137346\n",
            "  0.14113359 0.41243035 0.36239245 0.20506563 0.58611004 0.42561314\n",
            "  0.54050552 0.32794552 0.71088794 0.66887258 0.46258011 0.24063045\n",
            "  0.17008778 0.         0.36533812 0.78436798 0.46799849 0.76988408\n",
            "  0.14589569 0.35560096 0.67881308 0.27204851 0.80704714 0.32698064\n",
            "  0.09192431 0.76580415 0.49621864 0.17476955 0.45122397 0.32223508\n",
            "  0.21356932 0.21954158 0.42227869 0.23768754]\n",
            " [0.29043337 0.3933525  0.17373325 0.45334952 0.66301352 0.4136162\n",
            "  0.51550902 0.11726173 0.49491371 0.39974185 0.43221067 0.45406247\n",
            "  0.09180337 0.32516581 0.40158242 0.28394483 0.19634127 0.34343406\n",
            "  0.79112209 0.3930261  0.66769384 0.03173399 0.33795552 0.23982104\n",
            "  0.38454699 0.43282525 0.67645375 0.40947684 0.62561517 0.26773199\n",
            "  0.48593513 0.31657375 0.61003703 0.26308939 0.47840935 0.73297387\n",
            "  0.47544973 0.7589038  0.59537433 0.52136856 0.51105406 0.50149291\n",
            "  0.42252753 0.14592304 0.46416775 0.44457105 0.66916739 0.63180637\n",
            "  0.57093833 0.42062307 0.18537306 0.51954063 0.4107836  0.70062405\n",
            "  0.28515091 0.44609456 0.23344351 0.21465863 0.15120188 0.33300402\n",
            "  0.10742095 0.58961779 0.61906463 0.6905934  0.30832213 0.26346911\n",
            "  0.26957738 0.5784099  0.32167504 0.52037407 0.66154863 0.72578965\n",
            "  0.18965529 0.64289289 0.53460015 0.68380716 0.45337814 0.14748716\n",
            "  0.22205308 0.36533812 0.         0.53900841 0.57867109 0.57862366\n",
            "  0.23760614 0.12926397 0.51973308 0.2556493  0.44243517 0.24977804\n",
            "  0.36243911 0.64048942 0.50726844 0.48770375 0.24212559 0.58688104\n",
            "  0.3456867  0.58016971 0.39534182 0.59271696]\n",
            " [0.82835961 0.65150997 0.44053194 0.97639309 0.62826212 0.35945472\n",
            "  0.20151214 0.48929604 0.49884087 0.14467116 0.83229426 0.10794175\n",
            "  0.6308067  0.85578014 0.50947728 0.78704908 0.70455882 0.86270027\n",
            "  0.45866806 0.82959957 0.44666744 0.55371858 0.70690908 0.30998353\n",
            "  0.44690919 0.74144574 0.29975245 0.90152911 0.90561146 0.39214787\n",
            "  0.15040733 0.24225418 0.28421815 0.76214774 0.8140309  0.31074556\n",
            "  0.08191942 0.39521905 0.64624136 0.36859115 0.47885413 0.09189097\n",
            "  0.39946021 0.59581646 1.0004102  0.44661187 0.33617605 0.50073486\n",
            "  0.77529335 0.95904546 0.5368166  0.91458222 0.12883861 0.43604974\n",
            "  0.2588603  0.69434445 0.46817591 0.32917163 0.41247615 0.47815618\n",
            "  0.45206502 0.71898164 0.7031795  0.44132713 0.70593762 0.64304391\n",
            "  0.76117284 0.67223489 0.44592452 0.98486637 0.58412283 0.93125576\n",
            "  0.39438482 0.8964941  0.15241399 0.50499648 0.4358887  0.56772251\n",
            "  0.71868562 0.78436798 0.53900841 0.         0.60293405 0.12265268\n",
            "  0.72179852 0.45423092 0.18832575 0.51580871 0.46909631 0.45944501\n",
            "  0.72111407 0.26276986 0.45958084 0.9523084  0.33647258 0.79530037\n",
            "  0.86289967 0.93578363 0.4277089  0.93047007]\n",
            " [0.72587107 0.25984846 0.6651441  0.76055515 0.09102317 0.25797139\n",
            "  0.40786925 0.65199455 0.11021322 0.51549743 0.46490365 0.62169487\n",
            "  0.62192332 0.70359129 0.17756317 0.83774505 0.56789743 0.86953942\n",
            "  0.41999429 0.51079229 0.26745572 0.6103972  0.38619987 0.57904101\n",
            "  0.21189921 0.32459061 0.43593909 0.63724833 0.38120369 0.34361618\n",
            "  0.6948906  0.45683476 0.38238166 0.57503978 0.38147253 0.50079019\n",
            "  0.52935056 0.44170568 0.04492746 0.24040002 0.12423312 0.65620703\n",
            "  0.21969633 0.47771679 0.83722805 0.88041992 0.38775754 0.16961403\n",
            "  0.23309678 0.82736204 0.73761898 0.50427626 0.54091576 0.31833837\n",
            "  0.56339117 0.24895658 0.73824523 0.49090542 0.60739701 0.82127786\n",
            "  0.49173222 0.14101251 0.10448253 0.30030063 0.41960639 0.39575322\n",
            "  0.56188251 0.0877042  0.26660071 0.64445456 0.11999368 0.3511304\n",
            "  0.63485921 0.35341544 0.46220407 0.2252213  0.1765888  0.45443743\n",
            "  0.55353342 0.46799849 0.57867109 0.60293405 0.         0.51863302\n",
            "  0.5353292  0.46092691 0.42203934 0.32535583 0.89232414 0.33211985\n",
            "  0.3767191  0.43454028 0.14335969 0.62268138 0.42235432 0.24840461\n",
            "  0.6672382  0.47353927 0.21478918 0.45162607]\n",
            " [0.85946961 0.61131325 0.51243787 0.99113907 0.53108203 0.30134246\n",
            "  0.11387366 0.55181531 0.42288851 0.18852015 0.81002112 0.21474577\n",
            "  0.66852152 0.87832079 0.45616879 0.84613242 0.72133864 0.91653158\n",
            "  0.33610426 0.81716569 0.33222497 0.59870979 0.68608928 0.37489808\n",
            "  0.39595058 0.70379087 0.17713469 0.90360992 0.85139141 0.3785025\n",
            "  0.27056376 0.26226165 0.1666938  0.77256401 0.77728902 0.19390201\n",
            "  0.11721117 0.27321063 0.56326491 0.27828703 0.39776464 0.2125327\n",
            "  0.33779924 0.60652704 1.02640576 0.56045113 0.21449634 0.39668369\n",
            "  0.71276466 0.98980608 0.61171287 0.88683111 0.18968849 0.31682128\n",
            "  0.32364016 0.64753954 0.55271872 0.36428049 0.47377334 0.57796796\n",
            "  0.47950891 0.64547883 0.62214135 0.32352776 0.69203187 0.63132786\n",
            "  0.76904792 0.59542502 0.41193909 0.97442602 0.48277049 0.86066494\n",
            "  0.46486372 0.83713969 0.06123354 0.39296207 0.36649096 0.57608558\n",
            "  0.73063498 0.76988408 0.57862366 0.12265268 0.51863302 0.\n",
            "  0.72959469 0.47349594 0.10003429 0.49799049 0.58202729 0.44433716\n",
            "  0.69662517 0.14033118 0.37804542 0.94298984 0.34763018 0.73229275\n",
            "  0.87708541 0.89727696 0.37372015 0.88798066]\n",
            " [0.19172634 0.2835523  0.41133848 0.26317465 0.62634936 0.48056084\n",
            "  0.64001398 0.35317186 0.49159258 0.57713443 0.21239514 0.65509772\n",
            "  0.18677757 0.17126772 0.38705671 0.34732802 0.05447303 0.35256615\n",
            "  0.85965344 0.16082209 0.71269056 0.25077271 0.1686715  0.45625173\n",
            "  0.40763275 0.27043476 0.78081366 0.18135281 0.4392322  0.35492505\n",
            "  0.69977647 0.48025185 0.70974962 0.04475205 0.28664812 0.84605678\n",
            "  0.64675508 0.8448422  0.53372261 0.58102324 0.51929536 0.70417625\n",
            "  0.46857079 0.12604848 0.31575023 0.68139811 0.75837991 0.64701731\n",
            "  0.43359765 0.29598207 0.40664488 0.29338631 0.59492925 0.7565495\n",
            "  0.49180601 0.31958069 0.46811929 0.39821768 0.38389086 0.56646479\n",
            "  0.27775633 0.48844113 0.53427439 0.74229    0.1288767  0.14001251\n",
            "  0.03955031 0.49910773 0.35446871 0.28381288 0.64514119 0.56186091\n",
            "  0.42414014 0.46691506 0.67491573 0.70740311 0.48000851 0.15452002\n",
            "  0.02465685 0.14589569 0.23760614 0.72179852 0.5353292  0.72959469\n",
            "  0.         0.26888605 0.64862579 0.25383185 0.67819376 0.29542707\n",
            "  0.18998803 0.75212979 0.52457859 0.25084511 0.38681625 0.44380494\n",
            "  0.15057294 0.36463956 0.42839193 0.38356821]\n",
            " [0.38676756 0.31269877 0.21844133 0.52262344 0.54190845 0.28444501\n",
            "  0.39829757 0.19270888 0.37074155 0.30970984 0.41544042 0.38667259\n",
            "  0.20527375 0.40539632 0.28362369 0.41238446 0.25076046 0.46772176\n",
            "  0.66396403 0.39503027 0.53851156 0.1594124  0.29874608 0.2001215\n",
            "  0.25899616 0.37454585 0.55505256 0.44996462 0.56827484 0.13846909\n",
            "  0.43462798 0.21502306 0.48695429 0.30814957 0.43419423 0.6143654\n",
            "  0.38153494 0.63415158 0.48210984 0.39233392 0.3847221  0.43579221\n",
            "  0.29363058 0.14312238 0.55300824 0.47694386 0.54443626 0.50351411\n",
            "  0.48810294 0.5166326  0.27781501 0.50395353 0.32652367 0.57199229\n",
            "  0.22722958 0.36728676 0.29222101 0.12981534 0.16598637 0.38682301\n",
            "  0.03162388 0.49001269 0.51234606 0.56169482 0.28221427 0.22203003\n",
            "  0.30790664 0.47130217 0.1971942  0.543055   0.53673011 0.65039958\n",
            "  0.20379335 0.57787713 0.42387826 0.55481748 0.32570954 0.11815533\n",
            "  0.26455095 0.35560096 0.12926397 0.45423092 0.46092691 0.47349594\n",
            "  0.26888605 0.         0.40415723 0.15289245 0.48132026 0.1288928\n",
            "  0.32025644 0.52070476 0.37986308 0.50985573 0.12608144 0.50604472\n",
            "  0.40886365 0.54914407 0.26800754 0.5549263 ]\n",
            " [0.79031369 0.51360774 0.4818561  0.91161544 0.44108117 0.20232756\n",
            "  0.01419139 0.5115513  0.32379567 0.17206789 0.71611045 0.24488841\n",
            "  0.60631322 0.80385908 0.35686305 0.79705385 0.64526347 0.86252174\n",
            "  0.31171369 0.72657449 0.26394758 0.54319825 0.59332611 0.34550359\n",
            "  0.29735533 0.60627128 0.16536022 0.8184904  0.7514675  0.29386082\n",
            "  0.31402141 0.20918552 0.11580218 0.69249014 0.67973947 0.2142036\n",
            "  0.13333535 0.26022593 0.46634458 0.18304641 0.2997284  0.26181734\n",
            "  0.2380425  0.52879822 0.95282949 0.57905917 0.17864533 0.31243254\n",
            "  0.61276404 0.91931878 0.58075573 0.79108423 0.18651657 0.26216068\n",
            "  0.29870475 0.5485485  0.53299712 0.31162659 0.43545738 0.5749232\n",
            "  0.41529767 0.54644478 0.52475905 0.26390903 0.60172518 0.54245327\n",
            "  0.68771529 0.4969318  0.31768487 0.88383642 0.39596247 0.76141375\n",
            "  0.4350123  0.73710618 0.04028473 0.31939634 0.2665214  0.49763184\n",
            "  0.65181168 0.67881308 0.51973308 0.18832575 0.42203934 0.10003429\n",
            "  0.64862579 0.40415723 0.         0.40837739 0.59847436 0.35698466\n",
            "  0.60260045 0.12556941 0.2800411  0.85294684 0.27928141 0.63231305\n",
            "  0.79805153 0.79912614 0.2747567  0.7891894 ]\n",
            " [0.42758091 0.16419504 0.37125377 0.5140596  0.41241482 0.22757121\n",
            "  0.39811777 0.34311442 0.25339922 0.37746039 0.31654191 0.47542\n",
            "  0.29762106 0.42237818 0.15158742 0.51442719 0.26767619 0.55239848\n",
            "  0.60627736 0.31917879 0.46171962 0.2871662  0.19116031 0.33151355\n",
            "  0.15605968 0.23892494 0.5296091  0.41222728 0.42676371 0.12367522\n",
            "  0.53623277 0.28094582 0.45843301 0.29853266 0.30695735 0.59606572\n",
            "  0.4349182  0.5911398  0.3399281  0.3272802  0.27636449 0.52282617\n",
            "  0.21491542 0.15967866 0.56921604 0.62441372 0.50516343 0.4039375\n",
            "  0.3362317  0.54579818 0.42675756 0.39928304 0.40045618 0.50408196\n",
            "  0.34250772 0.21818463 0.44510636 0.24306981 0.31770794 0.53910102\n",
            "  0.18417495 0.33836075 0.36419766 0.4903564  0.19404261 0.13409923\n",
            "  0.29045596 0.32334542 0.10066039 0.47643775 0.41782051 0.49973273\n",
            "  0.3538008  0.43195973 0.43937479 0.46215296 0.22964161 0.13232206\n",
            "  0.26372708 0.27204851 0.2556493  0.51580871 0.32535583 0.49799049\n",
            "  0.25383185 0.15289245 0.40837739 0.         0.63039186 0.05647486\n",
            "  0.20568285 0.50294672 0.27821341 0.44509424 0.19352775 0.35457563\n",
            "  0.40371256 0.42782981 0.17549247 0.42773119]\n",
            " [0.66747574 0.79334605 0.27191225 0.85336434 0.95473313 0.64570473\n",
            "  0.60524135 0.32540013 0.78475104 0.42842826 0.8732832  0.36729466\n",
            "  0.5002837  0.72338272 0.73014973 0.51789395 0.63185767 0.60109991\n",
            "  0.90772008 0.83542251 0.84979604 0.42748332 0.77007993 0.31362647\n",
            "  0.68198871 0.85440121 0.75195589 0.83961683 1.04882794 0.55488832\n",
            "  0.32213131 0.4443619  0.7141104  0.6980217  0.90976841 0.77583245\n",
            "  0.47305562 0.85015198 0.92456106 0.72212699 0.78323697 0.3788913\n",
            "  0.67829563 0.5829623  0.82976059 0.02418668 0.77589175 0.86514281\n",
            "  0.96628185 0.77565872 0.28196716 0.96126967 0.41197089 0.85778116\n",
            "  0.33227114 0.8478392  0.21014932 0.40393918 0.31625496 0.11475425\n",
            "  0.45260756 0.95540078 0.96676447 0.85688314 0.74526312 0.69258277\n",
            "  0.70692348 0.92677433 0.6364184  0.95682357 0.92955447 1.13012459\n",
            "  0.27752692 1.0591954  0.5817208  0.89430165 0.72150473 0.57459855\n",
            "  0.66030832 0.80704714 0.44243517 0.46909631 0.89232414 0.58202729\n",
            "  0.67819376 0.48132026 0.59847436 0.63039186 0.         0.59079489\n",
            "  0.79349705 0.71158739 0.76962984 0.92495481 0.47148337 0.98485155\n",
            "  0.76178649 1.01838262 0.67753749 1.028217  ]\n",
            " [0.45775632 0.21262244 0.34060257 0.55821999 0.41411466 0.18779267\n",
            "  0.34737286 0.32100318 0.24517447 0.32103022 0.37285099 0.41960122\n",
            "  0.30745466 0.45928137 0.15473317 0.52357863 0.30119794 0.56897165\n",
            "  0.57226347 0.3736009  0.43393435 0.28137506 0.24746435 0.28500575\n",
            "  0.13599434 0.29269309 0.48549332 0.46154271 0.47696464 0.06747294\n",
            "  0.48134742 0.22480255 0.41450109 0.34002968 0.36203472 0.55063872\n",
            "  0.37868618 0.55229952 0.35346502 0.2931224  0.26248303 0.46678724\n",
            "  0.18366435 0.18610611 0.60775895 0.58330473 0.46460748 0.38637653\n",
            "  0.37713223 0.58064308 0.40640545 0.45575629 0.34412938 0.47309889\n",
            "  0.29138323 0.26490065 0.41474823 0.1943237  0.28445321 0.50502882\n",
            "  0.1599857  0.36696888 0.38555162 0.4605959  0.24861997 0.187099\n",
            "  0.33365563 0.34456143 0.07292266 0.5306001  0.41184157 0.54201286\n",
            "  0.31748717 0.479506   0.38653007 0.44153082 0.20769288 0.15519215\n",
            "  0.30198685 0.32698064 0.24977804 0.45944501 0.33211985 0.44433716\n",
            "  0.29542707 0.1288928  0.35698466 0.05647486 0.59079489 0.\n",
            "  0.26215428 0.45677048 0.26036259 0.49889592 0.13947167 0.39624202\n",
            "  0.44598283 0.48330768 0.14982532 0.48232064]\n",
            " [0.37598705 0.11804409 0.52224039 0.38398022 0.46559732 0.40636511\n",
            "  0.59105839 0.47611245 0.36305791 0.58310411 0.11351084 0.67987485\n",
            "  0.34978292 0.33991184 0.26948243 0.53533082 0.23935309 0.54233161\n",
            "  0.75171387 0.13771219 0.59644156 0.38705981 0.02472813 0.51877973\n",
            "  0.31453283 0.08059672 0.70418162 0.260797   0.26414359 0.32907941\n",
            "  0.73855991 0.48620484 0.63430294 0.21827896 0.11653886 0.77277222\n",
            "  0.6399171  0.75032028 0.36547481 0.48677316 0.39523261 0.72769556\n",
            "  0.3803023  0.21658754 0.46359667 0.79166604 0.67127956 0.51547204\n",
            "  0.24384922 0.45950025 0.54752008 0.19360424 0.60593583 0.64512761\n",
            "  0.53845857 0.13656106 0.59072324 0.43727596 0.47856402 0.69009848\n",
            "  0.34488161 0.30557098 0.35564681 0.62878433 0.06228619 0.10093325\n",
            "  0.20278804 0.32448396 0.28499363 0.28811197 0.49442203 0.37614829\n",
            "  0.5188263  0.28536293 0.63652946 0.57725595 0.37495347 0.21941503\n",
            "  0.21379824 0.09192431 0.36243911 0.72111407 0.3767191  0.69662517\n",
            "  0.18998803 0.32025644 0.60260045 0.20568285 0.79349705 0.26215428\n",
            "  0.         0.683266   0.4062446  0.26039316 0.39644707 0.25381748\n",
            "  0.2958767  0.22899952 0.33822522 0.23528678]\n",
            " [0.903857   0.58241143 0.60737676 1.01498357 0.42713035 0.27817601\n",
            "  0.12645509 0.63678335 0.35737285 0.29286488 0.79561944 0.3472804\n",
            "  0.72505163 0.91301483 0.42006562 0.92013623 0.75399609 0.98388174\n",
            "  0.19765437 0.81408672 0.20599128 0.66509078 0.67748897 0.47076176\n",
            "  0.36884352 0.67422042 0.04081087 0.91500231 0.797028   0.39943581\n",
            "  0.4084371  0.33416681 0.05286555 0.79665181 0.74645143 0.09429208\n",
            "  0.23853337 0.13874898 0.47918654 0.20688826 0.32652429 0.35118583\n",
            "  0.30329871 0.63710435 1.06208705 0.69099554 0.07536106 0.28702518\n",
            "  0.65139028 1.03130223 0.70631912 0.86398048 0.30338148 0.18133498\n",
            "  0.42325158 0.60871118 0.65760873 0.43577479 0.56093022 0.69584301\n",
            "  0.53453654 0.57165248 0.5387009  0.19075143 0.69130489 0.63567489\n",
            "  0.79042388 0.51883451 0.40502586 0.9700204  0.37394677 0.78534521\n",
            "  0.56046183 0.77662756 0.1305997  0.26914147 0.31662469 0.6056153\n",
            "  0.75771533 0.76580415 0.64048942 0.26276986 0.43454028 0.14033118\n",
            "  0.75212979 0.52070476 0.12556941 0.50294672 0.71158739 0.45677048\n",
            "  0.683266   0.         0.30800148 0.94050963 0.39849952 0.66972257\n",
            "  0.90262479 0.86126305 0.34512426 0.84732011]\n",
            " [0.70512464 0.29306851 0.56255127 0.77452533 0.18572426 0.12413531\n",
            "  0.2658498  0.56031773 0.04964123 0.37602908 0.51233035 0.4808756\n",
            "  0.56766761 0.69564987 0.13978141 0.78393982 0.54467702 0.82793009\n",
            "  0.34547388 0.54352569 0.19108765 0.53836408 0.40706548 0.46025964\n",
            "  0.12466233 0.3799724  0.31753493 0.65983346 0.48909378 0.24531697\n",
            "  0.55430913 0.32673562 0.25516649 0.56826645 0.44915105 0.38581505\n",
            "  0.38629281 0.34736263 0.18687869 0.10281906 0.01971929 0.513971\n",
            "  0.09321188 0.43753829 0.8392725  0.75591449 0.27580993 0.12630913\n",
            "  0.3435509  0.82013712 0.64505417 0.57071017 0.40104246 0.23895667\n",
            "  0.43751359 0.30888201 0.63288691 0.37806623 0.50483424 0.70815256\n",
            "  0.40762195 0.26828124 0.24480195 0.2228586  0.43106642 0.38845659\n",
            "  0.55785214 0.21746558 0.18746356 0.69269461 0.16277003 0.48365884\n",
            "  0.52669421 0.46887914 0.32031614 0.18398751 0.05428336 0.40889968\n",
            "  0.53776552 0.49621864 0.50726844 0.45958084 0.14335969 0.37804542\n",
            "  0.52457859 0.37986308 0.2800411  0.27821341 0.76962984 0.26036259\n",
            "  0.4062446  0.30800148 0.         0.66621102 0.31058689 0.36209191\n",
            "  0.67001918 0.55881578 0.11194529 0.54271371]\n",
            " [0.31369898 0.37437211 0.66119789 0.19291085 0.70680338 0.66244199\n",
            "  0.84227341 0.60166073 0.62202675 0.80903689 0.15780789 0.89514315\n",
            "  0.42557435 0.24925293 0.52986259 0.51880654 0.29327004 0.48478557\n",
            "  1.01154019 0.1265848  0.85572284 0.49833162 0.26329424 0.7041879\n",
            "  0.57302475 0.29809095 0.96291063 0.09713746 0.35310286 0.56562787\n",
            "  0.94441757 0.7105831  0.89254813 0.22693587 0.24958606 1.03120136\n",
            "  0.87362669 1.01069703 0.60292839 0.7467443  0.65460303 0.94420626\n",
            "  0.63884155 0.36882491 0.29039304 0.92940345 0.93117331 0.77197995\n",
            "  0.43299003 0.31638211 0.64768416 0.14812711 0.82917773 0.90485184\n",
            "  0.7366285  0.37380037 0.71496966 0.63931163 0.6347165  0.81173023\n",
            "  0.52345735 0.52216418 0.57811593 0.88831284 0.25123429 0.31180056\n",
            "  0.21849885 0.55593732 0.53707428 0.03325829 0.74255985 0.49168676\n",
            "  0.67498467 0.39425232 0.88445915 0.83356055 0.63522141 0.39170091\n",
            "  0.26579341 0.17476955 0.48770375 0.9523084  0.62268138 0.94298984\n",
            "  0.25084511 0.50985573 0.85294684 0.44509424 0.92495481 0.49889592\n",
            "  0.26039316 0.94050963 0.66621102 0.         0.61650026 0.4319526\n",
            "  0.1906469  0.22830849 0.59656572 0.25979173]\n",
            " [0.51278651 0.35148777 0.25276564 0.64552832 0.49068108 0.19400216\n",
            "  0.27420157 0.25860769 0.31737934 0.19256539 0.50349995 0.28367558\n",
            "  0.32713779 0.53075705 0.25945827 0.52388934 0.37445204 0.5855561\n",
            "  0.5530899  0.49519187 0.44084428 0.26767561 0.37925448 0.15799854\n",
            "  0.21087946 0.43194809 0.43432974 0.56546134 0.61589281 0.08554182\n",
            "  0.34278468 0.09423679 0.36827788 0.42837995 0.50048325 0.49136003\n",
            "  0.26000569 0.5178406  0.45328236 0.29486807 0.32103653 0.33190369\n",
            "  0.21744288 0.26151292 0.67877827 0.46100444 0.42825643 0.42368924\n",
            "  0.51002924 0.64271399 0.3403148  0.58906468 0.21295119 0.46811304\n",
            "  0.15417779 0.40278885 0.32232276 0.06861669 0.19559057 0.39975729\n",
            "  0.13619493 0.48700601 0.49554328 0.46002335 0.37336997 0.31016668\n",
            "  0.42634194 0.45583354 0.16669879 0.64923984 0.4733457  0.67503198\n",
            "  0.21614057 0.61703425 0.29787757 0.46735961 0.2582425  0.23230319\n",
            "  0.38553927 0.45122397 0.24212559 0.33647258 0.42235432 0.34763018\n",
            "  0.38681625 0.12608144 0.27928141 0.19352775 0.47148337 0.13947167\n",
            "  0.39644707 0.39849952 0.31058689 0.61650026 0.         0.52963647\n",
            "  0.53145553 0.62120493 0.20850663 0.6212085 ]\n",
            " [0.62742    0.19474128 0.72409078 0.6034404  0.30885453 0.43648226\n",
            "  0.61841919 0.6899543  0.31337009 0.68032763 0.28686406 0.78748787\n",
            "  0.59333838 0.58581227 0.28730623 0.78804715 0.49249392 0.79599478\n",
            "  0.66815689 0.34957964 0.515668   0.61558158 0.27583498 0.68115071\n",
            "  0.34964597 0.17350633 0.67645465 0.47675009 0.13294538 0.44480767\n",
            "  0.85661167 0.59791489 0.61685778 0.47032702 0.18565863 0.74333375\n",
            "  0.71514091 0.68943305 0.21080079 0.46463941 0.34326753 0.82965652\n",
            "  0.39720697 0.44855859 0.69362279 0.97844602 0.63082012 0.41801863\n",
            "  0.02010961 0.69894116 0.76974959 0.29137149 0.70599632 0.56666512\n",
            "  0.68381204 0.14091022 0.79729714 0.59000326 0.67182505 0.89286027\n",
            "  0.53654351 0.11048733 0.16432441 0.54863331 0.31549148 0.33222319\n",
            "  0.45448231 0.1614245  0.367396   0.44553007 0.3580536  0.14577388\n",
            "  0.70835302 0.10695601 0.67201307 0.47250655 0.36580179 0.43983546\n",
            "  0.46756839 0.32223508 0.58688104 0.79530037 0.24840461 0.73229275\n",
            "  0.44380494 0.50604472 0.63231305 0.35457563 0.98485155 0.39624202\n",
            "  0.25381748 0.66972257 0.36209191 0.4319526  0.52963647 0.\n",
            "  0.53538767 0.23914561 0.36773768 0.21239078]\n",
            " [0.12310962 0.40812418 0.51144519 0.11410023 0.75758144 0.63089131\n",
            "  0.78971606 0.44860539 0.63432564 0.71851843 0.25610746 0.78963853\n",
            "  0.265763   0.05990682 0.53093042 0.32821706 0.15840683 0.29692565\n",
            "  1.00834768 0.18954479 0.85963997 0.34713994 0.28227361 0.58176614\n",
            "  0.55593608 0.36773788 0.93138616 0.09353268 0.49483264 0.50477632\n",
            "  0.82834412 0.62343521 0.86031858 0.10597298 0.35490158 0.99659023\n",
            "  0.79016951 0.9948467  0.659814   0.73041004 0.66341989 0.83832011\n",
            "  0.61792511 0.27056766 0.17044773 0.76904466 0.90869373 0.79015027\n",
            "  0.52967303 0.1642331  0.48009449 0.30470402 0.73470349 0.90447232\n",
            "  0.62251275 0.43237794 0.55498554 0.53502638 0.49679922 0.64711737\n",
            "  0.41199487 0.60059811 0.65146875 0.88982972 0.24763367 0.28158439\n",
            "  0.11330771 0.62014649 0.50435763 0.21550459 0.78150914 0.63005204\n",
            "  0.53439432 0.53065525 0.82342558 0.8512251  0.627424   0.30109542\n",
            "  0.1464881  0.21356932 0.3456867  0.86289967 0.6672382  0.87708541\n",
            "  0.15057294 0.40886365 0.79805153 0.40371256 0.76178649 0.44598283\n",
            "  0.2958767  0.90262479 0.67001918 0.1906469  0.53145553 0.53538767\n",
            "  0.         0.38841515 0.57724418 0.4157419 ]\n",
            " [0.50470271 0.28616808 0.74648299 0.41975043 0.54430143 0.59693297\n",
            "  0.78633737 0.69660581 0.50959473 0.80261254 0.15226567 0.90288551\n",
            "  0.54916382 0.44745288 0.44381633 0.69844419 0.41897297 0.68187342\n",
            "  0.88992945 0.21063481 0.7338056  0.60124377 0.25056185 0.74774423\n",
            "  0.50179389 0.19450257 0.87513217 0.30475256 0.12989346 0.5479492\n",
            "  0.96398866 0.70787255 0.8093445  0.36851606 0.12183933 0.94386253\n",
            "  0.85389953 0.90297805 0.44216552 0.65522002 0.54262821 0.94985133\n",
            "  0.56340901 0.43590606 0.51673546 1.0176321  0.83462519 0.63968348\n",
            "  0.24786889 0.53713188 0.76202791 0.08424927 0.82645666 0.7849959\n",
            "  0.76645233 0.25266514 0.8125143  0.66537668 0.70536676 0.91225002\n",
            "  0.57318423 0.34617025 0.40202181 0.76724036 0.27313353 0.32802641\n",
            "  0.35350369 0.39192116 0.49034193 0.23018118 0.59000699 0.26605426\n",
            "  0.74595624 0.1726343  0.83610921 0.69802767 0.54472958 0.44422236\n",
            "  0.38832249 0.21954158 0.58016971 0.93578363 0.47353927 0.89727696\n",
            "  0.36463956 0.54914407 0.79912614 0.42782981 1.01838262 0.48330768\n",
            "  0.22899952 0.86126305 0.55881578 0.22830849 0.62120493 0.23914561\n",
            "  0.38841515 0.         0.52462756 0.03223846]\n",
            " [0.60228524 0.24010318 0.45654029 0.68570185 0.28292723 0.07243416\n",
            "  0.26179884 0.45063545 0.10904799 0.31646686 0.45050787 0.42431921\n",
            "  0.45718439 0.59776552 0.08280845 0.67289336 0.44292092 0.7187211\n",
            "  0.43127005 0.47056246 0.28662293 0.42641992 0.33327157 0.36435542\n",
            "  0.02372263 0.33279295 0.3663488  0.57752928 0.4798655  0.13539661\n",
            "  0.49567393 0.24566725 0.29615379 0.47291351 0.40605102 0.43473534\n",
            "  0.34740434 0.41932557 0.24864256 0.15362344 0.11728402 0.46425791\n",
            "  0.04230279 0.33177555 0.74411484 0.66568491 0.33605829 0.23702749\n",
            "  0.34769457 0.72128986 0.53583129 0.52046763 0.3423284  0.32859595\n",
            "  0.34926934 0.27384452 0.52835583 0.2771124  0.3985991  0.60822952\n",
            "  0.29607774 0.29920351 0.29643418 0.31490166 0.34998257 0.29897893\n",
            "  0.46399461 0.25924614 0.07777588 0.62555972 0.27052357 0.50600178\n",
            "  0.42332375 0.46900602 0.3124929  0.29170836 0.0581621  0.30201338\n",
            "  0.43910429 0.42227869 0.39534182 0.4277089  0.21478918 0.37372015\n",
            "  0.42839193 0.26800754 0.2747567  0.17549247 0.67753749 0.14982532\n",
            "  0.33822522 0.34512426 0.11194529 0.59656572 0.20850663 0.36773768\n",
            "  0.57724418 0.52462756 0.         0.51443529]\n",
            " [0.53030757 0.27903009 0.75657516 0.45057459 0.51974244 0.58686873\n",
            "  0.77617112 0.70838109 0.4932203  0.79947921 0.17204597 0.90118249\n",
            "  0.56607872 0.47431841 0.43263646 0.72153978 0.43804008 0.707448\n",
            "  0.86981361 0.23400472 0.7142822  0.61493508 0.25823294 0.75206481\n",
            "  0.49203117 0.19011398 0.85989993 0.33395608 0.09796261 0.54562392\n",
            "  0.96366112 0.70597476 0.7950846  0.39038624 0.121368   0.92841804\n",
            "  0.84855229 0.8847859  0.41864588 0.64070655 0.52597106 0.94761915\n",
            "  0.55220065 0.44741329 0.54733574 1.02673849 0.81830996 0.61913651\n",
            "  0.22257965 0.56661779 0.77597302 0.11381347 0.82370023 0.76553326\n",
            "  0.76870986 0.240737   0.82386674 0.66795243 0.71376919 0.92350841\n",
            "  0.58007938 0.32106854 0.37631739 0.74768086 0.28444076 0.33588675\n",
            "  0.37503573 0.36837998 0.48454562 0.26231364 0.56669669 0.23382531\n",
            "  0.7540893  0.14077177 0.82675052 0.67668228 0.53140795 0.45363002\n",
            "  0.40765883 0.23768754 0.59271696 0.93047007 0.45162607 0.88798066\n",
            "  0.38356821 0.5549263  0.7891894  0.42773119 1.028217   0.48232064\n",
            "  0.23528678 0.84732011 0.54271371 0.25979173 0.6212085  0.21239078\n",
            "  0.4157419  0.03223846 0.51443529 0.        ]]\n"
          ]
        }
      ]
    },
    {
      "cell_type": "markdown",
      "metadata": {
        "id": "b6hMHTAnWSWd"
      },
      "source": [
        "#### 53. How to convert a float (32 bits) array into an integer (32 bits) in place? \n",
        "(**hint**: astype(copy=False))"
      ]
    },
    {
      "cell_type": "code",
      "execution_count": 124,
      "metadata": {
        "id": "ag3JlnSqWSWd",
        "colab": {
          "base_uri": "https://localhost:8080/"
        },
        "outputId": "6996e9e2-d565-420c-b2a7-4b4b49c45786"
      },
      "outputs": [
        {
          "output_type": "execute_result",
          "data": {
            "text/plain": [
              "array([[0.9875232 , 0.96449065, 0.02964498, 0.8544226 , 0.40364936],\n",
              "       [0.68313295, 0.06843974, 0.7641391 , 0.7528214 , 0.6102886 ],\n",
              "       [0.11537481, 0.9678608 , 0.09941304, 0.8067233 , 0.04826651],\n",
              "       [0.407888  , 0.17691171, 0.02930418, 0.2626836 , 0.45718598],\n",
              "       [0.9838822 , 0.39246345, 0.31156287, 0.7880175 , 0.81398606]],\n",
              "      dtype=float32)"
            ]
          },
          "metadata": {},
          "execution_count": 124
        }
      ],
      "source": [
        "x= (np.random.rand(5,5).astype(np.float32))\n",
        "x"
      ]
    },
    {
      "cell_type": "code",
      "source": [
        "y= x.view(np.int32)\n",
        "y[:]= x\n",
        "y"
      ],
      "metadata": {
        "colab": {
          "base_uri": "https://localhost:8080/"
        },
        "id": "u1ENt_x3GNWI",
        "outputId": "ebca5038-23c6-4297-e8c4-44fdd5b3ea0b"
      },
      "execution_count": 126,
      "outputs": [
        {
          "output_type": "execute_result",
          "data": {
            "text/plain": [
              "array([[0, 0, 0, 0, 0],\n",
              "       [0, 0, 0, 0, 0],\n",
              "       [0, 0, 0, 0, 0],\n",
              "       [0, 0, 0, 0, 0],\n",
              "       [0, 0, 0, 0, 0]], dtype=int32)"
            ]
          },
          "metadata": {},
          "execution_count": 126
        }
      ]
    },
    {
      "cell_type": "markdown",
      "metadata": {
        "id": "I0k2YpofWSWd"
      },
      "source": [
        "#### 54. How to read the following file? (★★☆) \n",
        "(**hint**: np.genfromtxt)"
      ]
    },
    {
      "cell_type": "markdown",
      "metadata": {
        "id": "YxYga6MGWSWd"
      },
      "source": [
        "```\n",
        "1, 2, 3, 4, 5\n",
        "6,  ,  , 7, 8\n",
        " ,  , 9,10,11\n",
        "```"
      ]
    },
    {
      "cell_type": "code",
      "execution_count": 127,
      "metadata": {
        "id": "PjUMYIr3WSWd"
      },
      "outputs": [],
      "source": [
        "from io import StringIO\n",
        "s= StringIO('''1, 2, 3, 4, 5\n",
        "6,  ,  , 7, 8\n",
        " ,  , 9,10,11''')"
      ]
    },
    {
      "cell_type": "code",
      "source": [
        "x= np.genfromtxt(s, delimiter= ',', dtype= np.int)\n",
        "x"
      ],
      "metadata": {
        "colab": {
          "base_uri": "https://localhost:8080/"
        },
        "id": "LyffPK7JHhUn",
        "outputId": "663e25ea-4885-4577-9657-4652b730db56"
      },
      "execution_count": 128,
      "outputs": [
        {
          "output_type": "stream",
          "name": "stderr",
          "text": [
            "/usr/local/lib/python3.7/dist-packages/ipykernel_launcher.py:1: DeprecationWarning: `np.int` is a deprecated alias for the builtin `int`. To silence this warning, use `int` by itself. Doing this will not modify any behavior and is safe. When replacing `np.int`, you may wish to use e.g. `np.int64` or `np.int32` to specify the precision. If you wish to review your current use, check the release note link for additional information.\n",
            "Deprecated in NumPy 1.20; for more details and guidance: https://numpy.org/devdocs/release/1.20.0-notes.html#deprecations\n",
            "  \"\"\"Entry point for launching an IPython kernel.\n"
          ]
        },
        {
          "output_type": "execute_result",
          "data": {
            "text/plain": [
              "array([[ 1,  2,  3,  4,  5],\n",
              "       [ 6, -1, -1,  7,  8],\n",
              "       [-1, -1,  9, 10, 11]])"
            ]
          },
          "metadata": {},
          "execution_count": 128
        }
      ]
    },
    {
      "cell_type": "markdown",
      "metadata": {
        "id": "rPjtkiSNWSWd"
      },
      "source": [
        "#### 55. What is the equivalent of enumerate for numpy arrays? (★★☆) \n",
        "(**hint**: np.ndenumerate, np.ndindex)"
      ]
    },
    {
      "cell_type": "code",
      "execution_count": 129,
      "metadata": {
        "id": "2FFLOdNyWSWd",
        "colab": {
          "base_uri": "https://localhost:8080/"
        },
        "outputId": "8cde28d0-75d5-4f39-abd7-f3dcdf737147"
      },
      "outputs": [
        {
          "output_type": "stream",
          "name": "stdout",
          "text": [
            "(0, 0) 0\n",
            "(0, 1) 1\n",
            "(0, 2) 2\n",
            "(1, 0) 3\n",
            "(1, 1) 4\n",
            "(1, 2) 5\n",
            "(2, 0) 6\n",
            "(2, 1) 7\n",
            "(2, 2) 8\n"
          ]
        }
      ],
      "source": [
        "x = np.arange(9).reshape(3,3)\n",
        "for index, value in np.ndenumerate(x):\n",
        "    print(index, value)"
      ]
    },
    {
      "cell_type": "code",
      "source": [
        "for index in np.ndindex(x.shape):\n",
        "    print(index, x[index])"
      ],
      "metadata": {
        "colab": {
          "base_uri": "https://localhost:8080/"
        },
        "id": "BYBPXa7iI5EL",
        "outputId": "9575a6a3-cea8-43d7-e1ed-70a2647ac172"
      },
      "execution_count": 131,
      "outputs": [
        {
          "output_type": "stream",
          "name": "stdout",
          "text": [
            "(0, 0) 0\n",
            "(0, 1) 1\n",
            "(0, 2) 2\n",
            "(1, 0) 3\n",
            "(1, 1) 4\n",
            "(1, 2) 5\n",
            "(2, 0) 6\n",
            "(2, 1) 7\n",
            "(2, 2) 8\n"
          ]
        }
      ]
    },
    {
      "cell_type": "markdown",
      "metadata": {
        "id": "WIpMbvEAWSWd"
      },
      "source": [
        "#### 56. Generate a generic 2D Gaussian-like array (★★☆) \n",
        "(**hint**: np.meshgrid, np.exp)"
      ]
    },
    {
      "cell_type": "code",
      "execution_count": 132,
      "metadata": {
        "id": "wfczs4sRWSWd",
        "colab": {
          "base_uri": "https://localhost:8080/"
        },
        "outputId": "bac3f0a2-8ae7-4f25-fabc-c9a9cc08943a"
      },
      "outputs": [
        {
          "output_type": "execute_result",
          "data": {
            "text/plain": [
              "array([[0.36787944, 0.44822088, 0.51979489, 0.57375342, 0.60279818,\n",
              "        0.60279818, 0.57375342, 0.51979489, 0.44822088, 0.36787944],\n",
              "       [0.44822088, 0.54610814, 0.63331324, 0.69905581, 0.73444367,\n",
              "        0.73444367, 0.69905581, 0.63331324, 0.54610814, 0.44822088],\n",
              "       [0.51979489, 0.63331324, 0.73444367, 0.81068432, 0.85172308,\n",
              "        0.85172308, 0.81068432, 0.73444367, 0.63331324, 0.51979489],\n",
              "       [0.57375342, 0.69905581, 0.81068432, 0.89483932, 0.9401382 ,\n",
              "        0.9401382 , 0.89483932, 0.81068432, 0.69905581, 0.57375342],\n",
              "       [0.60279818, 0.73444367, 0.85172308, 0.9401382 , 0.98773022,\n",
              "        0.98773022, 0.9401382 , 0.85172308, 0.73444367, 0.60279818],\n",
              "       [0.60279818, 0.73444367, 0.85172308, 0.9401382 , 0.98773022,\n",
              "        0.98773022, 0.9401382 , 0.85172308, 0.73444367, 0.60279818],\n",
              "       [0.57375342, 0.69905581, 0.81068432, 0.89483932, 0.9401382 ,\n",
              "        0.9401382 , 0.89483932, 0.81068432, 0.69905581, 0.57375342],\n",
              "       [0.51979489, 0.63331324, 0.73444367, 0.81068432, 0.85172308,\n",
              "        0.85172308, 0.81068432, 0.73444367, 0.63331324, 0.51979489],\n",
              "       [0.44822088, 0.54610814, 0.63331324, 0.69905581, 0.73444367,\n",
              "        0.73444367, 0.69905581, 0.63331324, 0.54610814, 0.44822088],\n",
              "       [0.36787944, 0.44822088, 0.51979489, 0.57375342, 0.60279818,\n",
              "        0.60279818, 0.57375342, 0.51979489, 0.44822088, 0.36787944]])"
            ]
          },
          "metadata": {},
          "execution_count": 132
        }
      ],
      "source": [
        "x,y = np.meshgrid(np.linspace(-1,1,10), np.linspace(-1,1,10))\n",
        "sigma, mu= 1.0, 0\n",
        "Z= ( ((np.sqrt(x*x+y*y))-mu)**2 / ( 2.0 * sigma**2 ) ) \n",
        "G= np.exp(-Z)\n",
        "G"
      ]
    },
    {
      "cell_type": "markdown",
      "metadata": {
        "id": "kbOf2-J1WSWd"
      },
      "source": [
        "#### 57. How to randomly place p elements in a 2D array? (★★☆) \n",
        "(**hint**: np.put, np.random.choice)"
      ]
    },
    {
      "cell_type": "code",
      "execution_count": 133,
      "metadata": {
        "id": "sI7scJHUWSWe",
        "colab": {
          "base_uri": "https://localhost:8080/"
        },
        "outputId": "805b6f0a-b70b-4f4e-dd43-0eb3d736a038"
      },
      "outputs": [
        {
          "output_type": "execute_result",
          "data": {
            "text/plain": [
              "array([[0., 0., 0., 0., 0., 0., 0., 0., 0., 0.],\n",
              "       [0., 0., 0., 0., 0., 0., 0., 0., 0., 0.],\n",
              "       [0., 0., 0., 0., 0., 0., 0., 0., 0., 0.],\n",
              "       [0., 0., 0., 0., 0., 0., 0., 0., 0., 0.],\n",
              "       [0., 0., 0., 0., 0., 0., 0., 0., 0., 0.],\n",
              "       [0., 0., 0., 0., 0., 0., 0., 0., 0., 0.],\n",
              "       [0., 0., 0., 0., 0., 0., 0., 0., 0., 0.],\n",
              "       [0., 0., 0., 0., 0., 0., 0., 0., 0., 0.],\n",
              "       [0., 0., 0., 0., 0., 0., 0., 0., 0., 0.],\n",
              "       [0., 0., 0., 0., 0., 0., 0., 0., 0., 0.]])"
            ]
          },
          "metadata": {},
          "execution_count": 133
        }
      ],
      "source": [
        "n = 10\n",
        "p = 3\n",
        "Z = np.zeros((n,n))\n",
        "Z"
      ]
    },
    {
      "cell_type": "code",
      "source": [
        "np.put(Z, np.random.choice(range(n*n), p, replace=False),1)\n",
        "print(Z)"
      ],
      "metadata": {
        "colab": {
          "base_uri": "https://localhost:8080/"
        },
        "id": "FPLkFQg1Lkd_",
        "outputId": "eeb4522e-bbfc-4120-839a-a463a763506a"
      },
      "execution_count": 134,
      "outputs": [
        {
          "output_type": "stream",
          "name": "stdout",
          "text": [
            "[[0. 0. 0. 0. 0. 0. 0. 0. 0. 0.]\n",
            " [1. 0. 1. 0. 0. 0. 0. 0. 0. 0.]\n",
            " [0. 0. 0. 0. 0. 0. 0. 0. 1. 0.]\n",
            " [0. 0. 0. 0. 0. 0. 0. 0. 0. 0.]\n",
            " [0. 0. 0. 0. 0. 0. 0. 0. 0. 0.]\n",
            " [0. 0. 0. 0. 0. 0. 0. 0. 0. 0.]\n",
            " [0. 0. 0. 0. 0. 0. 0. 0. 0. 0.]\n",
            " [0. 0. 0. 0. 0. 0. 0. 0. 0. 0.]\n",
            " [0. 0. 0. 0. 0. 0. 0. 0. 0. 0.]\n",
            " [0. 0. 0. 0. 0. 0. 0. 0. 0. 0.]]\n"
          ]
        }
      ]
    },
    {
      "cell_type": "markdown",
      "metadata": {
        "id": "rW5N6bPwWSWe"
      },
      "source": [
        "#### 58. Subtract the mean of each row of a matrix (★★☆) \n",
        "(**hint**: mean(axis=,keepdims=))"
      ]
    },
    {
      "cell_type": "code",
      "execution_count": 136,
      "metadata": {
        "id": "5nsKnuA9WSWe",
        "colab": {
          "base_uri": "https://localhost:8080/"
        },
        "outputId": "e78caea3-7ab9-4ed9-f26e-f613c452ad14"
      },
      "outputs": [
        {
          "output_type": "execute_result",
          "data": {
            "text/plain": [
              "array([[0.61452003, 0.54440175, 0.13673251, 0.36355696, 0.99317395,\n",
              "        0.39396694, 0.58828443, 0.68212925, 0.59032344, 0.54375852],\n",
              "       [0.84378321, 0.81783686, 0.49935156, 0.79537532, 0.13703924,\n",
              "        0.59473111, 0.39412572, 0.03034168, 0.36025575, 0.26214498],\n",
              "       [0.46033543, 0.16783779, 0.94183841, 0.35020528, 0.28816449,\n",
              "        0.46475877, 0.93218758, 0.75117235, 0.28154542, 0.69042009],\n",
              "       [0.23306807, 0.89791593, 0.95344423, 0.27123534, 0.35492129,\n",
              "        0.25037137, 0.85772556, 0.07916275, 0.6676385 , 0.05938415],\n",
              "       [0.71933853, 0.93497015, 0.32406702, 0.36871802, 0.40464703,\n",
              "        0.44803665, 0.67477115, 0.23564477, 0.21406996, 0.17533037]])"
            ]
          },
          "metadata": {},
          "execution_count": 136
        }
      ],
      "source": [
        "X = np.random.rand(5, 10)\n",
        "X"
      ]
    },
    {
      "cell_type": "code",
      "source": [
        "Y = X - X.mean(axis=1, keepdims=True)\n",
        "Y"
      ],
      "metadata": {
        "colab": {
          "base_uri": "https://localhost:8080/"
        },
        "id": "fFpu86LwL581",
        "outputId": "ac95909d-626f-4ced-d596-63719e10f1fd"
      },
      "execution_count": 137,
      "outputs": [
        {
          "output_type": "execute_result",
          "data": {
            "text/plain": [
              "array([[ 0.06943525, -0.00068303, -0.40835227, -0.18152782,  0.44808917,\n",
              "        -0.15111784,  0.04319965,  0.13704447,  0.04523867, -0.00132626],\n",
              "       [ 0.37028467,  0.34433832,  0.02585301,  0.32187678, -0.3364593 ,\n",
              "         0.12123256, -0.07937282, -0.44315687, -0.11324279, -0.21135356],\n",
              "       [-0.07251113, -0.36500877,  0.40899185, -0.18264129, -0.24468207,\n",
              "        -0.06808779,  0.39934102,  0.21832579, -0.25130114,  0.15757353],\n",
              "       [-0.22941865,  0.43542921,  0.49095751, -0.19125138, -0.10756543,\n",
              "        -0.21211535,  0.39523884, -0.38332397,  0.20515178, -0.40310257],\n",
              "       [ 0.26937917,  0.48501079, -0.12589235, -0.08124134, -0.04531234,\n",
              "        -0.00192272,  0.22481179, -0.2143146 , -0.23588941, -0.274629  ]])"
            ]
          },
          "metadata": {},
          "execution_count": 137
        }
      ]
    },
    {
      "cell_type": "markdown",
      "metadata": {
        "id": "HoFpiB8OWSWe"
      },
      "source": [
        "#### 59. How to sort an array by the nth column? (★★☆) \n",
        "(**hint**: argsort)"
      ]
    },
    {
      "cell_type": "code",
      "execution_count": 138,
      "metadata": {
        "id": "Z7OyHcN1WSWe",
        "colab": {
          "base_uri": "https://localhost:8080/"
        },
        "outputId": "1f88f962-cb11-469b-8442-7e4f4b96a53b"
      },
      "outputs": [
        {
          "output_type": "stream",
          "name": "stdout",
          "text": [
            "[[6 8 9]\n",
            " [1 6 5]\n",
            " [8 9 5]]\n"
          ]
        }
      ],
      "source": [
        "Z = np.random.randint(0,10,(3,3))\n",
        "print(Z)"
      ]
    },
    {
      "cell_type": "code",
      "source": [
        "print(Z[Z[:,2].argsort()])"
      ],
      "metadata": {
        "colab": {
          "base_uri": "https://localhost:8080/"
        },
        "id": "USadiJLcMJk3",
        "outputId": "7a13f17a-293a-4952-ab0c-fdaad84b155d"
      },
      "execution_count": 140,
      "outputs": [
        {
          "output_type": "stream",
          "name": "stdout",
          "text": [
            "[[1 6 5]\n",
            " [8 9 5]\n",
            " [6 8 9]]\n"
          ]
        }
      ]
    },
    {
      "cell_type": "markdown",
      "metadata": {
        "id": "ZHMAOuLdWSWe"
      },
      "source": [
        "#### 60. How to tell if a given 2D array has null columns? (★★☆) \n",
        "(**hint**: any, ~)"
      ]
    },
    {
      "cell_type": "code",
      "execution_count": 142,
      "metadata": {
        "id": "nRF-2ge_WSWe",
        "colab": {
          "base_uri": "https://localhost:8080/"
        },
        "outputId": "60fda37d-2f81-4795-9d43-b643b33ed0cb"
      },
      "outputs": [
        {
          "output_type": "execute_result",
          "data": {
            "text/plain": [
              "array([[1, 2, 0, 0, 2, 2, 1, 0, 2, 1],\n",
              "       [2, 2, 2, 1, 0, 0, 2, 2, 0, 0],\n",
              "       [0, 2, 1, 0, 1, 1, 0, 1, 1, 1]])"
            ]
          },
          "metadata": {},
          "execution_count": 142
        }
      ],
      "source": [
        "Z = np.random.randint(0,3,(3,10))\n",
        "Z"
      ]
    },
    {
      "cell_type": "code",
      "source": [
        "Z=np.array([\n",
        "    [0,1,np.nan],\n",
        "    [1,2,np.nan],\n",
        "    [4,5,np.nan]\n",
        "])\n",
        "Z"
      ],
      "metadata": {
        "colab": {
          "base_uri": "https://localhost:8080/"
        },
        "id": "MnVaq4m-M89t",
        "outputId": "860b5e6b-dbbc-4faa-ee88-b8505aa8681a"
      },
      "execution_count": 144,
      "outputs": [
        {
          "output_type": "execute_result",
          "data": {
            "text/plain": [
              "array([[ 0.,  1., nan],\n",
              "       [ 1.,  2., nan],\n",
              "       [ 4.,  5., nan]])"
            ]
          },
          "metadata": {},
          "execution_count": 144
        }
      ]
    },
    {
      "cell_type": "code",
      "source": [
        "print(np.isnan(Z).all(axis=0))"
      ],
      "metadata": {
        "colab": {
          "base_uri": "https://localhost:8080/"
        },
        "id": "nXmuTYYRM8w1",
        "outputId": "87be2a8a-f13e-4f77-d4d3-c5a5d2a53fe3"
      },
      "execution_count": 145,
      "outputs": [
        {
          "output_type": "stream",
          "name": "stdout",
          "text": [
            "[False False  True]\n"
          ]
        }
      ]
    },
    {
      "cell_type": "markdown",
      "metadata": {
        "id": "HzYbRVOjWSWe"
      },
      "source": [
        "#### 61. Find the nearest value from a given value in an array (★★☆) \n",
        "(**hint**: np.abs, argmin, flat)"
      ]
    },
    {
      "cell_type": "code",
      "execution_count": 146,
      "metadata": {
        "id": "_nKVMQ2IWSWe",
        "colab": {
          "base_uri": "https://localhost:8080/"
        },
        "outputId": "265ea5cb-7803-4a33-932e-8c2bde3ba121"
      },
      "outputs": [
        {
          "output_type": "stream",
          "name": "stdout",
          "text": [
            "0.5063138030830928\n"
          ]
        }
      ],
      "source": [
        "Z = np.random.uniform(0,1,10)\n",
        "z = 0.5\n",
        "m = Z.flat[np.abs(Z - z).argmin()]\n",
        "print(m)"
      ]
    },
    {
      "cell_type": "markdown",
      "metadata": {
        "id": "y_e6YpTZWSWe"
      },
      "source": [
        "#### 62. Considering two arrays with shape (1,3) and (3,1), how to compute their sum using an iterator? (★★☆) \n",
        "(**hint**: np.nditer)"
      ]
    },
    {
      "cell_type": "code",
      "execution_count": 147,
      "metadata": {
        "id": "uFBmFQdcWSWe"
      },
      "outputs": [],
      "source": [
        "A = np.arange(3).reshape(3,1)\n",
        "B = np.arange(3).reshape(1,3)"
      ]
    },
    {
      "cell_type": "code",
      "source": [
        "it = np.nditer([A,B,None])"
      ],
      "metadata": {
        "id": "SThh74O6Nk-u"
      },
      "execution_count": 150,
      "outputs": []
    },
    {
      "cell_type": "code",
      "source": [
        "for x,y,z in it: z[...] = x + y\n",
        "print(it.operands[2])"
      ],
      "metadata": {
        "colab": {
          "base_uri": "https://localhost:8080/"
        },
        "id": "XPCGjxkcNyRf",
        "outputId": "850c8a5f-ce47-41da-be67-edba14745138"
      },
      "execution_count": 158,
      "outputs": [
        {
          "output_type": "stream",
          "name": "stdout",
          "text": [
            "[[0 1 2]\n",
            " [1 2 3]\n",
            " [2 3 4]]\n"
          ]
        }
      ]
    },
    {
      "cell_type": "markdown",
      "metadata": {
        "id": "sSAwcJ_fWSWe"
      },
      "source": [
        "#### 63. Create an array class that has a name attribute (★★☆) \n",
        "(**hint**: class method)"
      ]
    },
    {
      "cell_type": "code",
      "execution_count": 159,
      "metadata": {
        "id": "v19SLTvoWSWe",
        "colab": {
          "base_uri": "https://localhost:8080/"
        },
        "outputId": "b1f5e3ec-1731-49f8-8e10-b2fc05ae3458"
      },
      "outputs": [
        {
          "output_type": "stream",
          "name": "stdout",
          "text": [
            "range_10\n"
          ]
        }
      ],
      "source": [
        "class NamedArray(np.ndarray):\n",
        "    def __new__(cls, array, name=\"no name\"):\n",
        "        obj = np.asarray(array).view(cls)\n",
        "        obj.name = name\n",
        "        return obj\n",
        "    def __array_finalize__(self, obj):\n",
        "        if obj is None: return\n",
        "        self.name = getattr(obj, 'name', \"no name\")\n",
        "\n",
        "Z = NamedArray(np.arange(10), \"range_10\")\n",
        "print (Z.name)"
      ]
    },
    {
      "cell_type": "markdown",
      "metadata": {
        "id": "G_b6M1U_WSWe"
      },
      "source": [
        "#### 64. Consider a given vector, how to add 1 to each element indexed by a second vector (be careful with repeated indices)? (★★★) \n",
        "(**hint**: np.bincount | np.add.at)"
      ]
    },
    {
      "cell_type": "code",
      "execution_count": 167,
      "metadata": {
        "id": "zSXPksmdWSWe",
        "colab": {
          "base_uri": "https://localhost:8080/"
        },
        "outputId": "99c52323-c6b4-4474-8410-51a5ede7c649"
      },
      "outputs": [
        {
          "output_type": "stream",
          "name": "stdout",
          "text": [
            "[1. 1. 1. 1. 1. 1. 1. 1. 1. 1.]\n"
          ]
        }
      ],
      "source": [
        "Z = np.ones(10)\n",
        "print(Z)"
      ]
    },
    {
      "cell_type": "code",
      "source": [
        "I = np.random.randint(0,len(Z),20)\n",
        "print(I)"
      ],
      "metadata": {
        "colab": {
          "base_uri": "https://localhost:8080/"
        },
        "id": "hw6Y6dMKQ2PR",
        "outputId": "43f4177b-0a03-4907-c7f4-97952c809be0"
      },
      "execution_count": 168,
      "outputs": [
        {
          "output_type": "stream",
          "name": "stdout",
          "text": [
            "[6 8 8 3 8 1 7 4 4 0 5 5 7 5 0 0 7 8 6 3]\n"
          ]
        }
      ]
    },
    {
      "cell_type": "code",
      "source": [
        "Z += np.bincount(I, minlength=len(Z))\n",
        "print(Z)"
      ],
      "metadata": {
        "colab": {
          "base_uri": "https://localhost:8080/"
        },
        "id": "ZehDbjYwQ-4a",
        "outputId": "db6eadcf-0492-4a6c-a8f6-59cedb4e5e36"
      },
      "execution_count": 170,
      "outputs": [
        {
          "output_type": "stream",
          "name": "stdout",
          "text": [
            "[4. 2. 1. 3. 3. 4. 3. 4. 5. 1.]\n"
          ]
        }
      ]
    },
    {
      "cell_type": "code",
      "source": [
        "Z = np.ones(10)\n",
        "I = np.random.randint(0,len(Z),20)\n",
        "np.add.at(Z, I, 1)\n",
        "print(Z)"
      ],
      "metadata": {
        "colab": {
          "base_uri": "https://localhost:8080/"
        },
        "id": "XSIc1GUCQ-qe",
        "outputId": "70678419-dbde-4840-e79d-9184e8dc33fb"
      },
      "execution_count": 171,
      "outputs": [
        {
          "output_type": "stream",
          "name": "stdout",
          "text": [
            "[2. 4. 3. 6. 1. 3. 3. 2. 3. 3.]\n"
          ]
        }
      ]
    },
    {
      "cell_type": "markdown",
      "metadata": {
        "id": "Umrr0Xn_WSWe"
      },
      "source": [
        "#### 65. How to accumulate elements of a vector (X) to an array (F) based on an index list (I)? (★★★) \n",
        "(**hint**: np.bincount)"
      ]
    },
    {
      "cell_type": "code",
      "execution_count": 172,
      "metadata": {
        "id": "YY3Cp2e5WSWe"
      },
      "outputs": [],
      "source": [
        "X = [1,2,3,4,5,6]\n",
        "I = [1,3,9,3,4,1]"
      ]
    },
    {
      "cell_type": "code",
      "source": [
        "F = np.bincount(I,X)\n",
        "print(F)"
      ],
      "metadata": {
        "colab": {
          "base_uri": "https://localhost:8080/"
        },
        "id": "3s2Ay77HSUQu",
        "outputId": "0427f411-692c-47bf-9b3c-ad629b636b12"
      },
      "execution_count": 173,
      "outputs": [
        {
          "output_type": "stream",
          "name": "stdout",
          "text": [
            "[0. 7. 0. 6. 5. 0. 0. 0. 0. 3.]\n"
          ]
        }
      ]
    },
    {
      "cell_type": "markdown",
      "metadata": {
        "id": "xty0xJkoWSWe"
      },
      "source": [
        "#### 66. Considering a (w,h,3) image of (dtype=ubyte), compute the number of unique colors (★★★) \n",
        "(**hint**: np.unique)"
      ]
    },
    {
      "cell_type": "code",
      "execution_count": 186,
      "metadata": {
        "id": "czJ5SKJxWSWe",
        "colab": {
          "base_uri": "https://localhost:8080/"
        },
        "outputId": "6b876b9e-a05c-4488-91a6-9fb0fb1d7060"
      },
      "outputs": [
        {
          "output_type": "stream",
          "name": "stdout",
          "text": [
            "500\n"
          ]
        }
      ],
      "source": [
        "w, h = 500,500\n",
        "I = np.random.randint(0, 4, (h, w, 3)).astype(np.ubyte)\n",
        "print(len(I))"
      ]
    },
    {
      "cell_type": "code",
      "source": [
        "colors = np.unique(I.reshape(-1, 3), axis=0)\n",
        "print(len(colors))"
      ],
      "metadata": {
        "colab": {
          "base_uri": "https://localhost:8080/"
        },
        "id": "1dXFyvTeUgMf",
        "outputId": "34bb9253-6f83-4a34-b26d-574fd84bf599"
      },
      "execution_count": 187,
      "outputs": [
        {
          "output_type": "stream",
          "name": "stdout",
          "text": [
            "64\n"
          ]
        }
      ]
    },
    {
      "cell_type": "markdown",
      "metadata": {
        "id": "bpj-XzD1WSWe"
      },
      "source": [
        "#### 67. Considering a four dimensions array, how to get sum over the last two axis at once? (★★★) \n",
        "(**hint**: sum(axis=(-2,-1)))"
      ]
    },
    {
      "cell_type": "code",
      "execution_count": 188,
      "metadata": {
        "id": "pwujZHStWSWe",
        "colab": {
          "base_uri": "https://localhost:8080/"
        },
        "outputId": "dc29d10c-7bbb-4ec5-9212-f84e794e43ca"
      },
      "outputs": [
        {
          "output_type": "execute_result",
          "data": {
            "text/plain": [
              "array([[[[1, 6, 9, 7],\n",
              "         [3, 4, 8, 0],\n",
              "         [1, 7, 2, 1]],\n",
              "\n",
              "        [[0, 4, 1, 2],\n",
              "         [1, 1, 1, 1],\n",
              "         [1, 9, 5, 8]],\n",
              "\n",
              "        [[6, 1, 4, 3],\n",
              "         [2, 6, 2, 9],\n",
              "         [2, 8, 8, 8]],\n",
              "\n",
              "        [[2, 7, 1, 5],\n",
              "         [7, 8, 3, 4],\n",
              "         [6, 6, 6, 2]]],\n",
              "\n",
              "\n",
              "       [[[3, 5, 8, 5],\n",
              "         [0, 0, 4, 0],\n",
              "         [6, 5, 0, 5]],\n",
              "\n",
              "        [[6, 3, 2, 5],\n",
              "         [3, 5, 4, 3],\n",
              "         [4, 3, 7, 9]],\n",
              "\n",
              "        [[1, 8, 1, 0],\n",
              "         [1, 9, 4, 2],\n",
              "         [7, 6, 7, 2]],\n",
              "\n",
              "        [[4, 3, 8, 5],\n",
              "         [1, 2, 0, 1],\n",
              "         [7, 4, 8, 8]]],\n",
              "\n",
              "\n",
              "       [[[1, 4, 1, 4],\n",
              "         [0, 2, 7, 8],\n",
              "         [3, 3, 3, 7]],\n",
              "\n",
              "        [[2, 6, 2, 8],\n",
              "         [6, 5, 9, 6],\n",
              "         [7, 8, 0, 7]],\n",
              "\n",
              "        [[5, 3, 8, 1],\n",
              "         [8, 0, 2, 5],\n",
              "         [7, 6, 6, 3]],\n",
              "\n",
              "        [[4, 4, 2, 3],\n",
              "         [9, 5, 5, 3],\n",
              "         [6, 5, 1, 3]]]])"
            ]
          },
          "metadata": {},
          "execution_count": 188
        }
      ],
      "source": [
        "A = np.random.randint(0,10,(3,4,3,4))\n",
        "A"
      ]
    },
    {
      "cell_type": "code",
      "source": [
        "sum = A.sum(axis=(-2,-1))\n",
        "print(sum)"
      ],
      "metadata": {
        "colab": {
          "base_uri": "https://localhost:8080/"
        },
        "id": "9yWT-S3QV3Be",
        "outputId": "52b4887f-3e2f-49bc-a5a5-5af4564565b1"
      },
      "execution_count": 189,
      "outputs": [
        {
          "output_type": "stream",
          "name": "stdout",
          "text": [
            "[[49 34 59 57]\n",
            " [41 54 48 51]\n",
            " [43 66 54 50]]\n"
          ]
        }
      ]
    },
    {
      "cell_type": "markdown",
      "metadata": {
        "id": "6yG7updeWSWe"
      },
      "source": [
        "#### 68. Considering a one-dimensional vector D, how to compute means of subsets of D using a vector S of same size describing subset  indices? (★★★) \n",
        "(**hint**: np.bincount)"
      ]
    },
    {
      "cell_type": "code",
      "execution_count": 191,
      "metadata": {
        "id": "gRtQFKsVWSWe",
        "colab": {
          "base_uri": "https://localhost:8080/"
        },
        "outputId": "6d87d1bd-390e-48af-f62e-73d006730f88"
      },
      "outputs": [
        {
          "output_type": "stream",
          "name": "stdout",
          "text": [
            "[0.78950807 0.16196425 0.84797237 0.83757681 0.35073782 0.26817529\n",
            " 0.14070123 0.10746    0.6846508  0.43456061 0.09624017 0.11493175\n",
            " 0.99157061 0.69144301 0.48140069 0.30732696 0.36432281 0.41256194\n",
            " 0.41234469 0.72919838 0.33896514 0.05820576 0.80685481 0.73558279\n",
            " 0.72577357 0.87187274 0.97495383 0.29736043 0.95967733 0.08616006\n",
            " 0.15811859 0.53796244 0.55173246 0.45088189 0.62032298 0.22746744\n",
            " 0.64208898 0.86265741 0.80155892 0.56753556 0.17670906 0.95320892\n",
            " 0.28827661 0.82043082 0.04312137 0.42910091 0.60116961 0.77577938\n",
            " 0.69586339 0.68277175 0.12866232 0.58378552 0.22856757 0.94865451\n",
            " 0.27049838 0.91710725 0.52550694 0.14484626 0.06701118 0.36959059\n",
            " 0.34076774 0.37046125 0.70315271 0.96777278 0.21545664 0.14489023\n",
            " 0.80640323 0.24287191 0.36070977 0.82759634 0.39591827 0.33087172\n",
            " 0.93284387 0.25008861 0.3145717  0.63041062 0.42287112 0.68190146\n",
            " 0.41799353 0.76704682 0.50263597 0.8674007  0.44780855 0.37528022\n",
            " 0.63542266 0.38949005 0.30482813 0.16558743 0.79200564 0.18894323\n",
            " 0.40882406 0.21532309 0.44464597 0.80528342 0.61404838 0.66019992\n",
            " 0.51746988 0.77117974 0.75434998 0.91705043] [5 7 2 8 6 1 5 4 8 6 6 2 5 5 5 0 5 9 5 3 0 0 2 2 5 4 4 9 4 8 2 4 8 9 4 5 7\n",
            " 8 7 5 6 5 5 9 3 7 6 0 3 0 2 7 5 2 2 5 0 7 6 7 9 9 3 1 3 4 1 5 7 6 8 5 2 5\n",
            " 7 6 5 5 4 9 6 2 5 2 8 7 7 4 1 9 5 0 5 9 4 8 7 0 4 6]\n"
          ]
        }
      ],
      "source": [
        "D = np.random.uniform(0,1,100)\n",
        "S = np.random.randint(0,10,100) #subset so repeating\n",
        "print(D,S)"
      ]
    },
    {
      "cell_type": "code",
      "source": [
        "D_sums = np.bincount(S, weights=D)\n",
        "D_counts = np.bincount(S)\n",
        "print(D_sums, D_counts)"
      ],
      "metadata": {
        "colab": {
          "base_uri": "https://localhost:8080/"
        },
        "id": "LHa8jEuyWVPG",
        "outputId": "76e377bb-08f5-4315-fa9f-f82d1f72ad6a"
      },
      "execution_count": 192,
      "outputs": [
        {
          "output_type": "stream",
          "name": "stdout",
          "text": [
            "[ 3.67505875  2.83435694  6.18680032  2.38679249  6.16911889 11.00911144\n",
            "  4.60412181  5.02000495  4.71431838  4.45373754] [ 8  4 11  5 11 22 10 12  8  9]\n"
          ]
        }
      ]
    },
    {
      "cell_type": "code",
      "source": [
        "D_means = D_sums / D_counts\n",
        "print(D_means)"
      ],
      "metadata": {
        "colab": {
          "base_uri": "https://localhost:8080/"
        },
        "id": "KMNtpaACWk_y",
        "outputId": "0cbefe6f-f499-46f5-e9fa-e6b56a4e43d5"
      },
      "execution_count": 193,
      "outputs": [
        {
          "output_type": "stream",
          "name": "stdout",
          "text": [
            "[0.45938234 0.70858924 0.56243639 0.4773585  0.56082899 0.50041416\n",
            " 0.46041218 0.41833375 0.5892898  0.49485973]\n"
          ]
        }
      ]
    },
    {
      "cell_type": "markdown",
      "metadata": {
        "id": "Gn2DJeJXWSWe"
      },
      "source": [
        "#### 69. How to get the diagonal of a dot product? (★★★) \n",
        "(**hint**: np.diag)"
      ]
    },
    {
      "cell_type": "code",
      "execution_count": 194,
      "metadata": {
        "id": "_Rv59O0KWSWf",
        "colab": {
          "base_uri": "https://localhost:8080/"
        },
        "outputId": "6c44d8b5-7b36-4bbb-9a5b-a5b984f046e9"
      },
      "outputs": [
        {
          "output_type": "execute_result",
          "data": {
            "text/plain": [
              "array([63, 41, 87])"
            ]
          },
          "metadata": {},
          "execution_count": 194
        }
      ],
      "source": [
        "A = np.random.randint(0,10,(3,3))\n",
        "B= np.random.randint(0,10,(3,3))\n",
        "np.diag(np.dot(A, B))"
      ]
    },
    {
      "cell_type": "markdown",
      "metadata": {
        "id": "Y8_cYh-_WSWf"
      },
      "source": [
        "#### 70. Consider the vector \\[1, 2, 3, 4, 5\\], how to build a new vector with 3 consecutive zeros interleaved between each value? (★★★) \n",
        "(**hint**: array\\[::4\\])"
      ]
    },
    {
      "cell_type": "code",
      "execution_count": 195,
      "metadata": {
        "id": "2xkIN8dBWSWf",
        "colab": {
          "base_uri": "https://localhost:8080/"
        },
        "outputId": "5c581e02-a081-4edb-e431-6311a517da9b"
      },
      "outputs": [
        {
          "output_type": "execute_result",
          "data": {
            "text/plain": [
              "array([0., 0., 0., 0., 0., 0., 0., 0., 0., 0., 0., 0., 0., 0., 0., 0., 0.])"
            ]
          },
          "metadata": {},
          "execution_count": 195
        }
      ],
      "source": [
        "Z = np.array([1,2,3,4,5])\n",
        "Z0 = np.zeros(len(Z) + (len(Z)-1)*3)\n",
        "Z0"
      ]
    },
    {
      "cell_type": "code",
      "source": [
        "Z0[::3+1] = Z #every 4th position starting from 1st\n",
        "print(Z0)"
      ],
      "metadata": {
        "colab": {
          "base_uri": "https://localhost:8080/"
        },
        "id": "AroC4i-RXnt1",
        "outputId": "82b80933-899e-4cd6-aa2c-2b441bb24119"
      },
      "execution_count": 196,
      "outputs": [
        {
          "output_type": "stream",
          "name": "stdout",
          "text": [
            "[1. 0. 0. 0. 2. 0. 0. 0. 3. 0. 0. 0. 4. 0. 0. 0. 5.]\n"
          ]
        }
      ]
    },
    {
      "cell_type": "markdown",
      "metadata": {
        "id": "mHI0JHuRWSWf"
      },
      "source": [
        "#### 71. Consider an array of dimension (5,5,3), how to mulitply it by an array with dimensions (5,5)? (★★★) \n",
        "(**hint**: array\\[:, :, None\\])"
      ]
    },
    {
      "cell_type": "code",
      "execution_count": 197,
      "metadata": {
        "collapsed": true,
        "id": "ZvuhLAxSWSWf",
        "colab": {
          "base_uri": "https://localhost:8080/"
        },
        "outputId": "0acbe8ad-7a05-48a9-fa29-719c5b5a685a"
      },
      "outputs": [
        {
          "output_type": "stream",
          "name": "stdout",
          "text": [
            "[[[2. 2. 2.]\n",
            "  [2. 2. 2.]\n",
            "  [2. 2. 2.]\n",
            "  [2. 2. 2.]\n",
            "  [2. 2. 2.]]\n",
            "\n",
            " [[2. 2. 2.]\n",
            "  [2. 2. 2.]\n",
            "  [2. 2. 2.]\n",
            "  [2. 2. 2.]\n",
            "  [2. 2. 2.]]\n",
            "\n",
            " [[2. 2. 2.]\n",
            "  [2. 2. 2.]\n",
            "  [2. 2. 2.]\n",
            "  [2. 2. 2.]\n",
            "  [2. 2. 2.]]\n",
            "\n",
            " [[2. 2. 2.]\n",
            "  [2. 2. 2.]\n",
            "  [2. 2. 2.]\n",
            "  [2. 2. 2.]\n",
            "  [2. 2. 2.]]\n",
            "\n",
            " [[2. 2. 2.]\n",
            "  [2. 2. 2.]\n",
            "  [2. 2. 2.]\n",
            "  [2. 2. 2.]\n",
            "  [2. 2. 2.]]]\n"
          ]
        }
      ],
      "source": [
        "A = np.ones((5,5,3))\n",
        "B = 2*np.ones((5,5))\n",
        "print(A * B[:,:,None])"
      ]
    },
    {
      "cell_type": "markdown",
      "metadata": {
        "id": "Wx0yncnIWSWf"
      },
      "source": [
        "#### 72. How to swap two rows of an array? (★★★) \n",
        "(**hint**: array\\[\\[\\]\\] = array\\[\\[\\]\\])"
      ]
    },
    {
      "cell_type": "code",
      "execution_count": 198,
      "metadata": {
        "id": "qhbtKgPVWSWf",
        "colab": {
          "base_uri": "https://localhost:8080/"
        },
        "outputId": "9094bb69-5c79-4fc3-f699-4083dba1387b"
      },
      "outputs": [
        {
          "output_type": "stream",
          "name": "stdout",
          "text": [
            "[[ 5  6  7  8  9]\n",
            " [ 0  1  2  3  4]\n",
            " [10 11 12 13 14]\n",
            " [15 16 17 18 19]\n",
            " [20 21 22 23 24]]\n"
          ]
        }
      ],
      "source": [
        "A = np.arange(25).reshape(5,5)\n",
        "A[[0,1]] = A[[1,0]]\n",
        "print(A)"
      ]
    },
    {
      "cell_type": "markdown",
      "metadata": {
        "id": "r5CmR-cMWSWf"
      },
      "source": [
        "#### 73. Consider a set of 10 triplets describing 10 triangles (with shared vertices), find the set of unique line segments composing all the  triangles (★★★) \n",
        "(**hint**: repeat, np.roll, np.sort, view, np.unique)"
      ]
    },
    {
      "cell_type": "code",
      "execution_count": 199,
      "metadata": {
        "id": "7HnfK7O8WSWf",
        "colab": {
          "base_uri": "https://localhost:8080/"
        },
        "outputId": "5b25481d-a670-48ad-e612-dd7c7a5d08b4"
      },
      "outputs": [
        {
          "output_type": "execute_result",
          "data": {
            "text/plain": [
              "array([[57, 41,  4],\n",
              "       [87, 82, 66],\n",
              "       [89, 24, 51],\n",
              "       [48, 74, 57],\n",
              "       [77, 70, 91],\n",
              "       [27, 81, 89],\n",
              "       [42, 94, 58],\n",
              "       [57, 73,  9],\n",
              "       [91, 87,  8],\n",
              "       [ 2, 63, 31]])"
            ]
          },
          "metadata": {},
          "execution_count": 199
        }
      ],
      "source": [
        "faces = np.random.randint(0,100,(10,3))\n",
        "faces"
      ]
    },
    {
      "cell_type": "code",
      "source": [
        "F = np.roll(faces.repeat(2,axis=1),-1,axis=1)\n",
        "F = F.reshape(len(F)*3,2)\n",
        "F = np.sort(F,axis=1)\n",
        "G = F.view( dtype=[('p0',F.dtype),('p1',F.dtype)] )\n",
        "G = np.unique(G)\n",
        "print(G)"
      ],
      "metadata": {
        "colab": {
          "base_uri": "https://localhost:8080/"
        },
        "id": "jKa7yj4rYj6-",
        "outputId": "2cbac4e6-ee61-4e35-89ff-c66935f32043"
      },
      "execution_count": 200,
      "outputs": [
        {
          "output_type": "stream",
          "name": "stdout",
          "text": [
            "[( 2, 31) ( 2, 63) ( 4, 41) ( 4, 57) ( 8, 87) ( 8, 91) ( 9, 57) ( 9, 73)\n",
            " (24, 51) (24, 89) (27, 81) (27, 89) (31, 63) (41, 57) (42, 58) (42, 94)\n",
            " (48, 57) (48, 74) (51, 89) (57, 73) (57, 74) (58, 94) (66, 82) (66, 87)\n",
            " (70, 77) (70, 91) (77, 91) (81, 89) (82, 87) (87, 91)]\n"
          ]
        }
      ]
    },
    {
      "cell_type": "markdown",
      "metadata": {
        "id": "Uw5W8sPFWSWf"
      },
      "source": [
        "#### 74. Given an array C that is a bincount, how to produce an array A such that np.bincount(A) == C? (★★★) \n",
        "(**hint**: np.repeat)"
      ]
    },
    {
      "cell_type": "code",
      "execution_count": 201,
      "metadata": {
        "id": "hivlI0F-WSWf",
        "colab": {
          "base_uri": "https://localhost:8080/"
        },
        "outputId": "9b0202d0-6985-4e85-f9dc-c77a4925e3a7"
      },
      "outputs": [
        {
          "output_type": "execute_result",
          "data": {
            "text/plain": [
              "array([0, 2, 1, 1, 2, 0, 1])"
            ]
          },
          "metadata": {},
          "execution_count": 201
        }
      ],
      "source": [
        "C = np.bincount([1,1,2,3,4,4,6])\n",
        "C"
      ]
    },
    {
      "cell_type": "code",
      "source": [
        "A = np.repeat(np.arange(len(C)), C)\n",
        "A"
      ],
      "metadata": {
        "colab": {
          "base_uri": "https://localhost:8080/"
        },
        "id": "ICYWvDfqZWys",
        "outputId": "653033cb-3535-4a8a-a585-54f1c11d8757"
      },
      "execution_count": 202,
      "outputs": [
        {
          "output_type": "execute_result",
          "data": {
            "text/plain": [
              "array([1, 1, 2, 3, 4, 4, 6])"
            ]
          },
          "metadata": {},
          "execution_count": 202
        }
      ]
    },
    {
      "cell_type": "markdown",
      "metadata": {
        "id": "7_qvny3cWSWf"
      },
      "source": [
        "#### 75. How to compute averages using a sliding window over an array? (★★★) \n",
        "(**hint**: np.cumsum)"
      ]
    },
    {
      "cell_type": "code",
      "execution_count": 207,
      "metadata": {
        "id": "6m206Ub7WSWf"
      },
      "outputs": [],
      "source": [
        "def moving_average(a, n=3) :\n",
        "    ret = np.cumsum(a, dtype=float)\n",
        "    ret[n:] = ret[n:] - ret[:-n]\n",
        "    return ret[n - 1:] / n"
      ]
    },
    {
      "cell_type": "code",
      "source": [
        "Z = np.arange(20)\n",
        "print(np.cumsum(Z, dtype=float))\n",
        "print(moving_average(Z, n=3))"
      ],
      "metadata": {
        "colab": {
          "base_uri": "https://localhost:8080/"
        },
        "id": "2bsPULMqarDC",
        "outputId": "d11d392e-494a-489e-b2b7-6ab976857240"
      },
      "execution_count": 209,
      "outputs": [
        {
          "output_type": "stream",
          "name": "stdout",
          "text": [
            "[  0.   1.   3.   6.  10.  15.  21.  28.  36.  45.  55.  66.  78.  91.\n",
            " 105. 120. 136. 153. 171. 190.]\n",
            "[ 1.  2.  3.  4.  5.  6.  7.  8.  9. 10. 11. 12. 13. 14. 15. 16. 17. 18.]\n"
          ]
        }
      ]
    },
    {
      "cell_type": "markdown",
      "metadata": {
        "id": "RzqJdpjIWSWf"
      },
      "source": [
        "#### 76. Consider a one-dimensional array Z, build a two-dimensional array whose first row is (Z\\[0\\],Z\\[1\\],Z\\[2\\]) and each subsequent row is  shifted by 1 (last row should be (Z\\[-3\\],Z\\[-2\\],Z\\[-1\\]) (★★★) \n",
        "(**hint**: from numpy.lib import stride_tricks)"
      ]
    },
    {
      "cell_type": "code",
      "execution_count": 210,
      "metadata": {
        "id": "qL_xtPWVWSWf",
        "colab": {
          "base_uri": "https://localhost:8080/"
        },
        "outputId": "cad42131-a6ad-40cc-a399-3ef2e31b2dd7"
      },
      "outputs": [
        {
          "output_type": "stream",
          "name": "stdout",
          "text": [
            "[[0 1 2]\n",
            " [1 2 3]\n",
            " [2 3 4]\n",
            " [3 4 5]\n",
            " [4 5 6]\n",
            " [5 6 7]\n",
            " [6 7 8]\n",
            " [7 8 9]]\n"
          ]
        }
      ],
      "source": [
        "def rolling(a, window):\n",
        "    shape = (a.size - window + 1, window)\n",
        "    strides = (a.itemsize, a.itemsize)\n",
        "    return np.lib.stride_tricks.as_strided(a, shape=shape, strides=strides)\n",
        "Z = rolling(np.arange(10), 3)\n",
        "print(Z)"
      ]
    },
    {
      "cell_type": "markdown",
      "metadata": {
        "id": "MO3FtEzKWSWf"
      },
      "source": [
        "#### 77. How to negate a boolean, or to change the sign of a float inplace? (★★★) \n",
        "(**hint**: np.logical_not, np.negative)"
      ]
    },
    {
      "cell_type": "code",
      "execution_count": 211,
      "metadata": {
        "id": "VzE4wV8uWSWf",
        "colab": {
          "base_uri": "https://localhost:8080/"
        },
        "outputId": "b1591a2b-341c-4d31-8b1d-70c58297c14c"
      },
      "outputs": [
        {
          "output_type": "execute_result",
          "data": {
            "text/plain": [
              "array([1, 1, 1, 0, 0, 1, 0, 0, 0, 0, 1, 0, 1, 0, 0, 1, 1, 1, 0, 1, 1, 0,\n",
              "       0, 1, 0, 0, 0, 0, 0, 0, 1, 0, 1, 0, 0, 0, 1, 0, 1, 0, 0, 1, 0, 0,\n",
              "       1, 0, 1, 1, 1, 0, 1, 0, 1, 1, 0, 1, 1, 1, 0, 1, 1, 0, 0, 0, 0, 1,\n",
              "       1, 0, 0, 1, 1, 1, 1, 0, 1, 0, 0, 1, 0, 1, 1, 1, 1, 1, 0, 1, 1, 1,\n",
              "       1, 1, 0, 1, 1, 1, 1, 0, 0, 1, 1, 0])"
            ]
          },
          "metadata": {},
          "execution_count": 211
        }
      ],
      "source": [
        "#boolean\n",
        "Z = np.random.randint(0,2,100)\n",
        "Z"
      ]
    },
    {
      "cell_type": "code",
      "source": [
        "print(np.logical_not(Z, out=Z))"
      ],
      "metadata": {
        "colab": {
          "base_uri": "https://localhost:8080/"
        },
        "id": "w8htJZrVdAFh",
        "outputId": "f0bec4cc-67e1-4bb4-836d-84b0d1c767e1"
      },
      "execution_count": 212,
      "outputs": [
        {
          "output_type": "stream",
          "name": "stdout",
          "text": [
            "[0 0 0 1 1 0 1 1 1 1 0 1 0 1 1 0 0 0 1 0 0 1 1 0 1 1 1 1 1 1 0 1 0 1 1 1 0\n",
            " 1 0 1 1 0 1 1 0 1 0 0 0 1 0 1 0 0 1 0 0 0 1 0 0 1 1 1 1 0 0 1 1 0 0 0 0 1\n",
            " 0 1 1 0 1 0 0 0 0 0 1 0 0 0 0 0 1 0 0 0 0 1 1 0 0 1]\n"
          ]
        }
      ]
    },
    {
      "cell_type": "code",
      "source": [
        "#float\n",
        "Z = np.random.uniform(-1.0,1.0,10)\n",
        "Z"
      ],
      "metadata": {
        "colab": {
          "base_uri": "https://localhost:8080/"
        },
        "id": "TTD_tWCLdMtG",
        "outputId": "598af324-e4c2-429a-b7d9-75b97b4d3113"
      },
      "execution_count": 213,
      "outputs": [
        {
          "output_type": "execute_result",
          "data": {
            "text/plain": [
              "array([ 0.45359734,  0.48820815, -0.13780226, -0.41464438,  0.30830237,\n",
              "       -0.97234763,  0.297708  ,  0.95519429,  0.38973726,  0.59370716])"
            ]
          },
          "metadata": {},
          "execution_count": 213
        }
      ]
    },
    {
      "cell_type": "code",
      "source": [
        "print(np.negative(Z, out=Z))"
      ],
      "metadata": {
        "colab": {
          "base_uri": "https://localhost:8080/"
        },
        "id": "jFtqatlIdRab",
        "outputId": "0ab54491-eb0d-4862-bf08-fe7f9aad5d7b"
      },
      "execution_count": 214,
      "outputs": [
        {
          "output_type": "stream",
          "name": "stdout",
          "text": [
            "[-0.45359734 -0.48820815  0.13780226  0.41464438 -0.30830237  0.97234763\n",
            " -0.297708   -0.95519429 -0.38973726 -0.59370716]\n"
          ]
        }
      ]
    },
    {
      "cell_type": "markdown",
      "metadata": {
        "id": "BazqB8_4WSWf"
      },
      "source": [
        "#### 78. Consider 2 sets of points P0,P1 describing lines (2d) and a point p, how to compute distance from p to each line i  (P0\\[i\\],P1\\[i\\])? (★★★)"
      ]
    },
    {
      "cell_type": "code",
      "execution_count": 215,
      "metadata": {
        "id": "SaI6iFE9WSWf"
      },
      "outputs": [],
      "source": [
        "def distance(P0, P1, p):\n",
        "    T = P1 - P0\n",
        "    L = (T**2).sum(axis=1)\n",
        "    U = -((P0[:,0]-p[...,0])*T[:,0] + (P0[:,1]-p[...,1])*T[:,1]) / L\n",
        "    U = U.reshape(len(U),1)\n",
        "    D = P0 + U*T - p\n",
        "    return np.sqrt((D**2).sum(axis=1))"
      ]
    },
    {
      "cell_type": "code",
      "source": [
        "P0 = np.random.uniform(-10,10,(10,2))\n",
        "P1 = np.random.uniform(-10,10,(10,2))\n",
        "p  = np.random.uniform(-10,10,( 1,2))\n",
        "print(distance(P0, P1, p))"
      ],
      "metadata": {
        "colab": {
          "base_uri": "https://localhost:8080/"
        },
        "id": "wlIvpzNBdh2b",
        "outputId": "0be7e6aa-2ea2-4874-dafc-055ca4722892"
      },
      "execution_count": 216,
      "outputs": [
        {
          "output_type": "stream",
          "name": "stdout",
          "text": [
            "[ 8.94736086 10.97664703  3.6872653   4.4701707   0.03656875 16.83261763\n",
            "  6.45338832  0.17699583 11.0695005   0.761773  ]\n"
          ]
        }
      ]
    },
    {
      "cell_type": "markdown",
      "metadata": {
        "id": "jmNt0bW_WSWf"
      },
      "source": [
        "#### 79. Consider 2 sets of points P0,P1 describing lines (2d) and a set of points P, how to compute distance from each point j (P\\[j\\]) to each line i (P0\\[i\\],P1\\[i\\])? (★★★)"
      ]
    },
    {
      "cell_type": "code",
      "source": [
        "P0 = np.random.uniform(-10, 10, (10,2))\n",
        "P1 = np.random.uniform(-10,10,(10,2))\n",
        "p = np.random.uniform(-10, 10, (10,2))\n",
        "print(np.array([distance(P0,P1,p_i) for p_i in p]))"
      ],
      "metadata": {
        "colab": {
          "base_uri": "https://localhost:8080/"
        },
        "id": "tg7K1Vc4gZVk",
        "outputId": "de2a31b2-9749-4dcb-82f3-642876b3f7b2"
      },
      "execution_count": 229,
      "outputs": [
        {
          "output_type": "stream",
          "name": "stdout",
          "text": [
            "[[1.32400860e+01 7.34809694e+00 2.46190558e+00 6.86867503e+00\n",
            "  1.56258905e+00 8.34331271e+00 1.61328434e+00 1.57170070e+01\n",
            "  1.73468618e+00 5.92561812e+00]\n",
            " [3.55924315e+00 1.93140806e+01 6.18009616e+00 6.05745378e+00\n",
            "  9.32438636e+00 1.16566696e+00 2.24032029e+00 1.92029462e+01\n",
            "  3.56034869e-01 2.61488539e+00]\n",
            " [1.35867067e+01 8.51242333e+00 1.27634729e+00 6.88200264e+00\n",
            "  3.81029213e-01 8.89003588e+00 5.14956100e-01 1.68044383e+01\n",
            "  7.19786333e-01 6.71983637e+00]\n",
            " [6.84316416e+00 5.08812548e+00 9.95487253e+00 1.23037867e+01\n",
            "  5.69710573e+00 1.14735964e+01 1.46413246e+01 2.33537365e+00\n",
            "  1.69716282e+01 1.24320275e+01]\n",
            " [3.55510269e+00 5.47291880e+00 8.71423272e+00 9.16901397e+00\n",
            "  5.00560758e+00 8.22645082e+00 1.24968754e+01 4.53749028e+00\n",
            "  1.44671314e+01 9.42021171e+00]\n",
            " [6.74640926e+00 1.65774920e+01 4.46399415e+00 2.14132870e+00\n",
            "  6.92687115e+00 3.74753170e+00 1.90531318e+00 1.89708118e+01\n",
            "  6.15994255e-03 4.21514885e+00]\n",
            " [3.61546436e+00 1.75589093e+01 4.54771551e+00 5.50667501e+00\n",
            "  7.59812999e+00 9.00720802e-01 9.09515617e-01 1.78997415e+01\n",
            "  1.49038665e+00 1.91901898e+00]\n",
            " [1.39891640e+01 5.91731442e+00 3.60449134e+00 8.01134718e+00\n",
            "  2.90309716e+00 8.80685957e+00 2.30335911e+00 1.50630083e+01\n",
            "  2.17872001e+00 5.96761257e+00]\n",
            " [1.84529523e+00 1.26730088e+01 5.11704684e-01 5.87394484e+00\n",
            "  2.60997422e+00 1.69849799e+00 3.87661735e+00 1.31532419e+01\n",
            "  5.96497855e+00 1.68723070e+00]\n",
            " [1.15731260e+00 1.39823074e+00 1.18974232e+01 5.65391308e+00\n",
            "  8.79811653e+00 6.65073964e+00 1.43136367e+01 2.82857566e+00\n",
            "  1.55508912e+01 9.07146069e+00]]\n"
          ]
        }
      ]
    },
    {
      "cell_type": "markdown",
      "metadata": {
        "id": "1DzHJQufWSWf"
      },
      "source": [
        "#### 80. Consider an arbitrary array, write a function that extract a subpart with a fixed shape and centered on a given element (pad with a `fill` value when necessary) (★★★) \n",
        "(**hint**: minimum, maximum)"
      ]
    },
    {
      "cell_type": "code",
      "source": [
        "Z = np.random.randint(0,10,(10,10))\n",
        "shape = (5,5)\n",
        "fill  = 0\n",
        "position = (1,1)\n",
        "\n",
        "R = np.ones(shape, dtype=Z.dtype)*fill\n",
        "P  = np.array(list(position)).astype(int)\n",
        "Rs = np.array(list(R.shape)).astype(int)\n",
        "Zs = np.array(list(Z.shape)).astype(int)\n",
        "\n",
        "R_start = np.zeros((len(shape),)).astype(int)\n",
        "R_stop  = np.array(list(shape)).astype(int)\n",
        "Z_start = (P-Rs//2)\n",
        "Z_stop  = (P+Rs//2)+Rs%2\n",
        "\n",
        "R_start = (R_start - np.minimum(Z_start,0)).tolist()\n",
        "Z_start = (np.maximum(Z_start,0)).tolist()\n",
        "R_stop = np.maximum(R_start, (R_stop - np.maximum(Z_stop-Zs,0))).tolist()\n",
        "Z_stop = (np.minimum(Z_stop,Zs)).tolist()\n",
        "\n",
        "r = [slice(start,stop) for start,stop in zip(R_start,R_stop)]\n",
        "z = [slice(start,stop) for start,stop in zip(Z_start,Z_stop)]\n",
        "R[r] = Z[z]\n",
        "print(Z)\n",
        "print(R)"
      ],
      "metadata": {
        "colab": {
          "base_uri": "https://localhost:8080/"
        },
        "id": "genkI6dqgPJy",
        "outputId": "a29d1a2d-5476-4686-db80-d4ccaac35c53"
      },
      "execution_count": 230,
      "outputs": [
        {
          "output_type": "stream",
          "name": "stdout",
          "text": [
            "[[7 5 2 3 5 0 0 7 7 7]\n",
            " [5 5 0 2 7 4 0 9 5 6]\n",
            " [9 3 6 2 0 2 9 4 7 6]\n",
            " [5 9 2 7 4 2 9 8 2 5]\n",
            " [0 8 3 7 9 2 5 9 7 1]\n",
            " [2 6 3 8 3 4 7 7 7 6]\n",
            " [5 9 1 9 7 7 5 7 8 5]\n",
            " [8 0 3 0 2 9 4 0 0 9]\n",
            " [1 7 2 8 6 6 8 1 5 3]\n",
            " [9 7 5 5 3 8 4 8 8 0]]\n",
            "[[0 0 0 0 0]\n",
            " [0 7 5 2 3]\n",
            " [0 5 5 0 2]\n",
            " [0 9 3 6 2]\n",
            " [0 5 9 2 7]]\n"
          ]
        },
        {
          "output_type": "stream",
          "name": "stderr",
          "text": [
            "/usr/local/lib/python3.7/dist-packages/ipykernel_launcher.py:23: FutureWarning: Using a non-tuple sequence for multidimensional indexing is deprecated; use `arr[tuple(seq)]` instead of `arr[seq]`. In the future this will be interpreted as an array index, `arr[np.array(seq)]`, which will result either in an error or a different result.\n"
          ]
        }
      ]
    },
    {
      "cell_type": "markdown",
      "metadata": {
        "id": "x7Xx3IsLWSWg"
      },
      "source": [
        "#### 81. Consider an array Z = \\[1,2,3,4,5,6,7,8,9,10,11,12,13,14\\], how to generate an array R = \\[\\[1,2,3,4\\], \\[2,3,4,5\\], \\[3,4,5,6\\], ..., \\[11,12,13,14\\]\\]? (★★★) \n",
        "(**hint**: stride\\_tricks.as\\_strided)"
      ]
    },
    {
      "cell_type": "code",
      "execution_count": 232,
      "metadata": {
        "id": "QCuDbbRoWSWg",
        "colab": {
          "base_uri": "https://localhost:8080/"
        },
        "outputId": "9046ae4d-54e4-4c58-f01e-4c62dbe613b8"
      },
      "outputs": [
        {
          "output_type": "execute_result",
          "data": {
            "text/plain": [
              "14"
            ]
          },
          "metadata": {},
          "execution_count": 232
        }
      ],
      "source": [
        "Z = np.arange(1,15,dtype=int)\n",
        "Z.size"
      ]
    },
    {
      "cell_type": "code",
      "source": [
        "def rolling(a, window):\n",
        "    shape = (a.size - window + 1, window)\n",
        "    strides = (a.itemsize, a.itemsize)\n",
        "    return np.lib.stride_tricks.as_strided(a, shape=shape, strides=strides)"
      ],
      "metadata": {
        "id": "zuQP92YUhQzZ"
      },
      "execution_count": 236,
      "outputs": []
    },
    {
      "cell_type": "code",
      "source": [
        "R = rolling(Z, 4)\n",
        "R"
      ],
      "metadata": {
        "colab": {
          "base_uri": "https://localhost:8080/"
        },
        "id": "vr-bGxgxh9dl",
        "outputId": "ff6e123f-f2ef-4c67-a58d-fefe33cafaa7"
      },
      "execution_count": 237,
      "outputs": [
        {
          "output_type": "execute_result",
          "data": {
            "text/plain": [
              "array([[ 1,  2,  3,  4],\n",
              "       [ 2,  3,  4,  5],\n",
              "       [ 3,  4,  5,  6],\n",
              "       [ 4,  5,  6,  7],\n",
              "       [ 5,  6,  7,  8],\n",
              "       [ 6,  7,  8,  9],\n",
              "       [ 7,  8,  9, 10],\n",
              "       [ 8,  9, 10, 11],\n",
              "       [ 9, 10, 11, 12],\n",
              "       [10, 11, 12, 13],\n",
              "       [11, 12, 13, 14]])"
            ]
          },
          "metadata": {},
          "execution_count": 237
        }
      ]
    },
    {
      "cell_type": "markdown",
      "metadata": {
        "id": "rJh70c2uWSWg"
      },
      "source": [
        "#### 82. Compute a matrix rank (★★★) \n",
        "(**hint**: np.linalg.svd) (suggestion: np.linalg.svd)"
      ]
    },
    {
      "cell_type": "code",
      "execution_count": 239,
      "metadata": {
        "id": "21GwFdtlWSWg"
      },
      "outputs": [],
      "source": [
        "Z = np.random.uniform(0,1,(10,10))\n",
        "U, S, V = np.linalg.svd(Z) # Singular Value Decomposition"
      ]
    },
    {
      "cell_type": "code",
      "source": [
        "rank = np.sum(S > 1e-10)\n",
        "print (rank)"
      ],
      "metadata": {
        "colab": {
          "base_uri": "https://localhost:8080/"
        },
        "id": "KuZ9cd0IjBgX",
        "outputId": "9ced7391-4bc5-4a2e-a1d3-7352e60bb4bc"
      },
      "execution_count": 240,
      "outputs": [
        {
          "output_type": "stream",
          "name": "stdout",
          "text": [
            "10\n"
          ]
        }
      ]
    },
    {
      "cell_type": "markdown",
      "metadata": {
        "id": "hHnhI0U6WSWg"
      },
      "source": [
        "#### 83. How to find the most frequent value in an array? \n",
        "(**hint**: np.bincount, argmax)"
      ]
    },
    {
      "cell_type": "code",
      "execution_count": 241,
      "metadata": {
        "id": "ollxJ9OcWSWg",
        "colab": {
          "base_uri": "https://localhost:8080/"
        },
        "outputId": "945ebda6-4e29-414f-b8f8-c5f63bc1ecee"
      },
      "outputs": [
        {
          "output_type": "execute_result",
          "data": {
            "text/plain": [
              "array([3, 6, 4, 2, 2, 8, 7, 0, 7, 3, 5, 2, 8, 0, 9, 3, 4, 2, 9, 6, 1, 3,\n",
              "       4, 1, 4, 6, 7, 8, 3, 2, 2, 2, 3, 4, 1, 0, 0, 2, 2, 1, 3, 5, 6, 8,\n",
              "       3, 4, 9, 1, 6, 6])"
            ]
          },
          "metadata": {},
          "execution_count": 241
        }
      ],
      "source": [
        "Z = np.random.randint(0,10,50)\n",
        "Z"
      ]
    },
    {
      "cell_type": "code",
      "source": [
        "print('value:', np.bincount(Z).argmax())"
      ],
      "metadata": {
        "colab": {
          "base_uri": "https://localhost:8080/"
        },
        "id": "95aocxcNjS-H",
        "outputId": "87aa6ac0-1e39-4012-fa2a-d3d67d7675bb"
      },
      "execution_count": 243,
      "outputs": [
        {
          "output_type": "stream",
          "name": "stdout",
          "text": [
            "value: 2\n"
          ]
        }
      ]
    },
    {
      "cell_type": "markdown",
      "metadata": {
        "id": "MLJmVpZeWSWg"
      },
      "source": [
        "#### 84. Extract all the contiguous 3x3 blocks from a random 10x10 matrix (★★★) \n",
        "(**hint**: stride\\_tricks.as\\_strided)"
      ]
    },
    {
      "cell_type": "code",
      "execution_count": 244,
      "metadata": {
        "id": "I7xbxCiIWSWg",
        "colab": {
          "base_uri": "https://localhost:8080/"
        },
        "outputId": "3a0f3b63-b752-4efd-bdeb-0848d891eaf8"
      },
      "outputs": [
        {
          "output_type": "execute_result",
          "data": {
            "text/plain": [
              "array([[2, 2, 4, 0, 0, 1],\n",
              "       [1, 2, 1, 4, 3, 1],\n",
              "       [2, 4, 1, 0, 2, 1],\n",
              "       [3, 0, 2, 4, 3, 0],\n",
              "       [2, 4, 0, 3, 1, 1],\n",
              "       [1, 4, 2, 2, 0, 1]])"
            ]
          },
          "metadata": {},
          "execution_count": 244
        }
      ],
      "source": [
        "Z = np.random.randint(0,5,(6,6))\n",
        "Z"
      ]
    },
    {
      "cell_type": "code",
      "source": [
        "n = 3\n",
        "i = 1 + (Z.shape[0]-3)\n",
        "j = 1 + (Z.shape[1]-3)\n",
        "C = np.lib.stride_tricks.as_strided(Z, shape=(i, j, n, n), strides=Z.strides + Z.strides)\n",
        "print(C)"
      ],
      "metadata": {
        "colab": {
          "base_uri": "https://localhost:8080/"
        },
        "id": "OMAWetcQjiqO",
        "outputId": "e89a459b-c87c-4525-bf41-2c64ba72c9d8"
      },
      "execution_count": 245,
      "outputs": [
        {
          "output_type": "stream",
          "name": "stdout",
          "text": [
            "[[[[2 2 4]\n",
            "   [1 2 1]\n",
            "   [2 4 1]]\n",
            "\n",
            "  [[2 4 0]\n",
            "   [2 1 4]\n",
            "   [4 1 0]]\n",
            "\n",
            "  [[4 0 0]\n",
            "   [1 4 3]\n",
            "   [1 0 2]]\n",
            "\n",
            "  [[0 0 1]\n",
            "   [4 3 1]\n",
            "   [0 2 1]]]\n",
            "\n",
            "\n",
            " [[[1 2 1]\n",
            "   [2 4 1]\n",
            "   [3 0 2]]\n",
            "\n",
            "  [[2 1 4]\n",
            "   [4 1 0]\n",
            "   [0 2 4]]\n",
            "\n",
            "  [[1 4 3]\n",
            "   [1 0 2]\n",
            "   [2 4 3]]\n",
            "\n",
            "  [[4 3 1]\n",
            "   [0 2 1]\n",
            "   [4 3 0]]]\n",
            "\n",
            "\n",
            " [[[2 4 1]\n",
            "   [3 0 2]\n",
            "   [2 4 0]]\n",
            "\n",
            "  [[4 1 0]\n",
            "   [0 2 4]\n",
            "   [4 0 3]]\n",
            "\n",
            "  [[1 0 2]\n",
            "   [2 4 3]\n",
            "   [0 3 1]]\n",
            "\n",
            "  [[0 2 1]\n",
            "   [4 3 0]\n",
            "   [3 1 1]]]\n",
            "\n",
            "\n",
            " [[[3 0 2]\n",
            "   [2 4 0]\n",
            "   [1 4 2]]\n",
            "\n",
            "  [[0 2 4]\n",
            "   [4 0 3]\n",
            "   [4 2 2]]\n",
            "\n",
            "  [[2 4 3]\n",
            "   [0 3 1]\n",
            "   [2 2 0]]\n",
            "\n",
            "  [[4 3 0]\n",
            "   [3 1 1]\n",
            "   [2 0 1]]]]\n"
          ]
        }
      ]
    },
    {
      "cell_type": "markdown",
      "metadata": {
        "id": "Q_aqrfeFWSWg"
      },
      "source": [
        "#### 85. Create a 2D array subclass such that Z\\[i,j\\] == Z\\[j,i\\] (★★★) \n",
        "(**hint**: class method)"
      ]
    },
    {
      "cell_type": "code",
      "execution_count": 247,
      "metadata": {
        "id": "xjBs72q3WSWg"
      },
      "outputs": [],
      "source": [
        "class Symetric(np.ndarray):\n",
        "    def __setitem__(self, index, value):\n",
        "        i,j = index\n",
        "        super(Symetric, self).__setitem__((i,j), value)\n",
        "        super(Symetric, self).__setitem__((j,i), value)"
      ]
    },
    {
      "cell_type": "code",
      "source": [
        "def symetric(Z):\n",
        "    return np.asarray(Z + Z.T - np.diag(Z.diagonal())).view(Symetric)\n",
        "\n",
        "S = symetric(np.random.randint(0,10,(5,5)))\n",
        "S[2,3] = 42\n",
        "print(S)"
      ],
      "metadata": {
        "colab": {
          "base_uri": "https://localhost:8080/"
        },
        "id": "HCifgQCwkILl",
        "outputId": "1ab03cc8-775f-46b1-b41a-ea5f66d73a30"
      },
      "execution_count": 248,
      "outputs": [
        {
          "output_type": "stream",
          "name": "stdout",
          "text": [
            "[[ 0  6  8 10 15]\n",
            " [ 6  4 11  7  4]\n",
            " [ 8 11  8 42 13]\n",
            " [10  7 42  5 11]\n",
            " [15  4 13 11  3]]\n"
          ]
        }
      ]
    },
    {
      "cell_type": "markdown",
      "metadata": {
        "id": "80f2hNBqWSWg"
      },
      "source": [
        "#### 86. Consider a set of p matrices wich shape (n,n) and a set of p vectors with shape (n,1). How to compute the sum of of the p matrix products at once? (result has shape (n,1)) (★★★) \n",
        "(**hint**: np.tensordot)"
      ]
    },
    {
      "cell_type": "code",
      "execution_count": 249,
      "metadata": {
        "id": "FdTRaG6wWSWg",
        "colab": {
          "base_uri": "https://localhost:8080/"
        },
        "outputId": "0ba98719-5b1d-4cc7-f8d3-443046c968ae"
      },
      "outputs": [
        {
          "output_type": "stream",
          "name": "stdout",
          "text": [
            "[[200.]\n",
            " [200.]\n",
            " [200.]\n",
            " [200.]\n",
            " [200.]\n",
            " [200.]\n",
            " [200.]\n",
            " [200.]\n",
            " [200.]\n",
            " [200.]\n",
            " [200.]\n",
            " [200.]\n",
            " [200.]\n",
            " [200.]\n",
            " [200.]\n",
            " [200.]\n",
            " [200.]\n",
            " [200.]\n",
            " [200.]\n",
            " [200.]]\n"
          ]
        }
      ],
      "source": [
        "p, n = 10, 20\n",
        "M = np.ones((p,n,n))\n",
        "V = np.ones((p,n,1))\n",
        "S = np.tensordot(M, V, axes=[[0, 2], [0, 1]])\n",
        "print(S)"
      ]
    },
    {
      "cell_type": "markdown",
      "metadata": {
        "id": "W-VeTEIoWSWg"
      },
      "source": [
        "#### 87. Consider a 16x16 array, how to get the block-sum (block size is 4x4)? (★★★) \n",
        "(**hint**: np.add.reduceat)"
      ]
    },
    {
      "cell_type": "code",
      "execution_count": 250,
      "metadata": {
        "id": "znZu_eb4WSWg",
        "colab": {
          "base_uri": "https://localhost:8080/"
        },
        "outputId": "d92db7f4-9624-4972-96f5-7d7da4432c24"
      },
      "outputs": [
        {
          "output_type": "stream",
          "name": "stdout",
          "text": [
            "[[16. 16. 16. 16.]\n",
            " [16. 16. 16. 16.]\n",
            " [16. 16. 16. 16.]\n",
            " [16. 16. 16. 16.]]\n"
          ]
        }
      ],
      "source": [
        "Z = np.ones((16,16))\n",
        "k = 4\n",
        "S = np.add.reduceat(np.add.reduceat(Z, np.arange(0, Z.shape[0], k), axis=0),\n",
        "                                       np.arange(0, Z.shape[1], k), axis=1)\n",
        "print(S)"
      ]
    },
    {
      "cell_type": "markdown",
      "metadata": {
        "id": "kQ-a1e0wWSWg"
      },
      "source": [
        "#### 88. How to implement the Game of Life using numpy arrays? (★★★)"
      ]
    },
    {
      "cell_type": "code",
      "execution_count": 251,
      "metadata": {
        "id": "slpJXtRNWSWg",
        "colab": {
          "base_uri": "https://localhost:8080/"
        },
        "outputId": "376abe1c-8eb1-4696-c900-a1b25b9c98f8"
      },
      "outputs": [
        {
          "output_type": "stream",
          "name": "stdout",
          "text": [
            "[[0 0 0 0 0 0 0 0 0 0 0 0 0 0 0 0 0 0 0 0 0 0 0 0 0 0 0 0 0 0 0 0 0 0 0 0\n",
            "  0 0 0 0 0 0 0 0 0 0 0 0 0 0]\n",
            " [0 0 0 0 0 0 0 0 0 0 0 0 0 0 0 0 0 0 0 0 0 0 0 0 0 0 0 0 0 0 0 0 0 0 0 0\n",
            "  0 0 0 0 0 0 0 0 0 0 0 0 0 0]\n",
            " [0 0 0 0 0 0 0 0 0 0 0 0 0 0 0 0 0 0 0 0 0 0 0 0 0 0 0 0 0 1 1 0 0 0 0 0\n",
            "  0 0 0 0 0 0 0 0 0 0 0 0 0 0]\n",
            " [0 0 0 0 0 0 0 0 0 0 0 0 0 0 0 0 0 0 0 0 0 0 0 0 0 0 0 0 0 1 1 0 0 0 0 0\n",
            "  0 0 0 0 0 0 0 0 0 0 0 0 0 0]\n",
            " [0 0 0 0 0 0 0 0 0 0 0 0 0 0 0 0 0 0 0 0 0 0 0 0 0 0 0 0 0 0 0 0 0 0 0 0\n",
            "  0 0 0 0 0 0 0 0 0 0 0 0 0 0]\n",
            " [0 0 0 0 0 0 0 0 0 1 0 0 0 0 0 0 0 0 0 0 0 0 0 0 0 0 0 0 0 0 0 0 0 0 0 0\n",
            "  0 0 0 0 0 0 0 0 0 0 0 0 0 0]\n",
            " [0 0 0 0 0 0 0 0 1 0 1 0 0 0 0 0 0 0 0 0 0 0 0 0 0 0 0 0 0 0 0 0 0 0 0 0\n",
            "  0 0 0 0 0 0 0 0 0 0 0 0 0 0]\n",
            " [0 0 0 0 0 0 0 0 1 0 1 0 0 0 0 0 0 0 0 0 0 0 0 0 0 0 0 0 0 0 0 0 0 0 0 0\n",
            "  0 0 0 0 0 0 0 0 0 0 0 0 0 0]\n",
            " [0 0 0 0 0 0 0 0 0 1 0 0 0 0 0 0 0 0 0 0 0 0 0 0 0 1 1 0 0 0 0 0 0 0 0 0\n",
            "  0 0 0 0 0 0 0 0 0 0 0 0 0 0]\n",
            " [0 0 0 0 0 0 0 0 0 0 0 0 0 0 0 0 0 0 0 0 0 0 0 0 0 1 1 0 0 0 0 0 0 0 0 0\n",
            "  0 0 0 0 0 0 0 0 0 0 0 0 0 0]\n",
            " [0 0 0 0 0 0 0 0 0 0 0 0 0 0 0 0 0 0 0 0 0 0 0 0 0 0 0 0 0 0 0 0 0 0 0 0\n",
            "  0 0 0 0 0 0 0 0 0 0 0 0 0 0]\n",
            " [0 0 0 0 0 0 0 0 0 0 0 0 0 0 0 0 0 0 0 0 0 0 0 0 0 0 0 0 0 0 0 0 0 0 0 0\n",
            "  0 0 0 1 0 0 0 0 0 0 0 0 0 0]\n",
            " [0 0 0 0 0 0 0 0 0 0 0 0 0 0 0 0 0 0 0 0 0 0 0 0 0 0 0 0 0 0 0 0 0 0 0 0\n",
            "  0 0 1 1 0 0 0 0 0 0 0 0 0 0]\n",
            " [0 0 0 0 0 0 0 0 0 0 0 0 0 0 0 0 0 0 0 0 0 0 0 0 0 0 0 0 0 0 0 0 0 0 0 0\n",
            "  0 1 1 0 0 0 0 0 0 0 0 0 0 0]\n",
            " [0 0 0 0 0 0 0 0 0 0 0 0 0 0 0 0 0 0 0 0 0 0 0 0 0 0 0 0 0 0 0 0 0 0 0 0\n",
            "  0 1 1 1 0 0 0 1 0 0 0 0 0 0]\n",
            " [0 0 0 0 0 0 0 0 0 0 0 0 0 0 0 1 1 0 0 0 0 0 0 0 0 0 0 0 0 0 0 0 0 0 0 0\n",
            "  0 1 1 1 0 0 1 1 0 0 0 1 1 0]\n",
            " [0 0 0 0 0 0 0 0 0 0 0 0 0 0 1 0 1 0 0 0 0 0 0 0 0 0 0 0 0 0 0 0 0 0 0 0\n",
            "  0 1 0 0 0 0 0 0 0 0 1 1 0 0]\n",
            " [0 0 0 0 0 0 0 0 0 0 0 0 0 0 0 1 0 0 0 0 0 0 0 0 0 0 0 1 1 1 0 0 0 0 0 0\n",
            "  0 0 1 0 0 1 0 0 0 0 0 0 0 0]\n",
            " [0 0 0 0 0 0 0 0 0 0 0 0 0 0 0 0 0 0 0 0 0 0 0 0 0 0 1 0 0 0 1 0 0 0 0 0\n",
            "  0 0 1 0 1 0 0 0 0 0 0 0 0 0]\n",
            " [0 0 0 0 0 1 1 1 0 0 0 0 0 0 0 0 0 0 0 0 0 0 0 0 0 0 1 0 0 0 0 1 1 0 0 0\n",
            "  0 0 0 0 1 0 0 0 0 0 0 0 0 0]\n",
            " [0 0 0 0 0 0 1 0 0 0 0 0 0 0 0 0 0 0 0 0 0 0 0 0 0 0 1 0 0 0 0 1 0 1 0 0\n",
            "  0 0 0 0 0 0 0 0 0 0 0 0 0 0]\n",
            " [0 0 0 0 0 0 0 0 0 0 0 0 0 0 0 0 0 0 0 0 0 0 0 0 0 0 0 1 1 1 0 1 0 1 0 0\n",
            "  0 0 0 0 1 1 1 0 0 0 0 0 0 0]\n",
            " [0 0 0 0 0 0 0 0 0 0 0 0 0 0 0 0 0 0 0 0 0 0 0 0 0 0 0 0 0 0 0 0 0 0 0 0\n",
            "  0 0 0 0 0 0 0 0 0 0 0 0 0 0]\n",
            " [0 1 1 0 0 0 1 1 1 1 1 1 0 1 1 0 0 0 0 0 0 0 0 0 0 0 0 0 0 0 0 0 0 0 0 0\n",
            "  0 0 0 0 0 0 0 0 0 0 0 0 0 0]\n",
            " [0 1 1 0 0 1 1 0 1 0 1 1 0 1 1 0 0 0 0 0 0 0 0 0 0 0 0 0 0 0 0 0 0 0 0 0\n",
            "  0 0 0 0 0 0 0 0 0 0 0 0 0 0]\n",
            " [0 0 0 0 0 0 0 0 0 0 1 0 0 0 0 1 1 1 1 1 0 0 0 0 0 0 0 0 0 0 0 0 0 0 0 0\n",
            "  0 0 0 0 0 0 0 0 0 0 0 0 0 0]\n",
            " [0 0 0 0 0 0 0 1 1 0 1 0 0 0 1 1 0 0 0 0 1 0 0 0 0 0 0 0 0 0 0 0 0 0 0 0\n",
            "  0 0 0 0 0 0 0 0 0 0 0 0 0 0]\n",
            " [0 0 1 0 0 0 0 0 1 0 0 1 1 0 1 1 0 0 0 0 1 0 0 0 0 0 0 0 0 0 0 0 0 0 0 0\n",
            "  0 0 0 0 0 0 0 0 0 0 0 0 0 0]\n",
            " [0 0 0 1 0 0 0 0 1 1 0 1 1 0 0 0 1 0 0 0 1 0 0 0 0 0 0 0 0 0 0 0 0 0 0 0\n",
            "  0 0 0 0 0 0 0 0 0 0 0 0 0 0]\n",
            " [0 0 1 0 0 0 0 0 0 0 0 0 0 0 0 0 0 1 1 1 0 0 0 0 0 0 0 0 0 0 0 0 0 0 0 0\n",
            "  0 0 0 0 0 0 0 0 0 0 0 0 0 0]\n",
            " [0 0 0 0 0 0 0 0 0 0 0 0 0 0 0 0 1 1 0 0 0 0 0 0 0 0 0 0 0 0 0 0 0 0 0 0\n",
            "  0 0 0 0 0 0 0 0 0 0 0 0 0 0]\n",
            " [0 0 0 0 0 0 0 0 0 0 0 0 0 0 0 0 0 1 0 0 0 0 0 0 0 0 0 0 0 0 0 0 0 0 0 0\n",
            "  0 0 0 0 0 0 0 0 0 0 0 0 0 0]\n",
            " [0 0 0 0 0 0 0 0 0 0 0 0 0 0 0 1 0 1 0 0 0 0 0 0 0 0 0 0 0 0 0 0 0 0 0 0\n",
            "  0 0 0 0 0 0 0 1 0 0 0 0 0 0]\n",
            " [0 0 0 0 0 0 0 1 1 1 0 0 0 0 0 0 1 0 0 0 0 0 0 0 0 0 0 0 0 0 0 0 0 0 0 0\n",
            "  0 0 0 0 0 0 1 0 1 0 0 0 0 0]\n",
            " [0 0 0 0 0 0 0 0 0 0 1 1 0 0 0 0 0 0 0 0 0 0 0 0 0 0 0 0 0 0 0 0 0 0 1 1\n",
            "  0 0 0 0 0 0 1 0 1 0 0 0 0 0]\n",
            " [0 0 0 0 0 1 1 0 1 0 1 1 0 0 0 1 1 1 0 0 0 0 0 0 0 0 0 0 0 0 0 0 0 0 1 1\n",
            "  0 0 0 0 0 0 0 1 0 0 0 0 0 0]\n",
            " [0 0 0 0 0 1 0 0 1 1 1 1 1 0 1 0 0 0 1 0 0 0 0 0 0 0 0 0 0 0 0 0 0 0 0 0\n",
            "  0 0 0 0 0 0 0 0 0 0 0 0 0 0]\n",
            " [0 0 0 0 0 1 0 0 0 0 1 0 0 0 0 0 1 1 1 0 0 0 0 0 0 0 0 0 0 0 0 0 0 0 0 0\n",
            "  0 0 0 0 0 0 0 0 0 0 0 0 0 0]\n",
            " [0 0 0 0 0 0 1 1 1 1 0 0 0 0 0 0 0 1 0 1 0 0 0 0 0 0 0 0 0 0 0 0 0 0 0 0\n",
            "  0 0 0 0 0 0 0 0 0 0 0 0 0 0]\n",
            " [0 0 0 0 0 0 0 0 1 1 0 1 0 0 0 0 0 1 1 1 0 0 0 0 0 0 0 0 0 0 0 0 0 0 0 0\n",
            "  0 0 0 0 0 0 0 0 0 0 0 0 0 0]\n",
            " [0 0 0 0 0 0 0 0 0 0 0 1 1 0 0 0 0 1 0 0 0 0 0 0 0 0 0 0 0 0 0 0 0 0 0 0\n",
            "  0 0 0 0 0 0 0 0 0 0 0 0 0 0]\n",
            " [0 0 0 0 0 0 0 0 0 0 0 0 1 1 0 0 0 0 0 0 0 0 0 0 0 0 0 0 0 0 0 0 0 0 0 0\n",
            "  0 0 0 0 0 0 0 0 0 0 0 0 0 0]\n",
            " [0 0 0 0 0 0 0 0 0 0 0 0 0 1 0 0 0 0 0 0 0 0 0 0 0 0 0 0 0 0 0 0 0 0 0 0\n",
            "  0 1 0 0 0 0 0 0 0 0 0 0 0 0]\n",
            " [0 0 1 1 1 0 0 0 0 0 0 0 0 0 0 0 0 0 0 0 0 0 0 0 0 0 0 1 1 1 0 0 0 0 0 0\n",
            "  1 0 1 0 0 0 0 0 0 0 0 0 0 0]\n",
            " [0 0 0 0 0 0 0 0 0 0 0 0 0 0 0 0 0 0 0 0 0 0 0 0 1 0 0 0 0 0 0 0 0 0 0 0\n",
            "  1 1 0 0 0 0 0 0 0 0 0 0 0 0]\n",
            " [0 0 0 0 0 0 0 0 0 0 0 0 0 0 0 0 0 0 0 0 0 0 0 0 1 0 0 0 0 0 0 0 0 0 0 0\n",
            "  0 0 0 0 0 0 0 0 0 0 0 0 0 0]\n",
            " [0 0 0 0 0 0 0 0 0 0 0 0 0 0 0 0 0 0 0 0 0 0 0 0 1 0 0 0 0 0 0 0 0 0 0 0\n",
            "  0 0 0 0 0 0 0 0 0 0 0 0 0 0]\n",
            " [0 0 0 0 0 0 0 0 0 0 0 0 0 0 0 0 0 0 0 0 0 0 0 0 0 0 0 0 0 0 0 0 0 0 0 0\n",
            "  0 0 0 0 0 0 0 0 0 0 0 0 0 0]\n",
            " [0 0 0 0 0 0 0 0 0 0 0 0 0 0 0 0 0 0 0 0 0 0 0 0 0 0 0 0 0 0 0 0 0 0 0 0\n",
            "  0 0 0 0 0 0 0 0 0 0 0 0 0 0]\n",
            " [0 0 0 0 0 0 0 0 0 0 0 0 0 0 0 0 0 0 0 0 0 0 0 0 0 0 0 0 0 0 0 0 0 0 0 0\n",
            "  0 0 0 0 0 0 0 0 0 0 0 0 0 0]]\n"
          ]
        }
      ],
      "source": [
        "def iterate(Z):\n",
        "    # Count neighbours\n",
        "    N = (Z[0:-2,0:-2] + Z[0:-2,1:-1] + Z[0:-2,2:] +\n",
        "         Z[1:-1,0:-2]                + Z[1:-1,2:] +\n",
        "         Z[2:  ,0:-2] + Z[2:  ,1:-1] + Z[2:  ,2:])\n",
        "\n",
        "    # Apply rules\n",
        "    birth = (N==3) & (Z[1:-1,1:-1]==0)\n",
        "    survive = ((N==2) | (N==3)) & (Z[1:-1,1:-1]==1)\n",
        "    Z[...] = 0\n",
        "    Z[1:-1,1:-1][birth | survive] = 1\n",
        "    return Z\n",
        "\n",
        "Z = np.random.randint(0,2,(50,50))\n",
        "for i in range(100): Z = iterate(Z)\n",
        "print(Z)"
      ]
    },
    {
      "cell_type": "markdown",
      "metadata": {
        "id": "BMY0zjVlWSWg"
      },
      "source": [
        "#### 89. How to get the n largest values of an array (★★★) \n",
        "(**hint**: np.argsort | np.argpartition)"
      ]
    },
    {
      "cell_type": "code",
      "execution_count": 256,
      "metadata": {
        "id": "vWzlSGjlWSWg"
      },
      "outputs": [],
      "source": [
        "Z = np.arange(10000)\n",
        "np.random.shuffle(Z)"
      ]
    },
    {
      "cell_type": "code",
      "source": [
        "n = 5\n",
        "print (Z[np.argsort(Z)[-n:]])"
      ],
      "metadata": {
        "colab": {
          "base_uri": "https://localhost:8080/"
        },
        "id": "ZuaMLc7ymQ-f",
        "outputId": "60f0ef08-e8b3-43e4-b7a6-b3bc1987f515"
      },
      "execution_count": 257,
      "outputs": [
        {
          "output_type": "stream",
          "name": "stdout",
          "text": [
            "[9995 9996 9997 9998 9999]\n"
          ]
        }
      ]
    },
    {
      "cell_type": "code",
      "source": [
        "print (Z[np.argpartition(-Z,n)[:n]])"
      ],
      "metadata": {
        "colab": {
          "base_uri": "https://localhost:8080/"
        },
        "id": "Wo5AzGrBmw2t",
        "outputId": "8c97dfa2-021a-45df-caf0-79cde21e3214"
      },
      "execution_count": 258,
      "outputs": [
        {
          "output_type": "stream",
          "name": "stdout",
          "text": [
            "[9996 9997 9998 9999 9995]\n"
          ]
        }
      ]
    },
    {
      "cell_type": "markdown",
      "metadata": {
        "id": "r2rgk0HtWSWg"
      },
      "source": [
        "#### 90. Given an arbitrary number of vectors, build the cartesian product (every combinations of every item) (★★★) \n",
        "(**hint**: np.indices)"
      ]
    },
    {
      "cell_type": "code",
      "execution_count": 259,
      "metadata": {
        "scrolled": true,
        "id": "nc6hEt0hWSWg",
        "colab": {
          "base_uri": "https://localhost:8080/"
        },
        "outputId": "5d3dd25b-2743-4bdd-cdc1-11b48c919db8"
      },
      "outputs": [
        {
          "output_type": "stream",
          "name": "stdout",
          "text": [
            "[[1 4 6]\n",
            " [1 4 7]\n",
            " [1 5 6]\n",
            " [1 5 7]\n",
            " [2 4 6]\n",
            " [2 4 7]\n",
            " [2 5 6]\n",
            " [2 5 7]\n",
            " [3 4 6]\n",
            " [3 4 7]\n",
            " [3 5 6]\n",
            " [3 5 7]]\n"
          ]
        }
      ],
      "source": [
        "def cartesian(arrays):\n",
        "    arrays = [np.asarray(a) for a in arrays]\n",
        "    shape = (len(x) for x in arrays)\n",
        "\n",
        "    ix = np.indices(shape, dtype=int)\n",
        "    ix = ix.reshape(len(arrays), -1).T\n",
        "\n",
        "    for n, arr in enumerate(arrays):\n",
        "        ix[:, n] = arrays[n][ix[:, n]]\n",
        "\n",
        "    return ix\n",
        "\n",
        "print (cartesian(([1, 2, 3], [4, 5], [6, 7])))"
      ]
    },
    {
      "cell_type": "markdown",
      "metadata": {
        "id": "WB_5lToIWSWg"
      },
      "source": [
        "#### 91. How to create a record array from a regular array? (★★★) \n",
        "(**hint**: np.core.records.fromarrays)"
      ]
    },
    {
      "cell_type": "code",
      "execution_count": 264,
      "metadata": {
        "id": "EU3GegLUWSWh",
        "colab": {
          "base_uri": "https://localhost:8080/"
        },
        "outputId": "342ef98f-fc10-49bf-a085-f6fbce7d1e18"
      },
      "outputs": [
        {
          "output_type": "execute_result",
          "data": {
            "text/plain": [
              "array([['Hello', '2.5', '3'],\n",
              "       ['World', '3.6', '2']], dtype='<U32')"
            ]
          },
          "metadata": {},
          "execution_count": 264
        }
      ],
      "source": [
        "Z = np.array([(\"Hello\", 2.5, 3),\n",
        "              (\"World\", 3.6, 2)])\n",
        "Z"
      ]
    },
    {
      "cell_type": "code",
      "source": [
        "R = np.core.records.fromarrays(Z.T,\n",
        "                               names='col1, col2, col3',\n",
        "                               formats = 'S8, f8, i8')\n",
        "R"
      ],
      "metadata": {
        "colab": {
          "base_uri": "https://localhost:8080/"
        },
        "id": "2qtsia37pW2o",
        "outputId": "de466aae-3571-4bc5-9d5f-3c8a6cab3948"
      },
      "execution_count": 265,
      "outputs": [
        {
          "output_type": "execute_result",
          "data": {
            "text/plain": [
              "rec.array([(b'Hello', 2.5, 3), (b'World', 3.6, 2)],\n",
              "          dtype=[('col1', 'S8'), ('col2', '<f8'), ('col3', '<i8')])"
            ]
          },
          "metadata": {},
          "execution_count": 265
        }
      ]
    },
    {
      "cell_type": "markdown",
      "metadata": {
        "id": "tMREX5vEWSWh"
      },
      "source": [
        "#### 92. Consider a large vector Z, compute Z to the power of 3 using 3 different methods (★★★) \n",
        "(**hint**: np.power, \\*, np.einsum)"
      ]
    },
    {
      "cell_type": "code",
      "execution_count": 268,
      "metadata": {
        "id": "tilqZX7nWSWh",
        "colab": {
          "base_uri": "https://localhost:8080/"
        },
        "outputId": "37bf7cfd-e014-41e2-ebf3-bbfbbc817fdc"
      },
      "outputs": [
        {
          "output_type": "stream",
          "name": "stdout",
          "text": [
            "3.75 s ± 15.6 ms per loop (mean ± std. dev. of 7 runs, 1 loop each)\n",
            "152 ms ± 21.5 ms per loop (mean ± std. dev. of 7 runs, 10 loops each)\n",
            "124 ms ± 5 ms per loop (mean ± std. dev. of 7 runs, 10 loops each)\n"
          ]
        }
      ],
      "source": [
        "Z= np.random.rand(int(5e7))\n",
        "\n",
        "%timeit np.power(Z,3)\n",
        "%timeit Z*Z*Z\n",
        "%timeit np.einsum('i,i,i->i',Z,Z,Z)"
      ]
    },
    {
      "cell_type": "markdown",
      "metadata": {
        "id": "AoReBsXQWSWh"
      },
      "source": [
        "#### 93. Consider two arrays A and B of shape (8,3) and (2,2). How to find rows of A that contain elements of each row of B regardless of the order of the elements in B? (★★★) \n",
        "(**hint**: np.where)"
      ]
    },
    {
      "cell_type": "code",
      "execution_count": 269,
      "metadata": {
        "id": "EG4Bzj7lWSWh"
      },
      "outputs": [],
      "source": [
        "A = np.random.randint(0,5,(8,3))\n",
        "B = np.random.randint(0,5,(2,2))"
      ]
    },
    {
      "cell_type": "code",
      "source": [
        "C = (A[..., np.newaxis, np.newaxis] == B)\n",
        "C"
      ],
      "metadata": {
        "id": "bcUKZMiBq5t2"
      },
      "execution_count": null,
      "outputs": []
    },
    {
      "cell_type": "code",
      "source": [
        "rows = np.where(C.any((3,1)).all(1))[0]\n",
        "print(rows)"
      ],
      "metadata": {
        "colab": {
          "base_uri": "https://localhost:8080/"
        },
        "id": "QWbtk2DOrN8-",
        "outputId": "2a23f8f1-9fe7-4f5e-fa42-2511466537ec"
      },
      "execution_count": 271,
      "outputs": [
        {
          "output_type": "stream",
          "name": "stdout",
          "text": [
            "[3 4 5 6 7]\n"
          ]
        }
      ]
    },
    {
      "cell_type": "markdown",
      "metadata": {
        "id": "X59KEWBAWSWh"
      },
      "source": [
        "#### 94. Considering a 10x3 matrix, extract rows with unequal values (e.g. \\[2,2,3\\]) (★★★)"
      ]
    },
    {
      "cell_type": "code",
      "execution_count": 274,
      "metadata": {
        "id": "zX5rsrnZWSWh",
        "colab": {
          "base_uri": "https://localhost:8080/"
        },
        "outputId": "d27519b0-ed8e-47c2-cc5f-bbd2f9457182"
      },
      "outputs": [
        {
          "output_type": "stream",
          "name": "stdout",
          "text": [
            "[[1 3 3]\n",
            " [1 0 3]\n",
            " [1 1 1]\n",
            " [4 1 3]\n",
            " [3 4 4]\n",
            " [1 1 2]\n",
            " [4 3 4]\n",
            " [3 0 2]\n",
            " [0 0 2]\n",
            " [2 1 0]]\n"
          ]
        }
      ],
      "source": [
        "Z = np.random.randint(0,5,(10,3))\n",
        "print(Z)"
      ]
    },
    {
      "cell_type": "code",
      "source": [
        "E = np.all(Z[:,1:] == Z[:,:-1], axis=1)\n",
        "U = Z[~E]\n",
        "print(U)"
      ],
      "metadata": {
        "colab": {
          "base_uri": "https://localhost:8080/"
        },
        "id": "9-KFX7_grtlf",
        "outputId": "a3c7a5e3-70e3-4e35-d121-84b35a58c45a"
      },
      "execution_count": 275,
      "outputs": [
        {
          "output_type": "stream",
          "name": "stdout",
          "text": [
            "[[1 3 3]\n",
            " [1 0 3]\n",
            " [4 1 3]\n",
            " [3 4 4]\n",
            " [1 1 2]\n",
            " [4 3 4]\n",
            " [3 0 2]\n",
            " [0 0 2]\n",
            " [2 1 0]]\n"
          ]
        }
      ]
    },
    {
      "cell_type": "code",
      "source": [
        "U = Z[Z.max(axis=1) != Z.min(axis=1),:]\n",
        "print(U)"
      ],
      "metadata": {
        "colab": {
          "base_uri": "https://localhost:8080/"
        },
        "id": "qsEsp7ansBtS",
        "outputId": "328bf9bc-6019-43a6-95cf-7adb1f9f1747"
      },
      "execution_count": 276,
      "outputs": [
        {
          "output_type": "stream",
          "name": "stdout",
          "text": [
            "[[1 3 3]\n",
            " [1 0 3]\n",
            " [4 1 3]\n",
            " [3 4 4]\n",
            " [1 1 2]\n",
            " [4 3 4]\n",
            " [3 0 2]\n",
            " [0 0 2]\n",
            " [2 1 0]]\n"
          ]
        }
      ]
    },
    {
      "cell_type": "markdown",
      "metadata": {
        "id": "YGqrPDjCWSWh"
      },
      "source": [
        "#### 95. Convert a vector of ints into a matrix binary representation (★★★) \n",
        "(**hint**: np.unpackbits)"
      ]
    },
    {
      "cell_type": "code",
      "execution_count": 277,
      "metadata": {
        "id": "cc5jWMxpWSWh",
        "colab": {
          "base_uri": "https://localhost:8080/"
        },
        "outputId": "760b5334-c704-40b7-933f-576f9de291c3"
      },
      "outputs": [
        {
          "output_type": "stream",
          "name": "stdout",
          "text": [
            "[[0 0 0 0 0 0 0 0]\n",
            " [0 0 0 0 0 0 0 1]\n",
            " [0 0 0 0 0 0 1 0]\n",
            " [0 0 0 0 0 0 1 1]\n",
            " [0 0 0 0 1 1 1 1]\n",
            " [0 0 0 1 0 0 0 0]\n",
            " [0 0 1 0 0 0 0 0]\n",
            " [0 1 0 0 0 0 0 0]\n",
            " [1 0 0 0 0 0 0 0]]\n"
          ]
        }
      ],
      "source": [
        "I = np.array([0, 1, 2, 3, 15, 16, 32, 64, 128], dtype=np.uint8)\n",
        "print(np.unpackbits(I[:, np.newaxis], axis=1))"
      ]
    },
    {
      "cell_type": "markdown",
      "metadata": {
        "id": "Ds1hSm3eWSWh"
      },
      "source": [
        "#### 96. Given a two dimensional array, how to extract unique rows? (★★★) \n",
        "(**hint**: np.ascontiguousarray)"
      ]
    },
    {
      "cell_type": "code",
      "execution_count": 278,
      "metadata": {
        "id": "G8KDkVvDWSWh",
        "colab": {
          "base_uri": "https://localhost:8080/"
        },
        "outputId": "90d54ebb-6281-449c-8a37-d5ecc8262c07"
      },
      "outputs": [
        {
          "output_type": "stream",
          "name": "stdout",
          "text": [
            "[[0 0 0]\n",
            " [0 0 1]\n",
            " [0 1 0]\n",
            " [0 1 1]\n",
            " [1 0 0]]\n"
          ]
        }
      ],
      "source": [
        "Z = np.random.randint(0,2,(6,3))\n",
        "T = np.ascontiguousarray(Z).view(np.dtype((np.void, Z.dtype.itemsize * Z.shape[1])))\n",
        "_, idx = np.unique(T, return_index=True)\n",
        "uZ = Z[idx]\n",
        "print(uZ)"
      ]
    },
    {
      "cell_type": "markdown",
      "metadata": {
        "id": "PRu8shWaWSWh"
      },
      "source": [
        "#### 97. Considering 2 vectors A & B, write the einsum equivalent of inner, outer, sum, and mul function (★★★) \n",
        "(**hint**: np.einsum)"
      ]
    },
    {
      "cell_type": "code",
      "execution_count": 279,
      "metadata": {
        "id": "O91akR6SWSWh",
        "colab": {
          "base_uri": "https://localhost:8080/"
        },
        "outputId": "b7b4836f-86f2-4b20-a8e3-9bd4ce861c53"
      },
      "outputs": [
        {
          "output_type": "execute_result",
          "data": {
            "text/plain": [
              "array([[0.33359618, 0.54175982, 0.3000533 , 0.1613965 , 0.28233669,\n",
              "        0.10131974, 0.30200663, 0.25857319, 0.4485516 , 0.19456345],\n",
              "       [0.06688206, 0.10861638, 0.06015711, 0.03235807, 0.05660514,\n",
              "        0.0203134 , 0.06054873, 0.05184084, 0.08992925, 0.03900765],\n",
              "       [0.18176942, 0.29519334, 0.16349262, 0.0879415 , 0.15383922,\n",
              "        0.05520696, 0.16455695, 0.140891  , 0.24440617, 0.10601346],\n",
              "       [0.33137463, 0.53815203, 0.29805513, 0.1603217 , 0.2804565 ,\n",
              "        0.10064501, 0.29999546, 0.25685125, 0.44556452, 0.19326778],\n",
              "       [0.49725596, 0.80754312, 0.4472572 , 0.24057642, 0.42084894,\n",
              "        0.15102645, 0.45016882, 0.38542725, 0.66860764, 0.29001482],\n",
              "       [0.43123459, 0.70032449, 0.38787424, 0.20863475, 0.36497224,\n",
              "        0.13097445, 0.39039928, 0.33425354, 0.57983567, 0.25150915],\n",
              "       [0.3883258 , 0.63064065, 0.34927989, 0.18787513, 0.3286567 ,\n",
              "        0.11794221, 0.35155369, 0.30099457, 0.52214074, 0.22648343],\n",
              "       [0.30249048, 0.4912442 , 0.27207526, 0.14634732, 0.25601061,\n",
              "        0.09187233, 0.27384646, 0.2344629 , 0.40672705, 0.17642166],\n",
              "       [0.48611331, 0.78944746, 0.43723493, 0.23518551, 0.41141844,\n",
              "        0.1476422 , 0.44008131, 0.37679049, 0.65362529, 0.28351608],\n",
              "       [0.43299412, 0.70318197, 0.38945685, 0.20948603, 0.36646141,\n",
              "        0.13150886, 0.39199219, 0.33561737, 0.58220153, 0.25253536]])"
            ]
          },
          "metadata": {},
          "execution_count": 279
        }
      ],
      "source": [
        "A = np.random.uniform(0,1,10)\n",
        "B = np.random.uniform(0,1,10)\n",
        "\n",
        "np.einsum('i->', A)       # np.sum(A)\n",
        "np.einsum('i,i->i', A, B) # A * B\n",
        "np.einsum('i,i', A, B)    # np.inner(A, B)\n",
        "np.einsum('i,j->ij', A, B)    # np.outer(A, B)"
      ]
    },
    {
      "cell_type": "markdown",
      "metadata": {
        "id": "3-6Lks4PWSWh"
      },
      "source": [
        "#### 98. Considering a path described by two vectors (X,Y), how to sample it using equidistant samples (★★★)? \n",
        "(**hint**: np.cumsum, np.interp)"
      ]
    },
    {
      "cell_type": "code",
      "execution_count": 280,
      "metadata": {
        "collapsed": true,
        "id": "5a5RBGAYWSWh"
      },
      "outputs": [],
      "source": [
        "phi = np.arange(0, 10*np.pi, 0.1)\n",
        "a = 1\n",
        "x = a*phi*np.cos(phi)\n",
        "y = a*phi*np.sin(phi)\n",
        "\n",
        "dr = (np.diff(x)**2 + np.diff(y)**2)**.5 # segment lengths\n",
        "r = np.zeros_like(x)\n",
        "r[1:] = np.cumsum(dr)                # integrate path\n",
        "r_int = np.linspace(0, r.max(), 200) # regular spaced path\n",
        "x_int = np.interp(r_int, r, x)       # integrate path\n",
        "y_int = np.interp(r_int, r, y)"
      ]
    },
    {
      "cell_type": "markdown",
      "metadata": {
        "id": "h_vjv-z9WSWh"
      },
      "source": [
        "#### 99. Given an integer n and a 2D array X, select from X the rows which can be interpreted as draws from a multinomial distribution with n degrees, i.e., the rows which only contain integers and which sum to n. (★★★) \n",
        "(**hint**: np.logical\\_and.reduce, np.mod)"
      ]
    },
    {
      "cell_type": "code",
      "execution_count": 281,
      "metadata": {
        "id": "YckLJg7rWSWh",
        "colab": {
          "base_uri": "https://localhost:8080/"
        },
        "outputId": "8be8d1fe-48f0-45e9-9f37-a8a626b96891"
      },
      "outputs": [
        {
          "output_type": "stream",
          "name": "stdout",
          "text": [
            "[[2. 0. 1. 1.]]\n"
          ]
        }
      ],
      "source": [
        "X = np.asarray([[1.0, 0.0, 3.0, 8.0],\n",
        "                [2.0, 0.0, 1.0, 1.0],\n",
        "                [1.5, 2.5, 1.0, 0.0]])\n",
        "n = 4\n",
        "M = np.logical_and.reduce(np.mod(X, 1) == 0, axis=-1)\n",
        "M &= (X.sum(axis=-1) == n)\n",
        "print(X[M])"
      ]
    },
    {
      "cell_type": "markdown",
      "metadata": {
        "id": "hL7Hfsq4WSWh"
      },
      "source": [
        "#### 100. Compute bootstrapped 95% confidence intervals for the mean of a 1D array X (i.e., resample the elements of an array with replacement N times, compute the mean of each sample, and then compute percentiles over the means). (★★★) \n",
        "(**hint**: np.percentile)"
      ]
    },
    {
      "cell_type": "code",
      "execution_count": 282,
      "metadata": {
        "id": "gVDGR45vWSWh",
        "colab": {
          "base_uri": "https://localhost:8080/"
        },
        "outputId": "341190bd-6a8a-487d-9715-b38a9001c415"
      },
      "outputs": [
        {
          "output_type": "stream",
          "name": "stdout",
          "text": [
            "[-0.16472907  0.1532377 ]\n"
          ]
        }
      ],
      "source": [
        "X = np.random.randn(100) # random 1D array\n",
        "N = 1000 # number of bootstrap samples\n",
        "idx = np.random.randint(0, X.size, (N, X.size))\n",
        "means = X[idx].mean(axis=1)\n",
        "confint = np.percentile(means, [5, 95])\n",
        "print(confint)"
      ]
    }
  ],
  "metadata": {
    "kernelspec": {
      "display_name": "Python 3",
      "language": "python",
      "name": "python3"
    },
    "language_info": {
      "codemirror_mode": {
        "name": "ipython",
        "version": 3
      },
      "file_extension": ".py",
      "mimetype": "text/x-python",
      "name": "python",
      "nbconvert_exporter": "python",
      "pygments_lexer": "ipython3",
      "version": "3.8.3"
    },
    "colab": {
      "provenance": [],
      "collapsed_sections": [
        "c0VreO9ZWSWW",
        "HHNPlY52WSWX",
        "J-sKJDNSWSWX",
        "9nJYBV-8WSWX",
        "JSjAYSwaWSWY",
        "J2NEqvdEWSWY",
        "nQKQ7-fXWSWY"
      ]
    }
  },
  "nbformat": 4,
  "nbformat_minor": 0
}