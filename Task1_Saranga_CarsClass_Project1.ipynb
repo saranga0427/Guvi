{
  "nbformat": 4,
  "nbformat_minor": 0,
  "metadata": {
    "colab": {
      "provenance": [],
      "collapsed_sections": [
        "BCTe5fZUbRQe",
        "DugHVxmsbflL"
      ],
      "authorship_tag": "ABX9TyPh3bZHYqQrdsi7X1QUKUNT",
      "include_colab_link": true
    },
    "kernelspec": {
      "name": "python3",
      "display_name": "Python 3"
    },
    "language_info": {
      "name": "python"
    }
  },
  "cells": [
    {
      "cell_type": "markdown",
      "metadata": {
        "id": "view-in-github",
        "colab_type": "text"
      },
      "source": [
        "<a href=\"https://colab.research.google.com/github/saranga0427/Guvi/blob/main/Task1_Saranga_CarsClass_Project1.ipynb\" target=\"_parent\"><img src=\"https://colab.research.google.com/assets/colab-badge.svg\" alt=\"Open In Colab\"/></a>"
      ]
    },
    {
      "cell_type": "markdown",
      "metadata": {
        "id": "lXCdMlFjm13S"
      },
      "source": [
        "#Cars Classification"
      ]
    },
    {
      "cell_type": "code",
      "execution_count": 89,
      "metadata": {
        "colab": {
          "base_uri": "https://localhost:8080/"
        },
        "id": "cAYM51M6HesS",
        "outputId": "11a1a975-1715-42d9-acfa-cf031bf38aef"
      },
      "outputs": [
        {
          "output_type": "stream",
          "name": "stdout",
          "text": [
            "Drive already mounted at /content/drive; to attempt to forcibly remount, call drive.mount(\"/content/drive\", force_remount=True).\n"
          ]
        }
      ],
      "source": [
        "from google.colab import drive\n",
        "drive.mount('/content/drive')"
      ]
    },
    {
      "cell_type": "code",
      "execution_count": 90,
      "metadata": {
        "colab": {
          "base_uri": "https://localhost:8080/"
        },
        "id": "5RMveHdkHpY3",
        "outputId": "aed49b27-1e30-4bb4-f3f2-c672115f8fa7"
      },
      "outputs": [
        {
          "output_type": "stream",
          "name": "stdout",
          "text": [
            "/content\n"
          ]
        }
      ],
      "source": [
        "!pwd"
      ]
    },
    {
      "cell_type": "code",
      "execution_count": 91,
      "metadata": {
        "id": "9L3RSs11PakE"
      },
      "outputs": [],
      "source": [
        "#import panda\n",
        "import pandas as pd"
      ]
    },
    {
      "cell_type": "code",
      "execution_count": 92,
      "metadata": {
        "id": "-YdWDRnIm9g7"
      },
      "outputs": [],
      "source": [
        "data= pd.read_csv(\"drive/My Drive/Projects DS/cars_class.csv\")"
      ]
    },
    {
      "cell_type": "code",
      "execution_count": 93,
      "metadata": {
        "colab": {
          "base_uri": "https://localhost:8080/"
        },
        "id": "mtCHyvVSm_3c",
        "outputId": "1e2def86-c221-4863-bad2-f9ab20453aef"
      },
      "outputs": [
        {
          "output_type": "execute_result",
          "data": {
            "text/plain": [
              "(719, 20)"
            ]
          },
          "metadata": {},
          "execution_count": 93
        }
      ],
      "source": [
        "#Shape of data\n",
        "data.shape"
      ]
    },
    {
      "cell_type": "code",
      "source": [
        "data.head()"
      ],
      "metadata": {
        "colab": {
          "base_uri": "https://localhost:8080/",
          "height": 206
        },
        "id": "TWPhwVvPZjb3",
        "outputId": "97498697-0012-4dc6-932e-bcb15bb4bf61"
      },
      "execution_count": 94,
      "outputs": [
        {
          "output_type": "execute_result",
          "data": {
            "text/plain": [
              "   ID  Comp  Circ  D.Circ  Rad.Ra  Pr.Axis.Ra  Max.L.Ra  Scat.Ra  Elong  \\\n",
              "0   1    88    39      70     166          66         7      148     44   \n",
              "1   2    85    35      64     129          57         6      116     57   \n",
              "2   3    91    41      84     141          57         9      149     45   \n",
              "3   4   102    54      98     177          56        10      219     31   \n",
              "4   5    87    39      74     152          58         6      151     44   \n",
              "\n",
              "   Pr.Axis.Rect  Max.L.Rect  Sc.Var.Maxis  Sc.Var.maxis  Ra.Gyr  Skew.Maxis  \\\n",
              "0            19         134           167           332     143          69   \n",
              "1            17         125           138           200     123          65   \n",
              "2            19         143           170           330     158          72   \n",
              "3            25         171           219           706     223          72   \n",
              "4            19         136           174           337     140          70   \n",
              "\n",
              "   Skew.maxis  Kurt.maxis  Kurt.Maxis  Holl.Ra  Class  \n",
              "0           5          13         193      201      0  \n",
              "1           1          23         196      203      3  \n",
              "2           9          14         189      199      3  \n",
              "3           5          17         186      196      1  \n",
              "4           1          33         187      196      2  "
            ],
            "text/html": [
              "\n",
              "  <div id=\"df-17fbc2cc-54a6-4479-814b-190bc25d55df\">\n",
              "    <div class=\"colab-df-container\">\n",
              "      <div>\n",
              "<style scoped>\n",
              "    .dataframe tbody tr th:only-of-type {\n",
              "        vertical-align: middle;\n",
              "    }\n",
              "\n",
              "    .dataframe tbody tr th {\n",
              "        vertical-align: top;\n",
              "    }\n",
              "\n",
              "    .dataframe thead th {\n",
              "        text-align: right;\n",
              "    }\n",
              "</style>\n",
              "<table border=\"1\" class=\"dataframe\">\n",
              "  <thead>\n",
              "    <tr style=\"text-align: right;\">\n",
              "      <th></th>\n",
              "      <th>ID</th>\n",
              "      <th>Comp</th>\n",
              "      <th>Circ</th>\n",
              "      <th>D.Circ</th>\n",
              "      <th>Rad.Ra</th>\n",
              "      <th>Pr.Axis.Ra</th>\n",
              "      <th>Max.L.Ra</th>\n",
              "      <th>Scat.Ra</th>\n",
              "      <th>Elong</th>\n",
              "      <th>Pr.Axis.Rect</th>\n",
              "      <th>Max.L.Rect</th>\n",
              "      <th>Sc.Var.Maxis</th>\n",
              "      <th>Sc.Var.maxis</th>\n",
              "      <th>Ra.Gyr</th>\n",
              "      <th>Skew.Maxis</th>\n",
              "      <th>Skew.maxis</th>\n",
              "      <th>Kurt.maxis</th>\n",
              "      <th>Kurt.Maxis</th>\n",
              "      <th>Holl.Ra</th>\n",
              "      <th>Class</th>\n",
              "    </tr>\n",
              "  </thead>\n",
              "  <tbody>\n",
              "    <tr>\n",
              "      <th>0</th>\n",
              "      <td>1</td>\n",
              "      <td>88</td>\n",
              "      <td>39</td>\n",
              "      <td>70</td>\n",
              "      <td>166</td>\n",
              "      <td>66</td>\n",
              "      <td>7</td>\n",
              "      <td>148</td>\n",
              "      <td>44</td>\n",
              "      <td>19</td>\n",
              "      <td>134</td>\n",
              "      <td>167</td>\n",
              "      <td>332</td>\n",
              "      <td>143</td>\n",
              "      <td>69</td>\n",
              "      <td>5</td>\n",
              "      <td>13</td>\n",
              "      <td>193</td>\n",
              "      <td>201</td>\n",
              "      <td>0</td>\n",
              "    </tr>\n",
              "    <tr>\n",
              "      <th>1</th>\n",
              "      <td>2</td>\n",
              "      <td>85</td>\n",
              "      <td>35</td>\n",
              "      <td>64</td>\n",
              "      <td>129</td>\n",
              "      <td>57</td>\n",
              "      <td>6</td>\n",
              "      <td>116</td>\n",
              "      <td>57</td>\n",
              "      <td>17</td>\n",
              "      <td>125</td>\n",
              "      <td>138</td>\n",
              "      <td>200</td>\n",
              "      <td>123</td>\n",
              "      <td>65</td>\n",
              "      <td>1</td>\n",
              "      <td>23</td>\n",
              "      <td>196</td>\n",
              "      <td>203</td>\n",
              "      <td>3</td>\n",
              "    </tr>\n",
              "    <tr>\n",
              "      <th>2</th>\n",
              "      <td>3</td>\n",
              "      <td>91</td>\n",
              "      <td>41</td>\n",
              "      <td>84</td>\n",
              "      <td>141</td>\n",
              "      <td>57</td>\n",
              "      <td>9</td>\n",
              "      <td>149</td>\n",
              "      <td>45</td>\n",
              "      <td>19</td>\n",
              "      <td>143</td>\n",
              "      <td>170</td>\n",
              "      <td>330</td>\n",
              "      <td>158</td>\n",
              "      <td>72</td>\n",
              "      <td>9</td>\n",
              "      <td>14</td>\n",
              "      <td>189</td>\n",
              "      <td>199</td>\n",
              "      <td>3</td>\n",
              "    </tr>\n",
              "    <tr>\n",
              "      <th>3</th>\n",
              "      <td>4</td>\n",
              "      <td>102</td>\n",
              "      <td>54</td>\n",
              "      <td>98</td>\n",
              "      <td>177</td>\n",
              "      <td>56</td>\n",
              "      <td>10</td>\n",
              "      <td>219</td>\n",
              "      <td>31</td>\n",
              "      <td>25</td>\n",
              "      <td>171</td>\n",
              "      <td>219</td>\n",
              "      <td>706</td>\n",
              "      <td>223</td>\n",
              "      <td>72</td>\n",
              "      <td>5</td>\n",
              "      <td>17</td>\n",
              "      <td>186</td>\n",
              "      <td>196</td>\n",
              "      <td>1</td>\n",
              "    </tr>\n",
              "    <tr>\n",
              "      <th>4</th>\n",
              "      <td>5</td>\n",
              "      <td>87</td>\n",
              "      <td>39</td>\n",
              "      <td>74</td>\n",
              "      <td>152</td>\n",
              "      <td>58</td>\n",
              "      <td>6</td>\n",
              "      <td>151</td>\n",
              "      <td>44</td>\n",
              "      <td>19</td>\n",
              "      <td>136</td>\n",
              "      <td>174</td>\n",
              "      <td>337</td>\n",
              "      <td>140</td>\n",
              "      <td>70</td>\n",
              "      <td>1</td>\n",
              "      <td>33</td>\n",
              "      <td>187</td>\n",
              "      <td>196</td>\n",
              "      <td>2</td>\n",
              "    </tr>\n",
              "  </tbody>\n",
              "</table>\n",
              "</div>\n",
              "      <button class=\"colab-df-convert\" onclick=\"convertToInteractive('df-17fbc2cc-54a6-4479-814b-190bc25d55df')\"\n",
              "              title=\"Convert this dataframe to an interactive table.\"\n",
              "              style=\"display:none;\">\n",
              "        \n",
              "  <svg xmlns=\"http://www.w3.org/2000/svg\" height=\"24px\"viewBox=\"0 0 24 24\"\n",
              "       width=\"24px\">\n",
              "    <path d=\"M0 0h24v24H0V0z\" fill=\"none\"/>\n",
              "    <path d=\"M18.56 5.44l.94 2.06.94-2.06 2.06-.94-2.06-.94-.94-2.06-.94 2.06-2.06.94zm-11 1L8.5 8.5l.94-2.06 2.06-.94-2.06-.94L8.5 2.5l-.94 2.06-2.06.94zm10 10l.94 2.06.94-2.06 2.06-.94-2.06-.94-.94-2.06-.94 2.06-2.06.94z\"/><path d=\"M17.41 7.96l-1.37-1.37c-.4-.4-.92-.59-1.43-.59-.52 0-1.04.2-1.43.59L10.3 9.45l-7.72 7.72c-.78.78-.78 2.05 0 2.83L4 21.41c.39.39.9.59 1.41.59.51 0 1.02-.2 1.41-.59l7.78-7.78 2.81-2.81c.8-.78.8-2.07 0-2.86zM5.41 20L4 18.59l7.72-7.72 1.47 1.35L5.41 20z\"/>\n",
              "  </svg>\n",
              "      </button>\n",
              "      \n",
              "  <style>\n",
              "    .colab-df-container {\n",
              "      display:flex;\n",
              "      flex-wrap:wrap;\n",
              "      gap: 12px;\n",
              "    }\n",
              "\n",
              "    .colab-df-convert {\n",
              "      background-color: #E8F0FE;\n",
              "      border: none;\n",
              "      border-radius: 50%;\n",
              "      cursor: pointer;\n",
              "      display: none;\n",
              "      fill: #1967D2;\n",
              "      height: 32px;\n",
              "      padding: 0 0 0 0;\n",
              "      width: 32px;\n",
              "    }\n",
              "\n",
              "    .colab-df-convert:hover {\n",
              "      background-color: #E2EBFA;\n",
              "      box-shadow: 0px 1px 2px rgba(60, 64, 67, 0.3), 0px 1px 3px 1px rgba(60, 64, 67, 0.15);\n",
              "      fill: #174EA6;\n",
              "    }\n",
              "\n",
              "    [theme=dark] .colab-df-convert {\n",
              "      background-color: #3B4455;\n",
              "      fill: #D2E3FC;\n",
              "    }\n",
              "\n",
              "    [theme=dark] .colab-df-convert:hover {\n",
              "      background-color: #434B5C;\n",
              "      box-shadow: 0px 1px 3px 1px rgba(0, 0, 0, 0.15);\n",
              "      filter: drop-shadow(0px 1px 2px rgba(0, 0, 0, 0.3));\n",
              "      fill: #FFFFFF;\n",
              "    }\n",
              "  </style>\n",
              "\n",
              "      <script>\n",
              "        const buttonEl =\n",
              "          document.querySelector('#df-17fbc2cc-54a6-4479-814b-190bc25d55df button.colab-df-convert');\n",
              "        buttonEl.style.display =\n",
              "          google.colab.kernel.accessAllowed ? 'block' : 'none';\n",
              "\n",
              "        async function convertToInteractive(key) {\n",
              "          const element = document.querySelector('#df-17fbc2cc-54a6-4479-814b-190bc25d55df');\n",
              "          const dataTable =\n",
              "            await google.colab.kernel.invokeFunction('convertToInteractive',\n",
              "                                                     [key], {});\n",
              "          if (!dataTable) return;\n",
              "\n",
              "          const docLinkHtml = 'Like what you see? Visit the ' +\n",
              "            '<a target=\"_blank\" href=https://colab.research.google.com/notebooks/data_table.ipynb>data table notebook</a>'\n",
              "            + ' to learn more about interactive tables.';\n",
              "          element.innerHTML = '';\n",
              "          dataTable['output_type'] = 'display_data';\n",
              "          await google.colab.output.renderOutput(dataTable, element);\n",
              "          const docLink = document.createElement('div');\n",
              "          docLink.innerHTML = docLinkHtml;\n",
              "          element.appendChild(docLink);\n",
              "        }\n",
              "      </script>\n",
              "    </div>\n",
              "  </div>\n",
              "  "
            ]
          },
          "metadata": {},
          "execution_count": 94
        }
      ]
    },
    {
      "cell_type": "markdown",
      "source": [
        "###Missing values"
      ],
      "metadata": {
        "id": "BCTe5fZUbRQe"
      }
    },
    {
      "cell_type": "code",
      "source": [
        "data.isnull().sum()"
      ],
      "metadata": {
        "colab": {
          "base_uri": "https://localhost:8080/"
        },
        "id": "ADa8XnBxZw5c",
        "outputId": "ad39f7e6-5565-4306-ee20-40f6bc578e24"
      },
      "execution_count": 95,
      "outputs": [
        {
          "output_type": "execute_result",
          "data": {
            "text/plain": [
              "ID              0\n",
              "Comp            0\n",
              "Circ            0\n",
              "D.Circ          0\n",
              "Rad.Ra          0\n",
              "Pr.Axis.Ra      0\n",
              "Max.L.Ra        0\n",
              "Scat.Ra         0\n",
              "Elong           0\n",
              "Pr.Axis.Rect    0\n",
              "Max.L.Rect      0\n",
              "Sc.Var.Maxis    0\n",
              "Sc.Var.maxis    0\n",
              "Ra.Gyr          0\n",
              "Skew.Maxis      0\n",
              "Skew.maxis      0\n",
              "Kurt.maxis      0\n",
              "Kurt.Maxis      0\n",
              "Holl.Ra         0\n",
              "Class           0\n",
              "dtype: int64"
            ]
          },
          "metadata": {},
          "execution_count": 95
        }
      ]
    },
    {
      "cell_type": "code",
      "source": [
        "data.Comp.unique()"
      ],
      "metadata": {
        "colab": {
          "base_uri": "https://localhost:8080/"
        },
        "id": "JNeqfyrSZ3pH",
        "outputId": "b9258c3e-28c9-468e-e78f-0bd52ccb06b9"
      },
      "execution_count": 96,
      "outputs": [
        {
          "output_type": "execute_result",
          "data": {
            "text/plain": [
              "array([ 88,  85,  91, 102,  87,  95,  97,  96, 107,  86,  89,  92, 104,\n",
              "        81,  94,  93, 111,  82, 106,  99,  78,  83,  84, 100, 109,  90,\n",
              "       101,  79, 117,  98, 105, 108,  80, 103, 110, 112,  77, 115, 119,\n",
              "        73, 114,  76, 113])"
            ]
          },
          "metadata": {},
          "execution_count": 96
        }
      ]
    },
    {
      "cell_type": "code",
      "source": [
        "data.Circ.unique()"
      ],
      "metadata": {
        "colab": {
          "base_uri": "https://localhost:8080/"
        },
        "id": "mNFMiFXJZ_Eo",
        "outputId": "87b04589-1193-4efc-a2ec-6bdfaaa20ce8"
      },
      "execution_count": 97,
      "outputs": [
        {
          "output_type": "execute_result",
          "data": {
            "text/plain": [
              "array([39, 35, 41, 54, 46, 37, 55, 38, 40, 45, 36, 34, 52, 51, 47, 44, 53,\n",
              "       43, 57, 50, 42, 59, 48, 56, 33, 58, 49])"
            ]
          },
          "metadata": {},
          "execution_count": 97
        }
      ]
    },
    {
      "cell_type": "code",
      "source": [
        "data['D.Circ'].unique()"
      ],
      "metadata": {
        "colab": {
          "base_uri": "https://localhost:8080/"
        },
        "id": "QXVGU50taEtg",
        "outputId": "aceb306a-e097-4600-867c-afd3ea794f48"
      },
      "execution_count": 98,
      "outputs": [
        {
          "output_type": "execute_result",
          "data": {
            "text/plain": [
              "array([ 70,  64,  84,  98,  74,  76,  66,  89,  58,  83,  78, 109,  71,\n",
              "        53,  82, 103,  59,  68, 100, 101, 104,  63,  69,  77,  96,  92,\n",
              "        81, 105,  73,  88,  80, 107,  72, 106,  85,  65,  79,  75, 108,\n",
              "        87,  86,  54, 110,  47,  90,  40,  95,  60,  61,  93,  94, 102,\n",
              "        62,  91,  52,  44,  57,  55,  51,  49])"
            ]
          },
          "metadata": {},
          "execution_count": 98
        }
      ]
    },
    {
      "cell_type": "code",
      "source": [
        "data['Rad.Ra'].unique()"
      ],
      "metadata": {
        "colab": {
          "base_uri": "https://localhost:8080/"
        },
        "id": "ljgPrWfWaLXb",
        "outputId": "56a35836-6869-4d0b-d889-d390660c53ac"
      },
      "execution_count": 99,
      "outputs": [
        {
          "output_type": "execute_result",
          "data": {
            "text/plain": [
              "array([166, 129, 141, 177, 152, 162, 151, 199, 176, 137, 154, 186, 175,\n",
              "       149, 230, 117, 213, 145, 171, 163, 134, 169, 224, 219, 208, 115,\n",
              "       127, 142, 153, 188, 194, 143, 183, 164, 225, 180, 140, 207, 133,\n",
              "       209, 147, 210, 113, 150, 206, 187, 139, 123, 132, 227, 306, 228,\n",
              "       110, 159, 170, 201, 202, 182, 189, 195, 128, 131, 155, 116, 181,\n",
              "       172, 197, 119, 173, 121, 231, 135, 220, 204, 130, 126, 111, 203,\n",
              "       161, 165, 191, 185, 179, 212, 223, 222, 125, 192, 160, 218, 148,\n",
              "       136, 211, 124, 178, 198, 193, 174, 144, 167, 122, 157, 138, 158,\n",
              "       146, 196, 168, 322, 156, 221, 190, 120, 205, 184, 214, 215, 252,\n",
              "       114, 235, 109, 234, 246, 250, 216, 200, 118, 238, 105, 217, 112,\n",
              "       333, 226])"
            ]
          },
          "metadata": {},
          "execution_count": 99
        }
      ]
    },
    {
      "cell_type": "code",
      "source": [
        "data['Pr.Axis.Ra'].unique()"
      ],
      "metadata": {
        "colab": {
          "base_uri": "https://localhost:8080/"
        },
        "id": "xAhBgSECaZkO",
        "outputId": "186006dd-2d51-42e6-b0ab-a975ec53e44c"
      },
      "execution_count": 100,
      "outputs": [
        {
          "output_type": "execute_result",
          "data": {
            "text/plain": [
              "array([ 66,  57,  56,  58,  64,  74,  59,  73,  60,  55,  67,  61,  71,\n",
              "        50,  63,  68,  51,  54,  75,  62,  70,  65, 126,  53,  69,  52,\n",
              "        97,  48,  72,  49,  47, 133, 103, 105,  76, 102, 138])"
            ]
          },
          "metadata": {},
          "execution_count": 100
        }
      ]
    },
    {
      "cell_type": "code",
      "source": [
        "data['Max.L.Ra'].unique()"
      ],
      "metadata": {
        "colab": {
          "base_uri": "https://localhost:8080/"
        },
        "id": "Gbvqxx8vacDa",
        "outputId": "af4b482c-4056-4799-8784-eba729a51c7b"
      },
      "execution_count": 101,
      "outputs": [
        {
          "output_type": "execute_result",
          "data": {
            "text/plain": [
              "array([ 7,  6,  9, 10, 11,  8,  5, 12,  4, 49,  3, 13, 22, 46,  2, 48, 52,\n",
              "       25, 55, 43, 19])"
            ]
          },
          "metadata": {},
          "execution_count": 101
        }
      ]
    },
    {
      "cell_type": "code",
      "source": [
        "data['Sc.Var.Maxis'].unique()"
      ],
      "metadata": {
        "colab": {
          "base_uri": "https://localhost:8080/"
        },
        "id": "itZ4AEpqacUG",
        "outputId": "209e9aa4-cd2f-4434-cd78-2bbd2328fad7"
      },
      "execution_count": 102,
      "outputs": [
        {
          "output_type": "execute_result",
          "data": {
            "text/plain": [
              "array([167, 138, 170, 219, 174, 175, 148, 188, 258, 190, 146, 185, 180,\n",
              "       168, 230, 177, 204, 227, 173, 151, 225, 222, 228, 210, 162, 155,\n",
              "       158, 165, 159, 206, 247, 153, 193, 226, 171, 214, 166, 234, 223,\n",
              "       181, 208, 169, 161, 189, 184, 172, 231, 272, 256, 136, 147, 197,\n",
              "       203, 211, 236, 186, 213, 164, 154, 156, 130, 262, 141, 137, 179,\n",
              "       217, 235, 202, 200, 176, 232, 196, 199, 182, 265, 229, 160, 149,\n",
              "       218, 152, 163, 220, 139, 221, 157, 280, 209, 195, 140, 216, 212,\n",
              "       194, 238, 183, 191, 142, 266, 143, 207, 224, 187, 215, 150, 178,\n",
              "       275, 237, 269, 285, 144, 134, 241, 240, 264, 135, 192, 145, 205,\n",
              "       267, 246, 287, 288, 320, 263, 254])"
            ]
          },
          "metadata": {},
          "execution_count": 102
        }
      ]
    },
    {
      "cell_type": "code",
      "source": [
        "data['Sc.Var.maxis'].unique()"
      ],
      "metadata": {
        "colab": {
          "base_uri": "https://localhost:8080/"
        },
        "id": "F4dlqGmaafBb",
        "outputId": "5bce25e0-0cc3-48b6-e247-ee652bf6d4c2"
      },
      "execution_count": 103,
      "outputs": [
        {
          "output_type": "execute_result",
          "data": {
            "text/plain": [
              "array([ 332,  200,  330,  706,  337,  381,  246,  419,  866,  428,  225,\n",
              "        382,  379,  370,  321,  347,  205,  533,  371,  727,  368,  264,\n",
              "        336,  686,  679,  737,  543,  299,  274,  364,  284,  319,  289,\n",
              "        530,  731,  266,  426,  305,  713,  362,  596,  359,  349,  756,\n",
              "        314,  635,  373,  546,  311,  285,  586,  339,  415,  275,  383,\n",
              "        260,  663,  318,  625,  732,  404,  374,  611,  346,  833,  352,\n",
              "        229,  668,  203,  322,  259,  445,  523,  506,  661,  696,  492,\n",
              "        307,  673,  427,  402,  578,  310,  324,  240,  741,  184,  776,\n",
              "        221,  348,  197,  325,  712,  367,  631,  677,  711,  326,  622,\n",
              "        716,  485,  351,  718,  425,  757,  504,  366,  450,  320,  342,\n",
              "        272,  629,  391,  666,  327,  870,  237,  253,  684,  258,  363,\n",
              "        671,  335,  524,  389,  583,  607,  406,  707,  653,  220,  701,\n",
              "        265,  277,  281,  928,  721,  455,  517,  323,  472,  294,  212,\n",
              "        610,  520,  340,  418,  290,  526,  333,  308,  535,  722,  602,\n",
              "        682,  208,  624,  287,  361,  460,  282,  341,  576,  685,  252,\n",
              "        385,  355,  703,  487,  262,  306,  301,  494,  334,  408,  511,\n",
              "        642,  680,  589,  249,  658,  375,  396,  438,  648,  256,  433,\n",
              "        338,  358,  273,  376,  892,  223,  331,  572,  261,  270,  369,\n",
              "        312,  329,  279,  298,  534,  691,  608,  238,  545,  309,  669,\n",
              "        670,  434,  345,  639,  254,  489,  300,  388,  725,  263,  440,\n",
              "        476,  595,  600,  665,  687,  562,  354,  315,  317,  465,  748,\n",
              "        644,  255,  296,  271,  657,  344,  479,  645,  956,  356,  728,\n",
              "        401,  904,  219,  512,  627,  567,  987,  692,  209,  601,  518,\n",
              "        694,  365,  674,  471,  233,  681,  416,  241,  697,  709,  513,\n",
              "        574,  268,  195,  409,  700,  251,  280,  710,  726,  357,  597,\n",
              "        430,  719,  575,  206,  204,  328,  650,  717,  855,  558,  278,\n",
              "        678,  196,  387,  372,  508,  469,  343,  393,  527,  587,  563,\n",
              "        459,  641,  446,  675,  247,  467,  227,  232,  243,  708,  857,\n",
              "        230,  704,  766,  968,  623,  923,  605,  473,  458,  954,  295,\n",
              "        350,  640,  481,  245,  390,  651,  570,  218,  521,  844,  612,\n",
              "        399,  304,  676,  224,  405,  478,  207,  688,  360,  250,  216,\n",
              "        417,  621,  729,  613,  683,  291,  429,  667,  638,  435,  616,\n",
              "        413,  242,  463,  982,  211,  720,  316,  559,  480,  752,  525,\n",
              "        378,  598,  636,  474,  838,  466,  579,  966,  422,  735,  557,\n",
              "        505,  519,  222, 1018,  698,  414])"
            ]
          },
          "metadata": {},
          "execution_count": 103
        }
      ]
    },
    {
      "cell_type": "code",
      "source": [
        "data['Ra.Gyr'].unique()"
      ],
      "metadata": {
        "colab": {
          "base_uri": "https://localhost:8080/"
        },
        "id": "ftiJGOEZafgo",
        "outputId": "2014b126-895a-4fd1-e25d-ae54a23b33d7"
      },
      "execution_count": 104,
      "outputs": [
        {
          "output_type": "execute_result",
          "data": {
            "text/plain": [
              "array([143, 123, 158, 223, 140, 172, 112, 136, 245, 148, 150, 184, 169,\n",
              "       134, 226, 190, 138, 182, 189, 201, 176, 186, 220, 214, 213, 146,\n",
              "       162, 188, 120, 137, 205, 209, 127, 171, 202, 132, 173, 149, 181,\n",
              "       174, 191, 179, 175, 155, 121, 145, 219, 218, 200, 253, 199, 128,\n",
              "       139, 152, 183, 230, 216, 217, 130, 195, 177, 192, 204, 164, 126,\n",
              "       193, 119, 246, 178, 142, 151, 159, 185, 153, 187, 247, 168, 133,\n",
              "       180, 157, 234, 135, 124, 198, 211, 224, 197, 239, 154, 141, 222,\n",
              "       160, 129, 167, 229, 170, 206, 144, 210, 156, 196, 240, 163, 166,\n",
              "       242, 235, 212, 194, 161, 203, 236, 250, 125, 215, 244, 117, 165,\n",
              "       260, 114, 221, 208, 228, 131, 147, 232, 113, 231, 261, 262, 249,\n",
              "       118, 115, 109, 238, 116, 237, 207, 255])"
            ]
          },
          "metadata": {},
          "execution_count": 104
        }
      ]
    },
    {
      "cell_type": "code",
      "source": [
        "data['Skew.Maxis'].unique()"
      ],
      "metadata": {
        "colab": {
          "base_uri": "https://localhost:8080/"
        },
        "id": "JVQcWXBQaf_c",
        "outputId": "7ffa42de-b942-40a4-8304-2acc34a190db"
      },
      "execution_count": 105,
      "outputs": [
        {
          "output_type": "execute_result",
          "data": {
            "text/plain": [
              "array([ 69,  65,  72,  70,  74,  66,  80,  67,  63,  71,  73,  64,  85,\n",
              "        77,  82,  75,  68,  62,  81,  78, 118,  76,  89,  83,  86,  79,\n",
              "        87,  91,  84,  61,  90,  97,  59, 119, 127,  88,  99,  60, 135])"
            ]
          },
          "metadata": {},
          "execution_count": 105
        }
      ]
    },
    {
      "cell_type": "code",
      "source": [
        "data['Skew.maxis'].unique()"
      ],
      "metadata": {
        "colab": {
          "base_uri": "https://localhost:8080/"
        },
        "id": "B2qquWBlagSl",
        "outputId": "87321c23-bac3-4bad-95ed-27489c2ef1b6"
      },
      "execution_count": 106,
      "outputs": [
        {
          "output_type": "execute_result",
          "data": {
            "text/plain": [
              "array([ 5,  1,  9,  8,  6,  3,  7, 10, 16,  4,  2, 15, 11,  0, 14, 12, 13,\n",
              "       21, 19, 17, 20, 18, 22])"
            ]
          },
          "metadata": {},
          "execution_count": 106
        }
      ]
    },
    {
      "cell_type": "code",
      "source": [
        "data['Kurt.Maxis'].unique()"
      ],
      "metadata": {
        "colab": {
          "base_uri": "https://localhost:8080/"
        },
        "id": "hA5EoSrragkh",
        "outputId": "76fa9d76-3822-46d9-f46a-5a664cf0a69a"
      },
      "execution_count": 107,
      "outputs": [
        {
          "output_type": "execute_result",
          "data": {
            "text/plain": [
              "array([193, 196, 189, 186, 187, 184, 195, 199, 198, 197, 191, 182, 180,\n",
              "       183, 190, 179, 185, 181, 204, 201, 188, 194, 192, 177, 178, 200,\n",
              "       203, 202, 176])"
            ]
          },
          "metadata": {},
          "execution_count": 107
        }
      ]
    },
    {
      "cell_type": "code",
      "source": [
        "data['Kurt.maxis'].unique()"
      ],
      "metadata": {
        "colab": {
          "base_uri": "https://localhost:8080/"
        },
        "id": "3goVRrbXbAGo",
        "outputId": "5d6dd800-f82f-40e3-bdfb-77eb5ec03e27"
      },
      "execution_count": 108,
      "outputs": [
        {
          "output_type": "execute_result",
          "data": {
            "text/plain": [
              "array([13, 23, 14, 17, 33,  4,  2,  3,  1,  5, 11, 12, 24, 22, 15,  6, 20,\n",
              "        0, 29, 28, 21,  8,  7, 10, 19, 18,  9, 32, 16, 27, 25, 26, 38, 36,\n",
              "       30, 35, 41, 31])"
            ]
          },
          "metadata": {},
          "execution_count": 108
        }
      ]
    },
    {
      "cell_type": "code",
      "source": [
        "data['Holl.Ra'].unique()"
      ],
      "metadata": {
        "colab": {
          "base_uri": "https://localhost:8080/"
        },
        "id": "PDuIem_rbAd3",
        "outputId": "5ac86c49-04a8-4ac3-9e67-fd404f7e0de8"
      },
      "execution_count": 109,
      "outputs": [
        {
          "output_type": "execute_result",
          "data": {
            "text/plain": [
              "array([201, 203, 199, 196, 193, 200, 184, 202, 206, 191, 197, 187, 183,\n",
              "       198, 194, 185, 189, 195, 190, 210, 209, 186, 204, 207, 188, 208,\n",
              "       205, 192, 182, 211, 181])"
            ]
          },
          "metadata": {},
          "execution_count": 109
        }
      ]
    },
    {
      "cell_type": "code",
      "source": [
        "data['Class'].unique()"
      ],
      "metadata": {
        "colab": {
          "base_uri": "https://localhost:8080/"
        },
        "id": "ZiYPhkgbbK5F",
        "outputId": "316472b1-667c-4476-cfd8-3b4b36d80370"
      },
      "execution_count": 110,
      "outputs": [
        {
          "output_type": "execute_result",
          "data": {
            "text/plain": [
              "array([0, 3, 1, 2])"
            ]
          },
          "metadata": {},
          "execution_count": 110
        }
      ]
    },
    {
      "cell_type": "markdown",
      "source": [
        "No missing values. "
      ],
      "metadata": {
        "id": "TgCFVzA5bUw0"
      }
    },
    {
      "cell_type": "markdown",
      "source": [
        "###Duplicate Rows"
      ],
      "metadata": {
        "id": "DugHVxmsbflL"
      }
    },
    {
      "cell_type": "code",
      "source": [
        "data.duplicated().sum()"
      ],
      "metadata": {
        "colab": {
          "base_uri": "https://localhost:8080/"
        },
        "id": "uno6v74qbNwB",
        "outputId": "efb77be5-0352-4c7d-b790-6aa540dca700"
      },
      "execution_count": 111,
      "outputs": [
        {
          "output_type": "execute_result",
          "data": {
            "text/plain": [
              "0"
            ]
          },
          "metadata": {},
          "execution_count": 111
        }
      ]
    },
    {
      "cell_type": "markdown",
      "source": [
        "No duplicate data"
      ],
      "metadata": {
        "id": "0h-ZhH8ibmuH"
      }
    },
    {
      "cell_type": "markdown",
      "source": [
        "###Feature Type"
      ],
      "metadata": {
        "id": "L9nMU2WOb9a1"
      }
    },
    {
      "cell_type": "code",
      "source": [
        "data.info()"
      ],
      "metadata": {
        "colab": {
          "base_uri": "https://localhost:8080/"
        },
        "id": "xkyMbjTAcJUd",
        "outputId": "39d1c442-bbdb-445b-f0a4-fa1413095296"
      },
      "execution_count": 112,
      "outputs": [
        {
          "output_type": "stream",
          "name": "stdout",
          "text": [
            "<class 'pandas.core.frame.DataFrame'>\n",
            "RangeIndex: 719 entries, 0 to 718\n",
            "Data columns (total 20 columns):\n",
            " #   Column        Non-Null Count  Dtype\n",
            "---  ------        --------------  -----\n",
            " 0   ID            719 non-null    int64\n",
            " 1   Comp          719 non-null    int64\n",
            " 2   Circ          719 non-null    int64\n",
            " 3   D.Circ        719 non-null    int64\n",
            " 4   Rad.Ra        719 non-null    int64\n",
            " 5   Pr.Axis.Ra    719 non-null    int64\n",
            " 6   Max.L.Ra      719 non-null    int64\n",
            " 7   Scat.Ra       719 non-null    int64\n",
            " 8   Elong         719 non-null    int64\n",
            " 9   Pr.Axis.Rect  719 non-null    int64\n",
            " 10  Max.L.Rect    719 non-null    int64\n",
            " 11  Sc.Var.Maxis  719 non-null    int64\n",
            " 12  Sc.Var.maxis  719 non-null    int64\n",
            " 13  Ra.Gyr        719 non-null    int64\n",
            " 14  Skew.Maxis    719 non-null    int64\n",
            " 15  Skew.maxis    719 non-null    int64\n",
            " 16  Kurt.maxis    719 non-null    int64\n",
            " 17  Kurt.Maxis    719 non-null    int64\n",
            " 18  Holl.Ra       719 non-null    int64\n",
            " 19  Class         719 non-null    int64\n",
            "dtypes: int64(20)\n",
            "memory usage: 112.5 KB\n"
          ]
        }
      ]
    },
    {
      "cell_type": "markdown",
      "source": [
        "We don't need to change type or do encoding for any of the features as all features are numerical."
      ],
      "metadata": {
        "id": "IlLMRsdboRfX"
      }
    },
    {
      "cell_type": "markdown",
      "source": [
        "###Feature Relevance"
      ],
      "metadata": {
        "id": "AKreW6m4v9_u"
      }
    },
    {
      "cell_type": "code",
      "source": [
        "#The feature Id is not required for us so we can drop that. \n",
        "data= data.drop(['ID'], axis=1)"
      ],
      "metadata": {
        "id": "HYA_3Xz7wB8B"
      },
      "execution_count": 113,
      "outputs": []
    },
    {
      "cell_type": "markdown",
      "source": [
        "###Imbalance in Data"
      ],
      "metadata": {
        "id": "tjgpKwG3cR0R"
      }
    },
    {
      "cell_type": "code",
      "source": [
        "data.Class.value_counts()"
      ],
      "metadata": {
        "colab": {
          "base_uri": "https://localhost:8080/"
        },
        "id": "26LRVk-3wAxg",
        "outputId": "5035ad92-8ddd-4850-99d5-668ab0cf9570"
      },
      "execution_count": 114,
      "outputs": [
        {
          "output_type": "execute_result",
          "data": {
            "text/plain": [
              "0    189\n",
              "1    180\n",
              "3    177\n",
              "2    173\n",
              "Name: Class, dtype: int64"
            ]
          },
          "metadata": {},
          "execution_count": 114
        }
      ]
    },
    {
      "cell_type": "markdown",
      "source": [
        "Data is balanced, hence we do not need balancing."
      ],
      "metadata": {
        "id": "4RwTsRXtwFu0"
      }
    },
    {
      "cell_type": "markdown",
      "source": [
        "### X and y split"
      ],
      "metadata": {
        "id": "Vuy3FQWfpOsC"
      }
    },
    {
      "cell_type": "code",
      "source": [
        "y= data['Class']"
      ],
      "metadata": {
        "id": "hRlxnpOpo5B_"
      },
      "execution_count": 115,
      "outputs": []
    },
    {
      "cell_type": "code",
      "source": [
        "X= data.drop('Class', axis=1)"
      ],
      "metadata": {
        "id": "IVhQZK4xpBkA"
      },
      "execution_count": 116,
      "outputs": []
    },
    {
      "cell_type": "markdown",
      "source": [
        "###Train Test Split"
      ],
      "metadata": {
        "id": "an-xhwr-pRaF"
      }
    },
    {
      "cell_type": "code",
      "source": [
        "from sklearn.model_selection import train_test_split"
      ],
      "metadata": {
        "id": "P9VUkPK2on4A"
      },
      "execution_count": 117,
      "outputs": []
    },
    {
      "cell_type": "code",
      "source": [
        "X_train, X_test, y_train, y_test = train_test_split(X,y, test_size = 0.2, random_state= 1)"
      ],
      "metadata": {
        "id": "fq3P1mUEphKK"
      },
      "execution_count": 118,
      "outputs": []
    },
    {
      "cell_type": "code",
      "source": [
        "X_train.head()"
      ],
      "metadata": {
        "colab": {
          "base_uri": "https://localhost:8080/",
          "height": 206
        },
        "id": "jj46WPZDpg-J",
        "outputId": "93934519-393f-4989-c184-798b71d953e0"
      },
      "execution_count": 119,
      "outputs": [
        {
          "output_type": "execute_result",
          "data": {
            "text/plain": [
              "     Comp  Circ  D.Circ  Rad.Ra  Pr.Axis.Ra  Max.L.Ra  Scat.Ra  Elong  \\\n",
              "34    104    52      96     188          59         9      188     35   \n",
              "185    89    38      78     153          61         7      146     46   \n",
              "154    90    47      85     161          64        10      163     42   \n",
              "712    92    35      58     136          58         6      122     55   \n",
              "667    86    43      70     126          56         6      148     46   \n",
              "\n",
              "     Pr.Axis.Rect  Max.L.Rect  Sc.Var.Maxis  Sc.Var.maxis  Ra.Gyr  Skew.Maxis  \\\n",
              "34             22         161           206           530     205          67   \n",
              "185            19         127           166           314     142          69   \n",
              "154            20         160           177           389     185          73   \n",
              "712            17         132           142           222     116          64   \n",
              "667            19         145           166           317     171          86   \n",
              "\n",
              "     Skew.maxis  Kurt.maxis  Kurt.Maxis  Holl.Ra  \n",
              "34           11           8         193      200  \n",
              "185           0           9         187      194  \n",
              "154           9           0         185      195  \n",
              "712           6          17         197      203  \n",
              "667           6           9         179      182  "
            ],
            "text/html": [
              "\n",
              "  <div id=\"df-30bbd78d-1e43-475a-bb69-0fa6af737144\">\n",
              "    <div class=\"colab-df-container\">\n",
              "      <div>\n",
              "<style scoped>\n",
              "    .dataframe tbody tr th:only-of-type {\n",
              "        vertical-align: middle;\n",
              "    }\n",
              "\n",
              "    .dataframe tbody tr th {\n",
              "        vertical-align: top;\n",
              "    }\n",
              "\n",
              "    .dataframe thead th {\n",
              "        text-align: right;\n",
              "    }\n",
              "</style>\n",
              "<table border=\"1\" class=\"dataframe\">\n",
              "  <thead>\n",
              "    <tr style=\"text-align: right;\">\n",
              "      <th></th>\n",
              "      <th>Comp</th>\n",
              "      <th>Circ</th>\n",
              "      <th>D.Circ</th>\n",
              "      <th>Rad.Ra</th>\n",
              "      <th>Pr.Axis.Ra</th>\n",
              "      <th>Max.L.Ra</th>\n",
              "      <th>Scat.Ra</th>\n",
              "      <th>Elong</th>\n",
              "      <th>Pr.Axis.Rect</th>\n",
              "      <th>Max.L.Rect</th>\n",
              "      <th>Sc.Var.Maxis</th>\n",
              "      <th>Sc.Var.maxis</th>\n",
              "      <th>Ra.Gyr</th>\n",
              "      <th>Skew.Maxis</th>\n",
              "      <th>Skew.maxis</th>\n",
              "      <th>Kurt.maxis</th>\n",
              "      <th>Kurt.Maxis</th>\n",
              "      <th>Holl.Ra</th>\n",
              "    </tr>\n",
              "  </thead>\n",
              "  <tbody>\n",
              "    <tr>\n",
              "      <th>34</th>\n",
              "      <td>104</td>\n",
              "      <td>52</td>\n",
              "      <td>96</td>\n",
              "      <td>188</td>\n",
              "      <td>59</td>\n",
              "      <td>9</td>\n",
              "      <td>188</td>\n",
              "      <td>35</td>\n",
              "      <td>22</td>\n",
              "      <td>161</td>\n",
              "      <td>206</td>\n",
              "      <td>530</td>\n",
              "      <td>205</td>\n",
              "      <td>67</td>\n",
              "      <td>11</td>\n",
              "      <td>8</td>\n",
              "      <td>193</td>\n",
              "      <td>200</td>\n",
              "    </tr>\n",
              "    <tr>\n",
              "      <th>185</th>\n",
              "      <td>89</td>\n",
              "      <td>38</td>\n",
              "      <td>78</td>\n",
              "      <td>153</td>\n",
              "      <td>61</td>\n",
              "      <td>7</td>\n",
              "      <td>146</td>\n",
              "      <td>46</td>\n",
              "      <td>19</td>\n",
              "      <td>127</td>\n",
              "      <td>166</td>\n",
              "      <td>314</td>\n",
              "      <td>142</td>\n",
              "      <td>69</td>\n",
              "      <td>0</td>\n",
              "      <td>9</td>\n",
              "      <td>187</td>\n",
              "      <td>194</td>\n",
              "    </tr>\n",
              "    <tr>\n",
              "      <th>154</th>\n",
              "      <td>90</td>\n",
              "      <td>47</td>\n",
              "      <td>85</td>\n",
              "      <td>161</td>\n",
              "      <td>64</td>\n",
              "      <td>10</td>\n",
              "      <td>163</td>\n",
              "      <td>42</td>\n",
              "      <td>20</td>\n",
              "      <td>160</td>\n",
              "      <td>177</td>\n",
              "      <td>389</td>\n",
              "      <td>185</td>\n",
              "      <td>73</td>\n",
              "      <td>9</td>\n",
              "      <td>0</td>\n",
              "      <td>185</td>\n",
              "      <td>195</td>\n",
              "    </tr>\n",
              "    <tr>\n",
              "      <th>712</th>\n",
              "      <td>92</td>\n",
              "      <td>35</td>\n",
              "      <td>58</td>\n",
              "      <td>136</td>\n",
              "      <td>58</td>\n",
              "      <td>6</td>\n",
              "      <td>122</td>\n",
              "      <td>55</td>\n",
              "      <td>17</td>\n",
              "      <td>132</td>\n",
              "      <td>142</td>\n",
              "      <td>222</td>\n",
              "      <td>116</td>\n",
              "      <td>64</td>\n",
              "      <td>6</td>\n",
              "      <td>17</td>\n",
              "      <td>197</td>\n",
              "      <td>203</td>\n",
              "    </tr>\n",
              "    <tr>\n",
              "      <th>667</th>\n",
              "      <td>86</td>\n",
              "      <td>43</td>\n",
              "      <td>70</td>\n",
              "      <td>126</td>\n",
              "      <td>56</td>\n",
              "      <td>6</td>\n",
              "      <td>148</td>\n",
              "      <td>46</td>\n",
              "      <td>19</td>\n",
              "      <td>145</td>\n",
              "      <td>166</td>\n",
              "      <td>317</td>\n",
              "      <td>171</td>\n",
              "      <td>86</td>\n",
              "      <td>6</td>\n",
              "      <td>9</td>\n",
              "      <td>179</td>\n",
              "      <td>182</td>\n",
              "    </tr>\n",
              "  </tbody>\n",
              "</table>\n",
              "</div>\n",
              "      <button class=\"colab-df-convert\" onclick=\"convertToInteractive('df-30bbd78d-1e43-475a-bb69-0fa6af737144')\"\n",
              "              title=\"Convert this dataframe to an interactive table.\"\n",
              "              style=\"display:none;\">\n",
              "        \n",
              "  <svg xmlns=\"http://www.w3.org/2000/svg\" height=\"24px\"viewBox=\"0 0 24 24\"\n",
              "       width=\"24px\">\n",
              "    <path d=\"M0 0h24v24H0V0z\" fill=\"none\"/>\n",
              "    <path d=\"M18.56 5.44l.94 2.06.94-2.06 2.06-.94-2.06-.94-.94-2.06-.94 2.06-2.06.94zm-11 1L8.5 8.5l.94-2.06 2.06-.94-2.06-.94L8.5 2.5l-.94 2.06-2.06.94zm10 10l.94 2.06.94-2.06 2.06-.94-2.06-.94-.94-2.06-.94 2.06-2.06.94z\"/><path d=\"M17.41 7.96l-1.37-1.37c-.4-.4-.92-.59-1.43-.59-.52 0-1.04.2-1.43.59L10.3 9.45l-7.72 7.72c-.78.78-.78 2.05 0 2.83L4 21.41c.39.39.9.59 1.41.59.51 0 1.02-.2 1.41-.59l7.78-7.78 2.81-2.81c.8-.78.8-2.07 0-2.86zM5.41 20L4 18.59l7.72-7.72 1.47 1.35L5.41 20z\"/>\n",
              "  </svg>\n",
              "      </button>\n",
              "      \n",
              "  <style>\n",
              "    .colab-df-container {\n",
              "      display:flex;\n",
              "      flex-wrap:wrap;\n",
              "      gap: 12px;\n",
              "    }\n",
              "\n",
              "    .colab-df-convert {\n",
              "      background-color: #E8F0FE;\n",
              "      border: none;\n",
              "      border-radius: 50%;\n",
              "      cursor: pointer;\n",
              "      display: none;\n",
              "      fill: #1967D2;\n",
              "      height: 32px;\n",
              "      padding: 0 0 0 0;\n",
              "      width: 32px;\n",
              "    }\n",
              "\n",
              "    .colab-df-convert:hover {\n",
              "      background-color: #E2EBFA;\n",
              "      box-shadow: 0px 1px 2px rgba(60, 64, 67, 0.3), 0px 1px 3px 1px rgba(60, 64, 67, 0.15);\n",
              "      fill: #174EA6;\n",
              "    }\n",
              "\n",
              "    [theme=dark] .colab-df-convert {\n",
              "      background-color: #3B4455;\n",
              "      fill: #D2E3FC;\n",
              "    }\n",
              "\n",
              "    [theme=dark] .colab-df-convert:hover {\n",
              "      background-color: #434B5C;\n",
              "      box-shadow: 0px 1px 3px 1px rgba(0, 0, 0, 0.15);\n",
              "      filter: drop-shadow(0px 1px 2px rgba(0, 0, 0, 0.3));\n",
              "      fill: #FFFFFF;\n",
              "    }\n",
              "  </style>\n",
              "\n",
              "      <script>\n",
              "        const buttonEl =\n",
              "          document.querySelector('#df-30bbd78d-1e43-475a-bb69-0fa6af737144 button.colab-df-convert');\n",
              "        buttonEl.style.display =\n",
              "          google.colab.kernel.accessAllowed ? 'block' : 'none';\n",
              "\n",
              "        async function convertToInteractive(key) {\n",
              "          const element = document.querySelector('#df-30bbd78d-1e43-475a-bb69-0fa6af737144');\n",
              "          const dataTable =\n",
              "            await google.colab.kernel.invokeFunction('convertToInteractive',\n",
              "                                                     [key], {});\n",
              "          if (!dataTable) return;\n",
              "\n",
              "          const docLinkHtml = 'Like what you see? Visit the ' +\n",
              "            '<a target=\"_blank\" href=https://colab.research.google.com/notebooks/data_table.ipynb>data table notebook</a>'\n",
              "            + ' to learn more about interactive tables.';\n",
              "          element.innerHTML = '';\n",
              "          dataTable['output_type'] = 'display_data';\n",
              "          await google.colab.output.renderOutput(dataTable, element);\n",
              "          const docLink = document.createElement('div');\n",
              "          docLink.innerHTML = docLinkHtml;\n",
              "          element.appendChild(docLink);\n",
              "        }\n",
              "      </script>\n",
              "    </div>\n",
              "  </div>\n",
              "  "
            ]
          },
          "metadata": {},
          "execution_count": 119
        }
      ]
    },
    {
      "cell_type": "markdown",
      "source": [
        "###Scaling the Features"
      ],
      "metadata": {
        "id": "WyJRw-IOcKai"
      }
    },
    {
      "cell_type": "markdown",
      "source": [
        "#### Checking for Scaling"
      ],
      "metadata": {
        "id": "q9FYeWsdaGdG"
      }
    },
    {
      "cell_type": "code",
      "source": [
        "import seaborn as sns"
      ],
      "metadata": {
        "id": "9krpr9Ihdd7m"
      },
      "execution_count": 120,
      "outputs": []
    },
    {
      "cell_type": "code",
      "source": [
        "data.describe()"
      ],
      "metadata": {
        "colab": {
          "base_uri": "https://localhost:8080/",
          "height": 344
        },
        "id": "6u7AqWOQcRGs",
        "outputId": "e6edb297-cca3-4808-865d-476d9a13fccb"
      },
      "execution_count": 121,
      "outputs": [
        {
          "output_type": "execute_result",
          "data": {
            "text/plain": [
              "             Comp        Circ      D.Circ      Rad.Ra  Pr.Axis.Ra    Max.L.Ra  \\\n",
              "count  719.000000  719.000000  719.000000  719.000000  719.000000  719.000000   \n",
              "mean    93.435327   44.851182   81.723227  168.579972   61.847010    8.625869   \n",
              "std      8.111406    6.150286   15.528208   33.809172    8.259136    4.916908   \n",
              "min     73.000000   33.000000   40.000000  105.000000   47.000000    2.000000   \n",
              "25%     87.000000   40.000000   70.000000  141.000000   57.000000    6.000000   \n",
              "50%     93.000000   44.000000   79.000000  166.000000   61.000000    8.000000   \n",
              "75%     99.000000   49.000000   96.000000  194.500000   65.000000   10.000000   \n",
              "max    119.000000   59.000000  110.000000  333.000000  138.000000   55.000000   \n",
              "\n",
              "          Scat.Ra       Elong  Pr.Axis.Rect  Max.L.Rect  Sc.Var.Maxis  \\\n",
              "count  719.000000  719.000000    719.000000  719.000000    719.000000   \n",
              "mean   168.137691   41.075104     20.531293  148.030598    188.168289   \n",
              "std     32.937591    7.764459      2.560969   14.560092     31.235395   \n",
              "min    112.000000   26.000000     17.000000  118.000000    130.000000   \n",
              "25%    146.000000   33.000000     19.000000  137.000000    167.000000   \n",
              "50%    157.000000   43.000000     20.000000  146.000000    178.000000   \n",
              "75%    197.500000   46.000000     23.000000  159.000000    216.000000   \n",
              "max    265.000000   61.000000     29.000000  188.000000    320.000000   \n",
              "\n",
              "       Sc.Var.maxis      Ra.Gyr  Skew.Maxis  Skew.maxis  Kurt.maxis  \\\n",
              "count    719.000000  719.000000  719.000000  719.000000  719.000000   \n",
              "mean     436.215577  174.726008   72.682893    6.343533   12.394993   \n",
              "std      174.964977   32.149568    7.542055    4.856169    8.742511   \n",
              "min      184.000000  109.000000   59.000000    0.000000    0.000000   \n",
              "25%      317.000000  149.000000   68.000000    2.000000    5.500000   \n",
              "50%      362.000000  174.000000   72.000000    6.000000   11.000000   \n",
              "75%      584.500000  198.000000   76.000000    9.000000   18.000000   \n",
              "max     1018.000000  262.000000  135.000000   22.000000   41.000000   \n",
              "\n",
              "       Kurt.Maxis     Holl.Ra       Class  \n",
              "count  719.000000  719.000000  719.000000  \n",
              "mean   188.798331  195.407510    1.470097  \n",
              "std      6.048522    7.235166    1.126477  \n",
              "min    176.000000  181.000000    0.000000  \n",
              "25%    184.000000  190.000000    0.000000  \n",
              "50%    188.000000  196.000000    1.000000  \n",
              "75%    193.000000  201.000000    2.000000  \n",
              "max    204.000000  211.000000    3.000000  "
            ],
            "text/html": [
              "\n",
              "  <div id=\"df-da4f3422-aa2d-4dbb-9c85-907ac124be53\">\n",
              "    <div class=\"colab-df-container\">\n",
              "      <div>\n",
              "<style scoped>\n",
              "    .dataframe tbody tr th:only-of-type {\n",
              "        vertical-align: middle;\n",
              "    }\n",
              "\n",
              "    .dataframe tbody tr th {\n",
              "        vertical-align: top;\n",
              "    }\n",
              "\n",
              "    .dataframe thead th {\n",
              "        text-align: right;\n",
              "    }\n",
              "</style>\n",
              "<table border=\"1\" class=\"dataframe\">\n",
              "  <thead>\n",
              "    <tr style=\"text-align: right;\">\n",
              "      <th></th>\n",
              "      <th>Comp</th>\n",
              "      <th>Circ</th>\n",
              "      <th>D.Circ</th>\n",
              "      <th>Rad.Ra</th>\n",
              "      <th>Pr.Axis.Ra</th>\n",
              "      <th>Max.L.Ra</th>\n",
              "      <th>Scat.Ra</th>\n",
              "      <th>Elong</th>\n",
              "      <th>Pr.Axis.Rect</th>\n",
              "      <th>Max.L.Rect</th>\n",
              "      <th>Sc.Var.Maxis</th>\n",
              "      <th>Sc.Var.maxis</th>\n",
              "      <th>Ra.Gyr</th>\n",
              "      <th>Skew.Maxis</th>\n",
              "      <th>Skew.maxis</th>\n",
              "      <th>Kurt.maxis</th>\n",
              "      <th>Kurt.Maxis</th>\n",
              "      <th>Holl.Ra</th>\n",
              "      <th>Class</th>\n",
              "    </tr>\n",
              "  </thead>\n",
              "  <tbody>\n",
              "    <tr>\n",
              "      <th>count</th>\n",
              "      <td>719.000000</td>\n",
              "      <td>719.000000</td>\n",
              "      <td>719.000000</td>\n",
              "      <td>719.000000</td>\n",
              "      <td>719.000000</td>\n",
              "      <td>719.000000</td>\n",
              "      <td>719.000000</td>\n",
              "      <td>719.000000</td>\n",
              "      <td>719.000000</td>\n",
              "      <td>719.000000</td>\n",
              "      <td>719.000000</td>\n",
              "      <td>719.000000</td>\n",
              "      <td>719.000000</td>\n",
              "      <td>719.000000</td>\n",
              "      <td>719.000000</td>\n",
              "      <td>719.000000</td>\n",
              "      <td>719.000000</td>\n",
              "      <td>719.000000</td>\n",
              "      <td>719.000000</td>\n",
              "    </tr>\n",
              "    <tr>\n",
              "      <th>mean</th>\n",
              "      <td>93.435327</td>\n",
              "      <td>44.851182</td>\n",
              "      <td>81.723227</td>\n",
              "      <td>168.579972</td>\n",
              "      <td>61.847010</td>\n",
              "      <td>8.625869</td>\n",
              "      <td>168.137691</td>\n",
              "      <td>41.075104</td>\n",
              "      <td>20.531293</td>\n",
              "      <td>148.030598</td>\n",
              "      <td>188.168289</td>\n",
              "      <td>436.215577</td>\n",
              "      <td>174.726008</td>\n",
              "      <td>72.682893</td>\n",
              "      <td>6.343533</td>\n",
              "      <td>12.394993</td>\n",
              "      <td>188.798331</td>\n",
              "      <td>195.407510</td>\n",
              "      <td>1.470097</td>\n",
              "    </tr>\n",
              "    <tr>\n",
              "      <th>std</th>\n",
              "      <td>8.111406</td>\n",
              "      <td>6.150286</td>\n",
              "      <td>15.528208</td>\n",
              "      <td>33.809172</td>\n",
              "      <td>8.259136</td>\n",
              "      <td>4.916908</td>\n",
              "      <td>32.937591</td>\n",
              "      <td>7.764459</td>\n",
              "      <td>2.560969</td>\n",
              "      <td>14.560092</td>\n",
              "      <td>31.235395</td>\n",
              "      <td>174.964977</td>\n",
              "      <td>32.149568</td>\n",
              "      <td>7.542055</td>\n",
              "      <td>4.856169</td>\n",
              "      <td>8.742511</td>\n",
              "      <td>6.048522</td>\n",
              "      <td>7.235166</td>\n",
              "      <td>1.126477</td>\n",
              "    </tr>\n",
              "    <tr>\n",
              "      <th>min</th>\n",
              "      <td>73.000000</td>\n",
              "      <td>33.000000</td>\n",
              "      <td>40.000000</td>\n",
              "      <td>105.000000</td>\n",
              "      <td>47.000000</td>\n",
              "      <td>2.000000</td>\n",
              "      <td>112.000000</td>\n",
              "      <td>26.000000</td>\n",
              "      <td>17.000000</td>\n",
              "      <td>118.000000</td>\n",
              "      <td>130.000000</td>\n",
              "      <td>184.000000</td>\n",
              "      <td>109.000000</td>\n",
              "      <td>59.000000</td>\n",
              "      <td>0.000000</td>\n",
              "      <td>0.000000</td>\n",
              "      <td>176.000000</td>\n",
              "      <td>181.000000</td>\n",
              "      <td>0.000000</td>\n",
              "    </tr>\n",
              "    <tr>\n",
              "      <th>25%</th>\n",
              "      <td>87.000000</td>\n",
              "      <td>40.000000</td>\n",
              "      <td>70.000000</td>\n",
              "      <td>141.000000</td>\n",
              "      <td>57.000000</td>\n",
              "      <td>6.000000</td>\n",
              "      <td>146.000000</td>\n",
              "      <td>33.000000</td>\n",
              "      <td>19.000000</td>\n",
              "      <td>137.000000</td>\n",
              "      <td>167.000000</td>\n",
              "      <td>317.000000</td>\n",
              "      <td>149.000000</td>\n",
              "      <td>68.000000</td>\n",
              "      <td>2.000000</td>\n",
              "      <td>5.500000</td>\n",
              "      <td>184.000000</td>\n",
              "      <td>190.000000</td>\n",
              "      <td>0.000000</td>\n",
              "    </tr>\n",
              "    <tr>\n",
              "      <th>50%</th>\n",
              "      <td>93.000000</td>\n",
              "      <td>44.000000</td>\n",
              "      <td>79.000000</td>\n",
              "      <td>166.000000</td>\n",
              "      <td>61.000000</td>\n",
              "      <td>8.000000</td>\n",
              "      <td>157.000000</td>\n",
              "      <td>43.000000</td>\n",
              "      <td>20.000000</td>\n",
              "      <td>146.000000</td>\n",
              "      <td>178.000000</td>\n",
              "      <td>362.000000</td>\n",
              "      <td>174.000000</td>\n",
              "      <td>72.000000</td>\n",
              "      <td>6.000000</td>\n",
              "      <td>11.000000</td>\n",
              "      <td>188.000000</td>\n",
              "      <td>196.000000</td>\n",
              "      <td>1.000000</td>\n",
              "    </tr>\n",
              "    <tr>\n",
              "      <th>75%</th>\n",
              "      <td>99.000000</td>\n",
              "      <td>49.000000</td>\n",
              "      <td>96.000000</td>\n",
              "      <td>194.500000</td>\n",
              "      <td>65.000000</td>\n",
              "      <td>10.000000</td>\n",
              "      <td>197.500000</td>\n",
              "      <td>46.000000</td>\n",
              "      <td>23.000000</td>\n",
              "      <td>159.000000</td>\n",
              "      <td>216.000000</td>\n",
              "      <td>584.500000</td>\n",
              "      <td>198.000000</td>\n",
              "      <td>76.000000</td>\n",
              "      <td>9.000000</td>\n",
              "      <td>18.000000</td>\n",
              "      <td>193.000000</td>\n",
              "      <td>201.000000</td>\n",
              "      <td>2.000000</td>\n",
              "    </tr>\n",
              "    <tr>\n",
              "      <th>max</th>\n",
              "      <td>119.000000</td>\n",
              "      <td>59.000000</td>\n",
              "      <td>110.000000</td>\n",
              "      <td>333.000000</td>\n",
              "      <td>138.000000</td>\n",
              "      <td>55.000000</td>\n",
              "      <td>265.000000</td>\n",
              "      <td>61.000000</td>\n",
              "      <td>29.000000</td>\n",
              "      <td>188.000000</td>\n",
              "      <td>320.000000</td>\n",
              "      <td>1018.000000</td>\n",
              "      <td>262.000000</td>\n",
              "      <td>135.000000</td>\n",
              "      <td>22.000000</td>\n",
              "      <td>41.000000</td>\n",
              "      <td>204.000000</td>\n",
              "      <td>211.000000</td>\n",
              "      <td>3.000000</td>\n",
              "    </tr>\n",
              "  </tbody>\n",
              "</table>\n",
              "</div>\n",
              "      <button class=\"colab-df-convert\" onclick=\"convertToInteractive('df-da4f3422-aa2d-4dbb-9c85-907ac124be53')\"\n",
              "              title=\"Convert this dataframe to an interactive table.\"\n",
              "              style=\"display:none;\">\n",
              "        \n",
              "  <svg xmlns=\"http://www.w3.org/2000/svg\" height=\"24px\"viewBox=\"0 0 24 24\"\n",
              "       width=\"24px\">\n",
              "    <path d=\"M0 0h24v24H0V0z\" fill=\"none\"/>\n",
              "    <path d=\"M18.56 5.44l.94 2.06.94-2.06 2.06-.94-2.06-.94-.94-2.06-.94 2.06-2.06.94zm-11 1L8.5 8.5l.94-2.06 2.06-.94-2.06-.94L8.5 2.5l-.94 2.06-2.06.94zm10 10l.94 2.06.94-2.06 2.06-.94-2.06-.94-.94-2.06-.94 2.06-2.06.94z\"/><path d=\"M17.41 7.96l-1.37-1.37c-.4-.4-.92-.59-1.43-.59-.52 0-1.04.2-1.43.59L10.3 9.45l-7.72 7.72c-.78.78-.78 2.05 0 2.83L4 21.41c.39.39.9.59 1.41.59.51 0 1.02-.2 1.41-.59l7.78-7.78 2.81-2.81c.8-.78.8-2.07 0-2.86zM5.41 20L4 18.59l7.72-7.72 1.47 1.35L5.41 20z\"/>\n",
              "  </svg>\n",
              "      </button>\n",
              "      \n",
              "  <style>\n",
              "    .colab-df-container {\n",
              "      display:flex;\n",
              "      flex-wrap:wrap;\n",
              "      gap: 12px;\n",
              "    }\n",
              "\n",
              "    .colab-df-convert {\n",
              "      background-color: #E8F0FE;\n",
              "      border: none;\n",
              "      border-radius: 50%;\n",
              "      cursor: pointer;\n",
              "      display: none;\n",
              "      fill: #1967D2;\n",
              "      height: 32px;\n",
              "      padding: 0 0 0 0;\n",
              "      width: 32px;\n",
              "    }\n",
              "\n",
              "    .colab-df-convert:hover {\n",
              "      background-color: #E2EBFA;\n",
              "      box-shadow: 0px 1px 2px rgba(60, 64, 67, 0.3), 0px 1px 3px 1px rgba(60, 64, 67, 0.15);\n",
              "      fill: #174EA6;\n",
              "    }\n",
              "\n",
              "    [theme=dark] .colab-df-convert {\n",
              "      background-color: #3B4455;\n",
              "      fill: #D2E3FC;\n",
              "    }\n",
              "\n",
              "    [theme=dark] .colab-df-convert:hover {\n",
              "      background-color: #434B5C;\n",
              "      box-shadow: 0px 1px 3px 1px rgba(0, 0, 0, 0.15);\n",
              "      filter: drop-shadow(0px 1px 2px rgba(0, 0, 0, 0.3));\n",
              "      fill: #FFFFFF;\n",
              "    }\n",
              "  </style>\n",
              "\n",
              "      <script>\n",
              "        const buttonEl =\n",
              "          document.querySelector('#df-da4f3422-aa2d-4dbb-9c85-907ac124be53 button.colab-df-convert');\n",
              "        buttonEl.style.display =\n",
              "          google.colab.kernel.accessAllowed ? 'block' : 'none';\n",
              "\n",
              "        async function convertToInteractive(key) {\n",
              "          const element = document.querySelector('#df-da4f3422-aa2d-4dbb-9c85-907ac124be53');\n",
              "          const dataTable =\n",
              "            await google.colab.kernel.invokeFunction('convertToInteractive',\n",
              "                                                     [key], {});\n",
              "          if (!dataTable) return;\n",
              "\n",
              "          const docLinkHtml = 'Like what you see? Visit the ' +\n",
              "            '<a target=\"_blank\" href=https://colab.research.google.com/notebooks/data_table.ipynb>data table notebook</a>'\n",
              "            + ' to learn more about interactive tables.';\n",
              "          element.innerHTML = '';\n",
              "          dataTable['output_type'] = 'display_data';\n",
              "          await google.colab.output.renderOutput(dataTable, element);\n",
              "          const docLink = document.createElement('div');\n",
              "          docLink.innerHTML = docLinkHtml;\n",
              "          element.appendChild(docLink);\n",
              "        }\n",
              "      </script>\n",
              "    </div>\n",
              "  </div>\n",
              "  "
            ]
          },
          "metadata": {},
          "execution_count": 121
        }
      ]
    },
    {
      "cell_type": "code",
      "source": [
        "sns.boxplot(data=data)"
      ],
      "metadata": {
        "colab": {
          "base_uri": "https://localhost:8080/",
          "height": 282
        },
        "id": "fuM_9rs7ooQ6",
        "outputId": "7a90fa77-73de-437c-ff67-647547230132"
      },
      "execution_count": 122,
      "outputs": [
        {
          "output_type": "execute_result",
          "data": {
            "text/plain": [
              "<matplotlib.axes._subplots.AxesSubplot at 0x7f3625e29b50>"
            ]
          },
          "metadata": {},
          "execution_count": 122
        },
        {
          "output_type": "display_data",
          "data": {
            "text/plain": [
              "<Figure size 432x288 with 1 Axes>"
            ],
            "image/png": "[encoded data removed]"
          },
          "metadata": {
            "needs_background": "light"
          }
        }
      ]
    },
    {
      "cell_type": "markdown",
      "source": [
        "Scaling is required."
      ],
      "metadata": {
        "id": "TBkNObZIov3R"
      }
    },
    {
      "cell_type": "markdown",
      "source": [
        "####Scaling"
      ],
      "metadata": {
        "id": "AqZi6YmwvOqk"
      }
    },
    {
      "cell_type": "code",
      "source": [
        "from sklearn.preprocessing import StandardScaler"
      ],
      "metadata": {
        "id": "igStffYbvRLU"
      },
      "execution_count": 123,
      "outputs": []
    },
    {
      "cell_type": "code",
      "source": [
        "SS= StandardScaler()"
      ],
      "metadata": {
        "id": "LsX48o2QvZZt"
      },
      "execution_count": 124,
      "outputs": []
    },
    {
      "cell_type": "code",
      "source": [
        "X_train= SS.fit_transform(X_train)"
      ],
      "metadata": {
        "id": "EnFewAPNvZOZ"
      },
      "execution_count": 125,
      "outputs": []
    },
    {
      "cell_type": "code",
      "source": [
        "X_test= SS.transform(X_test)"
      ],
      "metadata": {
        "id": "u9L1jfTivZB_"
      },
      "execution_count": 126,
      "outputs": []
    },
    {
      "cell_type": "code",
      "source": [
        "sns.boxplot(data=X_train)"
      ],
      "metadata": {
        "colab": {
          "base_uri": "https://localhost:8080/",
          "height": 282
        },
        "id": "9U19Pp-Uvq3q",
        "outputId": "7a8800dc-632c-4ca8-885e-badc3e274240"
      },
      "execution_count": 127,
      "outputs": [
        {
          "output_type": "execute_result",
          "data": {
            "text/plain": [
              "<matplotlib.axes._subplots.AxesSubplot at 0x7f3625c86040>"
            ]
          },
          "metadata": {},
          "execution_count": 127
        },
        {
          "output_type": "display_data",
          "data": {
            "text/plain": [
              "<Figure size 432x288 with 1 Axes>"
            ],
            "image/png": "[encoded data removed]"
          },
          "metadata": {
            "needs_background": "light"
          }
        }
      ]
    },
    {
      "cell_type": "code",
      "source": [
        "sns.boxplot(data=X_test)"
      ],
      "metadata": {
        "colab": {
          "base_uri": "https://localhost:8080/",
          "height": 282
        },
        "id": "TLAiHmgovwWH",
        "outputId": "2f47f274-b22c-4e79-fe1f-38a7f318f3d6"
      },
      "execution_count": 128,
      "outputs": [
        {
          "output_type": "execute_result",
          "data": {
            "text/plain": [
              "<matplotlib.axes._subplots.AxesSubplot at 0x7f3625aae910>"
            ]
          },
          "metadata": {},
          "execution_count": 128
        },
        {
          "output_type": "display_data",
          "data": {
            "text/plain": [
              "<Figure size 432x288 with 1 Axes>"
            ],
            "image/png": "[encoded data removed]"
          },
          "metadata": {
            "needs_background": "light"
          }
        }
      ]
    },
    {
      "cell_type": "markdown",
      "source": [
        "###Model Building"
      ],
      "metadata": {
        "id": "y_BBpdtEwQfg"
      }
    },
    {
      "cell_type": "code",
      "source": [
        "#importing all classification models\n",
        "from sklearn.linear_model import SGDClassifier\n",
        "from sklearn.svm import SVC\n",
        "from sklearn.neighbors import KNeighborsClassifier\n",
        "from sklearn.tree import DecisionTreeClassifier\n",
        "from sklearn.ensemble import RandomForestClassifier, GradientBoostingClassifier"
      ],
      "metadata": {
        "id": "A8n4GyC2cUFQ"
      },
      "execution_count": 129,
      "outputs": []
    },
    {
      "cell_type": "code",
      "source": [
        "#creating objects\n",
        "sgd= SGDClassifier()\n",
        "svc= SVC()\n",
        "knn= KNeighborsClassifier()\n",
        "dtc= DecisionTreeClassifier()\n",
        "rfc= RandomForestClassifier()\n",
        "gbc= GradientBoostingClassifier()"
      ],
      "metadata": {
        "id": "bsXgfqpUaJK1"
      },
      "execution_count": 130,
      "outputs": []
    },
    {
      "cell_type": "code",
      "source": [
        "#training the models\n",
        "import time\n",
        "start = time.time()\n",
        "sgd.fit(X_train, y_train)\n",
        "svc.fit(X_train, y_train)\n",
        "knn.fit(X_train, y_train)\n",
        "dtc.fit(X_train, y_train)\n",
        "rfc.fit(X_train, y_train)\n",
        "gbc.fit(X_train, y_train)\n",
        "end = time.time()\n",
        "print(end-start)"
      ],
      "metadata": {
        "colab": {
          "base_uri": "https://localhost:8080/"
        },
        "id": "0anKu2yqa22r",
        "outputId": "857d2e82-3bbf-4766-e7a8-c6069f880412"
      },
      "execution_count": 131,
      "outputs": [
        {
          "output_type": "stream",
          "name": "stdout",
          "text": [
            "1.2576842308044434\n"
          ]
        }
      ]
    },
    {
      "cell_type": "code",
      "source": [
        "#train scores\n",
        "#scores- accuracy\n",
        "import time\n",
        "start = time.time()\n",
        "tr_s1= sgd.score(X_train, y_train)\n",
        "tr_s2= svc.score(X_train, y_train)\n",
        "tr_s3= knn.score(X_train, y_train)\n",
        "tr_s4= dtc.score(X_train, y_train)\n",
        "tr_s5= rfc.score(X_train, y_train)\n",
        "tr_s6= gbc.score(X_train, y_train)\n",
        "end = time.time()\n",
        "print(end-start)"
      ],
      "metadata": {
        "colab": {
          "base_uri": "https://localhost:8080/"
        },
        "id": "o_cXqv3Ca6j3",
        "outputId": "2efb669c-b6c1-4dbb-f122-7889605c7733"
      },
      "execution_count": 132,
      "outputs": [
        {
          "output_type": "stream",
          "name": "stdout",
          "text": [
            "0.0950932502746582\n"
          ]
        }
      ]
    },
    {
      "cell_type": "code",
      "source": [
        "#test scores\n",
        "#scores- accuracy\n",
        "import time\n",
        "start = time.time()\n",
        "te_s1= sgd.score(X_test, y_test)\n",
        "te_s2= svc.score(X_test, y_test)\n",
        "te_s3= knn.score(X_test, y_test)\n",
        "te_s4= dtc.score(X_test, y_test)\n",
        "te_s5= rfc.score(X_test, y_test)\n",
        "te_s6= gbc.score(X_test, y_test)\n",
        "end = time.time()\n",
        "print(end-start)"
      ],
      "metadata": {
        "colab": {
          "base_uri": "https://localhost:8080/"
        },
        "id": "kZEybd2Ia_gN",
        "outputId": "363a9139-6d8a-4078-cc80-bc89a4a9a740"
      },
      "execution_count": 133,
      "outputs": [
        {
          "output_type": "stream",
          "name": "stdout",
          "text": [
            "0.04682803153991699\n"
          ]
        }
      ]
    },
    {
      "cell_type": "code",
      "source": [
        "train_scores = [tr_s1,tr_s2,tr_s3,tr_s4,tr_s5,tr_s6]\n",
        "test_scores = [te_s1,te_s2,te_s3,te_s4,te_s5,te_s6]"
      ],
      "metadata": {
        "id": "RXIaNYs0bDE9"
      },
      "execution_count": 134,
      "outputs": []
    },
    {
      "cell_type": "code",
      "source": [
        "print(train_scores)"
      ],
      "metadata": {
        "colab": {
          "base_uri": "https://localhost:8080/"
        },
        "id": "454uD6K5bP0F",
        "outputId": "08a0f149-2886-40eb-f44a-73cc303e2de6"
      },
      "execution_count": 135,
      "outputs": [
        {
          "output_type": "stream",
          "name": "stdout",
          "text": [
            "[0.7408695652173913, 0.84, 0.8434782608695652, 1.0, 1.0, 0.9982608695652174]\n"
          ]
        }
      ]
    },
    {
      "cell_type": "code",
      "source": [
        "print(test_scores)"
      ],
      "metadata": {
        "colab": {
          "base_uri": "https://localhost:8080/"
        },
        "id": "fy3L8aJebRiQ",
        "outputId": "20b03fcf-ce67-4b1c-ef96-327da488f21c"
      },
      "execution_count": 136,
      "outputs": [
        {
          "output_type": "stream",
          "name": "stdout",
          "text": [
            "[0.6875, 0.7708333333333334, 0.7569444444444444, 0.7013888888888888, 0.7430555555555556, 0.7361111111111112]\n"
          ]
        }
      ]
    },
    {
      "cell_type": "markdown",
      "source": [
        "It seems like models 2, 3 and 5 have performed better. Also it seems like last three models have overfitting problem as train scores are much more than the test scores. As per accuracy models 2, 3 and 5 (i.e svc, knn and rfc) are better. "
      ],
      "metadata": {
        "id": "aOGCbHJ6yRLd"
      }
    },
    {
      "cell_type": "code",
      "source": [
        "#f1_score\n",
        "import time\n",
        "start = time.time()\n",
        "y_pred1 = sgd.predict(X_test)\n",
        "y_pred2 = svc.predict(X_test)\n",
        "y_pred3 = knn.predict(X_test)\n",
        "y_pred4 = dtc.predict(X_test)\n",
        "y_pred5 = rfc.predict(X_test)\n",
        "y_pred6 = gbc.predict(X_test)\n",
        "end = time.time()\n",
        "print(end-start)"
      ],
      "metadata": {
        "colab": {
          "base_uri": "https://localhost:8080/"
        },
        "id": "BnXPjOA1bTZw",
        "outputId": "f2c3222d-3730-4d75-dd83-fd943a04b468"
      },
      "execution_count": 137,
      "outputs": [
        {
          "output_type": "stream",
          "name": "stdout",
          "text": [
            "0.054070472717285156\n"
          ]
        }
      ]
    },
    {
      "cell_type": "code",
      "source": [
        "from sklearn.metrics import f1_score, plot_confusion_matrix"
      ],
      "metadata": {
        "id": "KRHKUwaRb1kP"
      },
      "execution_count": 138,
      "outputs": []
    },
    {
      "cell_type": "code",
      "source": [
        "print(f1_score(y_test, y_pred1, average='micro'), f1_score(y_test, y_pred2, average='micro'), f1_score(y_test, y_pred3, average='micro'), f1_score(y_test, y_pred4, average='micro'), f1_score(y_test, y_pred5, average='micro'), f1_score(y_test, y_pred6, average='micro'))"
      ],
      "metadata": {
        "id": "UBHMzMDo7ZMm",
        "colab": {
          "base_uri": "https://localhost:8080/"
        },
        "outputId": "adc80724-ea12-497f-e0f0-12c0c6407faa"
      },
      "execution_count": 139,
      "outputs": [
        {
          "output_type": "stream",
          "name": "stdout",
          "text": [
            "0.6875 0.7708333333333333 0.7569444444444444 0.7013888888888888 0.7430555555555556 0.7361111111111113\n"
          ]
        }
      ]
    },
    {
      "cell_type": "markdown",
      "source": [
        "As per F1 score  models 2, 3 and 5 again are better. hence we can select these for use. "
      ],
      "metadata": {
        "id": "9h7lfmgS0TZh"
      }
    },
    {
      "cell_type": "code",
      "source": [
        "#confusion matrix\n",
        "plot_confusion_matrix(sgd, X_test, y_test)"
      ],
      "metadata": {
        "id": "hFD-pUV6b2-L",
        "colab": {
          "base_uri": "https://localhost:8080/",
          "height": 351
        },
        "outputId": "0ff26bb3-8b20-4541-8ac7-4873dc488ee6"
      },
      "execution_count": 140,
      "outputs": [
        {
          "output_type": "stream",
          "name": "stderr",
          "text": [
            "/usr/local/lib/python3.8/dist-packages/sklearn/utils/deprecation.py:87: FutureWarning: Function plot_confusion_matrix is deprecated; Function `plot_confusion_matrix` is deprecated in 1.0 and will be removed in 1.2. Use one of the class methods: ConfusionMatrixDisplay.from_predictions or ConfusionMatrixDisplay.from_estimator.\n",
            "  warnings.warn(msg, category=FutureWarning)\n"
          ]
        },
        {
          "output_type": "execute_result",
          "data": {
            "text/plain": [
              "<sklearn.metrics._plot.confusion_matrix.ConfusionMatrixDisplay at 0x7f3629a55b50>"
            ]
          },
          "metadata": {},
          "execution_count": 140
        },
        {
          "output_type": "display_data",
          "data": {
            "text/plain": [
              "<Figure size 432x288 with 2 Axes>"
            ],
            "image/png": "[encoded data removed]"
          },
          "metadata": {
            "needs_background": "light"
          }
        }
      ]
    },
    {
      "cell_type": "code",
      "source": [
        "plot_confusion_matrix(svc, X_test, y_test)"
      ],
      "metadata": {
        "colab": {
          "base_uri": "https://localhost:8080/",
          "height": 351
        },
        "id": "AcejDUP_FW5b",
        "outputId": "4c904083-0b43-4ae5-c343-e5077eb9fd56"
      },
      "execution_count": 141,
      "outputs": [
        {
          "output_type": "stream",
          "name": "stderr",
          "text": [
            "/usr/local/lib/python3.8/dist-packages/sklearn/utils/deprecation.py:87: FutureWarning: Function plot_confusion_matrix is deprecated; Function `plot_confusion_matrix` is deprecated in 1.0 and will be removed in 1.2. Use one of the class methods: ConfusionMatrixDisplay.from_predictions or ConfusionMatrixDisplay.from_estimator.\n",
            "  warnings.warn(msg, category=FutureWarning)\n"
          ]
        },
        {
          "output_type": "execute_result",
          "data": {
            "text/plain": [
              "<sklearn.metrics._plot.confusion_matrix.ConfusionMatrixDisplay at 0x7f3629a55220>"
            ]
          },
          "metadata": {},
          "execution_count": 141
        },
        {
          "output_type": "display_data",
          "data": {
            "text/plain": [
              "<Figure size 432x288 with 2 Axes>"
            ],
            "image/png": "[encoded data removed]"
          },
          "metadata": {
            "needs_background": "light"
          }
        }
      ]
    },
    {
      "cell_type": "code",
      "source": [
        "plot_confusion_matrix(knn, X_test, y_test)"
      ],
      "metadata": {
        "colab": {
          "base_uri": "https://localhost:8080/",
          "height": 351
        },
        "id": "_URO-J-NFaLW",
        "outputId": "707a62fd-ea1d-46f8-d73c-63408e3118d9"
      },
      "execution_count": 142,
      "outputs": [
        {
          "output_type": "stream",
          "name": "stderr",
          "text": [
            "/usr/local/lib/python3.8/dist-packages/sklearn/utils/deprecation.py:87: FutureWarning: Function plot_confusion_matrix is deprecated; Function `plot_confusion_matrix` is deprecated in 1.0 and will be removed in 1.2. Use one of the class methods: ConfusionMatrixDisplay.from_predictions or ConfusionMatrixDisplay.from_estimator.\n",
            "  warnings.warn(msg, category=FutureWarning)\n"
          ]
        },
        {
          "output_type": "execute_result",
          "data": {
            "text/plain": [
              "<sklearn.metrics._plot.confusion_matrix.ConfusionMatrixDisplay at 0x7f3625ca4d00>"
            ]
          },
          "metadata": {},
          "execution_count": 142
        },
        {
          "output_type": "display_data",
          "data": {
            "text/plain": [
              "<Figure size 432x288 with 2 Axes>"
            ],
            "image/png": "[encoded data removed]"
          },
          "metadata": {
            "needs_background": "light"
          }
        }
      ]
    },
    {
      "cell_type": "code",
      "source": [
        "plot_confusion_matrix(dtc, X_test, y_test)"
      ],
      "metadata": {
        "colab": {
          "base_uri": "https://localhost:8080/",
          "height": 351
        },
        "id": "NBoOpgzEFcT1",
        "outputId": "b2565c7e-c84b-4ba3-86f9-bdc635def8d7"
      },
      "execution_count": 143,
      "outputs": [
        {
          "output_type": "stream",
          "name": "stderr",
          "text": [
            "/usr/local/lib/python3.8/dist-packages/sklearn/utils/deprecation.py:87: FutureWarning: Function plot_confusion_matrix is deprecated; Function `plot_confusion_matrix` is deprecated in 1.0 and will be removed in 1.2. Use one of the class methods: ConfusionMatrixDisplay.from_predictions or ConfusionMatrixDisplay.from_estimator.\n",
            "  warnings.warn(msg, category=FutureWarning)\n"
          ]
        },
        {
          "output_type": "execute_result",
          "data": {
            "text/plain": [
              "<sklearn.metrics._plot.confusion_matrix.ConfusionMatrixDisplay at 0x7f36256d0b50>"
            ]
          },
          "metadata": {},
          "execution_count": 143
        },
        {
          "output_type": "display_data",
          "data": {
            "text/plain": [
              "<Figure size 432x288 with 2 Axes>"
            ],
            "image/png": "[encoded data removed]"
          },
          "metadata": {
            "needs_background": "light"
          }
        }
      ]
    },
    {
      "cell_type": "code",
      "source": [
        "plot_confusion_matrix(rfc, X_test, y_test)"
      ],
      "metadata": {
        "colab": {
          "base_uri": "https://localhost:8080/",
          "height": 351
        },
        "id": "KshyZlVAFeJT",
        "outputId": "7628a41f-bb1f-4f5a-e9c6-bf421187fa24"
      },
      "execution_count": 144,
      "outputs": [
        {
          "output_type": "stream",
          "name": "stderr",
          "text": [
            "/usr/local/lib/python3.8/dist-packages/sklearn/utils/deprecation.py:87: FutureWarning: Function plot_confusion_matrix is deprecated; Function `plot_confusion_matrix` is deprecated in 1.0 and will be removed in 1.2. Use one of the class methods: ConfusionMatrixDisplay.from_predictions or ConfusionMatrixDisplay.from_estimator.\n",
            "  warnings.warn(msg, category=FutureWarning)\n"
          ]
        },
        {
          "output_type": "execute_result",
          "data": {
            "text/plain": [
              "<sklearn.metrics._plot.confusion_matrix.ConfusionMatrixDisplay at 0x7f3625679bb0>"
            ]
          },
          "metadata": {},
          "execution_count": 144
        },
        {
          "output_type": "display_data",
          "data": {
            "text/plain": [
              "<Figure size 432x288 with 2 Axes>"
            ],
            "image/png": "[encoded data removed]"
          },
          "metadata": {
            "needs_background": "light"
          }
        }
      ]
    },
    {
      "cell_type": "code",
      "source": [
        "plot_confusion_matrix(gbc, X_test, y_test)"
      ],
      "metadata": {
        "colab": {
          "base_uri": "https://localhost:8080/",
          "height": 351
        },
        "id": "J-C1vnSNFgF6",
        "outputId": "4513db12-6607-4b41-bd69-fcf80277757a"
      },
      "execution_count": 145,
      "outputs": [
        {
          "output_type": "stream",
          "name": "stderr",
          "text": [
            "/usr/local/lib/python3.8/dist-packages/sklearn/utils/deprecation.py:87: FutureWarning: Function plot_confusion_matrix is deprecated; Function `plot_confusion_matrix` is deprecated in 1.0 and will be removed in 1.2. Use one of the class methods: ConfusionMatrixDisplay.from_predictions or ConfusionMatrixDisplay.from_estimator.\n",
            "  warnings.warn(msg, category=FutureWarning)\n"
          ]
        },
        {
          "output_type": "execute_result",
          "data": {
            "text/plain": [
              "<sklearn.metrics._plot.confusion_matrix.ConfusionMatrixDisplay at 0x7f36255eff40>"
            ]
          },
          "metadata": {},
          "execution_count": 145
        },
        {
          "output_type": "display_data",
          "data": {
            "text/plain": [
              "<Figure size 432x288 with 2 Axes>"
            ],
            "image/png": "[encoded data removed]"
          },
          "metadata": {
            "needs_background": "light"
          }
        }
      ]
    },
    {
      "cell_type": "markdown",
      "source": [
        "Again we can see that svc, knn and rfc did much better compared to other models. Hence we will be choosing these three models for hyperparameter tuning."
      ],
      "metadata": {
        "id": "9c7oGcUrFw4S"
      }
    },
    {
      "cell_type": "markdown",
      "source": [
        "### Hyperparameter Tuning"
      ],
      "metadata": {
        "id": "6LQSww9yGB5V"
      }
    },
    {
      "cell_type": "markdown",
      "source": [
        "####SVC"
      ],
      "metadata": {
        "id": "_1ctVTGAGH-V"
      }
    },
    {
      "cell_type": "code",
      "source": [
        "#defining the parameters to tune\n",
        "param_grid = {'C': [0.1, 1, 10, 100, 1000], \n",
        "              'gamma': [1, 0.1, 0.01, 0.001, 0.0001],\n",
        "              'kernel': ['linear', 'rbf']}"
      ],
      "metadata": {
        "id": "SaAUoVG3KkQO"
      },
      "execution_count": 146,
      "outputs": []
    },
    {
      "cell_type": "code",
      "source": [
        "#importing crossvalidation libraries\n",
        "from sklearn.model_selection import RandomizedSearchCV"
      ],
      "metadata": {
        "id": "6YqoiJEqL0SU"
      },
      "execution_count": 147,
      "outputs": []
    },
    {
      "cell_type": "code",
      "source": [
        "#creating object\n",
        "rscv1 = RandomizedSearchCV(svc, param_grid, n_iter = 6, cv= 3)"
      ],
      "metadata": {
        "id": "kwnWpn_rL3bJ"
      },
      "execution_count": 148,
      "outputs": []
    },
    {
      "cell_type": "code",
      "execution_count": 149,
      "metadata": {
        "id": "nKtYCZ2X1mZ6",
        "colab": {
          "base_uri": "https://localhost:8080/"
        },
        "outputId": "ececf21b-17fe-4c96-d338-4babef5fa4dc"
      },
      "outputs": [
        {
          "output_type": "execute_result",
          "data": {
            "text/plain": [
              "RandomizedSearchCV(cv=3, estimator=SVC(), n_iter=6,\n",
              "                   param_distributions={'C': [0.1, 1, 10, 100, 1000],\n",
              "                                        'gamma': [1, 0.1, 0.01, 0.001, 0.0001],\n",
              "                                        'kernel': ['linear', 'rbf']})"
            ]
          },
          "metadata": {},
          "execution_count": 149
        }
      ],
      "source": [
        "#fitting the model\n",
        "rscv1.fit(X_train, y_train)"
      ]
    },
    {
      "cell_type": "code",
      "execution_count": 150,
      "metadata": {
        "id": "vswBvWkK16xg",
        "colab": {
          "base_uri": "https://localhost:8080/"
        },
        "outputId": "64dc3d45-5e70-4812-b11d-18f427fca7dd"
      },
      "outputs": [
        {
          "output_type": "execute_result",
          "data": {
            "text/plain": [
              "0.8017106602675975"
            ]
          },
          "metadata": {},
          "execution_count": 150
        }
      ],
      "source": [
        "rscv1.best_score_"
      ]
    },
    {
      "cell_type": "code",
      "execution_count": 151,
      "metadata": {
        "id": "ntcFjUMI1_GM",
        "colab": {
          "base_uri": "https://localhost:8080/"
        },
        "outputId": "1af2dce3-a986-4d97-a0ce-679cd21c7b4a"
      },
      "outputs": [
        {
          "output_type": "execute_result",
          "data": {
            "text/plain": [
              "SVC(C=10, gamma=0.1, kernel='linear')"
            ]
          },
          "metadata": {},
          "execution_count": 151
        }
      ],
      "source": [
        "rscv1.best_estimator_"
      ]
    },
    {
      "cell_type": "markdown",
      "source": [
        "We get an accuracy of 0.8017 with SVC and our best parameters are C= 10, gamma=0.1 and kernel= linear. "
      ],
      "metadata": {
        "id": "3ZPJGccOMdqX"
      }
    },
    {
      "cell_type": "markdown",
      "source": [
        "####KNN"
      ],
      "metadata": {
        "id": "Yr1AUe-YM1wG"
      }
    },
    {
      "cell_type": "code",
      "source": [
        "#defining the parameters to tune\n",
        "param_grid = { 'n_neighbors': [3,5,7,9,11,13,15,17,19,21], \n",
        "         'weights':['uniform', 'distance'], \n",
        "         'metric': ['euclidean', 'manhattan', 'minkowski']}"
      ],
      "metadata": {
        "id": "isp7ncppM1wN"
      },
      "execution_count": 152,
      "outputs": []
    },
    {
      "cell_type": "code",
      "source": [
        "#creating object\n",
        "rscv2 = RandomizedSearchCV(knn, param_grid, n_iter = 6, cv= 3)"
      ],
      "metadata": {
        "id": "78C22L2bM1wN"
      },
      "execution_count": 153,
      "outputs": []
    },
    {
      "cell_type": "code",
      "execution_count": 154,
      "metadata": {
        "colab": {
          "base_uri": "https://localhost:8080/"
        },
        "outputId": "16687782-5d0c-497a-94df-d75fb645d784",
        "id": "PFIw8A5FM1wN"
      },
      "outputs": [
        {
          "output_type": "execute_result",
          "data": {
            "text/plain": [
              "RandomizedSearchCV(cv=3, estimator=KNeighborsClassifier(), n_iter=6,\n",
              "                   param_distributions={'metric': ['euclidean', 'manhattan',\n",
              "                                                   'minkowski'],\n",
              "                                        'n_neighbors': [3, 5, 7, 9, 11, 13, 15,\n",
              "                                                        17, 19, 21],\n",
              "                                        'weights': ['uniform', 'distance']})"
            ]
          },
          "metadata": {},
          "execution_count": 154
        }
      ],
      "source": [
        "#fitting the model\n",
        "rscv2.fit(X_train, y_train)"
      ]
    },
    {
      "cell_type": "code",
      "execution_count": 155,
      "metadata": {
        "colab": {
          "base_uri": "https://localhost:8080/"
        },
        "outputId": "b6237601-ecd4-4caf-f6f4-4c5f9920a4d0",
        "id": "GfWxj6R_M1wO"
      },
      "outputs": [
        {
          "output_type": "execute_result",
          "data": {
            "text/plain": [
              "0.7443917248400233"
            ]
          },
          "metadata": {},
          "execution_count": 155
        }
      ],
      "source": [
        "rscv2.best_score_"
      ]
    },
    {
      "cell_type": "code",
      "execution_count": 156,
      "metadata": {
        "colab": {
          "base_uri": "https://localhost:8080/"
        },
        "outputId": "f70391e8-ca6a-4d24-aae7-ace48aefcec7",
        "id": "eoWwbAisM1wO"
      },
      "outputs": [
        {
          "output_type": "execute_result",
          "data": {
            "text/plain": [
              "KNeighborsClassifier(metric='manhattan', n_neighbors=7, weights='distance')"
            ]
          },
          "metadata": {},
          "execution_count": 156
        }
      ],
      "source": [
        "rscv2.best_estimator_"
      ]
    },
    {
      "cell_type": "markdown",
      "source": [
        "We get an accuracy of 0.7304 with KNN and our best parameters are metric = manhattan, n=15 and weights= distance. "
      ],
      "metadata": {
        "id": "Asqy7UB0M1wO"
      }
    },
    {
      "cell_type": "code",
      "source": [],
      "metadata": {
        "id": "JsxQeKVYOeQz"
      },
      "execution_count": 156,
      "outputs": []
    },
    {
      "cell_type": "markdown",
      "source": [
        "####RFC"
      ],
      "metadata": {
        "id": "aBs3rbh4O0EV"
      }
    },
    {
      "cell_type": "code",
      "source": [
        "#defining the parameters to tune\n",
        "param_grid = { 'max_depth': [3,6,9], \n",
        "         'n_estimators':[10, 30, 50, 70], \n",
        "         'criterion': ['gini', 'entropy', 'log_loss']}"
      ],
      "metadata": {
        "id": "d5CwXe4AO0Eh"
      },
      "execution_count": 157,
      "outputs": []
    },
    {
      "cell_type": "code",
      "source": [
        "#creating object\n",
        "rscv3 = RandomizedSearchCV(rfc, param_grid, n_iter = 6, cv= 3)"
      ],
      "metadata": {
        "id": "TKa7HSn3O0Eh"
      },
      "execution_count": 158,
      "outputs": []
    },
    {
      "cell_type": "code",
      "execution_count": 159,
      "metadata": {
        "colab": {
          "base_uri": "https://localhost:8080/"
        },
        "outputId": "4aa8490a-6ad8-4dcd-ba0a-cb9b2a4371b0",
        "id": "Ko8khIhcO0Eh"
      },
      "outputs": [
        {
          "output_type": "stream",
          "name": "stderr",
          "text": [
            "/usr/local/lib/python3.8/dist-packages/sklearn/model_selection/_validation.py:372: FitFailedWarning: \n",
            "3 fits failed out of a total of 18.\n",
            "The score on these train-test partitions for these parameters will be set to nan.\n",
            "If these failures are not expected, you can try to debug them by setting error_score='raise'.\n",
            "\n",
            "Below are more details about the failures:\n",
            "--------------------------------------------------------------------------------\n",
            "3 fits failed with the following error:\n",
            "Traceback (most recent call last):\n",
            "  File \"/usr/local/lib/python3.8/dist-packages/sklearn/model_selection/_validation.py\", line 680, in _fit_and_score\n",
            "    estimator.fit(X_train, y_train, **fit_params)\n",
            "  File \"/usr/local/lib/python3.8/dist-packages/sklearn/ensemble/_forest.py\", line 450, in fit\n",
            "    trees = Parallel(\n",
            "  File \"/usr/local/lib/python3.8/dist-packages/joblib/parallel.py\", line 1085, in __call__\n",
            "    if self.dispatch_one_batch(iterator):\n",
            "  File \"/usr/local/lib/python3.8/dist-packages/joblib/parallel.py\", line 901, in dispatch_one_batch\n",
            "    self._dispatch(tasks)\n",
            "  File \"/usr/local/lib/python3.8/dist-packages/joblib/parallel.py\", line 819, in _dispatch\n",
            "    job = self._backend.apply_async(batch, callback=cb)\n",
            "  File \"/usr/local/lib/python3.8/dist-packages/joblib/_parallel_backends.py\", line 208, in apply_async\n",
            "    result = ImmediateResult(func)\n",
            "  File \"/usr/local/lib/python3.8/dist-packages/joblib/_parallel_backends.py\", line 597, in __init__\n",
            "    self.results = batch()\n",
            "  File \"/usr/local/lib/python3.8/dist-packages/joblib/parallel.py\", line 288, in __call__\n",
            "    return [func(*args, **kwargs)\n",
            "  File \"/usr/local/lib/python3.8/dist-packages/joblib/parallel.py\", line 288, in <listcomp>\n",
            "    return [func(*args, **kwargs)\n",
            "  File \"/usr/local/lib/python3.8/dist-packages/sklearn/utils/fixes.py\", line 216, in __call__\n",
            "    return self.function(*args, **kwargs)\n",
            "  File \"/usr/local/lib/python3.8/dist-packages/sklearn/ensemble/_forest.py\", line 185, in _parallel_build_trees\n",
            "    tree.fit(X, y, sample_weight=curr_sample_weight, check_input=False)\n",
            "  File \"/usr/local/lib/python3.8/dist-packages/sklearn/tree/_classes.py\", line 937, in fit\n",
            "    super().fit(\n",
            "  File \"/usr/local/lib/python3.8/dist-packages/sklearn/tree/_classes.py\", line 352, in fit\n",
            "    criterion = CRITERIA_CLF[self.criterion](\n",
            "KeyError: 'log_loss'\n",
            "\n",
            "  warnings.warn(some_fits_failed_message, FitFailedWarning)\n",
            "/usr/local/lib/python3.8/dist-packages/sklearn/model_selection/_search.py:969: UserWarning: One or more of the test scores are non-finite: [0.74433719 0.71478694 0.75481748 0.69562609 0.75650814        nan]\n",
            "  warnings.warn(\n"
          ]
        },
        {
          "output_type": "execute_result",
          "data": {
            "text/plain": [
              "RandomizedSearchCV(cv=3, estimator=RandomForestClassifier(), n_iter=6,\n",
              "                   param_distributions={'criterion': ['gini', 'entropy',\n",
              "                                                      'log_loss'],\n",
              "                                        'max_depth': [3, 6, 9],\n",
              "                                        'n_estimators': [10, 30, 50, 70]})"
            ]
          },
          "metadata": {},
          "execution_count": 159
        }
      ],
      "source": [
        "#fitting the model\n",
        "rscv3.fit(X_train, y_train)"
      ]
    },
    {
      "cell_type": "code",
      "execution_count": 160,
      "metadata": {
        "colab": {
          "base_uri": "https://localhost:8080/"
        },
        "outputId": "e9d5f64d-22f8-4b4e-c87a-c471c88cf3b8",
        "id": "PRjcj5s_O0Eh"
      },
      "outputs": [
        {
          "output_type": "execute_result",
          "data": {
            "text/plain": [
              "0.7565081442699243"
            ]
          },
          "metadata": {},
          "execution_count": 160
        }
      ],
      "source": [
        "rscv3.best_score_"
      ]
    },
    {
      "cell_type": "code",
      "execution_count": 161,
      "metadata": {
        "colab": {
          "base_uri": "https://localhost:8080/"
        },
        "outputId": "d12d70e8-5cce-4d2c-d8ce-5ec9bd97efa2",
        "id": "dws2_Sb4O0Ei"
      },
      "outputs": [
        {
          "output_type": "execute_result",
          "data": {
            "text/plain": [
              "RandomForestClassifier(criterion='entropy', max_depth=6, n_estimators=30)"
            ]
          },
          "metadata": {},
          "execution_count": 161
        }
      ],
      "source": [
        "rscv3.best_estimator_"
      ]
    },
    {
      "cell_type": "markdown",
      "source": [
        "We get an accuracy of 0.7583 with RFC and our best parameters are max_depth =6 and n_estimators=30. "
      ],
      "metadata": {
        "id": "fZpC6nc_O0Ei"
      }
    },
    {
      "cell_type": "markdown",
      "source": [
        "As we can see the SVC with parameters C= 10, gamma=0.1 and kernel= linear has performed the best. Hence we will be building the final model as SVC model with these parameters and findign the F1 score and confusion matrix for the model. "
      ],
      "metadata": {
        "id": "PISfzkhaP0zC"
      }
    },
    {
      "cell_type": "markdown",
      "source": [
        "###Final Model"
      ],
      "metadata": {
        "id": "8jzPm_DCQXmF"
      }
    },
    {
      "cell_type": "code",
      "source": [
        "SVC=SVC(C=10, gamma=0.1, kernel= 'linear')"
      ],
      "metadata": {
        "id": "tF-EDXo0Py8p"
      },
      "execution_count": 162,
      "outputs": []
    },
    {
      "cell_type": "code",
      "source": [
        "SVC.fit(X_train, y_train)"
      ],
      "metadata": {
        "colab": {
          "base_uri": "https://localhost:8080/"
        },
        "id": "tzBniSiBR3U0",
        "outputId": "3faff3bc-9734-4356-96a8-0eba47f45a73"
      },
      "execution_count": 163,
      "outputs": [
        {
          "output_type": "execute_result",
          "data": {
            "text/plain": [
              "SVC(C=10, gamma=0.1, kernel='linear')"
            ]
          },
          "metadata": {},
          "execution_count": 163
        }
      ]
    },
    {
      "cell_type": "code",
      "source": [
        "#train score\n",
        "s_train= SVC.score(X_train, y_train)\n",
        "print(s_train)"
      ],
      "metadata": {
        "colab": {
          "base_uri": "https://localhost:8080/"
        },
        "id": "aCSvVZLrR9-f",
        "outputId": "df73595a-2318-4d84-dc11-106c47c8d21e"
      },
      "execution_count": 164,
      "outputs": [
        {
          "output_type": "stream",
          "name": "stdout",
          "text": [
            "0.8521739130434782\n"
          ]
        }
      ]
    },
    {
      "cell_type": "code",
      "source": [
        "#test score\n",
        "s_test= SVC.score(X_test, y_test)\n",
        "print(s_test)"
      ],
      "metadata": {
        "colab": {
          "base_uri": "https://localhost:8080/"
        },
        "id": "n9qYCJzbSOPU",
        "outputId": "37f61756-c78d-4cf4-8daf-294407d22398"
      },
      "execution_count": 165,
      "outputs": [
        {
          "output_type": "stream",
          "name": "stdout",
          "text": [
            "0.7916666666666666\n"
          ]
        }
      ]
    },
    {
      "cell_type": "code",
      "source": [
        "#F1 score\n",
        "\n",
        "y_pred = SVC.predict(X_test)\n",
        "f1_score(y_test, y_pred, average = 'micro')"
      ],
      "metadata": {
        "colab": {
          "base_uri": "https://localhost:8080/"
        },
        "id": "1mvEXcAeSg6X",
        "outputId": "58cc7103-a779-4f55-cd52-daec3cbb4728"
      },
      "execution_count": 166,
      "outputs": [
        {
          "output_type": "execute_result",
          "data": {
            "text/plain": [
              "0.7916666666666666"
            ]
          },
          "metadata": {},
          "execution_count": 166
        }
      ]
    },
    {
      "cell_type": "code",
      "source": [
        "#Confusion Matrix\n",
        "plot_confusion_matrix(SVC,X_test, y_test)"
      ],
      "metadata": {
        "colab": {
          "base_uri": "https://localhost:8080/",
          "height": 351
        },
        "id": "D23dELvSTK6C",
        "outputId": "658acb20-7e51-486a-d47a-9f251bb64b8a"
      },
      "execution_count": 167,
      "outputs": [
        {
          "output_type": "stream",
          "name": "stderr",
          "text": [
            "/usr/local/lib/python3.8/dist-packages/sklearn/utils/deprecation.py:87: FutureWarning: Function plot_confusion_matrix is deprecated; Function `plot_confusion_matrix` is deprecated in 1.0 and will be removed in 1.2. Use one of the class methods: ConfusionMatrixDisplay.from_predictions or ConfusionMatrixDisplay.from_estimator.\n",
            "  warnings.warn(msg, category=FutureWarning)\n"
          ]
        },
        {
          "output_type": "execute_result",
          "data": {
            "text/plain": [
              "<sklearn.metrics._plot.confusion_matrix.ConfusionMatrixDisplay at 0x7f3625eccca0>"
            ]
          },
          "metadata": {},
          "execution_count": 167
        },
        {
          "output_type": "display_data",
          "data": {
            "text/plain": [
              "<Figure size 432x288 with 2 Axes>"
            ],
            "image/png": "[encoded data removed]"
          },
          "metadata": {
            "needs_background": "light"
          }
        }
      ]
    }
  ]
}